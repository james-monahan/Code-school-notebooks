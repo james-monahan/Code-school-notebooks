{
  "nbformat": 4,
  "nbformat_minor": 0,
  "metadata": {
    "colab": {
      "name": "Climate_project2_2.ipynb",
      "provenance": [],
      "collapsed_sections": [],
      "include_colab_link": true
    },
    "kernelspec": {
      "name": "python3",
      "display_name": "Python 3"
    }
  },
  "cells": [
    {
      "cell_type": "markdown",
      "metadata": {
        "id": "view-in-github",
        "colab_type": "text"
      },
      "source": [
        "<a href=\"https://colab.research.google.com/github/james-monahan/Code-school-notebooks/blob/main/Project-2/Climate_get-data.ipynb\" target=\"_parent\"><img src=\"https://colab.research.google.com/assets/colab-badge.svg\" alt=\"Open In Colab\"/></a>"
      ]
    },
    {
      "cell_type": "markdown",
      "metadata": {
        "id": "lTv2TFX8edBc"
      },
      "source": [
        "#Gathering data"
      ]
    },
    {
      "cell_type": "markdown",
      "metadata": {
        "id": "uGXUAcwNekeK"
      },
      "source": [
        "# Imports"
      ]
    },
    {
      "cell_type": "code",
      "metadata": {
        "id": "kEGrDwTnSqJN"
      },
      "source": [
        "!pip install --upgrade gspread\n",
        "!pip install netcdf4"
      ],
      "execution_count": null,
      "outputs": []
    },
    {
      "cell_type": "code",
      "metadata": {
        "id": "iE7qF3dpeTDL"
      },
      "source": [
        "import pandas as pd\n",
        "import numpy as np\n",
        "import matplotlib.pyplot as plt\n",
        "import seaborn as sns\n",
        "import requests\n",
        "import io\n",
        "from sklearn.preprocessing import StandardScaler"
      ],
      "execution_count": 2,
      "outputs": []
    },
    {
      "cell_type": "code",
      "metadata": {
        "id": "hcJbwJPoRitQ"
      },
      "source": [
        "from google.colab import auth\n",
        "auth.authenticate_user()\n",
        "\n",
        "import gspread\n",
        "from oauth2client.client import GoogleCredentials"
      ],
      "execution_count": 3,
      "outputs": []
    },
    {
      "cell_type": "code",
      "metadata": {
        "id": "nIcH6xZAYjYj",
        "colab": {
          "base_uri": "https://localhost:8080/"
        },
        "outputId": "baa346ab-471b-46c0-95db-7b77ed651456"
      },
      "source": [
        "# from google.colab import drive\n",
        "# drive.mount('/gdrive')\n",
        "# %cd /gdrive"
      ],
      "execution_count": 4,
      "outputs": [
        {
          "output_type": "stream",
          "text": [
            "Mounted at /gdrive\n",
            "/gdrive\n"
          ],
          "name": "stdout"
        }
      ]
    },
    {
      "cell_type": "markdown",
      "metadata": {
        "id": "SHVkb_nGen-0"
      },
      "source": [
        "# Data"
      ]
    },
    {
      "cell_type": "markdown",
      "metadata": {
        "id": "bndgealvlHHo"
      },
      "source": [
        "These calculations produce the global average temperature deviations from the baseline period of 1951 to 1980.\n",
        "\n",
        "Global temperature records start around 1880 because observations did not sufficiently cover enough of the planet prior to that time. The period of 1951-1980 was chosen largely because the U.S. National Weather Service uses a three-decade period to define “normal” or average temperature. The GISS temperature analysis effort began around 1980, so the most recent 30 years was 1951-1980. It is also a period when many of today’s adults grew up, so it is a common reference that many people can remember.\n",
        "\n",
        "https://earthobservatory.nasa.gov/world-of-change/global-temperatures"
      ]
    },
    {
      "cell_type": "code",
      "metadata": {
        "id": "o0ZgNWcPeg4G"
      },
      "source": [
        "HadCRUT = 'https://www.metoffice.gov.uk/hadobs/monitoring/formatted_data/gmt_HadCRUT.csv'\n",
        "NOAAGlobalTemp = 'https://www.metoffice.gov.uk/hadobs/monitoring/formatted_data/gmt_NOAAGlobalTemp.csv'\n",
        "GISTEMP = 'https://www.metoffice.gov.uk/hadobs/monitoring/formatted_data/gmt_GISTEMP.csv'\n",
        "Cowtan_and_Way = 'https://www.metoffice.gov.uk/hadobs/monitoring/formatted_data/gmt_Cowtan%20and%20Way.csv'\n",
        "Berkeley_Earth = 'https://www.metoffice.gov.uk/hadobs/monitoring/formatted_data/gmt_Berkeley%20Earth.csv'\n",
        "links = [HadCRUT, NOAAGlobalTemp, GISTEMP, Cowtan_and_Way, Berkeley_Earth]"
      ],
      "execution_count": 5,
      "outputs": []
    },
    {
      "cell_type": "code",
      "metadata": {
        "id": "bMeFbjFxgewK",
        "colab": {
          "base_uri": "https://localhost:8080/",
          "height": 244
        },
        "outputId": "0871a42f-6297-4e83-c74f-e329e45ba3e0"
      },
      "source": [
        "df_s = []\n",
        "for i in range(len(links)):\n",
        "  response = requests.get(links[i])\n",
        "  file_object = io.StringIO(response.content.decode('utf-8'))\n",
        "  df_s.append(pd.read_csv(file_object, index_col='Year'))\n",
        "\n",
        "df_temp = pd.concat(df_s, axis=1)\n",
        "df_temp.head(5)"
      ],
      "execution_count": 6,
      "outputs": [
        {
          "output_type": "execute_result",
          "data": {
            "text/html": [
              "<div>\n",
              "<style scoped>\n",
              "    .dataframe tbody tr th:only-of-type {\n",
              "        vertical-align: middle;\n",
              "    }\n",
              "\n",
              "    .dataframe tbody tr th {\n",
              "        vertical-align: top;\n",
              "    }\n",
              "\n",
              "    .dataframe thead th {\n",
              "        text-align: right;\n",
              "    }\n",
              "</style>\n",
              "<table border=\"1\" class=\"dataframe\">\n",
              "  <thead>\n",
              "    <tr style=\"text-align: right;\">\n",
              "      <th></th>\n",
              "      <th>HadCRUT (degC)</th>\n",
              "      <th>HadCRUT uncertainty</th>\n",
              "      <th>NOAAGlobalTemp (degC)</th>\n",
              "      <th>NOAAGlobalTemp uncertainty</th>\n",
              "      <th>GISTEMP (degC)</th>\n",
              "      <th>GISTEMP uncertainty</th>\n",
              "      <th>Cowtan and Way (degC)</th>\n",
              "      <th>Cowtan and Way uncertainty</th>\n",
              "      <th>Berkeley Earth (degC)</th>\n",
              "      <th>Berkeley Earth uncertainty</th>\n",
              "    </tr>\n",
              "    <tr>\n",
              "      <th>Year</th>\n",
              "      <th></th>\n",
              "      <th></th>\n",
              "      <th></th>\n",
              "      <th></th>\n",
              "      <th></th>\n",
              "      <th></th>\n",
              "      <th></th>\n",
              "      <th></th>\n",
              "      <th></th>\n",
              "      <th></th>\n",
              "    </tr>\n",
              "  </thead>\n",
              "  <tbody>\n",
              "    <tr>\n",
              "      <th>1850</th>\n",
              "      <td>-0.06</td>\n",
              "      <td>0.214</td>\n",
              "      <td>NaN</td>\n",
              "      <td>NaN</td>\n",
              "      <td>NaN</td>\n",
              "      <td>NaN</td>\n",
              "      <td>-0.04</td>\n",
              "      <td>0.140</td>\n",
              "      <td>-0.14</td>\n",
              "      <td>0.325</td>\n",
              "    </tr>\n",
              "    <tr>\n",
              "      <th>1851</th>\n",
              "      <td>0.09</td>\n",
              "      <td>0.206</td>\n",
              "      <td>NaN</td>\n",
              "      <td>NaN</td>\n",
              "      <td>NaN</td>\n",
              "      <td>NaN</td>\n",
              "      <td>0.12</td>\n",
              "      <td>0.136</td>\n",
              "      <td>-0.03</td>\n",
              "      <td>0.320</td>\n",
              "    </tr>\n",
              "    <tr>\n",
              "      <th>1852</th>\n",
              "      <td>0.08</td>\n",
              "      <td>0.202</td>\n",
              "      <td>NaN</td>\n",
              "      <td>NaN</td>\n",
              "      <td>NaN</td>\n",
              "      <td>NaN</td>\n",
              "      <td>0.09</td>\n",
              "      <td>0.136</td>\n",
              "      <td>-0.02</td>\n",
              "      <td>0.320</td>\n",
              "    </tr>\n",
              "    <tr>\n",
              "      <th>1853</th>\n",
              "      <td>0.04</td>\n",
              "      <td>0.198</td>\n",
              "      <td>NaN</td>\n",
              "      <td>NaN</td>\n",
              "      <td>NaN</td>\n",
              "      <td>NaN</td>\n",
              "      <td>0.03</td>\n",
              "      <td>0.134</td>\n",
              "      <td>-0.05</td>\n",
              "      <td>0.294</td>\n",
              "    </tr>\n",
              "    <tr>\n",
              "      <th>1854</th>\n",
              "      <td>0.06</td>\n",
              "      <td>0.181</td>\n",
              "      <td>NaN</td>\n",
              "      <td>NaN</td>\n",
              "      <td>NaN</td>\n",
              "      <td>NaN</td>\n",
              "      <td>0.09</td>\n",
              "      <td>0.134</td>\n",
              "      <td>0.00</td>\n",
              "      <td>0.298</td>\n",
              "    </tr>\n",
              "  </tbody>\n",
              "</table>\n",
              "</div>"
            ],
            "text/plain": [
              "      HadCRUT (degC)  ...  Berkeley Earth uncertainty\n",
              "Year                  ...                            \n",
              "1850           -0.06  ...                       0.325\n",
              "1851            0.09  ...                       0.320\n",
              "1852            0.08  ...                       0.320\n",
              "1853            0.04  ...                       0.294\n",
              "1854            0.06  ...                       0.298\n",
              "\n",
              "[5 rows x 10 columns]"
            ]
          },
          "metadata": {
            "tags": []
          },
          "execution_count": 6
        }
      ]
    },
    {
      "cell_type": "code",
      "metadata": {
        "id": "LkVkqRjTTziw",
        "colab": {
          "base_uri": "https://localhost:8080/",
          "height": 401
        },
        "outputId": "20dd5321-330c-4445-93cb-2c982a660f03"
      },
      "source": [
        "#validate correlation between observations\n",
        "temp_cols = ['HadCRUT (degC)', 'NOAAGlobalTemp (degC)', 'GISTEMP (degC)', \n",
        "             'Cowtan and Way (degC)', 'Berkeley Earth (degC)']\n",
        "\n",
        "sns.heatmap(df_temp[temp_cols].corr(), annot=True)"
      ],
      "execution_count": 7,
      "outputs": [
        {
          "output_type": "execute_result",
          "data": {
            "text/plain": [
              "<matplotlib.axes._subplots.AxesSubplot at 0x7f7843670588>"
            ]
          },
          "metadata": {
            "tags": []
          },
          "execution_count": 7
        },
        {
          "output_type": "display_data",
          "data": {
            "image/png": "[encoded data removed]",
            "text/plain": [
              "<Figure size 432x288 with 2 Axes>"
            ]
          },
          "metadata": {
            "tags": [],
            "needs_background": "light"
          }
        }
      ]
    },
    {
      "cell_type": "code",
      "metadata": {
        "id": "YIQo1UViT2uG"
      },
      "source": [
        "#average of observations\n",
        "df_temp['mean_global_temp'] = df_temp[temp_cols].mean(axis=1)\n",
        "df_temp_mean = pd.DataFrame(df_temp['mean_global_temp'])"
      ],
      "execution_count": 8,
      "outputs": []
    },
    {
      "cell_type": "code",
      "metadata": {
        "id": "wuWyVpLjUY1c",
        "colab": {
          "base_uri": "https://localhost:8080/",
          "height": 320
        },
        "outputId": "25916c03-6eb9-4c79-eb92-230fb9074d44"
      },
      "source": [
        "#plot individual against average\n",
        "temp_cols = ['HadCRUT (degC)', 'NOAAGlobalTemp (degC)', 'GISTEMP (degC)','Cowtan and Way (degC)','Berkeley Earth (degC)']\n",
        "df_temp[temp_cols]\n",
        "plt.figure(figsize=(10,5))\n",
        "plt.plot(df_temp[temp_cols], alpha=.5)\n",
        "plt.plot(df_temp_mean, c='red')\n",
        "plt.show()"
      ],
      "execution_count": 9,
      "outputs": [
        {
          "output_type": "display_data",
          "data": {
            "image/png": "[encoded data removed]",
            "text/plain": [
              "<Figure size 720x360 with 1 Axes>"
            ]
          },
          "metadata": {
            "tags": [],
            "needs_background": "light"
          }
        }
      ]
    },
    {
      "cell_type": "markdown",
      "metadata": {
        "id": "D0239BmpxIdA"
      },
      "source": [
        "https://spot.colorado.edu/~koppg/TSI/  \n",
        "The historical reconstruction of TSI below is based on the SATIRE-T model adjusted to the most recent Community-Consensus TSI Composite values from the spacecraft era."
      ]
    },
    {
      "cell_type": "code",
      "metadata": {
        "id": "0sZbeSi2xJta",
        "colab": {
          "base_uri": "https://localhost:8080/",
          "height": 320
        },
        "outputId": "bdd1a0d5-6667-4f1a-c211-de4338009ee7"
      },
      "source": [
        "#solar activity as possible source of climate change\n",
        "Solar = 'https://spot.colorado.edu/~koppg/TSI/Historical_TSI_Reconstruction.txt'\n",
        "cols = ['Year', 'Solar_TSI']\n",
        "Solar_df = pd.read_csv(Solar, skiprows=7, names=cols, delim_whitespace='     ')\n",
        "Solar_df['Year_idx'] = Solar_df['Year'].astype('int64')\n",
        "Solar_df.set_index('Year_idx', inplace=True)\n",
        "print(Solar_df.head(1))\n",
        "Solar_df.drop('Year', axis=1, inplace=True)\n",
        "plt.plot(Solar_df['Solar_TSI'].loc[1975:])\n",
        "plt.show()"
      ],
      "execution_count": 10,
      "outputs": [
        {
          "output_type": "stream",
          "text": [
            "            Year  Solar_TSI\n",
            "Year_idx                   \n",
            "1610      1610.5  1360.1856\n"
          ],
          "name": "stdout"
        },
        {
          "output_type": "display_data",
          "data": {
            "image/png": "[encoded data removed]",
            "text/plain": [
              "<Figure size 432x288 with 1 Axes>"
            ]
          },
          "metadata": {
            "tags": [],
            "needs_background": "light"
          }
        }
      ]
    },
    {
      "cell_type": "code",
      "metadata": {
        "id": "LKFxe7QHWnZ5",
        "colab": {
          "base_uri": "https://localhost:8080/",
          "height": 228
        },
        "outputId": "e9b01732-79dc-415e-ab31-c71a5251a0c3"
      },
      "source": [
        "#prehistoric tamperature data\n",
        "url = 'https://www.ncei.noaa.gov/pub/data/paleo/reconstructions/friedrich2016/friedrich2016temp.txt'\n",
        "history_temp = pd.read_csv(url,comment='#', delim_whitespace=True, usecols=[0,1], index_col=0, header=-0)\n",
        "history_temp.head()"
      ],
      "execution_count": 12,
      "outputs": [
        {
          "output_type": "execute_result",
          "data": {
            "text/html": [
              "<div>\n",
              "<style scoped>\n",
              "    .dataframe tbody tr th:only-of-type {\n",
              "        vertical-align: middle;\n",
              "    }\n",
              "\n",
              "    .dataframe tbody tr th {\n",
              "        vertical-align: top;\n",
              "    }\n",
              "\n",
              "    .dataframe thead th {\n",
              "        text-align: right;\n",
              "    }\n",
              "</style>\n",
              "<table border=\"1\" class=\"dataframe\">\n",
              "  <thead>\n",
              "    <tr style=\"text-align: right;\">\n",
              "      <th></th>\n",
              "      <th>tempanom-mod</th>\n",
              "    </tr>\n",
              "    <tr>\n",
              "      <th>age_calkaBP</th>\n",
              "      <th></th>\n",
              "    </tr>\n",
              "  </thead>\n",
              "  <tbody>\n",
              "    <tr>\n",
              "      <th>783</th>\n",
              "      <td>2.85</td>\n",
              "    </tr>\n",
              "    <tr>\n",
              "      <th>782</th>\n",
              "      <td>2.73</td>\n",
              "    </tr>\n",
              "    <tr>\n",
              "      <th>781</th>\n",
              "      <td>2.43</td>\n",
              "    </tr>\n",
              "    <tr>\n",
              "      <th>780</th>\n",
              "      <td>2.21</td>\n",
              "    </tr>\n",
              "    <tr>\n",
              "      <th>779</th>\n",
              "      <td>2.01</td>\n",
              "    </tr>\n",
              "  </tbody>\n",
              "</table>\n",
              "</div>"
            ],
            "text/plain": [
              "             tempanom-mod\n",
              "age_calkaBP              \n",
              "783                  2.85\n",
              "782                  2.73\n",
              "781                  2.43\n",
              "780                  2.21\n",
              "779                  2.01"
            ]
          },
          "metadata": {
            "tags": []
          },
          "execution_count": 12
        }
      ]
    },
    {
      "cell_type": "code",
      "metadata": {
        "id": "MQpP5DTLXBDd",
        "colab": {
          "base_uri": "https://localhost:8080/",
          "height": 265
        },
        "outputId": "3d07f52b-5e9f-4a26-9807-518ac188c4e3"
      },
      "source": [
        "#https://climexp.knmi.nl/getindices.cgi?WMO=NODCData/temp100_global&STATION=global_upper_ocean_mean_temperature&TYPE=i&id=someone@somewhere\n",
        "#ocean temperature data\n",
        "col = 'upper_ocean_mean'\n",
        "url = 'https://climexp.knmi.nl/data/itemp100_global.dat'\n",
        "df_ocean_temp = pd.read_csv(url,comment='#', delim_whitespace=True, usecols=[0,1], index_col=0, header=-0)\n",
        "df_ocean_temp.columns = ['upper_ocean_mean_temp']\n",
        "plt.plot(df_ocean_temp)\n",
        "plt.show()\n"
      ],
      "execution_count": 13,
      "outputs": [
        {
          "output_type": "display_data",
          "data": {
            "image/png": "[encoded data removed]",
            "text/plain": [
              "<Figure size 432x288 with 1 Axes>"
            ]
          },
          "metadata": {
            "tags": [],
            "needs_background": "light"
          }
        }
      ]
    },
    {
      "cell_type": "code",
      "metadata": {
        "id": "VGfYR7-aXA2F",
        "colab": {
          "base_uri": "https://localhost:8080/",
          "height": 265
        },
        "outputId": "2ec13c35-1874-4211-9528-1e8952b6af43"
      },
      "source": [
        "# https://climexp.knmi.nl/getindices.cgi?WMO=LeedsData/Volcanic_ERF&id=someone@somewhere\n",
        "#volcanic activity\n",
        "url = 'https://climexp.knmi.nl/data/iVolcanic_ERF.dat'\n",
        "volcano_df = pd.read_csv(url,comment='#', delim_whitespace=True, usecols=[0,1], index_col=0, header=-0)\n",
        "volcano_df.columns = ['Volcanic_ERF']\n",
        "plt.plot(volcano_df)\n",
        "plt.show()"
      ],
      "execution_count": 15,
      "outputs": [
        {
          "output_type": "display_data",
          "data": {
            "image/png": "[encoded data removed]",
            "text/plain": [
              "<Figure size 432x288 with 1 Axes>"
            ]
          },
          "metadata": {
            "tags": [],
            "needs_background": "light"
          }
        }
      ]
    },
    {
      "cell_type": "code",
      "metadata": {
        "id": "S81deiyjjP1y",
        "colab": {
          "base_uri": "https://localhost:8080/",
          "height": 265
        },
        "outputId": "1082745f-fff0-4e6f-e485-a9e454b53af8"
      },
      "source": [
        "# https://climexp.knmi.nl/getindices.cgi?WMO=LeedsData/stratospheric_water_vapour_ERF&id=someone@somewhere\n",
        "#water vapor\n",
        "url = 'https://climexp.knmi.nl/data/istratospheric_water_vapour_ERF.dat'\n",
        "water_vapor_df = pd.read_csv(url,comment='#', delim_whitespace=True, usecols=[0,1], index_col=0, header=-0)\n",
        "water_vapor_df.columns = ['Water_vapor']\n",
        "plt.plot(water_vapor_df)\n",
        "plt.show()"
      ],
      "execution_count": 16,
      "outputs": [
        {
          "output_type": "display_data",
          "data": {
            "image/png": "[encoded data removed]",
            "text/plain": [
              "<Figure size 432x288 with 1 Axes>"
            ]
          },
          "metadata": {
            "tags": [],
            "needs_background": "light"
          }
        }
      ]
    },
    {
      "cell_type": "code",
      "metadata": {
        "id": "yP6cG0j_oU8o"
      },
      "source": [
        "# https://public.opendatasoft.com/explore/dataset/significant-volcanic-eruption-database/table/?sort=year&dataChart=eyJxdWVyaWVzIjpbeyJjb25maWciOnsiZGF0YXNldCI6InNpZ25pZmljYW50LXZvbGNhbmljLWVydXB0aW9uLWRhdGFiYXNlIiwib3B0aW9ucyI6eyJzb3J0IjoieWVhciJ9fSwiY2hhcnRzIjpbeyJhbGlnbk1vbnRoIjp0cnVlLCJ0eXBlIjoiY29sdW1uIiwiZnVuYyI6IkFWRyIsInlBeGlzIjoieWVhciIsInNjaWVudGlmaWNEaXNwbGF5Ijp0cnVlLCJjb2xvciI6IiNGRjUxNUEifV0sInhBeGlzIjoiZGFtYWdlX21pbGxpb25zX2RvbGxhcnMiLCJtYXhwb2ludHMiOjUwLCJzb3J0IjoiIn1dLCJ0aW1lc2NhbGUiOiIiLCJkaXNwbGF5TGVnZW5kIjp0cnVlLCJhbGlnbk1vbnRoIjp0cnVlfQ%3D%3D"
      ],
      "execution_count": null,
      "outputs": []
    },
    {
      "cell_type": "code",
      "metadata": {
        "id": "MOzBjvLUgWgT"
      },
      "source": [
        "volcanic_url = \"https://raw.githubusercontent.com/james-monahan/Code-school-notebooks/main/Project-2/significant-volcanic-eruption-database.csv\""
      ],
      "execution_count": 19,
      "outputs": []
    },
    {
      "cell_type": "code",
      "metadata": {
        "id": "FvUVIsh-oZj2",
        "colab": {
          "base_uri": "https://localhost:8080/",
          "height": 357
        },
        "outputId": "149eb1c9-cfcf-47cd-ae19-1db08f56ab7c"
      },
      "source": [
        "#additional volcanic activiy with data transformation\n",
        "\n",
        "cols = ['Year', 'Month', 'Volcanic Explosivity Index']\n",
        "volcano = pd.read_csv(volcanic_url, sep=';', usecols=cols)\n",
        "\n",
        "#volcano.index = volcano['Year']\n",
        "#volcano.groupby('Year')['Volcanic Explosivity Index'].count()\n",
        "volcano['Volcanic Explosivity Index'].fillna(0, inplace=True)\n",
        "volcano_activity_df = volcano.groupby('Year')['Volcanic Explosivity Index'].agg(['count', 'sum', 'mean'])\n",
        "\n",
        "volcano_activity_df.columns = ['volcano_num_eruptions', 'volcano_sum_strength', 'volcano_mean_strength']\n",
        "plt.plot(volcano_activity_df['volcano_mean_strength'].loc[1950:1981])\n",
        "plt.plot(volcano_activity_df['volcano_mean_strength'].loc[1981:])\n",
        "print(volcano_activity_df['volcano_mean_strength'].loc[1800:1951].mean())\n",
        "print(volcano_activity_df['volcano_mean_strength'].loc[1950:1981].mean())\n",
        "print(volcano_activity_df['volcano_mean_strength'].loc[1981:].mean())\n",
        "print(volcano_activity_df['volcano_sum_strength'].loc[1950:1981].mean())\n",
        "print(volcano_activity_df['volcano_sum_strength'].loc[1981:].mean())"
      ],
      "execution_count": 20,
      "outputs": [
        {
          "output_type": "stream",
          "text": [
            "2.151364942528736\n",
            "2.1012416794674857\n",
            "1.5716567460317463\n",
            "8.161290322580646\n",
            "8.75\n"
          ],
          "name": "stdout"
        },
        {
          "output_type": "display_data",
          "data": {
            "image/png": "[encoded data removed]",
            "text/plain": [
              "<Figure size 432x288 with 1 Axes>"
            ]
          },
          "metadata": {
            "tags": [],
            "needs_background": "light"
          }
        }
      ]
    },
    {
      "cell_type": "markdown",
      "metadata": {
        "id": "jIbo-PwiJxKj"
      },
      "source": [
        "Land Use Total contains all GHG emissions and removals produced in the different Land Use sub-domains, representing the three IPCC Land Use categories: cropland, forest land, and grassland, collectively called emissions/removals from the Forestry and Other Land Use (FOLU) sector.  \n",
        "http://www.fao.org/faostat/en/#data/GL/visualize\n",
        "\n"
      ]
    },
    {
      "cell_type": "code",
      "metadata": {
        "id": "Ivf4lHp7xr-g"
      },
      "source": [
        "gc = gspread.authorize(GoogleCredentials.get_application_default())\n",
        "worksheet = gc.open('FAO-Stat').sheet1\n",
        "\n",
        "# get_all_values gives a list of rows.\n",
        "rows = worksheet.get_all_values()\n",
        "\n",
        "# Convert to a DataFrame and render.\n",
        "Land_use_df = pd.DataFrame.from_records(rows,columns=['Year','Unit','Land_Use_Value'])\n",
        "Land_use_df.drop(index=0, inplace=True)\n",
        "Land_use_df.set_index('Year', inplace=True)\n",
        "Land_use_df.index = Land_use_df.index.astype('int64')\n",
        "Land_use_df.drop('Unit', axis=1, inplace=True)\n",
        "Land_use_df['Land_Use_Value'] = Land_use_df['Land_Use_Value'].astype('float64')"
      ],
      "execution_count": 21,
      "outputs": []
    },
    {
      "cell_type": "code",
      "metadata": {
        "id": "9hKg5LjNL8vP",
        "colab": {
          "base_uri": "https://localhost:8080/",
          "height": 405
        },
        "outputId": "590f95b9-5288-40f3-8827-3bcccd6aad6d"
      },
      "source": [
        "print(Land_use_df.head())\n",
        "plt.plot(Land_use_df['Land_Use_Value'])\n",
        "plt.show()"
      ],
      "execution_count": 22,
      "outputs": [
        {
          "output_type": "stream",
          "text": [
            "      Land_Use_Value\n",
            "Year                \n",
            "1990     4122048.034\n",
            "1991     4122053.386\n",
            "1992     4122026.474\n",
            "1993     4122056.446\n",
            "1994     4122065.168\n"
          ],
          "name": "stdout"
        },
        {
          "output_type": "display_data",
          "data": {
            "image/png": "[encoded data removed]",
            "text/plain": [
              "<Figure size 432x288 with 1 Axes>"
            ]
          },
          "metadata": {
            "tags": [],
            "needs_background": "light"
          }
        }
      ]
    },
    {
      "cell_type": "code",
      "metadata": {
        "id": "qhMzTIfvVHwZ",
        "colab": {
          "base_uri": "https://localhost:8080/",
          "height": 228
        },
        "outputId": "d33c0221-2073-4cef-f03c-65b55bb81832"
      },
      "source": [
        "# https://www.gapminder.org/data/documentation/gd003/\n",
        "filename = 'Gapminder_population'\n",
        "gc = gspread.authorize(GoogleCredentials.get_application_default())\n",
        "worksheet = gc.open(filename).sheet1\n",
        "\n",
        "# get_all_values gives a list of rows.\n",
        "rows = worksheet.get_all_values()\n",
        "\n",
        "# Convert to a DataFrame and render.\n",
        "population_df = pd.DataFrame.from_records(rows, columns=['date','population'])\n",
        "population_df.set_index('date', inplace=True)\n",
        "population_df.index = population_df.index.astype('int64')\n",
        "population_df['population'] = population_df['population'].astype('int64')\n",
        "population_df.head()"
      ],
      "execution_count": 23,
      "outputs": [
        {
          "output_type": "execute_result",
          "data": {
            "text/html": [
              "<div>\n",
              "<style scoped>\n",
              "    .dataframe tbody tr th:only-of-type {\n",
              "        vertical-align: middle;\n",
              "    }\n",
              "\n",
              "    .dataframe tbody tr th {\n",
              "        vertical-align: top;\n",
              "    }\n",
              "\n",
              "    .dataframe thead th {\n",
              "        text-align: right;\n",
              "    }\n",
              "</style>\n",
              "<table border=\"1\" class=\"dataframe\">\n",
              "  <thead>\n",
              "    <tr style=\"text-align: right;\">\n",
              "      <th></th>\n",
              "      <th>population</th>\n",
              "    </tr>\n",
              "    <tr>\n",
              "      <th>date</th>\n",
              "      <th></th>\n",
              "    </tr>\n",
              "  </thead>\n",
              "  <tbody>\n",
              "    <tr>\n",
              "      <th>1800</th>\n",
              "      <td>985083735</td>\n",
              "    </tr>\n",
              "    <tr>\n",
              "      <th>1801</th>\n",
              "      <td>988518009</td>\n",
              "    </tr>\n",
              "    <tr>\n",
              "      <th>1802</th>\n",
              "      <td>991993182</td>\n",
              "    </tr>\n",
              "    <tr>\n",
              "      <th>1803</th>\n",
              "      <td>995509576</td>\n",
              "    </tr>\n",
              "    <tr>\n",
              "      <th>1804</th>\n",
              "      <td>999067550</td>\n",
              "    </tr>\n",
              "  </tbody>\n",
              "</table>\n",
              "</div>"
            ],
            "text/plain": [
              "      population\n",
              "date            \n",
              "1800   985083735\n",
              "1801   988518009\n",
              "1802   991993182\n",
              "1803   995509576\n",
              "1804   999067550"
            ]
          },
          "metadata": {
            "tags": []
          },
          "execution_count": 23
        }
      ]
    },
    {
      "cell_type": "code",
      "metadata": {
        "id": "aLzBymgIfVOV",
        "colab": {
          "base_uri": "https://localhost:8080/",
          "height": 276
        },
        "outputId": "e8aba1cb-9501-437a-f135-0fc17adf833e"
      },
      "source": [
        "plt.plot(population_df)\n",
        "plt.show()"
      ],
      "execution_count": 24,
      "outputs": [
        {
          "output_type": "display_data",
          "data": {
            "image/png": "[encoded data removed]",
            "text/plain": [
              "<Figure size 432x288 with 1 Axes>"
            ]
          },
          "metadata": {
            "tags": [],
            "needs_background": "light"
          }
        }
      ]
    },
    {
      "cell_type": "markdown",
      "metadata": {
        "id": "dlod5q3Qk9_p"
      },
      "source": [
        "Primary production of energy is any extraction of energy products in a useable form from natural sources. This occurs either when natural sources are exploited (for example, in coal mines, crude oil fields, hydro power plants) or in the fabrication of biofuels.\n",
        "\n",
        "Transforming energy from one form into another, such as electricity or heat generation in thermal power plants (where primary energy sources are burned), or coke production in coke ovens, is not primary production"
      ]
    },
    {
      "cell_type": "code",
      "metadata": {
        "id": "EY-9pMmWhIPr"
      },
      "source": [
        "# https://www.theshiftdataportal.org/\n",
        "filename = 'Primary Energy Produciton'\n",
        "gc = gspread.authorize(GoogleCredentials.get_application_default())\n",
        "worksheet = gc.open(filename).sheet1\n",
        "\n",
        "# get_all_values gives a list of rows.\n",
        "rows = worksheet.get_all_values()\n",
        "\n",
        "# Convert to a DataFrame and render.\n",
        "energy_df = pd.DataFrame.from_records(rows, columns=['date','energy_production-mtoe'])\n",
        "energy_df['date'] = energy_df['date'].str[:4]\n",
        "energy_df.set_index('date', inplace=True)\n",
        "energy_df.index = energy_df.index.astype('int64')\n",
        "energy_df['energy_production-mtoe'] = energy_df['energy_production-mtoe'].astype('float64')"
      ],
      "execution_count": 25,
      "outputs": []
    },
    {
      "cell_type": "code",
      "metadata": {
        "id": "gri6iZUxpffS",
        "colab": {
          "base_uri": "https://localhost:8080/",
          "height": 393
        },
        "outputId": "03f52f03-a251-47e5-c840-002df9f02b8c"
      },
      "source": [
        "print(energy_df.head())\n",
        "plt.plot(energy_df['energy_production-mtoe'])\n",
        "plt.show()"
      ],
      "execution_count": 26,
      "outputs": [
        {
          "output_type": "stream",
          "text": [
            "      energy_production-mtoe\n",
            "date                        \n",
            "1900              487.303701\n",
            "1901              498.787761\n",
            "1902              512.861382\n",
            "1903              559.129905\n",
            "1904              565.849518\n"
          ],
          "name": "stdout"
        },
        {
          "output_type": "display_data",
          "data": {
            "image/png": "[encoded data removed]",
            "text/plain": [
              "<Figure size 432x288 with 1 Axes>"
            ]
          },
          "metadata": {
            "tags": [],
            "needs_background": "light"
          }
        }
      ]
    },
    {
      "cell_type": "markdown",
      "metadata": {
        "id": "VpXdNTqnuU0l"
      },
      "source": [
        "Natural disasters from 1900 to 2019 - EMDAT (2020)\n"
      ]
    },
    {
      "cell_type": "code",
      "metadata": {
        "id": "TSGRvfaDp0LB",
        "colab": {
          "base_uri": "https://localhost:8080/",
          "height": 228
        },
        "outputId": "3cb056ab-241d-4a95-d624-10f5bc7a7654"
      },
      "source": [
        "url = 'https://raw.githubusercontent.com/owid/owid-datasets/master/datasets/Natural%20disasters%20from%201900%20to%202019%20-%20EMDAT%20(2020)/Natural%20disasters%20from%201900%20to%202019%20-%20EMDAT%20(2020).csv'\n",
        "df_disaster = pd.read_csv(url)\n",
        "df_disaster = df_disaster[df_disaster['Entity']=='All natural disasters'].iloc[:,[1,2]]\n",
        "df_disaster.columns = ['Year', 'Number_of_disasters']\n",
        "df_disaster.set_index('Year', inplace=True)\n",
        "df_disaster.head()"
      ],
      "execution_count": 27,
      "outputs": [
        {
          "output_type": "execute_result",
          "data": {
            "text/html": [
              "<div>\n",
              "<style scoped>\n",
              "    .dataframe tbody tr th:only-of-type {\n",
              "        vertical-align: middle;\n",
              "    }\n",
              "\n",
              "    .dataframe tbody tr th {\n",
              "        vertical-align: top;\n",
              "    }\n",
              "\n",
              "    .dataframe thead th {\n",
              "        text-align: right;\n",
              "    }\n",
              "</style>\n",
              "<table border=\"1\" class=\"dataframe\">\n",
              "  <thead>\n",
              "    <tr style=\"text-align: right;\">\n",
              "      <th></th>\n",
              "      <th>Number_of_disasters</th>\n",
              "    </tr>\n",
              "    <tr>\n",
              "      <th>Year</th>\n",
              "      <th></th>\n",
              "    </tr>\n",
              "  </thead>\n",
              "  <tbody>\n",
              "    <tr>\n",
              "      <th>1900</th>\n",
              "      <td>5</td>\n",
              "    </tr>\n",
              "    <tr>\n",
              "      <th>1901</th>\n",
              "      <td>2</td>\n",
              "    </tr>\n",
              "    <tr>\n",
              "      <th>1902</th>\n",
              "      <td>9</td>\n",
              "    </tr>\n",
              "    <tr>\n",
              "      <th>1903</th>\n",
              "      <td>8</td>\n",
              "    </tr>\n",
              "    <tr>\n",
              "      <th>1904</th>\n",
              "      <td>2</td>\n",
              "    </tr>\n",
              "  </tbody>\n",
              "</table>\n",
              "</div>"
            ],
            "text/plain": [
              "      Number_of_disasters\n",
              "Year                     \n",
              "1900                    5\n",
              "1901                    2\n",
              "1902                    9\n",
              "1903                    8\n",
              "1904                    2"
            ]
          },
          "metadata": {
            "tags": []
          },
          "execution_count": 27
        }
      ]
    },
    {
      "cell_type": "code",
      "metadata": {
        "id": "Bns3eHT1usAQ",
        "colab": {
          "base_uri": "https://localhost:8080/",
          "height": 265
        },
        "outputId": "fdfa7260-a0a0-4220-d33b-ba30c25c1c11"
      },
      "source": [
        "plt.plot(df_disaster['Number_of_disasters'])\n",
        "plt.show()"
      ],
      "execution_count": 28,
      "outputs": [
        {
          "output_type": "display_data",
          "data": {
            "image/png": "[encoded data removed]",
            "text/plain": [
              "<Figure size 432x288 with 1 Axes>"
            ]
          },
          "metadata": {
            "tags": [],
            "needs_background": "light"
          }
        }
      ]
    },
    {
      "cell_type": "markdown",
      "metadata": {
        "id": "qq4OtWmm5b4q"
      },
      "source": [
        "https://www.eea.europa.eu/data-and-maps/indicators/ocean-acidification-3/assessment\n",
        "\n",
        "https://resources.marine.copernicus.eu/?option=com_csw&view=details&product_id=GLOBAL_OMI_SL_area_averaged_anomalies  \n",
        "\n",
        "https://resources.marine.copernicus.eu/?option=com_csw&view=details&product_id=GLOBAL_OMI_HEALTH_carbon_ph_area_averaged  \n",
        "\n",
        "https://resources.marine.copernicus.eu/?option=com_csw&view=details&product_id=GLOBAL_OMI_CLIMVAR_NPGO_sla_eof_mode_projection\n",
        "\n"
      ]
    },
    {
      "cell_type": "code",
      "metadata": {
        "colab": {
          "base_uri": "https://localhost:8080/"
        },
        "id": "p4_97tbOmq7O",
        "outputId": "929724f3-9fc0-4e8b-ad1d-ccd1461e301c"
      },
      "source": [
        "!pwd"
      ],
      "execution_count": 38,
      "outputs": [
        {
          "output_type": "stream",
          "text": [
            "/gdrive\n"
          ],
          "name": "stdout"
        }
      ]
    },
    {
      "cell_type": "code",
      "metadata": {
        "id": "Hl-1wbPVvBCr",
        "colab": {
          "base_uri": "https://localhost:8080/"
        },
        "outputId": "4f9639f7-eca2-4478-c03d-e25887bdb04a"
      },
      "source": [
        "#ocean data\n",
        "import xarray as xr\n",
        "\n",
        "#imported into colabs\n",
        "omi_climvar = xr.open_dataset('/content/global_omi_climvar_npgo_sla_eof_mode_projection_19500115_P20200401.nc')\n",
        "omi_carbon = xr.open_dataset('/content/global_omi_health_carbon_ph_area_averaged_1985_P20191231.nc')\n",
        "omi_anom = xr.open_dataset('/content/global_omi_sl_area_averaged_anomalies_19930101_P20200403.nc')\n",
        "\n",
        "\n",
        "df_climvar = omi_climvar.to_dataframe()\n",
        "df_omi_carbon = omi_carbon.to_dataframe()\n",
        "df_omi_carbon.index = df_omi_carbon.index.astype('str').str[:4]\n",
        "df_omi_carbon.index = df_omi_carbon.index.astype('int64')\n",
        "#df_omi_carbon['ph'].astype('str').str.split(' ', expand=True)\n",
        "#df_omi_carbon.columns = ['time', 'ph', 'uncertainty']\n",
        "df_omi_anom = omi_anom.to_dataframe()\n",
        "print(df_climvar.head(3))\n",
        "print(df_omi_carbon.head(3))\n",
        "print(df_omi_anom.head(3))\n"
      ],
      "execution_count": 39,
      "outputs": [
        {
          "output_type": "stream",
          "text": [
            "                npgo\n",
            "time                \n",
            "1950-01-15 -2.188395\n",
            "1950-02-15 -1.445831\n",
            "1950-03-15 -0.965036\n",
            "            ph  ph_uncertainty\n",
            "time                          \n",
            "1985  8.109290        0.000817\n",
            "1986  8.108254        0.000789\n",
            "1987  8.106547        0.000708\n",
            "                 sla  sla_filtered  sla_tpacorr  sla_filtered_tpacorr\n",
            "time                                                                 \n",
            "1993-01-01 -0.002619     -0.002863     0.003532              0.003288\n",
            "1993-01-02 -0.002637     -0.002844     0.003514              0.003307\n",
            "1993-01-03 -0.002535     -0.002825     0.003616              0.003326\n"
          ],
          "name": "stdout"
        }
      ]
    },
    {
      "cell_type": "code",
      "metadata": {
        "id": "S9COG07kPTaj"
      },
      "source": [
        "df_climvar_mean = df_climvar.groupby(df_climvar.index.year).mean()\n",
        "df_omi_anom_mean = df_omi_anom.groupby(df_omi_anom.index.year).mean()"
      ],
      "execution_count": 40,
      "outputs": []
    },
    {
      "cell_type": "code",
      "metadata": {
        "id": "H9gsf8M7mS1t"
      },
      "source": [
        "df_omi_carbon.drop('ph_uncertainty', axis=1, inplace=True)\n",
        "df_omi_carbon.rename(columns={\"ph\": \"Ocean_ph\"}, inplace=True)\n",
        "df_omi_anom_mean.drop(['sla_filtered', \"sla_tpacorr\", \"sla_filtered_tpacorr\"], axis=1, inplace=True)\n",
        "df_omi_anom_mean.rename(columns={\"sla\": \"Ocean_sla_mean\"}, inplace=True)\n",
        "df_climvar_mean.rename(columns={\"npgo\": \"Ocean_npgo_mean\"}, inplace=True)"
      ],
      "execution_count": 41,
      "outputs": []
    },
    {
      "cell_type": "code",
      "metadata": {
        "id": "rqdkRB6rv-19",
        "colab": {
          "base_uri": "https://localhost:8080/",
          "height": 265
        },
        "outputId": "05a3413f-4e7b-47aa-dc38-63fd323d8689"
      },
      "source": [
        "# plt.plot(df_climvar_mean ['Ocean_npgo_mean'])\n",
        "# plt.plot(df_omi_carbon['Ocean_ph'])\n",
        "plt.plot(df_omi_anom_mean['Ocean_sla_mean'])\n",
        "plt.show()"
      ],
      "execution_count": 43,
      "outputs": [
        {
          "output_type": "display_data",
          "data": {
            "image/png": "[encoded data removed]",
            "text/plain": [
              "<Figure size 432x288 with 1 Axes>"
            ]
          },
          "metadata": {
            "tags": [],
            "needs_background": "light"
          }
        }
      ]
    },
    {
      "cell_type": "code",
      "metadata": {
        "id": "3kbWAhhjN-bS",
        "colab": {
          "base_uri": "https://localhost:8080/"
        },
        "outputId": "2227c4fa-ab0b-492a-ed7a-7ce2de2172a7"
      },
      "source": [
        "multi_df = []\n",
        "for x in dir():\n",
        "  if 'df' in x:\n",
        "    multi_df.append(x)\n",
        "print(multi_df)\n",
        "multi_df = [Land_use_df,\n",
        " Solar_df,\n",
        " df_climvar_mean,\n",
        " df_disaster,\n",
        " df_omi_anom_mean,\n",
        " df_omi_carbon,\n",
        " df_temp_mean,\n",
        " energy_df,\n",
        " population_df, df_ocean_temp, volcano_df, water_vapor_df, volcano_activity_df\n",
        "]"
      ],
      "execution_count": 44,
      "outputs": [
        {
          "output_type": "stream",
          "text": [
            "['Land_use_df', 'Solar_df', 'df_climvar', 'df_climvar_mean', 'df_disaster', 'df_ocean_temp', 'df_omi_anom', 'df_omi_anom_mean', 'df_omi_carbon', 'df_s', 'df_temp', 'df_temp_mean', 'energy_df', 'multi_df', 'population_df', 'volcano_activity_df', 'volcano_df', 'water_vapor_df']\n"
          ],
          "name": "stdout"
        }
      ]
    },
    {
      "cell_type": "code",
      "metadata": {
        "id": "wpnlJs90SXJy",
        "colab": {
          "base_uri": "https://localhost:8080/",
          "height": 234
        },
        "outputId": "f39922ac-02c3-4d73-f538-a7ac7241f299"
      },
      "source": [
        "df_all_merge = pd.concat(multi_df, axis=1)\n",
        "df_all_merge.tail(5)"
      ],
      "execution_count": 45,
      "outputs": [
        {
          "output_type": "execute_result",
          "data": {
            "text/html": [
              "<div>\n",
              "<style scoped>\n",
              "    .dataframe tbody tr th:only-of-type {\n",
              "        vertical-align: middle;\n",
              "    }\n",
              "\n",
              "    .dataframe tbody tr th {\n",
              "        vertical-align: top;\n",
              "    }\n",
              "\n",
              "    .dataframe thead th {\n",
              "        text-align: right;\n",
              "    }\n",
              "</style>\n",
              "<table border=\"1\" class=\"dataframe\">\n",
              "  <thead>\n",
              "    <tr style=\"text-align: right;\">\n",
              "      <th></th>\n",
              "      <th>Land_Use_Value</th>\n",
              "      <th>Solar_TSI</th>\n",
              "      <th>Ocean_npgo_mean</th>\n",
              "      <th>Number_of_disasters</th>\n",
              "      <th>Ocean_sla_mean</th>\n",
              "      <th>Ocean_ph</th>\n",
              "      <th>mean_global_temp</th>\n",
              "      <th>energy_production-mtoe</th>\n",
              "      <th>population</th>\n",
              "      <th>upper_ocean_mean_temp</th>\n",
              "      <th>Volcanic_ERF</th>\n",
              "      <th>Water_vapor</th>\n",
              "      <th>volcano_num_eruptions</th>\n",
              "      <th>volcano_sum_strength</th>\n",
              "      <th>volcano_mean_strength</th>\n",
              "    </tr>\n",
              "  </thead>\n",
              "  <tbody>\n",
              "    <tr>\n",
              "      <th>2016</th>\n",
              "      <td>3151070.794</td>\n",
              "      <td>1361.3384</td>\n",
              "      <td>-0.130798</td>\n",
              "      <td>325.0</td>\n",
              "      <td>0.077099</td>\n",
              "      <td>8.059615</td>\n",
              "      <td>1.204</td>\n",
              "      <td>14246.77631</td>\n",
              "      <td>7.464022e+09</td>\n",
              "      <td>0.524395</td>\n",
              "      <td>-0.183</td>\n",
              "      <td>0.078</td>\n",
              "      <td>5.0</td>\n",
              "      <td>0.0</td>\n",
              "      <td>0.000000</td>\n",
              "    </tr>\n",
              "    <tr>\n",
              "      <th>2017</th>\n",
              "      <td>3151070.794</td>\n",
              "      <td>1361.2147</td>\n",
              "      <td>-0.824543</td>\n",
              "      <td>276.0</td>\n",
              "      <td>0.078719</td>\n",
              "      <td>8.057924</td>\n",
              "      <td>1.096</td>\n",
              "      <td>NaN</td>\n",
              "      <td>7.547859e+09</td>\n",
              "      <td>0.407761</td>\n",
              "      <td>-0.170</td>\n",
              "      <td>0.079</td>\n",
              "      <td>8.0</td>\n",
              "      <td>4.0</td>\n",
              "      <td>0.500000</td>\n",
              "    </tr>\n",
              "    <tr>\n",
              "      <th>2018</th>\n",
              "      <td>NaN</td>\n",
              "      <td>1361.2560</td>\n",
              "      <td>-1.846386</td>\n",
              "      <td>282.0</td>\n",
              "      <td>0.082473</td>\n",
              "      <td>8.056726</td>\n",
              "      <td>1.022</td>\n",
              "      <td>NaN</td>\n",
              "      <td>7.631091e+09</td>\n",
              "      <td>0.358287</td>\n",
              "      <td>NaN</td>\n",
              "      <td>NaN</td>\n",
              "      <td>14.0</td>\n",
              "      <td>16.0</td>\n",
              "      <td>1.142857</td>\n",
              "    </tr>\n",
              "    <tr>\n",
              "      <th>2019</th>\n",
              "      <td>NaN</td>\n",
              "      <td>NaN</td>\n",
              "      <td>-2.279575</td>\n",
              "      <td>361.0</td>\n",
              "      <td>0.088309</td>\n",
              "      <td>NaN</td>\n",
              "      <td>1.158</td>\n",
              "      <td>NaN</td>\n",
              "      <td>7.713468e+09</td>\n",
              "      <td>0.461826</td>\n",
              "      <td>NaN</td>\n",
              "      <td>NaN</td>\n",
              "      <td>7.0</td>\n",
              "      <td>14.0</td>\n",
              "      <td>2.000000</td>\n",
              "    </tr>\n",
              "    <tr>\n",
              "      <th>2020</th>\n",
              "      <td>NaN</td>\n",
              "      <td>NaN</td>\n",
              "      <td>-1.968411</td>\n",
              "      <td>NaN</td>\n",
              "      <td>NaN</td>\n",
              "      <td>NaN</td>\n",
              "      <td>1.200</td>\n",
              "      <td>NaN</td>\n",
              "      <td>7.794799e+09</td>\n",
              "      <td>0.515080</td>\n",
              "      <td>NaN</td>\n",
              "      <td>NaN</td>\n",
              "      <td>2.0</td>\n",
              "      <td>0.0</td>\n",
              "      <td>0.000000</td>\n",
              "    </tr>\n",
              "  </tbody>\n",
              "</table>\n",
              "</div>"
            ],
            "text/plain": [
              "      Land_Use_Value  Solar_TSI  ...  volcano_sum_strength  volcano_mean_strength\n",
              "2016     3151070.794  1361.3384  ...                   0.0               0.000000\n",
              "2017     3151070.794  1361.2147  ...                   4.0               0.500000\n",
              "2018             NaN  1361.2560  ...                  16.0               1.142857\n",
              "2019             NaN        NaN  ...                  14.0               2.000000\n",
              "2020             NaN        NaN  ...                   0.0               0.000000\n",
              "\n",
              "[5 rows x 15 columns]"
            ]
          },
          "metadata": {
            "tags": []
          },
          "execution_count": 45
        }
      ]
    },
    {
      "cell_type": "code",
      "metadata": {
        "id": "2u_hSsStBWkm"
      },
      "source": [
        "df_all_merge.to_csv('/all_data.csv')"
      ],
      "execution_count": 47,
      "outputs": []
    },
    {
      "cell_type": "code",
      "metadata": {
        "id": "ccPFx_odxb8b",
        "colab": {
          "base_uri": "https://localhost:8080/",
          "height": 234
        },
        "outputId": "93f59053-8720-40ff-aef9-44e4947c86c7"
      },
      "source": [
        "df_all_merge_vals = df_all_merge.dropna()\n",
        "df_all_merge_vals.tail()"
      ],
      "execution_count": 48,
      "outputs": [
        {
          "output_type": "execute_result",
          "data": {
            "text/html": [
              "<div>\n",
              "<style scoped>\n",
              "    .dataframe tbody tr th:only-of-type {\n",
              "        vertical-align: middle;\n",
              "    }\n",
              "\n",
              "    .dataframe tbody tr th {\n",
              "        vertical-align: top;\n",
              "    }\n",
              "\n",
              "    .dataframe thead th {\n",
              "        text-align: right;\n",
              "    }\n",
              "</style>\n",
              "<table border=\"1\" class=\"dataframe\">\n",
              "  <thead>\n",
              "    <tr style=\"text-align: right;\">\n",
              "      <th></th>\n",
              "      <th>Land_Use_Value</th>\n",
              "      <th>Solar_TSI</th>\n",
              "      <th>Ocean_npgo_mean</th>\n",
              "      <th>Number_of_disasters</th>\n",
              "      <th>Ocean_sla_mean</th>\n",
              "      <th>Ocean_ph</th>\n",
              "      <th>mean_global_temp</th>\n",
              "      <th>energy_production-mtoe</th>\n",
              "      <th>population</th>\n",
              "      <th>upper_ocean_mean_temp</th>\n",
              "      <th>Volcanic_ERF</th>\n",
              "      <th>Water_vapor</th>\n",
              "      <th>volcano_num_eruptions</th>\n",
              "      <th>volcano_sum_strength</th>\n",
              "      <th>volcano_mean_strength</th>\n",
              "    </tr>\n",
              "  </thead>\n",
              "  <tbody>\n",
              "    <tr>\n",
              "      <th>2012</th>\n",
              "      <td>3392405.541</td>\n",
              "      <td>1361.5920</td>\n",
              "      <td>1.358926</td>\n",
              "      <td>346.0</td>\n",
              "      <td>0.059085</td>\n",
              "      <td>8.067349</td>\n",
              "      <td>0.848</td>\n",
              "      <td>13812.57522</td>\n",
              "      <td>7.125828e+09</td>\n",
              "      <td>0.155250</td>\n",
              "      <td>-0.237</td>\n",
              "      <td>0.074</td>\n",
              "      <td>3.0</td>\n",
              "      <td>0.0</td>\n",
              "      <td>0.000000</td>\n",
              "    </tr>\n",
              "    <tr>\n",
              "      <th>2013</th>\n",
              "      <td>3298233.975</td>\n",
              "      <td>1361.6117</td>\n",
              "      <td>0.374610</td>\n",
              "      <td>332.0</td>\n",
              "      <td>0.061780</td>\n",
              "      <td>8.064808</td>\n",
              "      <td>0.886</td>\n",
              "      <td>13959.61532</td>\n",
              "      <td>7.210582e+09</td>\n",
              "      <td>0.242630</td>\n",
              "      <td>-0.224</td>\n",
              "      <td>0.075</td>\n",
              "      <td>8.0</td>\n",
              "      <td>5.0</td>\n",
              "      <td>0.625000</td>\n",
              "    </tr>\n",
              "    <tr>\n",
              "      <th>2014</th>\n",
              "      <td>3499189.188</td>\n",
              "      <td>1361.5882</td>\n",
              "      <td>-0.229226</td>\n",
              "      <td>320.0</td>\n",
              "      <td>0.064366</td>\n",
              "      <td>8.063553</td>\n",
              "      <td>0.954</td>\n",
              "      <td>14200.60196</td>\n",
              "      <td>7.295291e+09</td>\n",
              "      <td>0.257744</td>\n",
              "      <td>-0.211</td>\n",
              "      <td>0.076</td>\n",
              "      <td>6.0</td>\n",
              "      <td>3.0</td>\n",
              "      <td>0.500000</td>\n",
              "    </tr>\n",
              "    <tr>\n",
              "      <th>2015</th>\n",
              "      <td>3820452.436</td>\n",
              "      <td>1361.7017</td>\n",
              "      <td>-1.339616</td>\n",
              "      <td>380.0</td>\n",
              "      <td>0.073298</td>\n",
              "      <td>8.062140</td>\n",
              "      <td>1.114</td>\n",
              "      <td>14338.66688</td>\n",
              "      <td>7.379797e+09</td>\n",
              "      <td>0.351189</td>\n",
              "      <td>-0.196</td>\n",
              "      <td>0.077</td>\n",
              "      <td>6.0</td>\n",
              "      <td>2.0</td>\n",
              "      <td>0.333333</td>\n",
              "    </tr>\n",
              "    <tr>\n",
              "      <th>2016</th>\n",
              "      <td>3151070.794</td>\n",
              "      <td>1361.3384</td>\n",
              "      <td>-0.130798</td>\n",
              "      <td>325.0</td>\n",
              "      <td>0.077099</td>\n",
              "      <td>8.059615</td>\n",
              "      <td>1.204</td>\n",
              "      <td>14246.77631</td>\n",
              "      <td>7.464022e+09</td>\n",
              "      <td>0.524395</td>\n",
              "      <td>-0.183</td>\n",
              "      <td>0.078</td>\n",
              "      <td>5.0</td>\n",
              "      <td>0.0</td>\n",
              "      <td>0.000000</td>\n",
              "    </tr>\n",
              "  </tbody>\n",
              "</table>\n",
              "</div>"
            ],
            "text/plain": [
              "      Land_Use_Value  Solar_TSI  ...  volcano_sum_strength  volcano_mean_strength\n",
              "2012     3392405.541  1361.5920  ...                   0.0               0.000000\n",
              "2013     3298233.975  1361.6117  ...                   5.0               0.625000\n",
              "2014     3499189.188  1361.5882  ...                   3.0               0.500000\n",
              "2015     3820452.436  1361.7017  ...                   2.0               0.333333\n",
              "2016     3151070.794  1361.3384  ...                   0.0               0.000000\n",
              "\n",
              "[5 rows x 15 columns]"
            ]
          },
          "metadata": {
            "tags": []
          },
          "execution_count": 48
        }
      ]
    },
    {
      "cell_type": "code",
      "metadata": {
        "id": "yv-ngNeWVU7I"
      },
      "source": [
        "scaler = StandardScaler()\n",
        "scaled_df = scaler.fit_transform(df_all_merge.iloc[325:])"
      ],
      "execution_count": 49,
      "outputs": []
    },
    {
      "cell_type": "markdown",
      "metadata": {
        "id": "zjsI2IB9rrHz"
      },
      "source": [
        "#Facebook prophet  \r\n",
        "running prophet out of curiosity, not an analysis"
      ]
    },
    {
      "cell_type": "code",
      "metadata": {
        "id": "RyS7u5v7qVVT"
      },
      "source": [
        "from fbprophet import Prophet"
      ],
      "execution_count": 60,
      "outputs": []
    },
    {
      "cell_type": "code",
      "metadata": {
        "id": "J3EAZZ6_zMw6",
        "colab": {
          "base_uri": "https://localhost:8080/",
          "height": 317
        },
        "outputId": "090816b0-a28d-4843-f771-32b8832848f7"
      },
      "source": [
        "df_all_merge_vals.head()"
      ],
      "execution_count": 61,
      "outputs": [
        {
          "output_type": "execute_result",
          "data": {
            "text/html": [
              "<div>\n",
              "<style scoped>\n",
              "    .dataframe tbody tr th:only-of-type {\n",
              "        vertical-align: middle;\n",
              "    }\n",
              "\n",
              "    .dataframe tbody tr th {\n",
              "        vertical-align: top;\n",
              "    }\n",
              "\n",
              "    .dataframe thead th {\n",
              "        text-align: right;\n",
              "    }\n",
              "</style>\n",
              "<table border=\"1\" class=\"dataframe\">\n",
              "  <thead>\n",
              "    <tr style=\"text-align: right;\">\n",
              "      <th></th>\n",
              "      <th>Land_Use_Value</th>\n",
              "      <th>Solar_TSI</th>\n",
              "      <th>Ocean_npgo_mean</th>\n",
              "      <th>Number_of_disasters</th>\n",
              "      <th>Ocean_sla_mean</th>\n",
              "      <th>Ocean_ph</th>\n",
              "      <th>y</th>\n",
              "      <th>energy_production-mtoe</th>\n",
              "      <th>population</th>\n",
              "      <th>upper_ocean_mean_temp</th>\n",
              "      <th>Volcanic_ERF</th>\n",
              "      <th>Water_vapor</th>\n",
              "      <th>volcano_num_eruptions</th>\n",
              "      <th>volcano_sum_strength</th>\n",
              "      <th>volcano_mean_strength</th>\n",
              "      <th>ds</th>\n",
              "    </tr>\n",
              "  </thead>\n",
              "  <tbody>\n",
              "    <tr>\n",
              "      <th>1993</th>\n",
              "      <td>4122056.446</td>\n",
              "      <td>1361.3081</td>\n",
              "      <td>-1.901993</td>\n",
              "      <td>260.0</td>\n",
              "      <td>0.000139</td>\n",
              "      <td>8.099635</td>\n",
              "      <td>0.478</td>\n",
              "      <td>8810.265265</td>\n",
              "      <td>5.581598e+09</td>\n",
              "      <td>0.134191</td>\n",
              "      <td>-1.23</td>\n",
              "      <td>0.07</td>\n",
              "      <td>9.0</td>\n",
              "      <td>8.0</td>\n",
              "      <td>0.888889</td>\n",
              "      <td>1993-01-01</td>\n",
              "    </tr>\n",
              "    <tr>\n",
              "      <th>1994</th>\n",
              "      <td>4122065.168</td>\n",
              "      <td>1361.1154</td>\n",
              "      <td>-1.211599</td>\n",
              "      <td>246.0</td>\n",
              "      <td>0.001488</td>\n",
              "      <td>8.097717</td>\n",
              "      <td>0.544</td>\n",
              "      <td>8963.500717</td>\n",
              "      <td>5.663150e+09</td>\n",
              "      <td>0.065215</td>\n",
              "      <td>-0.50</td>\n",
              "      <td>0.07</td>\n",
              "      <td>7.0</td>\n",
              "      <td>16.0</td>\n",
              "      <td>2.285714</td>\n",
              "      <td>1994-01-01</td>\n",
              "    </tr>\n",
              "    <tr>\n",
              "      <th>1995</th>\n",
              "      <td>4122073.860</td>\n",
              "      <td>1361.0200</td>\n",
              "      <td>-1.039209</td>\n",
              "      <td>248.0</td>\n",
              "      <td>0.003823</td>\n",
              "      <td>8.095885</td>\n",
              "      <td>0.674</td>\n",
              "      <td>9154.164367</td>\n",
              "      <td>5.744213e+09</td>\n",
              "      <td>0.158000</td>\n",
              "      <td>-0.25</td>\n",
              "      <td>0.07</td>\n",
              "      <td>6.0</td>\n",
              "      <td>9.0</td>\n",
              "      <td>1.500000</td>\n",
              "      <td>1995-01-01</td>\n",
              "    </tr>\n",
              "    <tr>\n",
              "      <th>1996</th>\n",
              "      <td>3617122.744</td>\n",
              "      <td>1360.9005</td>\n",
              "      <td>-0.972837</td>\n",
              "      <td>227.0</td>\n",
              "      <td>0.007114</td>\n",
              "      <td>8.094135</td>\n",
              "      <td>0.552</td>\n",
              "      <td>9389.086986</td>\n",
              "      <td>5.824892e+09</td>\n",
              "      <td>0.100212</td>\n",
              "      <td>-0.18</td>\n",
              "      <td>0.07</td>\n",
              "      <td>6.0</td>\n",
              "      <td>13.0</td>\n",
              "      <td>2.166667</td>\n",
              "      <td>1996-01-01</td>\n",
              "    </tr>\n",
              "    <tr>\n",
              "      <th>1997</th>\n",
              "      <td>4544312.867</td>\n",
              "      <td>1361.0787</td>\n",
              "      <td>-0.657691</td>\n",
              "      <td>261.0</td>\n",
              "      <td>0.011384</td>\n",
              "      <td>8.093833</td>\n",
              "      <td>0.716</td>\n",
              "      <td>9515.014818</td>\n",
              "      <td>5.905046e+09</td>\n",
              "      <td>0.033529</td>\n",
              "      <td>-0.13</td>\n",
              "      <td>0.07</td>\n",
              "      <td>9.0</td>\n",
              "      <td>12.0</td>\n",
              "      <td>1.333333</td>\n",
              "      <td>1997-01-01</td>\n",
              "    </tr>\n",
              "  </tbody>\n",
              "</table>\n",
              "</div>"
            ],
            "text/plain": [
              "      Land_Use_Value  Solar_TSI  ...  volcano_mean_strength         ds\n",
              "1993     4122056.446  1361.3081  ...               0.888889 1993-01-01\n",
              "1994     4122065.168  1361.1154  ...               2.285714 1994-01-01\n",
              "1995     4122073.860  1361.0200  ...               1.500000 1995-01-01\n",
              "1996     3617122.744  1360.9005  ...               2.166667 1996-01-01\n",
              "1997     4544312.867  1361.0787  ...               1.333333 1997-01-01\n",
              "\n",
              "[5 rows x 16 columns]"
            ]
          },
          "metadata": {
            "tags": []
          },
          "execution_count": 61
        }
      ]
    },
    {
      "cell_type": "code",
      "metadata": {
        "id": "Q95b98wT2TC8"
      },
      "source": [
        "df_all_merge_vals['ds'] = df_all_merge_vals.index\n",
        "df_all_merge_vals.rename(columns={'mean_global_temp':'y'}, inplace=True)\n",
        "df_all_merge_vals.ds = pd.to_datetime(df_all_merge_vals.ds, format='%Y')"
      ],
      "execution_count": null,
      "outputs": []
    },
    {
      "cell_type": "code",
      "metadata": {
        "id": "FuBQbNX731M9",
        "colab": {
          "base_uri": "https://localhost:8080/",
          "height": 317
        },
        "outputId": "7183e985-36cf-4f57-a58b-a5a09d113826"
      },
      "source": [
        "df_all_merge_vals.tail()"
      ],
      "execution_count": 63,
      "outputs": [
        {
          "output_type": "execute_result",
          "data": {
            "text/html": [
              "<div>\n",
              "<style scoped>\n",
              "    .dataframe tbody tr th:only-of-type {\n",
              "        vertical-align: middle;\n",
              "    }\n",
              "\n",
              "    .dataframe tbody tr th {\n",
              "        vertical-align: top;\n",
              "    }\n",
              "\n",
              "    .dataframe thead th {\n",
              "        text-align: right;\n",
              "    }\n",
              "</style>\n",
              "<table border=\"1\" class=\"dataframe\">\n",
              "  <thead>\n",
              "    <tr style=\"text-align: right;\">\n",
              "      <th></th>\n",
              "      <th>Land_Use_Value</th>\n",
              "      <th>Solar_TSI</th>\n",
              "      <th>Ocean_npgo_mean</th>\n",
              "      <th>Number_of_disasters</th>\n",
              "      <th>Ocean_sla_mean</th>\n",
              "      <th>Ocean_ph</th>\n",
              "      <th>y</th>\n",
              "      <th>energy_production-mtoe</th>\n",
              "      <th>population</th>\n",
              "      <th>upper_ocean_mean_temp</th>\n",
              "      <th>Volcanic_ERF</th>\n",
              "      <th>Water_vapor</th>\n",
              "      <th>volcano_num_eruptions</th>\n",
              "      <th>volcano_sum_strength</th>\n",
              "      <th>volcano_mean_strength</th>\n",
              "      <th>ds</th>\n",
              "    </tr>\n",
              "  </thead>\n",
              "  <tbody>\n",
              "    <tr>\n",
              "      <th>2012</th>\n",
              "      <td>3392405.541</td>\n",
              "      <td>1361.5920</td>\n",
              "      <td>1.358926</td>\n",
              "      <td>346.0</td>\n",
              "      <td>0.059085</td>\n",
              "      <td>8.067349</td>\n",
              "      <td>0.848</td>\n",
              "      <td>13812.57522</td>\n",
              "      <td>7.125828e+09</td>\n",
              "      <td>0.155250</td>\n",
              "      <td>-0.237</td>\n",
              "      <td>0.074</td>\n",
              "      <td>3.0</td>\n",
              "      <td>0.0</td>\n",
              "      <td>0.000000</td>\n",
              "      <td>2012-01-01</td>\n",
              "    </tr>\n",
              "    <tr>\n",
              "      <th>2013</th>\n",
              "      <td>3298233.975</td>\n",
              "      <td>1361.6117</td>\n",
              "      <td>0.374610</td>\n",
              "      <td>332.0</td>\n",
              "      <td>0.061780</td>\n",
              "      <td>8.064808</td>\n",
              "      <td>0.886</td>\n",
              "      <td>13959.61532</td>\n",
              "      <td>7.210582e+09</td>\n",
              "      <td>0.242630</td>\n",
              "      <td>-0.224</td>\n",
              "      <td>0.075</td>\n",
              "      <td>8.0</td>\n",
              "      <td>5.0</td>\n",
              "      <td>0.625000</td>\n",
              "      <td>2013-01-01</td>\n",
              "    </tr>\n",
              "    <tr>\n",
              "      <th>2014</th>\n",
              "      <td>3499189.188</td>\n",
              "      <td>1361.5882</td>\n",
              "      <td>-0.229226</td>\n",
              "      <td>320.0</td>\n",
              "      <td>0.064366</td>\n",
              "      <td>8.063553</td>\n",
              "      <td>0.954</td>\n",
              "      <td>14200.60196</td>\n",
              "      <td>7.295291e+09</td>\n",
              "      <td>0.257744</td>\n",
              "      <td>-0.211</td>\n",
              "      <td>0.076</td>\n",
              "      <td>6.0</td>\n",
              "      <td>3.0</td>\n",
              "      <td>0.500000</td>\n",
              "      <td>2014-01-01</td>\n",
              "    </tr>\n",
              "    <tr>\n",
              "      <th>2015</th>\n",
              "      <td>3820452.436</td>\n",
              "      <td>1361.7017</td>\n",
              "      <td>-1.339616</td>\n",
              "      <td>380.0</td>\n",
              "      <td>0.073298</td>\n",
              "      <td>8.062140</td>\n",
              "      <td>1.114</td>\n",
              "      <td>14338.66688</td>\n",
              "      <td>7.379797e+09</td>\n",
              "      <td>0.351189</td>\n",
              "      <td>-0.196</td>\n",
              "      <td>0.077</td>\n",
              "      <td>6.0</td>\n",
              "      <td>2.0</td>\n",
              "      <td>0.333333</td>\n",
              "      <td>2015-01-01</td>\n",
              "    </tr>\n",
              "    <tr>\n",
              "      <th>2016</th>\n",
              "      <td>3151070.794</td>\n",
              "      <td>1361.3384</td>\n",
              "      <td>-0.130798</td>\n",
              "      <td>325.0</td>\n",
              "      <td>0.077099</td>\n",
              "      <td>8.059615</td>\n",
              "      <td>1.204</td>\n",
              "      <td>14246.77631</td>\n",
              "      <td>7.464022e+09</td>\n",
              "      <td>0.524395</td>\n",
              "      <td>-0.183</td>\n",
              "      <td>0.078</td>\n",
              "      <td>5.0</td>\n",
              "      <td>0.0</td>\n",
              "      <td>0.000000</td>\n",
              "      <td>2016-01-01</td>\n",
              "    </tr>\n",
              "  </tbody>\n",
              "</table>\n",
              "</div>"
            ],
            "text/plain": [
              "      Land_Use_Value  Solar_TSI  ...  volcano_mean_strength         ds\n",
              "2012     3392405.541  1361.5920  ...               0.000000 2012-01-01\n",
              "2013     3298233.975  1361.6117  ...               0.625000 2013-01-01\n",
              "2014     3499189.188  1361.5882  ...               0.500000 2014-01-01\n",
              "2015     3820452.436  1361.7017  ...               0.333333 2015-01-01\n",
              "2016     3151070.794  1361.3384  ...               0.000000 2016-01-01\n",
              "\n",
              "[5 rows x 16 columns]"
            ]
          },
          "metadata": {
            "tags": []
          },
          "execution_count": 63
        }
      ]
    },
    {
      "cell_type": "code",
      "metadata": {
        "id": "KOXZiaQswq_p",
        "colab": {
          "base_uri": "https://localhost:8080/"
        },
        "outputId": "5e4c5931-391f-4850-85ed-b20484340702"
      },
      "source": [
        "#m = Prophet()\n",
        "m = Prophet(yearly_seasonality = True, seasonality_prior_scale=0.1)\n",
        "m.fit(df_all_merge_vals)"
      ],
      "execution_count": 59,
      "outputs": [
        {
          "output_type": "stream",
          "text": [
            "INFO:fbprophet:Disabling weekly seasonality. Run prophet with weekly_seasonality=True to override this.\n",
            "INFO:fbprophet:Disabling daily seasonality. Run prophet with daily_seasonality=True to override this.\n",
            "INFO:fbprophet:n_changepoints greater than number of observations. Using 18.\n"
          ],
          "name": "stderr"
        },
        {
          "output_type": "execute_result",
          "data": {
            "text/plain": [
              "<fbprophet.forecaster.Prophet at 0x7f782e821780>"
            ]
          },
          "metadata": {
            "tags": []
          },
          "execution_count": 59
        }
      ]
    },
    {
      "cell_type": "code",
      "metadata": {
        "id": "51jy4Gd2y0Gh",
        "colab": {
          "base_uri": "https://localhost:8080/",
          "height": 198
        },
        "outputId": "4f46489b-f5ec-4a2b-a9d5-3820464dd310"
      },
      "source": [
        "future = m.make_future_dataframe(periods=144, freq='MS')\n",
        "forecast = m.predict(future)\n",
        "forecast[['ds', 'yhat', 'yhat_lower', 'yhat_upper']].tail()"
      ],
      "execution_count": 64,
      "outputs": [
        {
          "output_type": "execute_result",
          "data": {
            "text/html": [
              "<div>\n",
              "<style scoped>\n",
              "    .dataframe tbody tr th:only-of-type {\n",
              "        vertical-align: middle;\n",
              "    }\n",
              "\n",
              "    .dataframe tbody tr th {\n",
              "        vertical-align: top;\n",
              "    }\n",
              "\n",
              "    .dataframe thead th {\n",
              "        text-align: right;\n",
              "    }\n",
              "</style>\n",
              "<table border=\"1\" class=\"dataframe\">\n",
              "  <thead>\n",
              "    <tr style=\"text-align: right;\">\n",
              "      <th></th>\n",
              "      <th>ds</th>\n",
              "      <th>yhat</th>\n",
              "      <th>yhat_lower</th>\n",
              "      <th>yhat_upper</th>\n",
              "    </tr>\n",
              "  </thead>\n",
              "  <tbody>\n",
              "    <tr>\n",
              "      <th>163</th>\n",
              "      <td>2027-09-01</td>\n",
              "      <td>1.265578</td>\n",
              "      <td>1.155225</td>\n",
              "      <td>1.389529</td>\n",
              "    </tr>\n",
              "    <tr>\n",
              "      <th>164</th>\n",
              "      <td>2027-10-01</td>\n",
              "      <td>1.272303</td>\n",
              "      <td>1.169003</td>\n",
              "      <td>1.388051</td>\n",
              "    </tr>\n",
              "    <tr>\n",
              "      <th>165</th>\n",
              "      <td>2027-11-01</td>\n",
              "      <td>1.288305</td>\n",
              "      <td>1.182817</td>\n",
              "      <td>1.399484</td>\n",
              "    </tr>\n",
              "    <tr>\n",
              "      <th>166</th>\n",
              "      <td>2027-12-01</td>\n",
              "      <td>1.332876</td>\n",
              "      <td>1.225518</td>\n",
              "      <td>1.440576</td>\n",
              "    </tr>\n",
              "    <tr>\n",
              "      <th>167</th>\n",
              "      <td>2028-01-01</td>\n",
              "      <td>1.286019</td>\n",
              "      <td>1.180331</td>\n",
              "      <td>1.393786</td>\n",
              "    </tr>\n",
              "  </tbody>\n",
              "</table>\n",
              "</div>"
            ],
            "text/plain": [
              "            ds      yhat  yhat_lower  yhat_upper\n",
              "163 2027-09-01  1.265578    1.155225    1.389529\n",
              "164 2027-10-01  1.272303    1.169003    1.388051\n",
              "165 2027-11-01  1.288305    1.182817    1.399484\n",
              "166 2027-12-01  1.332876    1.225518    1.440576\n",
              "167 2028-01-01  1.286019    1.180331    1.393786"
            ]
          },
          "metadata": {
            "tags": []
          },
          "execution_count": 64
        }
      ]
    },
    {
      "cell_type": "code",
      "metadata": {
        "id": "Fk40oFPB5zQJ",
        "colab": {
          "base_uri": "https://localhost:8080/",
          "height": 441
        },
        "outputId": "439ee070-9bdb-46d5-fb79-1706b004ddbc"
      },
      "source": [
        "fig2 = m.plot_components(forecast)"
      ],
      "execution_count": 65,
      "outputs": [
        {
          "output_type": "display_data",
          "data": {
            "image/png": "[encoded data removed]",
            "text/plain": [
              "<Figure size 648x432 with 2 Axes>"
            ]
          },
          "metadata": {
            "tags": []
          }
        }
      ]
    },
    {
      "cell_type": "code",
      "metadata": {
        "id": "R3CEyMekAvF5",
        "colab": {
          "base_uri": "https://localhost:8080/"
        },
        "outputId": "a953cf0e-4e3f-4c51-a5b3-a425e364edca"
      },
      "source": [
        "forecast.groupby(forecast.ds.astype('str').str[:4])['yhat'].mean()"
      ],
      "execution_count": 66,
      "outputs": [
        {
          "output_type": "execute_result",
          "data": {
            "text/plain": [
              "ds\n",
              "1993    0.579048\n",
              "1994    0.595292\n",
              "1995    0.611528\n",
              "1996    0.627762\n",
              "1997    0.661330\n",
              "1998    0.677574\n",
              "1999    0.693810\n",
              "2000    0.710044\n",
              "2001    0.743612\n",
              "2002    0.759856\n",
              "2003    0.776093\n",
              "2004    0.792327\n",
              "2005    0.825894\n",
              "2006    0.842138\n",
              "2007    0.858375\n",
              "2008    0.874609\n",
              "2009    0.908177\n",
              "2010    0.924421\n",
              "2011    0.940657\n",
              "2012    0.956891\n",
              "2013    0.990459\n",
              "2014    1.006703\n",
              "2015    1.022939\n",
              "2016    1.050525\n",
              "2017    1.072269\n",
              "2018    1.092768\n",
              "2019    1.113265\n",
              "2020    1.132808\n",
              "2021    1.154551\n",
              "2022    1.175050\n",
              "2023    1.195547\n",
              "2024    1.215090\n",
              "2025    1.236833\n",
              "2026    1.257332\n",
              "2027    1.277829\n",
              "2028    1.286019\n",
              "Name: yhat, dtype: float64"
            ]
          },
          "metadata": {
            "tags": []
          },
          "execution_count": 66
        }
      ]
    },
    {
      "cell_type": "code",
      "metadata": {
        "id": "pnInKAo77qKr",
        "colab": {
          "base_uri": "https://localhost:8080/",
          "height": 378
        },
        "outputId": "b5ffedc1-beda-4114-ea8e-66fbc6fbc6c5"
      },
      "source": [
        "df_temp_mean.tail(10)"
      ],
      "execution_count": 67,
      "outputs": [
        {
          "output_type": "execute_result",
          "data": {
            "text/html": [
              "<div>\n",
              "<style scoped>\n",
              "    .dataframe tbody tr th:only-of-type {\n",
              "        vertical-align: middle;\n",
              "    }\n",
              "\n",
              "    .dataframe tbody tr th {\n",
              "        vertical-align: top;\n",
              "    }\n",
              "\n",
              "    .dataframe thead th {\n",
              "        text-align: right;\n",
              "    }\n",
              "</style>\n",
              "<table border=\"1\" class=\"dataframe\">\n",
              "  <thead>\n",
              "    <tr style=\"text-align: right;\">\n",
              "      <th></th>\n",
              "      <th>mean_global_temp</th>\n",
              "    </tr>\n",
              "    <tr>\n",
              "      <th>Year</th>\n",
              "      <th></th>\n",
              "    </tr>\n",
              "  </thead>\n",
              "  <tbody>\n",
              "    <tr>\n",
              "      <th>2011</th>\n",
              "      <td>0.816</td>\n",
              "    </tr>\n",
              "    <tr>\n",
              "      <th>2012</th>\n",
              "      <td>0.848</td>\n",
              "    </tr>\n",
              "    <tr>\n",
              "      <th>2013</th>\n",
              "      <td>0.886</td>\n",
              "    </tr>\n",
              "    <tr>\n",
              "      <th>2014</th>\n",
              "      <td>0.954</td>\n",
              "    </tr>\n",
              "    <tr>\n",
              "      <th>2015</th>\n",
              "      <td>1.114</td>\n",
              "    </tr>\n",
              "    <tr>\n",
              "      <th>2016</th>\n",
              "      <td>1.204</td>\n",
              "    </tr>\n",
              "    <tr>\n",
              "      <th>2017</th>\n",
              "      <td>1.096</td>\n",
              "    </tr>\n",
              "    <tr>\n",
              "      <th>2018</th>\n",
              "      <td>1.022</td>\n",
              "    </tr>\n",
              "    <tr>\n",
              "      <th>2019</th>\n",
              "      <td>1.158</td>\n",
              "    </tr>\n",
              "    <tr>\n",
              "      <th>2020</th>\n",
              "      <td>1.200</td>\n",
              "    </tr>\n",
              "  </tbody>\n",
              "</table>\n",
              "</div>"
            ],
            "text/plain": [
              "      mean_global_temp\n",
              "Year                  \n",
              "2011             0.816\n",
              "2012             0.848\n",
              "2013             0.886\n",
              "2014             0.954\n",
              "2015             1.114\n",
              "2016             1.204\n",
              "2017             1.096\n",
              "2018             1.022\n",
              "2019             1.158\n",
              "2020             1.200"
            ]
          },
          "metadata": {
            "tags": []
          },
          "execution_count": 67
        }
      ]
    }
  ]
}