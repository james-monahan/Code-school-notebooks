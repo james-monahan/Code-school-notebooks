{
  "nbformat": 4,
  "nbformat_minor": 0,
  "metadata": {
    "colab": {
      "name": "Parse-JSON-Pandas.ipynb",
      "provenance": [],
      "collapsed_sections": [],
      "authorship_tag": "ABX9TyPupPtfR0L4tXsmMBOMg9Nf",
      "include_colab_link": true
    },
    "kernelspec": {
      "name": "python3",
      "display_name": "Python 3"
    }
  },
  "cells": [
    {
      "cell_type": "markdown",
      "metadata": {
        "id": "view-in-github",
        "colab_type": "text"
      },
      "source": [
        "<a href=\"https://colab.research.google.com/github/james-monahan/Code-school-notebooks/blob/main/Week-16-JSON/Parse_JSON_Pandas.ipynb\" target=\"_parent\"><img src=\"https://colab.research.google.com/assets/colab-badge.svg\" alt=\"Open In Colab\"/></a>"
      ]
    },
    {
      "cell_type": "code",
      "metadata": {
        "id": "vBVGCcQBpFeq"
      },
      "source": [
        "import json\r\n",
        "import requests\r\n",
        "\r\n",
        "link = \"https://raw.githubusercontent.com/WildCodeSchool/java-jsonparse/master/weather.json\"\r\n",
        "\r\n",
        "# This function gets the file content from the URL\r\n",
        "r = requests.get(link)\r\n",
        "\r\n",
        "# You can access to the text content with this function\r\n",
        "r.text\r\n",
        "\r\n",
        "data = json.loads( r.text)"
      ],
      "execution_count": null,
      "outputs": []
    },
    {
      "cell_type": "markdown",
      "metadata": {
        "id": "VCPRmuaFpkMd"
      },
      "source": [
        "#Display the value of the \"name\" attribute"
      ]
    },
    {
      "cell_type": "code",
      "metadata": {
        "colab": {
          "base_uri": "https://localhost:8080/"
        },
        "id": "CI0G74xSqAGs",
        "outputId": "f7b43da3-ead3-4b6a-9f01-5bb0e53d8b8d"
      },
      "source": [
        "print(data['name'])"
      ],
      "execution_count": null,
      "outputs": [
        {
          "output_type": "stream",
          "text": [
            "London\n"
          ],
          "name": "stdout"
        }
      ]
    },
    {
      "cell_type": "markdown",
      "metadata": {
        "id": "gd3bKDxjqLa1"
      },
      "source": [
        "#Display the values of the \"lat\" and \"lon\" attributes of the \"coord\" element contained in the root"
      ]
    },
    {
      "cell_type": "code",
      "metadata": {
        "colab": {
          "base_uri": "https://localhost:8080/"
        },
        "id": "9Jc8f_aVqQXo",
        "outputId": "e5858838-88ae-49d9-b1c1-1df0ceed0199"
      },
      "source": [
        "for val in data['coord']:\r\n",
        "  print(val, data['coord'][val])"
      ],
      "execution_count": null,
      "outputs": [
        {
          "output_type": "stream",
          "text": [
            "lon -0.13\n",
            "lat 51.51\n"
          ],
          "name": "stdout"
        }
      ]
    },
    {
      "cell_type": "markdown",
      "metadata": {
        "id": "f4EnNxbKqzCl"
      },
      "source": [
        "#Browse all items in \"weather\" and display the contents of \"main\" (maybe with a loop ?)"
      ]
    },
    {
      "cell_type": "code",
      "metadata": {
        "colab": {
          "base_uri": "https://localhost:8080/"
        },
        "id": "BPWlOUN0q-lk",
        "outputId": "15494cbb-9631-497e-f19b-e7f61a4b66f1"
      },
      "source": [
        "for item in data['weather']:\r\n",
        "  print('Weather', item['main'])"
      ],
      "execution_count": null,
      "outputs": [
        {
          "output_type": "stream",
          "text": [
            "Weather Drizzle\n",
            "Weather Clear\n"
          ],
          "name": "stdout"
        }
      ]
    },
    {
      "cell_type": "markdown",
      "metadata": {
        "id": "Yarty6LJroa1"
      },
      "source": [
        "#Now try to import your json file in pandas"
      ]
    },
    {
      "cell_type": "code",
      "metadata": {
        "id": "PoG4dHUesHUd"
      },
      "source": [
        "import pandas as pd"
      ],
      "execution_count": null,
      "outputs": []
    },
    {
      "cell_type": "code",
      "metadata": {
        "colab": {
          "base_uri": "https://localhost:8080/",
          "height": 147
        },
        "id": "Mi6LwNR5sDNu",
        "outputId": "0c8b2d12-0fde-4b41-fff4-62482e411462"
      },
      "source": [
        "# You can directly read JSON from your request object\r\n",
        "print(r.json())\r\n",
        "\r\n",
        "# And you can import JSON object to pandas\r\n",
        "pd.json_normalize(r.json())\r\n",
        "\r\n",
        "# You can scroll with the record_path argument\r\n",
        "# and keep some information with meta argument\r\n",
        "pd.json_normalize(r.json(),  \r\n",
        "                  record_path= \"weather\",\r\n",
        "                  meta = 'dt')"
      ],
      "execution_count": null,
      "outputs": [
        {
          "output_type": "stream",
          "text": [
            "{'coord': {'lon': -0.13, 'lat': 51.51}, 'weather': [{'id': 300, 'main': 'Drizzle', 'description': 'light intensity drizzle', 'icon': '09d'}, {'id': 800, 'main': 'Clear', 'description': 'clear sky', 'icon': '01n'}], 'base': 'stations', 'main': {'temp': 280.32, 'pressure': 1012, 'humidity': 81, 'temp_min': 279.15, 'temp_max': 281.15}, 'visibility': 10000, 'wind': {'speed': 4.1, 'deg': 80}, 'clouds': {'all': 90}, 'dt': 1485789600, 'sys': {'type': 1, 'id': 5091, 'message': 0.0103, 'country': 'GB', 'sunrise': 1485762037, 'sunset': 1485794875}, 'id': 2643743, 'name': 'London', 'cod': 200}\n"
          ],
          "name": "stdout"
        },
        {
          "output_type": "execute_result",
          "data": {
            "text/html": [
              "<div>\n",
              "<style scoped>\n",
              "    .dataframe tbody tr th:only-of-type {\n",
              "        vertical-align: middle;\n",
              "    }\n",
              "\n",
              "    .dataframe tbody tr th {\n",
              "        vertical-align: top;\n",
              "    }\n",
              "\n",
              "    .dataframe thead th {\n",
              "        text-align: right;\n",
              "    }\n",
              "</style>\n",
              "<table border=\"1\" class=\"dataframe\">\n",
              "  <thead>\n",
              "    <tr style=\"text-align: right;\">\n",
              "      <th></th>\n",
              "      <th>id</th>\n",
              "      <th>main</th>\n",
              "      <th>description</th>\n",
              "      <th>icon</th>\n",
              "      <th>dt</th>\n",
              "    </tr>\n",
              "  </thead>\n",
              "  <tbody>\n",
              "    <tr>\n",
              "      <th>0</th>\n",
              "      <td>300</td>\n",
              "      <td>Drizzle</td>\n",
              "      <td>light intensity drizzle</td>\n",
              "      <td>09d</td>\n",
              "      <td>1485789600</td>\n",
              "    </tr>\n",
              "    <tr>\n",
              "      <th>1</th>\n",
              "      <td>800</td>\n",
              "      <td>Clear</td>\n",
              "      <td>clear sky</td>\n",
              "      <td>01n</td>\n",
              "      <td>1485789600</td>\n",
              "    </tr>\n",
              "  </tbody>\n",
              "</table>\n",
              "</div>"
            ],
            "text/plain": [
              "    id     main              description icon          dt\n",
              "0  300  Drizzle  light intensity drizzle  09d  1485789600\n",
              "1  800    Clear                clear sky  01n  1485789600"
            ]
          },
          "metadata": {
            "tags": []
          },
          "execution_count": 81
        }
      ]
    },
    {
      "cell_type": "markdown",
      "metadata": {
        "id": "KbO_rxhosnVl"
      },
      "source": [
        "#Display the following columns : main (inside weather), name, and visibility."
      ]
    },
    {
      "cell_type": "code",
      "metadata": {
        "colab": {
          "base_uri": "https://localhost:8080/",
          "height": 108
        },
        "id": "9oF5wI1gswAd",
        "outputId": "c8a1e497-3b19-45e6-d58f-ff0b5552700c"
      },
      "source": [
        "pd.json_normalize(r.json(), 'weather', ['name', 'visibility']).drop(['id', 'icon'], axis=1)"
      ],
      "execution_count": null,
      "outputs": [
        {
          "output_type": "execute_result",
          "data": {
            "text/html": [
              "<div>\n",
              "<style scoped>\n",
              "    .dataframe tbody tr th:only-of-type {\n",
              "        vertical-align: middle;\n",
              "    }\n",
              "\n",
              "    .dataframe tbody tr th {\n",
              "        vertical-align: top;\n",
              "    }\n",
              "\n",
              "    .dataframe thead th {\n",
              "        text-align: right;\n",
              "    }\n",
              "</style>\n",
              "<table border=\"1\" class=\"dataframe\">\n",
              "  <thead>\n",
              "    <tr style=\"text-align: right;\">\n",
              "      <th></th>\n",
              "      <th>main</th>\n",
              "      <th>description</th>\n",
              "      <th>name</th>\n",
              "      <th>visibility</th>\n",
              "    </tr>\n",
              "  </thead>\n",
              "  <tbody>\n",
              "    <tr>\n",
              "      <th>0</th>\n",
              "      <td>Drizzle</td>\n",
              "      <td>light intensity drizzle</td>\n",
              "      <td>London</td>\n",
              "      <td>10000</td>\n",
              "    </tr>\n",
              "    <tr>\n",
              "      <th>1</th>\n",
              "      <td>Clear</td>\n",
              "      <td>clear sky</td>\n",
              "      <td>London</td>\n",
              "      <td>10000</td>\n",
              "    </tr>\n",
              "  </tbody>\n",
              "</table>\n",
              "</div>"
            ],
            "text/plain": [
              "      main              description    name visibility\n",
              "0  Drizzle  light intensity drizzle  London      10000\n",
              "1    Clear                clear sky  London      10000"
            ]
          },
          "metadata": {
            "tags": []
          },
          "execution_count": 82
        }
      ]
    },
    {
      "cell_type": "markdown",
      "metadata": {
        "id": "afSrWdEG2lqW"
      },
      "source": [
        "#notes"
      ]
    },
    {
      "cell_type": "code",
      "metadata": {
        "colab": {
          "base_uri": "https://localhost:8080/",
          "height": 198
        },
        "id": "ubJKwSGKuGit",
        "outputId": "6fecf9dc-6623-4db7-9e04-afa5b3b28466"
      },
      "source": [
        "data = [{'state': 'Florida',\r\n",
        "         'shortname': 'FL',\r\n",
        "         'info': {'governor': 'Rick Scott'},\r\n",
        "         'counties': [{'name': 'Dade', 'population': 12345},\r\n",
        "                      {'name': 'Broward', 'population': 40000},\r\n",
        "                      {'name': 'Palm Beach', 'population': 60000}]},\r\n",
        "        {'state': 'Ohio',\r\n",
        "         'shortname': 'OH',\r\n",
        "         'info': {'governor': 'John Kasich'},\r\n",
        "         'counties': [{'name': 'Summit', 'population': 1234},\r\n",
        "                      {'name': 'Cuyahoga', 'population': 1337}]}]\r\n",
        "\r\n",
        "result = pd.json_normalize(data, 'counties', ['state', 'shortname',\r\n",
        "                                           ['info', 'governor']])\r\n",
        "\r\n",
        "result"
      ],
      "execution_count": null,
      "outputs": [
        {
          "output_type": "execute_result",
          "data": {
            "text/html": [
              "<div>\n",
              "<style scoped>\n",
              "    .dataframe tbody tr th:only-of-type {\n",
              "        vertical-align: middle;\n",
              "    }\n",
              "\n",
              "    .dataframe tbody tr th {\n",
              "        vertical-align: top;\n",
              "    }\n",
              "\n",
              "    .dataframe thead th {\n",
              "        text-align: right;\n",
              "    }\n",
              "</style>\n",
              "<table border=\"1\" class=\"dataframe\">\n",
              "  <thead>\n",
              "    <tr style=\"text-align: right;\">\n",
              "      <th></th>\n",
              "      <th>name</th>\n",
              "      <th>population</th>\n",
              "      <th>state</th>\n",
              "      <th>shortname</th>\n",
              "      <th>info.governor</th>\n",
              "    </tr>\n",
              "  </thead>\n",
              "  <tbody>\n",
              "    <tr>\n",
              "      <th>0</th>\n",
              "      <td>Dade</td>\n",
              "      <td>12345</td>\n",
              "      <td>Florida</td>\n",
              "      <td>FL</td>\n",
              "      <td>Rick Scott</td>\n",
              "    </tr>\n",
              "    <tr>\n",
              "      <th>1</th>\n",
              "      <td>Broward</td>\n",
              "      <td>40000</td>\n",
              "      <td>Florida</td>\n",
              "      <td>FL</td>\n",
              "      <td>Rick Scott</td>\n",
              "    </tr>\n",
              "    <tr>\n",
              "      <th>2</th>\n",
              "      <td>Palm Beach</td>\n",
              "      <td>60000</td>\n",
              "      <td>Florida</td>\n",
              "      <td>FL</td>\n",
              "      <td>Rick Scott</td>\n",
              "    </tr>\n",
              "    <tr>\n",
              "      <th>3</th>\n",
              "      <td>Summit</td>\n",
              "      <td>1234</td>\n",
              "      <td>Ohio</td>\n",
              "      <td>OH</td>\n",
              "      <td>John Kasich</td>\n",
              "    </tr>\n",
              "    <tr>\n",
              "      <th>4</th>\n",
              "      <td>Cuyahoga</td>\n",
              "      <td>1337</td>\n",
              "      <td>Ohio</td>\n",
              "      <td>OH</td>\n",
              "      <td>John Kasich</td>\n",
              "    </tr>\n",
              "  </tbody>\n",
              "</table>\n",
              "</div>"
            ],
            "text/plain": [
              "         name  population    state shortname info.governor\n",
              "0        Dade       12345  Florida        FL    Rick Scott\n",
              "1     Broward       40000  Florida        FL    Rick Scott\n",
              "2  Palm Beach       60000  Florida        FL    Rick Scott\n",
              "3      Summit        1234     Ohio        OH   John Kasich\n",
              "4    Cuyahoga        1337     Ohio        OH   John Kasich"
            ]
          },
          "metadata": {
            "tags": []
          },
          "execution_count": 30
        }
      ]
    },
    {
      "cell_type": "code",
      "metadata": {
        "id": "eX4kOVpJpOSG"
      },
      "source": [
        "from pprint import pprint"
      ],
      "execution_count": null,
      "outputs": []
    },
    {
      "cell_type": "code",
      "metadata": {
        "colab": {
          "base_uri": "https://localhost:8080/"
        },
        "id": "6nr8dU74pQ-c",
        "outputId": "a808bb21-f323-4dce-93dc-9c50b657364d"
      },
      "source": [
        "pprint(data)"
      ],
      "execution_count": null,
      "outputs": [
        {
          "output_type": "stream",
          "text": [
            "{'base': 'stations',\n",
            " 'clouds': {'all': 90},\n",
            " 'cod': 200,\n",
            " 'coord': {'lat': 51.51, 'lon': -0.13},\n",
            " 'dt': 1485789600,\n",
            " 'id': 2643743,\n",
            " 'main': {'humidity': 81,\n",
            "          'pressure': 1012,\n",
            "          'temp': 280.32,\n",
            "          'temp_max': 281.15,\n",
            "          'temp_min': 279.15},\n",
            " 'name': 'London',\n",
            " 'sys': {'country': 'GB',\n",
            "         'id': 5091,\n",
            "         'message': 0.0103,\n",
            "         'sunrise': 1485762037,\n",
            "         'sunset': 1485794875,\n",
            "         'type': 1},\n",
            " 'visibility': 10000,\n",
            " 'weather': [{'description': 'light intensity drizzle',\n",
            "              'icon': '09d',\n",
            "              'id': 300,\n",
            "              'main': 'Drizzle'},\n",
            "             {'description': 'clear sky',\n",
            "              'icon': '01n',\n",
            "              'id': 800,\n",
            "              'main': 'Clear'}],\n",
            " 'wind': {'deg': 80, 'speed': 4.1}}\n"
          ],
          "name": "stdout"
        }
      ]
    },
    {
      "cell_type": "code",
      "metadata": {
        "id": "mGA_v9F5qFDG"
      },
      "source": [
        ""
      ],
      "execution_count": null,
      "outputs": []
    }
  ]
}