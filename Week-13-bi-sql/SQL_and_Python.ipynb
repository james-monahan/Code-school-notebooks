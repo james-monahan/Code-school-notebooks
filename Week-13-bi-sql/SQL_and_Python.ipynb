{
  "nbformat": 4,
  "nbformat_minor": 0,
  "metadata": {
    "colab": {
      "name": "jpm Copy of SQL and Python.ipynb",
      "provenance": [],
      "collapsed_sections": [],
      "include_colab_link": true
    },
    "kernelspec": {
      "name": "python3",
      "display_name": "Python 3"
    }
  },
  "cells": [
    {
      "cell_type": "markdown",
      "metadata": {
        "id": "view-in-github",
        "colab_type": "text"
      },
      "source": [
        "<a href=\"https://colab.research.google.com/github/james-monahan/Code-school-notebooks/blob/main/Week-13-bi-sql/SQL_and_Python.ipynb\" target=\"_parent\"><img src=\"https://colab.research.google.com/assets/colab-badge.svg\" alt=\"Open In Colab\"/></a>"
      ]
    },
    {
      "cell_type": "markdown",
      "metadata": {
        "id": "8issOq94JffF"
      },
      "source": [
        "# Introduction\n",
        "\n",
        "SQL is based on a client-server architecture. \n",
        "\n",
        "\n",
        "Python can connect with every SQL databases (Oracle MySQL, Microsoft, etc...). SQLite is a little bit particular : it is a little file, who can play the server role, without username and password. It will be helpful for this quest. But keep in mind that you could connect your Python script with other databases, following the same steps."
      ]
    },
    {
      "cell_type": "code",
      "metadata": {
        "id": "0O5FRHymZMWb",
        "colab": {
          "base_uri": "https://localhost:8080/"
        },
        "outputId": "69f2d366-d074-4843-c2e8-2104510b2bbc"
      },
      "source": [
        "# Here we just import the SQLite file. This part is specific for SQLite.\n",
        "import requests\n",
        "r = requests.get('https://raw.githubusercontent.com/murpi/wilddata/master/quests/toys_and_models.sqlite')\n",
        "open('toys_and_models.sqlite', 'wb').write(r.content)"
      ],
      "execution_count": null,
      "outputs": [
        {
          "output_type": "execute_result",
          "data": {
            "text/plain": [
              "307200"
            ]
          },
          "metadata": {
            "tags": []
          },
          "execution_count": 1
        }
      ]
    },
    {
      "cell_type": "code",
      "metadata": {
        "colab": {
          "base_uri": "https://localhost:8080/"
        },
        "id": "L6P1NFt7bfrd",
        "outputId": "cb405092-8ff1-45a6-9eac-1748fb49e8f6"
      },
      "source": [
        "!ls"
      ],
      "execution_count": null,
      "outputs": [
        {
          "output_type": "stream",
          "text": [
            "sample_data  toys_and_models.sqlite\n"
          ],
          "name": "stdout"
        }
      ]
    },
    {
      "cell_type": "code",
      "metadata": {
        "id": "gkcJBWOPU10l"
      },
      "source": [
        "# This part is common : we have to initiate a connection between Python and the SQL Database\n",
        "import sqlite3\n",
        "\n",
        "# This is the \"connector\". For secured database, it will be here that  you indicate your username and password.\n",
        "conn = sqlite3.connect('toys_and_models.sqlite')\n",
        "\n",
        "# This is the \"cursor\". A cursor is an object that can execute a query and retrieve the content of the result.\n",
        "cursor = conn.cursor()\n"
      ],
      "execution_count": null,
      "outputs": []
    },
    {
      "cell_type": "code",
      "metadata": {
        "id": "yWk2u9vtVASQ",
        "colab": {
          "base_uri": "https://localhost:8080/"
        },
        "outputId": "05c5c9cc-7684-4008-f119-18622c55b148"
      },
      "source": [
        "# You can execute a query.\n",
        "# The result is returned line by line. You can \"fetch all\" lines.\n",
        "cursor.execute(\"select * from productlines\").fetchall()"
      ],
      "execution_count": null,
      "outputs": [
        {
          "output_type": "execute_result",
          "data": {
            "text/plain": [
              "[('Classic Cars',\n",
              "  'Attention car enthusiasts: Make your wildest car ownership dreams come true. Whether you are looking for classic muscle cars, dream sports cars or movie-inspired miniatures, you will find great choices in this category. These replicas feature superb attention to detail and craftsmanship and offer features such as working steering system, opening forward compartment, opening rear trunk with removable spare wheel, 4-wheel independent spring suspension, and so on. The models range in size from 1:10 to 1:24 scale and include numerous limited edition and several out-of-production vehicles. All models include a certificate of authenticity from their manufacturers and come fully assembled and ready for display in the home or office.',\n",
              "  None,\n",
              "  None),\n",
              " ('Motorcycles',\n",
              "  'Our motorcycles are state of the art replicas of classic as well as contemporary motorcycle legends such as Harley Davidson, Ducati and Vespa. Models contain stunning details such as official logos, rotating wheels, working kickstand, front suspension, gear-shift lever, footbrake lever, and drive chain. Materials used include diecast and plastic. The models range in size from 1:10 to 1:50 scale and include numerous limited edition and several out-of-production vehicles. All models come fully assembled and ready for display in the home or office. Most include a certificate of authenticity.',\n",
              "  None,\n",
              "  None),\n",
              " ('Planes',\n",
              "  'Unique, diecast airplane and helicopter replicas suitable for collections, as well as home, office or classroom decorations. Models contain stunning details such as official logos and insignias, rotating jet engines and propellers, retractable wheels, and so on. Most come fully assembled and with a certificate of authenticity from their manufacturers.',\n",
              "  None,\n",
              "  None),\n",
              " ('Ships',\n",
              "  'The perfect holiday or anniversary gift for executives, clients, friends, and family. These handcrafted model ships are unique, stunning works of art that will be treasured for generations! They come fully assembled and ready for display in the home or office. We guarantee the highest quality, and best value.',\n",
              "  None,\n",
              "  None),\n",
              " ('Trains',\n",
              "  'Model trains are a rewarding hobby for enthusiasts of all ages. Whether youre looking for collectible wooden trains, electric streetcars or locomotives, youll find a number of great choices for any budget within this category. The interactive aspect of trains makes toy trains perfect for young children. The wooden train sets are ideal for children under the age of 5.',\n",
              "  None,\n",
              "  None),\n",
              " ('Trucks and Buses',\n",
              "  'The Truck and Bus models are realistic replicas of buses and specialized trucks produced from the early 1920s to present. The models range in size from 1:12 to 1:50 scale and include numerous limited edition and several out-of-production vehicles. Materials used include tin, diecast and plastic. All models include a certificate of authenticity from their manufacturers and are a perfect ornament for the home and office.',\n",
              "  None,\n",
              "  None),\n",
              " ('Vintage Cars',\n",
              "  'Our Vintage Car models realistically portray automobiles produced from the early 1900s through the 1940s. Materials used include Bakelite, diecast, plastic and wood. Most of the replicas are in the 1:18 and 1:24 scale sizes, which provide the optimum in detail and accuracy. Prices range from $30.00 up to $180.00 for some special limited edition replicas. All models include a certificate of authenticity from their manufacturers and come fully assembled and ready for display in the home or office.',\n",
              "  None,\n",
              "  None)]"
            ]
          },
          "metadata": {
            "tags": []
          },
          "execution_count": 4
        }
      ]
    },
    {
      "cell_type": "code",
      "metadata": {
        "id": "m2IQIeQtVJo2",
        "colab": {
          "base_uri": "https://localhost:8080/",
          "height": 266
        },
        "outputId": "204ceff4-4fc8-44cf-c961-6828d4cf8bd6"
      },
      "source": [
        "# Pandas can import the result of a query\n",
        "import pandas as pd\n",
        "pd.DataFrame(cursor.execute(\"select * from productlines\").fetchall())"
      ],
      "execution_count": null,
      "outputs": [
        {
          "output_type": "execute_result",
          "data": {
            "text/html": [
              "<div>\n",
              "<style scoped>\n",
              "    .dataframe tbody tr th:only-of-type {\n",
              "        vertical-align: middle;\n",
              "    }\n",
              "\n",
              "    .dataframe tbody tr th {\n",
              "        vertical-align: top;\n",
              "    }\n",
              "\n",
              "    .dataframe thead th {\n",
              "        text-align: right;\n",
              "    }\n",
              "</style>\n",
              "<table border=\"1\" class=\"dataframe\">\n",
              "  <thead>\n",
              "    <tr style=\"text-align: right;\">\n",
              "      <th></th>\n",
              "      <th>0</th>\n",
              "      <th>1</th>\n",
              "      <th>2</th>\n",
              "      <th>3</th>\n",
              "    </tr>\n",
              "  </thead>\n",
              "  <tbody>\n",
              "    <tr>\n",
              "      <th>0</th>\n",
              "      <td>Classic Cars</td>\n",
              "      <td>Attention car enthusiasts: Make your wildest c...</td>\n",
              "      <td>None</td>\n",
              "      <td>None</td>\n",
              "    </tr>\n",
              "    <tr>\n",
              "      <th>1</th>\n",
              "      <td>Motorcycles</td>\n",
              "      <td>Our motorcycles are state of the art replicas ...</td>\n",
              "      <td>None</td>\n",
              "      <td>None</td>\n",
              "    </tr>\n",
              "    <tr>\n",
              "      <th>2</th>\n",
              "      <td>Planes</td>\n",
              "      <td>Unique, diecast airplane and helicopter replic...</td>\n",
              "      <td>None</td>\n",
              "      <td>None</td>\n",
              "    </tr>\n",
              "    <tr>\n",
              "      <th>3</th>\n",
              "      <td>Ships</td>\n",
              "      <td>The perfect holiday or anniversary gift for ex...</td>\n",
              "      <td>None</td>\n",
              "      <td>None</td>\n",
              "    </tr>\n",
              "    <tr>\n",
              "      <th>4</th>\n",
              "      <td>Trains</td>\n",
              "      <td>Model trains are a rewarding hobby for enthusi...</td>\n",
              "      <td>None</td>\n",
              "      <td>None</td>\n",
              "    </tr>\n",
              "    <tr>\n",
              "      <th>5</th>\n",
              "      <td>Trucks and Buses</td>\n",
              "      <td>The Truck and Bus models are realistic replica...</td>\n",
              "      <td>None</td>\n",
              "      <td>None</td>\n",
              "    </tr>\n",
              "    <tr>\n",
              "      <th>6</th>\n",
              "      <td>Vintage Cars</td>\n",
              "      <td>Our Vintage Car models realistically portray a...</td>\n",
              "      <td>None</td>\n",
              "      <td>None</td>\n",
              "    </tr>\n",
              "  </tbody>\n",
              "</table>\n",
              "</div>"
            ],
            "text/plain": [
              "                  0  ...     3\n",
              "0      Classic Cars  ...  None\n",
              "1       Motorcycles  ...  None\n",
              "2            Planes  ...  None\n",
              "3             Ships  ...  None\n",
              "4            Trains  ...  None\n",
              "5  Trucks and Buses  ...  None\n",
              "6      Vintage Cars  ...  None\n",
              "\n",
              "[7 rows x 4 columns]"
            ]
          },
          "metadata": {
            "tags": []
          },
          "execution_count": 5
        }
      ]
    },
    {
      "cell_type": "code",
      "metadata": {
        "id": "rB6VwtNWJVEC",
        "colab": {
          "base_uri": "https://localhost:8080/",
          "height": 266
        },
        "outputId": "391c08e0-46b1-4382-fae4-31a51da978bb"
      },
      "source": [
        "# But it could be easier : you can use the pandas read_sql function.\n",
        "pd.read_sql(\"select * from productlines\", conn)"
      ],
      "execution_count": null,
      "outputs": [
        {
          "output_type": "execute_result",
          "data": {
            "text/html": [
              "<div>\n",
              "<style scoped>\n",
              "    .dataframe tbody tr th:only-of-type {\n",
              "        vertical-align: middle;\n",
              "    }\n",
              "\n",
              "    .dataframe tbody tr th {\n",
              "        vertical-align: top;\n",
              "    }\n",
              "\n",
              "    .dataframe thead th {\n",
              "        text-align: right;\n",
              "    }\n",
              "</style>\n",
              "<table border=\"1\" class=\"dataframe\">\n",
              "  <thead>\n",
              "    <tr style=\"text-align: right;\">\n",
              "      <th></th>\n",
              "      <th>productLine</th>\n",
              "      <th>textDescription</th>\n",
              "      <th>htmlDescription</th>\n",
              "      <th>image</th>\n",
              "    </tr>\n",
              "  </thead>\n",
              "  <tbody>\n",
              "    <tr>\n",
              "      <th>0</th>\n",
              "      <td>Classic Cars</td>\n",
              "      <td>Attention car enthusiasts: Make your wildest c...</td>\n",
              "      <td>None</td>\n",
              "      <td>None</td>\n",
              "    </tr>\n",
              "    <tr>\n",
              "      <th>1</th>\n",
              "      <td>Motorcycles</td>\n",
              "      <td>Our motorcycles are state of the art replicas ...</td>\n",
              "      <td>None</td>\n",
              "      <td>None</td>\n",
              "    </tr>\n",
              "    <tr>\n",
              "      <th>2</th>\n",
              "      <td>Planes</td>\n",
              "      <td>Unique, diecast airplane and helicopter replic...</td>\n",
              "      <td>None</td>\n",
              "      <td>None</td>\n",
              "    </tr>\n",
              "    <tr>\n",
              "      <th>3</th>\n",
              "      <td>Ships</td>\n",
              "      <td>The perfect holiday or anniversary gift for ex...</td>\n",
              "      <td>None</td>\n",
              "      <td>None</td>\n",
              "    </tr>\n",
              "    <tr>\n",
              "      <th>4</th>\n",
              "      <td>Trains</td>\n",
              "      <td>Model trains are a rewarding hobby for enthusi...</td>\n",
              "      <td>None</td>\n",
              "      <td>None</td>\n",
              "    </tr>\n",
              "    <tr>\n",
              "      <th>5</th>\n",
              "      <td>Trucks and Buses</td>\n",
              "      <td>The Truck and Bus models are realistic replica...</td>\n",
              "      <td>None</td>\n",
              "      <td>None</td>\n",
              "    </tr>\n",
              "    <tr>\n",
              "      <th>6</th>\n",
              "      <td>Vintage Cars</td>\n",
              "      <td>Our Vintage Car models realistically portray a...</td>\n",
              "      <td>None</td>\n",
              "      <td>None</td>\n",
              "    </tr>\n",
              "  </tbody>\n",
              "</table>\n",
              "</div>"
            ],
            "text/plain": [
              "        productLine  ... image\n",
              "0      Classic Cars  ...  None\n",
              "1       Motorcycles  ...  None\n",
              "2            Planes  ...  None\n",
              "3             Ships  ...  None\n",
              "4            Trains  ...  None\n",
              "5  Trucks and Buses  ...  None\n",
              "6      Vintage Cars  ...  None\n",
              "\n",
              "[7 rows x 4 columns]"
            ]
          },
          "metadata": {
            "tags": []
          },
          "execution_count": 6
        }
      ]
    },
    {
      "cell_type": "code",
      "metadata": {
        "id": "42eFSkYpXyeH",
        "colab": {
          "base_uri": "https://localhost:8080/",
          "height": 297
        },
        "outputId": "5c0918ea-751e-4773-e74a-43ed0c3aba51"
      },
      "source": [
        "# Here is the schema of the database\n",
        "pd.read_sql(\"SELECT * FROM sqlite_master where type = 'table'\", conn)"
      ],
      "execution_count": null,
      "outputs": [
        {
          "output_type": "execute_result",
          "data": {
            "text/html": [
              "<div>\n",
              "<style scoped>\n",
              "    .dataframe tbody tr th:only-of-type {\n",
              "        vertical-align: middle;\n",
              "    }\n",
              "\n",
              "    .dataframe tbody tr th {\n",
              "        vertical-align: top;\n",
              "    }\n",
              "\n",
              "    .dataframe thead th {\n",
              "        text-align: right;\n",
              "    }\n",
              "</style>\n",
              "<table border=\"1\" class=\"dataframe\">\n",
              "  <thead>\n",
              "    <tr style=\"text-align: right;\">\n",
              "      <th></th>\n",
              "      <th>type</th>\n",
              "      <th>name</th>\n",
              "      <th>tbl_name</th>\n",
              "      <th>rootpage</th>\n",
              "      <th>sql</th>\n",
              "    </tr>\n",
              "  </thead>\n",
              "  <tbody>\n",
              "    <tr>\n",
              "      <th>0</th>\n",
              "      <td>table</td>\n",
              "      <td>customers</td>\n",
              "      <td>customers</td>\n",
              "      <td>2</td>\n",
              "      <td>CREATE TABLE `customers` (\\n  `customerNumber`...</td>\n",
              "    </tr>\n",
              "    <tr>\n",
              "      <th>1</th>\n",
              "      <td>table</td>\n",
              "      <td>employees</td>\n",
              "      <td>employees</td>\n",
              "      <td>8</td>\n",
              "      <td>CREATE TABLE `employees` (\\n  `employeeNumber`...</td>\n",
              "    </tr>\n",
              "    <tr>\n",
              "      <th>2</th>\n",
              "      <td>table</td>\n",
              "      <td>offices</td>\n",
              "      <td>offices</td>\n",
              "      <td>10</td>\n",
              "      <td>CREATE TABLE `offices` (\\n  `officeCode` varch...</td>\n",
              "    </tr>\n",
              "    <tr>\n",
              "      <th>3</th>\n",
              "      <td>table</td>\n",
              "      <td>orderdetails</td>\n",
              "      <td>orderdetails</td>\n",
              "      <td>12</td>\n",
              "      <td>CREATE TABLE `orderdetails` (\\n  `orderNumber`...</td>\n",
              "    </tr>\n",
              "    <tr>\n",
              "      <th>4</th>\n",
              "      <td>table</td>\n",
              "      <td>orders</td>\n",
              "      <td>orders</td>\n",
              "      <td>49</td>\n",
              "      <td>CREATE TABLE `orders` (\\n  `orderNumber` int(1...</td>\n",
              "    </tr>\n",
              "    <tr>\n",
              "      <th>5</th>\n",
              "      <td>table</td>\n",
              "      <td>payments</td>\n",
              "      <td>payments</td>\n",
              "      <td>57</td>\n",
              "      <td>CREATE TABLE `payments` (\\n  `customerNumber` ...</td>\n",
              "    </tr>\n",
              "    <tr>\n",
              "      <th>6</th>\n",
              "      <td>table</td>\n",
              "      <td>productlines</td>\n",
              "      <td>productlines</td>\n",
              "      <td>64</td>\n",
              "      <td>CREATE TABLE `productlines` (\\n  `productLine`...</td>\n",
              "    </tr>\n",
              "    <tr>\n",
              "      <th>7</th>\n",
              "      <td>table</td>\n",
              "      <td>products</td>\n",
              "      <td>products</td>\n",
              "      <td>66</td>\n",
              "      <td>CREATE TABLE `products` (\\n  `productCode` var...</td>\n",
              "    </tr>\n",
              "  </tbody>\n",
              "</table>\n",
              "</div>"
            ],
            "text/plain": [
              "    type  ...                                                sql\n",
              "0  table  ...  CREATE TABLE `customers` (\\n  `customerNumber`...\n",
              "1  table  ...  CREATE TABLE `employees` (\\n  `employeeNumber`...\n",
              "2  table  ...  CREATE TABLE `offices` (\\n  `officeCode` varch...\n",
              "3  table  ...  CREATE TABLE `orderdetails` (\\n  `orderNumber`...\n",
              "4  table  ...  CREATE TABLE `orders` (\\n  `orderNumber` int(1...\n",
              "5  table  ...  CREATE TABLE `payments` (\\n  `customerNumber` ...\n",
              "6  table  ...  CREATE TABLE `productlines` (\\n  `productLine`...\n",
              "7  table  ...  CREATE TABLE `products` (\\n  `productCode` var...\n",
              "\n",
              "[8 rows x 5 columns]"
            ]
          },
          "metadata": {
            "tags": []
          },
          "execution_count": 7
        }
      ]
    },
    {
      "cell_type": "markdown",
      "metadata": {
        "id": "Bo7f0F72OeIQ"
      },
      "source": [
        "![Texte alternatif…](https://sp.mysqltutorial.org/wp-content/uploads/2009/12/MySQL-Sample-Database-Schema.png)"
      ]
    },
    {
      "cell_type": "markdown",
      "metadata": {
        "id": "bo0X_LdZRWnI"
      },
      "source": [
        "# It's your turn\n",
        "\n",
        "- First you have to create a DataFrame with the 5 most ordered productcodes\n",
        "- Then you have to create a second DataFrame with stocks by products\n",
        "- Finally, you will make a merge (with Pandas) between both DataFrame to display the stocks of the 5 most ordered products "
      ]
    },
    {
      "cell_type": "code",
      "metadata": {
        "colab": {
          "base_uri": "https://localhost:8080/",
          "height": 204
        },
        "id": "vbhcmyXdc_uK",
        "outputId": "77b862a3-22c9-4d19-b6dd-6d27e20ee782"
      },
      "source": [
        "top_5 = pd.read_sql(\"select productCode, SUM(quantityOrdered) AS TotalOrdered from orderdetails  \\\r\n",
        "            GROUP BY quantityOrdered \\\r\n",
        "            ORDER BY TotalOrdered DESC \\\r\n",
        "            LIMIT 5\", conn)\r\n",
        "top_5"
      ],
      "execution_count": null,
      "outputs": [
        {
          "output_type": "execute_result",
          "data": {
            "text/html": [
              "<div>\n",
              "<style scoped>\n",
              "    .dataframe tbody tr th:only-of-type {\n",
              "        vertical-align: middle;\n",
              "    }\n",
              "\n",
              "    .dataframe tbody tr th {\n",
              "        vertical-align: top;\n",
              "    }\n",
              "\n",
              "    .dataframe thead th {\n",
              "        text-align: right;\n",
              "    }\n",
              "</style>\n",
              "<table border=\"1\" class=\"dataframe\">\n",
              "  <thead>\n",
              "    <tr style=\"text-align: right;\">\n",
              "      <th></th>\n",
              "      <th>productCode</th>\n",
              "      <th>TotalOrdered</th>\n",
              "    </tr>\n",
              "  </thead>\n",
              "  <tbody>\n",
              "    <tr>\n",
              "      <th>0</th>\n",
              "      <td>S32_3522</td>\n",
              "      <td>4464</td>\n",
              "    </tr>\n",
              "    <tr>\n",
              "      <th>1</th>\n",
              "      <td>S24_3371</td>\n",
              "      <td>4416</td>\n",
              "    </tr>\n",
              "    <tr>\n",
              "      <th>2</th>\n",
              "      <td>S18_4721</td>\n",
              "      <td>4214</td>\n",
              "    </tr>\n",
              "    <tr>\n",
              "      <th>3</th>\n",
              "      <td>S12_1099</td>\n",
              "      <td>3870</td>\n",
              "    </tr>\n",
              "    <tr>\n",
              "      <th>4</th>\n",
              "      <td>S24_3191</td>\n",
              "      <td>3828</td>\n",
              "    </tr>\n",
              "  </tbody>\n",
              "</table>\n",
              "</div>"
            ],
            "text/plain": [
              "  productCode  TotalOrdered\n",
              "0    S32_3522          4464\n",
              "1    S24_3371          4416\n",
              "2    S18_4721          4214\n",
              "3    S12_1099          3870\n",
              "4    S24_3191          3828"
            ]
          },
          "metadata": {
            "tags": []
          },
          "execution_count": 34
        }
      ]
    },
    {
      "cell_type": "code",
      "metadata": {
        "id": "wESXZ3N8YngK",
        "colab": {
          "base_uri": "https://localhost:8080/",
          "height": 204
        },
        "outputId": "5147d266-1817-4cc3-db73-52bcf1cf0001"
      },
      "source": [
        "# Your code here :\n",
        "in_stock = pd.read_sql(\"select productCode, SUM(quantityInStock) AS TotalStock from products \\\n",
        "            GROUP BY productCode\", conn)\n",
        "in_stock.head()"
      ],
      "execution_count": null,
      "outputs": [
        {
          "output_type": "execute_result",
          "data": {
            "text/html": [
              "<div>\n",
              "<style scoped>\n",
              "    .dataframe tbody tr th:only-of-type {\n",
              "        vertical-align: middle;\n",
              "    }\n",
              "\n",
              "    .dataframe tbody tr th {\n",
              "        vertical-align: top;\n",
              "    }\n",
              "\n",
              "    .dataframe thead th {\n",
              "        text-align: right;\n",
              "    }\n",
              "</style>\n",
              "<table border=\"1\" class=\"dataframe\">\n",
              "  <thead>\n",
              "    <tr style=\"text-align: right;\">\n",
              "      <th></th>\n",
              "      <th>productCode</th>\n",
              "      <th>TotalStock</th>\n",
              "    </tr>\n",
              "  </thead>\n",
              "  <tbody>\n",
              "    <tr>\n",
              "      <th>0</th>\n",
              "      <td>S10_1678</td>\n",
              "      <td>7933</td>\n",
              "    </tr>\n",
              "    <tr>\n",
              "      <th>1</th>\n",
              "      <td>S10_1949</td>\n",
              "      <td>7305</td>\n",
              "    </tr>\n",
              "    <tr>\n",
              "      <th>2</th>\n",
              "      <td>S10_2016</td>\n",
              "      <td>6625</td>\n",
              "    </tr>\n",
              "    <tr>\n",
              "      <th>3</th>\n",
              "      <td>S10_4698</td>\n",
              "      <td>5582</td>\n",
              "    </tr>\n",
              "    <tr>\n",
              "      <th>4</th>\n",
              "      <td>S10_4757</td>\n",
              "      <td>3252</td>\n",
              "    </tr>\n",
              "  </tbody>\n",
              "</table>\n",
              "</div>"
            ],
            "text/plain": [
              "  productCode  TotalStock\n",
              "0    S10_1678        7933\n",
              "1    S10_1949        7305\n",
              "2    S10_2016        6625\n",
              "3    S10_4698        5582\n",
              "4    S10_4757        3252"
            ]
          },
          "metadata": {
            "tags": []
          },
          "execution_count": 35
        }
      ]
    },
    {
      "cell_type": "code",
      "metadata": {
        "colab": {
          "base_uri": "https://localhost:8080/",
          "height": 204
        },
        "id": "nbmsi6h5feI6",
        "outputId": "adb614b9-5a8f-4652-c4be-4ba9d0a15a5c"
      },
      "source": [
        "five_by_inventory = top_5.merge(in_stock, left_on='productCode', right_on='productCode', how='inner')\r\n",
        "five_by_inventory"
      ],
      "execution_count": null,
      "outputs": [
        {
          "output_type": "execute_result",
          "data": {
            "text/html": [
              "<div>\n",
              "<style scoped>\n",
              "    .dataframe tbody tr th:only-of-type {\n",
              "        vertical-align: middle;\n",
              "    }\n",
              "\n",
              "    .dataframe tbody tr th {\n",
              "        vertical-align: top;\n",
              "    }\n",
              "\n",
              "    .dataframe thead th {\n",
              "        text-align: right;\n",
              "    }\n",
              "</style>\n",
              "<table border=\"1\" class=\"dataframe\">\n",
              "  <thead>\n",
              "    <tr style=\"text-align: right;\">\n",
              "      <th></th>\n",
              "      <th>productCode</th>\n",
              "      <th>TotalOrdered</th>\n",
              "      <th>TotalStock</th>\n",
              "    </tr>\n",
              "  </thead>\n",
              "  <tbody>\n",
              "    <tr>\n",
              "      <th>0</th>\n",
              "      <td>S32_3522</td>\n",
              "      <td>4464</td>\n",
              "      <td>814</td>\n",
              "    </tr>\n",
              "    <tr>\n",
              "      <th>1</th>\n",
              "      <td>S24_3371</td>\n",
              "      <td>4416</td>\n",
              "      <td>7995</td>\n",
              "    </tr>\n",
              "    <tr>\n",
              "      <th>2</th>\n",
              "      <td>S18_4721</td>\n",
              "      <td>4214</td>\n",
              "      <td>1249</td>\n",
              "    </tr>\n",
              "    <tr>\n",
              "      <th>3</th>\n",
              "      <td>S12_1099</td>\n",
              "      <td>3870</td>\n",
              "      <td>68</td>\n",
              "    </tr>\n",
              "    <tr>\n",
              "      <th>4</th>\n",
              "      <td>S24_3191</td>\n",
              "      <td>3828</td>\n",
              "      <td>4695</td>\n",
              "    </tr>\n",
              "  </tbody>\n",
              "</table>\n",
              "</div>"
            ],
            "text/plain": [
              "  productCode  TotalOrdered  TotalStock\n",
              "0    S32_3522          4464         814\n",
              "1    S24_3371          4416        7995\n",
              "2    S18_4721          4214        1249\n",
              "3    S12_1099          3870          68\n",
              "4    S24_3191          3828        4695"
            ]
          },
          "metadata": {
            "tags": []
          },
          "execution_count": 38
        }
      ]
    },
    {
      "cell_type": "markdown",
      "metadata": {
        "id": "0yB3On40Yppo"
      },
      "source": [
        "Good, but not optimized. Your \"merge\" with pandas is pretty the same as the \"join\" in SQL. Moreover, your script has to download the whole product stocks table. \n",
        "\n",
        "So, now, you have to write a SQL query to have directly the stocks of the 5 most ordered products. (So, you have to \"join\" both tables in the SQL Query)"
      ]
    },
    {
      "cell_type": "code",
      "metadata": {
        "id": "2O3fMSleZTq5",
        "colab": {
          "base_uri": "https://localhost:8080/",
          "height": 204
        },
        "outputId": "97356581-0a85-48aa-f93c-f54a8c3a8742"
      },
      "source": [
        "top_5_direct = pd.read_sql(\"select od.productCode, SUM(od.quantityOrdered) AS TotalOrdered, \\\r\n",
        "            pc.quantityInStock AS InStock\\\r\n",
        "            FROM orderdetails AS od  \\\r\n",
        "            JOIN products AS pc \\\r\n",
        "            ON pc.productCode = od.productCode \\\r\n",
        "            GROUP BY quantityOrdered \\\r\n",
        "            ORDER BY TotalOrdered DESC \\\r\n",
        "            LIMIT 5\", conn)\r\n",
        "\r\n",
        "top_5_direct"
      ],
      "execution_count": null,
      "outputs": [
        {
          "output_type": "execute_result",
          "data": {
            "text/html": [
              "<div>\n",
              "<style scoped>\n",
              "    .dataframe tbody tr th:only-of-type {\n",
              "        vertical-align: middle;\n",
              "    }\n",
              "\n",
              "    .dataframe tbody tr th {\n",
              "        vertical-align: top;\n",
              "    }\n",
              "\n",
              "    .dataframe thead th {\n",
              "        text-align: right;\n",
              "    }\n",
              "</style>\n",
              "<table border=\"1\" class=\"dataframe\">\n",
              "  <thead>\n",
              "    <tr style=\"text-align: right;\">\n",
              "      <th></th>\n",
              "      <th>productCode</th>\n",
              "      <th>TotalOrdered</th>\n",
              "      <th>InStock</th>\n",
              "    </tr>\n",
              "  </thead>\n",
              "  <tbody>\n",
              "    <tr>\n",
              "      <th>0</th>\n",
              "      <td>S32_3522</td>\n",
              "      <td>4464</td>\n",
              "      <td>814</td>\n",
              "    </tr>\n",
              "    <tr>\n",
              "      <th>1</th>\n",
              "      <td>S24_3371</td>\n",
              "      <td>4416</td>\n",
              "      <td>7995</td>\n",
              "    </tr>\n",
              "    <tr>\n",
              "      <th>2</th>\n",
              "      <td>S18_4721</td>\n",
              "      <td>4214</td>\n",
              "      <td>1249</td>\n",
              "    </tr>\n",
              "    <tr>\n",
              "      <th>3</th>\n",
              "      <td>S12_1099</td>\n",
              "      <td>3870</td>\n",
              "      <td>68</td>\n",
              "    </tr>\n",
              "    <tr>\n",
              "      <th>4</th>\n",
              "      <td>S24_3191</td>\n",
              "      <td>3828</td>\n",
              "      <td>4695</td>\n",
              "    </tr>\n",
              "  </tbody>\n",
              "</table>\n",
              "</div>"
            ],
            "text/plain": [
              "  productCode  TotalOrdered  InStock\n",
              "0    S32_3522          4464      814\n",
              "1    S24_3371          4416     7995\n",
              "2    S18_4721          4214     1249\n",
              "3    S12_1099          3870       68\n",
              "4    S24_3191          3828     4695"
            ]
          },
          "metadata": {
            "tags": []
          },
          "execution_count": 41
        }
      ]
    },
    {
      "cell_type": "markdown",
      "metadata": {
        "id": "G1ctfvgPZWRw"
      },
      "source": [
        "Both methods have same results ? Congrats ! "
      ]
    },
    {
      "cell_type": "markdown",
      "metadata": {
        "id": "sib7wKtwxVbc"
      },
      "source": [
        "# Go forward\n",
        "\n",
        "If you want, you can try to connect to the MySQL Server with your computer. To do this, you need to have MySQL Server on your computer, and to execute your python script from your computer too (so on Jupyterlab or on Spyder, **but not on google colab**).\n",
        "Below, script to connect to your MySQL Server.\n",
        "And here, [the SQL script to execute](https://drive.google.com/file/d/1_YtQlHCoGCQpLytXFpk6170WnCXb8hRz/view?usp=sharing) in the workbench if you don't have the database."
      ]
    },
    {
      "cell_type": "code",
      "metadata": {
        "id": "xz8ozY2b0KEi"
      },
      "source": [
        "# !pip install mysql-connector-python\n",
        "\n",
        "# import mysql.connector\n",
        "# import pandas as pd\n",
        "\n",
        "# conn = mysql.connector.connect(user='YOUR_USERNAME', password='YOUR_PASSWORD',\n",
        "#                               host='localhost',\n",
        "#                               database='toys_and_models')\n",
        "\n",
        "# pd.read_sql('select * from orders', conn)"
      ],
      "execution_count": null,
      "outputs": []
    },
    {
      "cell_type": "code",
      "metadata": {
        "id": "bz7PvrsXhwx3"
      },
      "source": [
        ""
      ],
      "execution_count": null,
      "outputs": []
    }
  ]
}