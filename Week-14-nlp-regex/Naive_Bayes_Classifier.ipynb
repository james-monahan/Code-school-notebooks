{
  "nbformat": 4,
  "nbformat_minor": 0,
  "metadata": {
    "colab": {
      "name": "jpm-Naive-Bayes-Classifier.ipynb",
      "provenance": [],
      "collapsed_sections": [],
      "authorship_tag": "ABX9TyOigQkLStvNIQgSq46aK7r5",
      "include_colab_link": true
    },
    "kernelspec": {
      "name": "python3",
      "display_name": "Python 3"
    }
  },
  "cells": [
    {
      "cell_type": "markdown",
      "metadata": {
        "id": "view-in-github",
        "colab_type": "text"
      },
      "source": [
        "<a href=\"https://colab.research.google.com/github/james-monahan/Code-school-notebooks/blob/main/Week-14-nlp-regex/Naive_Bayes_Classifier.ipynb\" target=\"_parent\"><img src=\"https://colab.research.google.com/assets/colab-badge.svg\" alt=\"Open In Colab\"/></a>"
      ]
    },
    {
      "cell_type": "code",
      "metadata": {
        "id": "s-Sy9oooczLG"
      },
      "source": [
        "import pandas as pd\r\n",
        "import string\r\n",
        "from sklearn.feature_extraction.text import TfidfVectorizer\r\n",
        "from sklearn.model_selection import train_test_split\r\n",
        "from sklearn import preprocessing\r\n",
        "from sklearn.metrics import classification_report, confusion_matrix, plot_confusion_matrix\r\n",
        "from sklearn.naive_bayes import GaussianNB\r\n",
        "import matplotlib.pyplot as plt\r\n",
        "import seaborn as sns"
      ],
      "execution_count": 69,
      "outputs": []
    },
    {
      "cell_type": "code",
      "metadata": {
        "id": "CwCz9x5zq-DH"
      },
      "source": [
        "import nltk\r\n",
        "nltk.download('popular')"
      ],
      "execution_count": null,
      "outputs": []
    },
    {
      "cell_type": "code",
      "metadata": {
        "id": "99THLWxQuSQw"
      },
      "source": [
        "from nltk.stem import SnowballStemmer\r\n",
        "import spacy\r\n",
        "nlp = spacy.load('en_core_web_sm')"
      ],
      "execution_count": 32,
      "outputs": []
    },
    {
      "cell_type": "code",
      "metadata": {
        "colab": {
          "base_uri": "https://localhost:8080/",
          "height": 198
        },
        "id": "N30CwTYhc8F5",
        "outputId": "58167770-8b09-4d67-e263-e149ffab2323"
      },
      "source": [
        "url = \"https://raw.githubusercontent.com/murpi/wilddata/master/quests/spam.csv\"\r\n",
        "cols = ['label', 'v2', 'v3', 'v4', 'v5']\r\n",
        "df = pd.read_csv(url, encoding = \"ISO-8859-1\", names=cols, skiprows=1)\r\n",
        "df.head()"
      ],
      "execution_count": 7,
      "outputs": [
        {
          "output_type": "execute_result",
          "data": {
            "text/html": [
              "<div>\n",
              "<style scoped>\n",
              "    .dataframe tbody tr th:only-of-type {\n",
              "        vertical-align: middle;\n",
              "    }\n",
              "\n",
              "    .dataframe tbody tr th {\n",
              "        vertical-align: top;\n",
              "    }\n",
              "\n",
              "    .dataframe thead th {\n",
              "        text-align: right;\n",
              "    }\n",
              "</style>\n",
              "<table border=\"1\" class=\"dataframe\">\n",
              "  <thead>\n",
              "    <tr style=\"text-align: right;\">\n",
              "      <th></th>\n",
              "      <th>label</th>\n",
              "      <th>v2</th>\n",
              "      <th>v3</th>\n",
              "      <th>v4</th>\n",
              "      <th>v5</th>\n",
              "    </tr>\n",
              "  </thead>\n",
              "  <tbody>\n",
              "    <tr>\n",
              "      <th>0</th>\n",
              "      <td>ham</td>\n",
              "      <td>Go until jurong point, crazy.. Available only ...</td>\n",
              "      <td>NaN</td>\n",
              "      <td>NaN</td>\n",
              "      <td>NaN</td>\n",
              "    </tr>\n",
              "    <tr>\n",
              "      <th>1</th>\n",
              "      <td>ham</td>\n",
              "      <td>Ok lar... Joking wif u oni...</td>\n",
              "      <td>NaN</td>\n",
              "      <td>NaN</td>\n",
              "      <td>NaN</td>\n",
              "    </tr>\n",
              "    <tr>\n",
              "      <th>2</th>\n",
              "      <td>spam</td>\n",
              "      <td>Free entry in 2 a wkly comp to win FA Cup fina...</td>\n",
              "      <td>NaN</td>\n",
              "      <td>NaN</td>\n",
              "      <td>NaN</td>\n",
              "    </tr>\n",
              "    <tr>\n",
              "      <th>3</th>\n",
              "      <td>ham</td>\n",
              "      <td>U dun say so early hor... U c already then say...</td>\n",
              "      <td>NaN</td>\n",
              "      <td>NaN</td>\n",
              "      <td>NaN</td>\n",
              "    </tr>\n",
              "    <tr>\n",
              "      <th>4</th>\n",
              "      <td>ham</td>\n",
              "      <td>Nah I don't think he goes to usf, he lives aro...</td>\n",
              "      <td>NaN</td>\n",
              "      <td>NaN</td>\n",
              "      <td>NaN</td>\n",
              "    </tr>\n",
              "  </tbody>\n",
              "</table>\n",
              "</div>"
            ],
            "text/plain": [
              "  label                                                 v2   v3   v4   v5\n",
              "0   ham  Go until jurong point, crazy.. Available only ...  NaN  NaN  NaN\n",
              "1   ham                      Ok lar... Joking wif u oni...  NaN  NaN  NaN\n",
              "2  spam  Free entry in 2 a wkly comp to win FA Cup fina...  NaN  NaN  NaN\n",
              "3   ham  U dun say so early hor... U c already then say...  NaN  NaN  NaN\n",
              "4   ham  Nah I don't think he goes to usf, he lives aro...  NaN  NaN  NaN"
            ]
          },
          "metadata": {
            "tags": []
          },
          "execution_count": 7
        }
      ]
    },
    {
      "cell_type": "code",
      "metadata": {
        "id": "gxAp3fwidHEj"
      },
      "source": [
        "df = df.drop(['v3', 'v4', 'v5'], axis=1)"
      ],
      "execution_count": 8,
      "outputs": []
    },
    {
      "cell_type": "markdown",
      "metadata": {
        "id": "hRnYteS_mab7"
      },
      "source": [
        "#Use your text mining skills to find spam matches\r\n",
        "Punctuation  \r\n",
        "Stopwords  \r\n",
        "Stemming\r\n"
      ]
    },
    {
      "cell_type": "code",
      "metadata": {
        "id": "_tRfw-u3svED"
      },
      "source": [
        "def clean_text(df, col, col_name, stop_lang, stemming, lemma):\r\n",
        "  stop_words = nltk.corpus.stopwords.words(stop_lang)\r\n",
        "  stem_en = SnowballStemmer(stop_lang)\r\n",
        "\r\n",
        "  df[col_name] = df[col] \\\r\n",
        "          .apply(lambda x: \"\".join([s.translate(str.maketrans('', '', string.punctuation)) for s in x]))\r\n",
        "\r\n",
        "  df[col_name] = df[col_name].str.lower()\r\n",
        "\r\n",
        "  df[col_name] = df[col_name] \\\r\n",
        "          .apply(lambda x: \" \".join([val for val in x.split() if val not in stop_words]))\r\n",
        "\r\n",
        "  if stemming:\r\n",
        "      df[col_name] = df[col_name] \\\r\n",
        "          .apply(lambda x: \" \".join([stem_en.stem(val) for val in x.split()]))\r\n",
        "\r\n",
        "  if lemma:\r\n",
        "      df[col_name] = df[col_name] \\\r\n",
        "          .apply(lambda x: \" \".join([val.lemma_ for val in nlp(x)]))"
      ],
      "execution_count": 36,
      "outputs": []
    },
    {
      "cell_type": "code",
      "metadata": {
        "id": "t_hylRR6tkeW"
      },
      "source": [
        "clean_text(df=df, col='v2', col_name='v2_clean', stop_lang='english', stemming=False, lemma=True)"
      ],
      "execution_count": 37,
      "outputs": []
    },
    {
      "cell_type": "code",
      "metadata": {
        "colab": {
          "base_uri": "https://localhost:8080/",
          "height": 198
        },
        "id": "q92OlGyOy874",
        "outputId": "3d63ff39-b498-4624-a6e8-fd3cfa1d53e7"
      },
      "source": [
        "df[['v2', 'v2_clean']].sample(5)"
      ],
      "execution_count": 40,
      "outputs": [
        {
          "output_type": "execute_result",
          "data": {
            "text/html": [
              "<div>\n",
              "<style scoped>\n",
              "    .dataframe tbody tr th:only-of-type {\n",
              "        vertical-align: middle;\n",
              "    }\n",
              "\n",
              "    .dataframe tbody tr th {\n",
              "        vertical-align: top;\n",
              "    }\n",
              "\n",
              "    .dataframe thead th {\n",
              "        text-align: right;\n",
              "    }\n",
              "</style>\n",
              "<table border=\"1\" class=\"dataframe\">\n",
              "  <thead>\n",
              "    <tr style=\"text-align: right;\">\n",
              "      <th></th>\n",
              "      <th>v2</th>\n",
              "      <th>v2_clean</th>\n",
              "    </tr>\n",
              "  </thead>\n",
              "  <tbody>\n",
              "    <tr>\n",
              "      <th>3638</th>\n",
              "      <td>Wat's da model num of ur phone?</td>\n",
              "      <td>wats da model num ur phone</td>\n",
              "    </tr>\n",
              "    <tr>\n",
              "      <th>185</th>\n",
              "      <td>Hello handsome ! Are you finding that job ? No...</td>\n",
              "      <td>hello handsome find job lazy work towards get ...</td>\n",
              "    </tr>\n",
              "    <tr>\n",
              "      <th>2404</th>\n",
              "      <td>Please give it 2  or i will pick it up on Tues...</td>\n",
              "      <td>please give 2 pick tuesday evening 8 ok</td>\n",
              "    </tr>\n",
              "    <tr>\n",
              "      <th>1923</th>\n",
              "      <td>Hello. They are going to the village pub at 8 ...</td>\n",
              "      <td>hello go village pub 8 either come accordingly ok</td>\n",
              "    </tr>\n",
              "    <tr>\n",
              "      <th>2512</th>\n",
              "      <td>Hiya , have u been paying money into my accoun...</td>\n",
              "      <td>hiya u pay money account thank get pleasant su...</td>\n",
              "    </tr>\n",
              "  </tbody>\n",
              "</table>\n",
              "</div>"
            ],
            "text/plain": [
              "                                                     v2                                           v2_clean\n",
              "3638                    Wat's da model num of ur phone?                         wats da model num ur phone\n",
              "185   Hello handsome ! Are you finding that job ? No...  hello handsome find job lazy work towards get ...\n",
              "2404  Please give it 2  or i will pick it up on Tues...            please give 2 pick tuesday evening 8 ok\n",
              "1923  Hello. They are going to the village pub at 8 ...  hello go village pub 8 either come accordingly ok\n",
              "2512  Hiya , have u been paying money into my accoun...  hiya u pay money account thank get pleasant su..."
            ]
          },
          "metadata": {
            "tags": []
          },
          "execution_count": 40
        }
      ]
    },
    {
      "cell_type": "markdown",
      "metadata": {
        "id": "Df_MzuZTmeOh"
      },
      "source": [
        "#Prepare a data frame containing the variables deduced in the previous step for each observation (SMS)\r\n",
        "\r\n"
      ]
    },
    {
      "cell_type": "code",
      "metadata": {
        "id": "wOuC11JJxHPG"
      },
      "source": [
        "def tfidf_to_df(corpus, grams):\r\n",
        "  tfidf = TfidfVectorizer(ngram_range=grams)\r\n",
        "  tfidf.fit(corpus)\r\n",
        "  vectors = tfidf.transform(corpus)\r\n",
        "  vectors = vectors.todense()\r\n",
        "  return tfidf, vectors"
      ],
      "execution_count": 44,
      "outputs": []
    },
    {
      "cell_type": "code",
      "metadata": {
        "id": "8cFNo4W9xG83"
      },
      "source": [
        "model, vectors = tfidf_to_df(df['v2_clean'], grams=(1,1))"
      ],
      "execution_count": 45,
      "outputs": []
    },
    {
      "cell_type": "code",
      "metadata": {
        "colab": {
          "base_uri": "https://localhost:8080/"
        },
        "id": "drxc-R4p0ian",
        "outputId": "2e29508d-c056-4171-da27-1f13b7ecd412"
      },
      "source": [
        "len(model.vocabulary_), vectors.shape, df.shape"
      ],
      "execution_count": 57,
      "outputs": [
        {
          "output_type": "execute_result",
          "data": {
            "text/plain": [
              "(8451, (5572, 8451), (5572, 3))"
            ]
          },
          "metadata": {
            "tags": []
          },
          "execution_count": 57
        }
      ]
    },
    {
      "cell_type": "code",
      "metadata": {
        "id": "aCUqDqOu1Kbe"
      },
      "source": [
        "X = pd.DataFrame(vectors)"
      ],
      "execution_count": 54,
      "outputs": []
    },
    {
      "cell_type": "markdown",
      "metadata": {
        "id": "NscTUDe8meA4"
      },
      "source": [
        "#Uses the Naïve Bayes classifier to classify \"spam\" vs \"real\" SMS (Non spam)"
      ]
    },
    {
      "cell_type": "code",
      "metadata": {
        "colab": {
          "base_uri": "https://localhost:8080/"
        },
        "id": "v64xlLsj1qSD",
        "outputId": "e5d2e792-fa10-4bed-9989-fc7345f8679e"
      },
      "source": [
        "y = df['label']\r\n",
        "\r\n",
        "clean_text(df=df, col='v2', col_name='v2_clean', stop_lang='english', stemming=False, lemma=False)\r\n",
        "model, vectors = tfidf_to_df(df['v2_clean'], grams=(1,3))\r\n",
        "X = pd.DataFrame(vectors)\r\n",
        "X.shape, y.shape"
      ],
      "execution_count": 91,
      "outputs": [
        {
          "output_type": "execute_result",
          "data": {
            "text/plain": [
              "((5572, 72818), (5572,))"
            ]
          },
          "metadata": {
            "tags": []
          },
          "execution_count": 91
        }
      ]
    },
    {
      "cell_type": "code",
      "metadata": {
        "id": "nXwavb3y1qKf"
      },
      "source": [
        "X_train, X_test, y_train, y_test = train_test_split(X, y, test_size=0.33, random_state=42, stratify=y)"
      ],
      "execution_count": 92,
      "outputs": []
    },
    {
      "cell_type": "code",
      "metadata": {
        "id": "WI-4Fea_1p_E"
      },
      "source": [
        "gnb = GaussianNB()\r\n",
        "gnb_model = gnb.fit(X_train, y_train)\r\n",
        "y_pred = gnb_model.predict(X_test)"
      ],
      "execution_count": 93,
      "outputs": []
    },
    {
      "cell_type": "markdown",
      "metadata": {
        "id": "4HSWto-Hm9OA"
      },
      "source": [
        "#Check the predictions of your classifier using your test set (because you of course took the time to create a test set in the previous step)."
      ]
    },
    {
      "cell_type": "code",
      "metadata": {
        "colab": {
          "base_uri": "https://localhost:8080/",
          "height": 497
        },
        "id": "1n2NmcRF5uKJ",
        "outputId": "fbda211e-1dba-401c-f5fd-94e58a52bdef"
      },
      "source": [
        "print(\"train data:\",gnb_model.score(X_train, y_train))\r\n",
        "print(\"test data:\",gnb_model.score(X_test, y_test))\r\n",
        "\r\n",
        "cm = confusion_matrix(y_test, y_pred)\r\n",
        "\r\n",
        "ax= plt.subplot()\r\n",
        "sns.heatmap(cm, annot=True, ax = ax, fmt='d', cbar=False) #annot=True to annotate cells\r\n",
        "\r\n",
        "# labels, title and ticks\r\n",
        "ax.set_xlabel('Predicted labels');ax.set_ylabel('True labels'); \r\n",
        "ax.set_title('Confusion Matrix'); \r\n",
        "ax.xaxis.set_ticklabels(['Ham', 'Spam']); ax.yaxis.set_ticklabels(['Ham', 'Spam'])\r\n",
        "\r\n",
        "print(classification_report(y_test, y_pred))"
      ],
      "execution_count": 94,
      "outputs": [
        {
          "output_type": "stream",
          "text": [
            "train data: 0.985266541655505\n",
            "test data: 0.9293094072865687\n",
            "              precision    recall  f1-score   support\n",
            "\n",
            "         ham       0.98      0.93      0.96      1592\n",
            "        spam       0.68      0.89      0.77       247\n",
            "\n",
            "    accuracy                           0.93      1839\n",
            "   macro avg       0.83      0.91      0.87      1839\n",
            "weighted avg       0.94      0.93      0.93      1839\n",
            "\n"
          ],
          "name": "stdout"
        },
        {
          "output_type": "display_data",
          "data": {
            "image/png": "[encoded data removed]",
            "text/plain": [
              "<Figure size 432x288 with 1 Axes>"
            ]
          },
          "metadata": {
            "tags": [],
            "needs_background": "light"
          }
        }
      ]
    },
    {
      "cell_type": "code",
      "metadata": {
        "colab": {
          "base_uri": "https://localhost:8080/"
        },
        "id": "2utcyqi__ejc",
        "outputId": "622f517e-d04c-4f6f-f553-af5535917648"
      },
      "source": [
        "y_test.value_counts()"
      ],
      "execution_count": 95,
      "outputs": [
        {
          "output_type": "execute_result",
          "data": {
            "text/plain": [
              "ham     1592\n",
              "spam     247\n",
              "Name: label, dtype: int64"
            ]
          },
          "metadata": {
            "tags": []
          },
          "execution_count": 95
        }
      ]
    },
    {
      "cell_type": "code",
      "metadata": {
        "id": "Jh9shMVNBJvt"
      },
      "source": [
        ""
      ],
      "execution_count": null,
      "outputs": []
    }
  ]
}