{
  "nbformat": 4,
  "nbformat_minor": 0,
  "metadata": {
    "colab": {
      "name": "jpm_Natural Language Processing : Sentiment Analysis.ipynb",
      "provenance": [],
      "collapsed_sections": [],
      "authorship_tag": "ABX9TyM5CZu84rXqKh6N98l6BJXJ",
      "include_colab_link": true
    },
    "kernelspec": {
      "name": "python3",
      "display_name": "Python 3"
    }
  },
  "cells": [
    {
      "cell_type": "markdown",
      "metadata": {
        "id": "view-in-github",
        "colab_type": "text"
      },
      "source": [
        "<a href=\"https://colab.research.google.com/github/james-monahan/Code-school-notebooks/blob/main/Week-14-nlp-regex/Natural_Language_Processing_Sentiment_Analysis.ipynb\" target=\"_parent\"><img src=\"https://colab.research.google.com/assets/colab-badge.svg\" alt=\"Open In Colab\"/></a>"
      ]
    },
    {
      "cell_type": "code",
      "metadata": {
        "id": "72XwpCkUB7Vf"
      },
      "source": [
        "pip install pyforest"
      ],
      "execution_count": null,
      "outputs": []
    },
    {
      "cell_type": "code",
      "metadata": {
        "id": "ilPFnAeVCBu2"
      },
      "source": [
        "from pyforest import *"
      ],
      "execution_count": 2,
      "outputs": []
    },
    {
      "cell_type": "code",
      "metadata": {
        "id": "_cj9BZv1EpiH"
      },
      "source": [
        "import spacy\r\n",
        "from sklearn.feature_extraction.text import CountVectorizer, TfidfVectorizer\r\n",
        "from sklearn.linear_model import LogisticRegression"
      ],
      "execution_count": 3,
      "outputs": []
    },
    {
      "cell_type": "code",
      "metadata": {
        "id": "3MpgcK0iD5uK"
      },
      "source": [
        "import nltk\r\n",
        "nltk.download('popular')"
      ],
      "execution_count": null,
      "outputs": []
    },
    {
      "cell_type": "code",
      "metadata": {
        "colab": {
          "base_uri": "https://localhost:8080/",
          "height": 17
        },
        "id": "DUK6SqHVB4rC",
        "outputId": "4edd5297-6465-41f7-fd56-4fa20aecfcb0"
      },
      "source": [
        "link = \"https://github.com/murpi/wilddata/raw/master/quests/tweets.zip\"\r\n",
        "df = pd.read_csv(link, compression='zip') "
      ],
      "execution_count": 5,
      "outputs": [
        {
          "output_type": "display_data",
          "data": {
            "application/javascript": [
              "\n",
              "        if (window._pyforest_update_imports_cell) { window._pyforest_update_imports_cell('import pandas as pd'); }\n",
              "    "
            ],
            "text/plain": [
              "<IPython.core.display.Javascript object>"
            ]
          },
          "metadata": {
            "tags": []
          }
        }
      ]
    },
    {
      "cell_type": "code",
      "metadata": {
        "colab": {
          "base_uri": "https://localhost:8080/",
          "height": 201
        },
        "id": "XDZwHeg6CEWn",
        "outputId": "108098e4-8812-43d4-c375-f2c381816af7"
      },
      "source": [
        "df.head()"
      ],
      "execution_count": 6,
      "outputs": [
        {
          "output_type": "execute_result",
          "data": {
            "text/html": [
              "<div>\n",
              "<style scoped>\n",
              "    .dataframe tbody tr th:only-of-type {\n",
              "        vertical-align: middle;\n",
              "    }\n",
              "\n",
              "    .dataframe tbody tr th {\n",
              "        vertical-align: top;\n",
              "    }\n",
              "\n",
              "    .dataframe thead th {\n",
              "        text-align: right;\n",
              "    }\n",
              "</style>\n",
              "<table border=\"1\" class=\"dataframe\">\n",
              "  <thead>\n",
              "    <tr style=\"text-align: right;\">\n",
              "      <th></th>\n",
              "      <th>textID</th>\n",
              "      <th>text</th>\n",
              "      <th>selected_text</th>\n",
              "      <th>sentiment</th>\n",
              "    </tr>\n",
              "  </thead>\n",
              "  <tbody>\n",
              "    <tr>\n",
              "      <th>0</th>\n",
              "      <td>cb774db0d1</td>\n",
              "      <td>I`d have responded, if I were going</td>\n",
              "      <td>I`d have responded, if I were going</td>\n",
              "      <td>neutral</td>\n",
              "    </tr>\n",
              "    <tr>\n",
              "      <th>1</th>\n",
              "      <td>549e992a42</td>\n",
              "      <td>Sooo SAD I will miss you here in San Diego!!!</td>\n",
              "      <td>Sooo SAD</td>\n",
              "      <td>negative</td>\n",
              "    </tr>\n",
              "    <tr>\n",
              "      <th>2</th>\n",
              "      <td>088c60f138</td>\n",
              "      <td>my boss is bullying me...</td>\n",
              "      <td>bullying me</td>\n",
              "      <td>negative</td>\n",
              "    </tr>\n",
              "    <tr>\n",
              "      <th>3</th>\n",
              "      <td>9642c003ef</td>\n",
              "      <td>what interview! leave me alone</td>\n",
              "      <td>leave me alone</td>\n",
              "      <td>negative</td>\n",
              "    </tr>\n",
              "    <tr>\n",
              "      <th>4</th>\n",
              "      <td>358bd9e861</td>\n",
              "      <td>Sons of ****, why couldn`t they put them on t...</td>\n",
              "      <td>Sons of ****,</td>\n",
              "      <td>negative</td>\n",
              "    </tr>\n",
              "  </tbody>\n",
              "</table>\n",
              "</div>"
            ],
            "text/plain": [
              "       textID  ... sentiment\n",
              "0  cb774db0d1  ...   neutral\n",
              "1  549e992a42  ...  negative\n",
              "2  088c60f138  ...  negative\n",
              "3  9642c003ef  ...  negative\n",
              "4  358bd9e861  ...  negative\n",
              "\n",
              "[5 rows x 4 columns]"
            ]
          },
          "metadata": {
            "tags": []
          },
          "execution_count": 6
        }
      ]
    },
    {
      "cell_type": "markdown",
      "metadata": {
        "id": "jENcgr67Cw7Z"
      },
      "source": [
        "Keep only positive and negative tweets (so you exclude neutrals). What is the percentage of positive/negative tweets?\r\n"
      ]
    },
    {
      "cell_type": "code",
      "metadata": {
        "id": "PcUNcUR5CEG-"
      },
      "source": [
        "df = df[df.sentiment!=\"neutral\"]"
      ],
      "execution_count": 7,
      "outputs": []
    },
    {
      "cell_type": "markdown",
      "metadata": {
        "id": "iorUoOtjC3YO"
      },
      "source": [
        "Retrieve the list of English stopwords from NLTK, and copy it into a stopwordsenglish list.\r\n"
      ]
    },
    {
      "cell_type": "code",
      "metadata": {
        "colab": {
          "base_uri": "https://localhost:8080/"
        },
        "id": "Qk3f3-wqCD26",
        "outputId": "0717c78d-50f9-465a-b31d-ee4c0877bdbf"
      },
      "source": [
        "stopwordsenglish  = nltk.corpus.stopwords.words(\"english\")\r\n",
        "type(stopwordsenglish)"
      ],
      "execution_count": 8,
      "outputs": [
        {
          "output_type": "execute_result",
          "data": {
            "text/plain": [
              "list"
            ]
          },
          "metadata": {
            "tags": []
          },
          "execution_count": 8
        }
      ]
    },
    {
      "cell_type": "markdown",
      "metadata": {
        "id": "HNJ5lrKSC4jW"
      },
      "source": [
        "Create a lemma function that takes a text (str) as a parameter and returns a text (str) of tokens after applying a stemmer or a lemmatizer, separated by spaces."
      ]
    },
    {
      "cell_type": "code",
      "metadata": {
        "colab": {
          "base_uri": "https://localhost:8080/",
          "height": 36
        },
        "id": "8UXZCdO7EuQR",
        "outputId": "73823a1e-d2ce-4089-8e1a-87a63a5ccd9d"
      },
      "source": [
        "nlp = spacy.load('en_core_web_sm')\r\n",
        "\r\n",
        "def lem_tokenize(text):\r\n",
        "  lemmas = []\r\n",
        "  sent_tokens = nlp(text)\r\n",
        "  for token in sent_tokens:\r\n",
        "    lemmas.append(token.lemma_)\r\n",
        "  return \" \".join(lemmas)\r\n",
        "lem_tokenize(\"You are better when I am well.\")"
      ],
      "execution_count": 9,
      "outputs": [
        {
          "output_type": "execute_result",
          "data": {
            "application/vnd.google.colaboratory.intrinsic+json": {
              "type": "string"
            },
            "text/plain": [
              "'-PRON- be well when -PRON- be well .'"
            ]
          },
          "metadata": {
            "tags": []
          },
          "execution_count": 9
        }
      ]
    },
    {
      "cell_type": "markdown",
      "metadata": {
        "id": "oQQrstybC9FK"
      },
      "source": [
        "Apply this function lemma to the text column of your DataFrame. Store the result in a new lemma column of the DataFrame. (The processing can take 2 or 3 minutes)."
      ]
    },
    {
      "cell_type": "code",
      "metadata": {
        "id": "WW7vx89-HUe-"
      },
      "source": [
        "df['lemma'] = df['text'].apply(lem_tokenize)"
      ],
      "execution_count": 10,
      "outputs": []
    },
    {
      "cell_type": "code",
      "metadata": {
        "colab": {
          "base_uri": "https://localhost:8080/",
          "height": 201
        },
        "id": "x847iw0MHtp2",
        "outputId": "85ed9fab-a90a-459d-b6b1-75a8b047e96d"
      },
      "source": [
        "df.head()"
      ],
      "execution_count": 11,
      "outputs": [
        {
          "output_type": "execute_result",
          "data": {
            "text/html": [
              "<div>\n",
              "<style scoped>\n",
              "    .dataframe tbody tr th:only-of-type {\n",
              "        vertical-align: middle;\n",
              "    }\n",
              "\n",
              "    .dataframe tbody tr th {\n",
              "        vertical-align: top;\n",
              "    }\n",
              "\n",
              "    .dataframe thead th {\n",
              "        text-align: right;\n",
              "    }\n",
              "</style>\n",
              "<table border=\"1\" class=\"dataframe\">\n",
              "  <thead>\n",
              "    <tr style=\"text-align: right;\">\n",
              "      <th></th>\n",
              "      <th>textID</th>\n",
              "      <th>text</th>\n",
              "      <th>selected_text</th>\n",
              "      <th>sentiment</th>\n",
              "      <th>lemma</th>\n",
              "    </tr>\n",
              "  </thead>\n",
              "  <tbody>\n",
              "    <tr>\n",
              "      <th>1</th>\n",
              "      <td>549e992a42</td>\n",
              "      <td>Sooo SAD I will miss you here in San Diego!!!</td>\n",
              "      <td>Sooo SAD</td>\n",
              "      <td>negative</td>\n",
              "      <td>Sooo SAD -PRON- will miss -PRON- here in San...</td>\n",
              "    </tr>\n",
              "    <tr>\n",
              "      <th>2</th>\n",
              "      <td>088c60f138</td>\n",
              "      <td>my boss is bullying me...</td>\n",
              "      <td>bullying me</td>\n",
              "      <td>negative</td>\n",
              "      <td>-PRON- boss be bully -PRON- ...</td>\n",
              "    </tr>\n",
              "    <tr>\n",
              "      <th>3</th>\n",
              "      <td>9642c003ef</td>\n",
              "      <td>what interview! leave me alone</td>\n",
              "      <td>leave me alone</td>\n",
              "      <td>negative</td>\n",
              "      <td>what interview ! leave -PRON- alone</td>\n",
              "    </tr>\n",
              "    <tr>\n",
              "      <th>4</th>\n",
              "      <td>358bd9e861</td>\n",
              "      <td>Sons of ****, why couldn`t they put them on t...</td>\n",
              "      <td>Sons of ****,</td>\n",
              "      <td>negative</td>\n",
              "      <td>son of * * * * , why couldn`t -PRON- put -PR...</td>\n",
              "    </tr>\n",
              "    <tr>\n",
              "      <th>6</th>\n",
              "      <td>6e0c6d75b1</td>\n",
              "      <td>2am feedings for the baby are fun when he is a...</td>\n",
              "      <td>fun</td>\n",
              "      <td>positive</td>\n",
              "      <td>2 a.m. feeding for the baby be fun when -PRON-...</td>\n",
              "    </tr>\n",
              "  </tbody>\n",
              "</table>\n",
              "</div>"
            ],
            "text/plain": [
              "       textID  ...                                              lemma\n",
              "1  549e992a42  ...    Sooo SAD -PRON- will miss -PRON- here in San...\n",
              "2  088c60f138  ...                    -PRON- boss be bully -PRON- ...\n",
              "3  9642c003ef  ...                what interview ! leave -PRON- alone\n",
              "4  358bd9e861  ...    son of * * * * , why couldn`t -PRON- put -PR...\n",
              "6  6e0c6d75b1  ...  2 a.m. feeding for the baby be fun when -PRON-...\n",
              "\n",
              "[5 rows x 5 columns]"
            ]
          },
          "metadata": {
            "tags": []
          },
          "execution_count": 11
        }
      ]
    },
    {
      "cell_type": "markdown",
      "metadata": {
        "id": "PadptsqzC88Z"
      },
      "source": [
        "Copy the lemma column into a Series X, and the sentiment column into a Series y. Apply a train test split with the random_state = 32.\r\n"
      ]
    },
    {
      "cell_type": "code",
      "metadata": {
        "colab": {
          "base_uri": "https://localhost:8080/",
          "height": 17
        },
        "id": "Mf7iYaPvJHKu",
        "outputId": "b65816da-19dd-4a01-e4b2-e07346299c68"
      },
      "source": [
        "X = pd.Series(df[\"lemma\"])\r\n",
        "y = pd.Series(df[\"sentiment\"])"
      ],
      "execution_count": 12,
      "outputs": [
        {
          "output_type": "display_data",
          "data": {
            "application/javascript": [
              "\n",
              "        if (window._pyforest_update_imports_cell) { window._pyforest_update_imports_cell('import pandas as pd'); }\n",
              "    "
            ],
            "text/plain": [
              "<IPython.core.display.Javascript object>"
            ]
          },
          "metadata": {
            "tags": []
          }
        },
        {
          "output_type": "display_data",
          "data": {
            "application/javascript": [
              "\n",
              "        if (window._pyforest_update_imports_cell) { window._pyforest_update_imports_cell('import pandas as pd'); }\n",
              "    "
            ],
            "text/plain": [
              "<IPython.core.display.Javascript object>"
            ]
          },
          "metadata": {
            "tags": []
          }
        }
      ]
    },
    {
      "cell_type": "code",
      "metadata": {
        "colab": {
          "base_uri": "https://localhost:8080/",
          "height": 17
        },
        "id": "GGqcaogLJYSO",
        "outputId": "46d1b813-9443-466d-d959-263e675b29a3"
      },
      "source": [
        "X_train, X_test, y_train, y_test = train_test_split(X, y, test_size=0.25, random_state=32)"
      ],
      "execution_count": 13,
      "outputs": [
        {
          "output_type": "display_data",
          "data": {
            "application/javascript": [
              "\n",
              "        if (window._pyforest_update_imports_cell) { window._pyforest_update_imports_cell('import pandas as pd\\nfrom sklearn.model_selection import train_test_split'); }\n",
              "    "
            ],
            "text/plain": [
              "<IPython.core.display.Javascript object>"
            ]
          },
          "metadata": {
            "tags": []
          }
        }
      ]
    },
    {
      "cell_type": "markdown",
      "metadata": {
        "id": "XBCRWt_lC8x-"
      },
      "source": [
        "Create a vectorizer model with scikit-learn using the Countvectorizer method. Train your model on X_train, then create a matrix of features X_train_CV. Create the X_test_CV matrix without re-training the model. The format of the X_test_CV matrix should be 4091x13838 with 44274 stored elements."
      ]
    },
    {
      "cell_type": "code",
      "metadata": {
        "id": "K8ougbFSJiJG"
      },
      "source": [
        "vectorizer = CountVectorizer()\r\n"
      ],
      "execution_count": 14,
      "outputs": []
    },
    {
      "cell_type": "code",
      "metadata": {
        "id": "HLFbRL4xKiU8"
      },
      "source": [
        "X_train_CV = vectorizer.fit_transform(X_train)"
      ],
      "execution_count": 15,
      "outputs": []
    },
    {
      "cell_type": "code",
      "metadata": {
        "id": "21zcD-5mK9e4"
      },
      "source": [
        "X_test_CV = vectorizer.transform(X_test)"
      ],
      "execution_count": 16,
      "outputs": []
    },
    {
      "cell_type": "code",
      "metadata": {
        "colab": {
          "base_uri": "https://localhost:8080/"
        },
        "id": "BlKkG-CgK9Kf",
        "outputId": "25c945a2-2bd7-47e7-f27c-9e7dfb573520"
      },
      "source": [
        "X_test_CV"
      ],
      "execution_count": 17,
      "outputs": [
        {
          "output_type": "execute_result",
          "data": {
            "text/plain": [
              "<4091x13838 sparse matrix of type '<class 'numpy.int64'>'\n",
              "\twith 44274 stored elements in Compressed Sparse Row format>"
            ]
          },
          "metadata": {
            "tags": []
          },
          "execution_count": 17
        }
      ]
    },
    {
      "cell_type": "markdown",
      "metadata": {
        "id": "LkkPtwpEDDb-"
      },
      "source": [
        "Using X_train_CV and y_train, please run a logistic regression to classify tweets. You should get a score of 0.87 on the X_test_CV test set.\r\n"
      ]
    },
    {
      "cell_type": "code",
      "metadata": {
        "id": "dIrHc8F9LqK4"
      },
      "source": [
        "lr = LogisticRegression(max_iter=150)"
      ],
      "execution_count": 21,
      "outputs": []
    },
    {
      "cell_type": "code",
      "metadata": {
        "id": "14c4mbxYL4Cc"
      },
      "source": [
        "lr_model = lr.fit(X_train_CV, y_train)"
      ],
      "execution_count": 22,
      "outputs": []
    },
    {
      "cell_type": "code",
      "metadata": {
        "colab": {
          "base_uri": "https://localhost:8080/"
        },
        "id": "2H--CEO-L3vu",
        "outputId": "04df02a6-d8c4-440c-f848-31a65cbdca25"
      },
      "source": [
        "lr_model.score(X_train_CV, y_train), lr_model.score(X_test_CV, y_test)"
      ],
      "execution_count": 23,
      "outputs": [
        {
          "output_type": "execute_result",
          "data": {
            "text/plain": [
              "(0.9590938722294654, 0.8719139574676118)"
            ]
          },
          "metadata": {
            "tags": []
          },
          "execution_count": 23
        }
      ]
    },
    {
      "cell_type": "markdown",
      "metadata": {
        "id": "EKv2yMxdDDS_"
      },
      "source": [
        "Repeat steps 7 and 8, adding the stop_words parameter to the CountVectorizer, using your stopwordsenglish list from step 3. Is the score very different? Is the number of elements stored in the sparse matrix very different?"
      ]
    },
    {
      "cell_type": "code",
      "metadata": {
        "colab": {
          "base_uri": "https://localhost:8080/"
        },
        "id": "jx2mPSn2McvF",
        "outputId": "5cf53af8-b79a-4312-c41b-9f0f0b63563c"
      },
      "source": [
        "lr_ = LogisticRegression(max_iter=200)\r\n",
        "vectorizer_ = CountVectorizer(stop_words=stopwordsenglish)\r\n",
        "\r\n",
        "X_train_CV_ = vectorizer_.fit_transform(X_train)\r\n",
        "X_test_CV_ = vectorizer_.transform(X_test)\r\n",
        "\r\n",
        "\r\n",
        "lr_model_ = lr_.fit(X_train_CV_, y_train)\r\n",
        "lr_model_.score(X_train_CV_, y_train), lr_model_.score(X_test_CV_, y_test)"
      ],
      "execution_count": 25,
      "outputs": [
        {
          "output_type": "execute_result",
          "data": {
            "text/plain": [
              "(0.9536342894393742, 0.8631141530188218)"
            ]
          },
          "metadata": {
            "tags": []
          },
          "execution_count": 25
        }
      ]
    },
    {
      "cell_type": "code",
      "metadata": {
        "colab": {
          "base_uri": "https://localhost:8080/"
        },
        "id": "pfQi1dtPMckO",
        "outputId": "58997d49-c5d5-475c-f213-8e7f76f8576e"
      },
      "source": [
        "X_test_CV_"
      ],
      "execution_count": 26,
      "outputs": [
        {
          "output_type": "execute_result",
          "data": {
            "text/plain": [
              "<4091x13712 sparse matrix of type '<class 'numpy.int64'>'\n",
              "\twith 28842 stored elements in Compressed Sparse Row format>"
            ]
          },
          "metadata": {
            "tags": []
          },
          "execution_count": 26
        }
      ]
    },
    {
      "cell_type": "markdown",
      "metadata": {
        "id": "1pOU1C7vDDI-"
      },
      "source": [
        "Test the model using TfidfVectorizer instead of Countvectorizer, and repeat steps 7 and 8. Which preprocessing method gives you the best results on the test set? Are the scores very different on this dataset?"
      ]
    },
    {
      "cell_type": "code",
      "metadata": {
        "colab": {
          "base_uri": "https://localhost:8080/"
        },
        "id": "ECYG4f96OkG3",
        "outputId": "a39c3625-4ea1-4bf8-e493-7a9dd52bf9fc"
      },
      "source": [
        "lr_2 = LogisticRegression(max_iter=200)\r\n",
        "tvectorizer_ = TfidfVectorizer(stop_words=stopwordsenglish)\r\n",
        "\r\n",
        "X_train_CV_2 = tvectorizer_.fit_transform(X_train)\r\n",
        "X_test_CV_2 = tvectorizer_.transform(X_test)\r\n",
        "\r\n",
        "\r\n",
        "lr_model_2 = lr_2.fit(X_train_CV_2, y_train)\r\n",
        "lr_model_2.score(X_train_CV_2, y_train), lr_model_2.score(X_test_CV_2, y_test)"
      ],
      "execution_count": 27,
      "outputs": [
        {
          "output_type": "execute_result",
          "data": {
            "text/plain": [
              "(0.9275586701434159, 0.8655585431434857)"
            ]
          },
          "metadata": {
            "tags": []
          },
          "execution_count": 27
        }
      ]
    },
    {
      "cell_type": "code",
      "metadata": {
        "colab": {
          "base_uri": "https://localhost:8080/"
        },
        "id": "SGIKXlfmO5JT",
        "outputId": "03c8be8f-9ba3-43b0-b0e0-3bfb3d4ee908"
      },
      "source": [
        "X_train_CV_2"
      ],
      "execution_count": 28,
      "outputs": [
        {
          "output_type": "execute_result",
          "data": {
            "text/plain": [
              "<12272x13712 sparse matrix of type '<class 'numpy.float64'>'\n",
              "\twith 95192 stored elements in Compressed Sparse Row format>"
            ]
          },
          "metadata": {
            "tags": []
          },
          "execution_count": 28
        }
      ]
    },
    {
      "cell_type": "markdown",
      "metadata": {
        "id": "Tb66jRcdDZJW"
      },
      "source": [
        "Bonus step: try to display 10 tweets that were badly predicted (false positive or false negative). Would you have done better than the algorithm?\r\n"
      ]
    },
    {
      "cell_type": "code",
      "metadata": {
        "id": "i-QAdgsaO_4f"
      },
      "source": [
        "X_all = tvectorizer_.transform(X)\r\n",
        "preds = lr_model_2.predict(X_all)"
      ],
      "execution_count": 29,
      "outputs": []
    },
    {
      "cell_type": "code",
      "metadata": {
        "id": "OKgEHCu-O_sq"
      },
      "source": [
        "df['preds'] = preds"
      ],
      "execution_count": 30,
      "outputs": []
    },
    {
      "cell_type": "code",
      "metadata": {
        "colab": {
          "base_uri": "https://localhost:8080/",
          "height": 353
        },
        "id": "-GMdaPmWPOUk",
        "outputId": "5abf91f1-bd5f-4243-9307-d489121fa318"
      },
      "source": [
        "df[df['sentiment'] != df['preds']].head(10)"
      ],
      "execution_count": 31,
      "outputs": [
        {
          "output_type": "execute_result",
          "data": {
            "text/html": [
              "<div>\n",
              "<style scoped>\n",
              "    .dataframe tbody tr th:only-of-type {\n",
              "        vertical-align: middle;\n",
              "    }\n",
              "\n",
              "    .dataframe tbody tr th {\n",
              "        vertical-align: top;\n",
              "    }\n",
              "\n",
              "    .dataframe thead th {\n",
              "        text-align: right;\n",
              "    }\n",
              "</style>\n",
              "<table border=\"1\" class=\"dataframe\">\n",
              "  <thead>\n",
              "    <tr style=\"text-align: right;\">\n",
              "      <th></th>\n",
              "      <th>textID</th>\n",
              "      <th>text</th>\n",
              "      <th>selected_text</th>\n",
              "      <th>sentiment</th>\n",
              "      <th>lemma</th>\n",
              "      <th>preds</th>\n",
              "    </tr>\n",
              "  </thead>\n",
              "  <tbody>\n",
              "    <tr>\n",
              "      <th>17</th>\n",
              "      <td>919fa93391</td>\n",
              "      <td>i`ve been sick for the past few days  and thus...</td>\n",
              "      <td>sick</td>\n",
              "      <td>negative</td>\n",
              "      <td>i`ve be sick for the past few day   and thus ,...</td>\n",
              "      <td>positive</td>\n",
              "    </tr>\n",
              "    <tr>\n",
              "      <th>76</th>\n",
              "      <td>35f393a245</td>\n",
              "      <td>WOW, i AM REALLY MiSSiN THE FAM(iLY) TODAY. BA...</td>\n",
              "      <td>BADDD.</td>\n",
              "      <td>negative</td>\n",
              "      <td>wow , i am really missin the fam(ily ) today ....</td>\n",
              "      <td>positive</td>\n",
              "    </tr>\n",
              "    <tr>\n",
              "      <th>103</th>\n",
              "      <td>fd9fb4f1ad</td>\n",
              "      <td>i realy wanted to go out cause its so nice but...</td>\n",
              "      <td>busy</td>\n",
              "      <td>negative</td>\n",
              "      <td>i realy want to go out cause -PRON- so nice bu...</td>\n",
              "      <td>positive</td>\n",
              "    </tr>\n",
              "    <tr>\n",
              "      <th>108</th>\n",
              "      <td>561b44a42f</td>\n",
              "      <td>have a safe trip joshy poo.......you`ll knock...</td>\n",
              "      <td>safe</td>\n",
              "      <td>positive</td>\n",
              "      <td>have a safe trip joshy poo ....... you`ll kn...</td>\n",
              "      <td>negative</td>\n",
              "    </tr>\n",
              "    <tr>\n",
              "      <th>124</th>\n",
              "      <td>f0460d611d</td>\n",
              "      <td>not well</td>\n",
              "      <td>not well</td>\n",
              "      <td>negative</td>\n",
              "      <td>not well</td>\n",
              "      <td>positive</td>\n",
              "    </tr>\n",
              "    <tr>\n",
              "      <th>125</th>\n",
              "      <td>6649f3558c</td>\n",
              "      <td>Not a prob hun</td>\n",
              "      <td>Not a prob</td>\n",
              "      <td>positive</td>\n",
              "      <td>not a prob hun</td>\n",
              "      <td>negative</td>\n",
              "    </tr>\n",
              "    <tr>\n",
              "      <th>148</th>\n",
              "      <td>ae71041e21</td>\n",
              "      <td>Candle wax is very enjoyable.</td>\n",
              "      <td>enjoyable.</td>\n",
              "      <td>positive</td>\n",
              "      <td>candle wax be very enjoyable .</td>\n",
              "      <td>negative</td>\n",
              "    </tr>\n",
              "    <tr>\n",
              "      <th>149</th>\n",
              "      <td>11c10e3fc5</td>\n",
              "      <td>She`s unassuming and unpretentious. She`s jus...</td>\n",
              "      <td>endearing-</td>\n",
              "      <td>positive</td>\n",
              "      <td>She`s unassuming and unpretentious . She`s j...</td>\n",
              "      <td>negative</td>\n",
              "    </tr>\n",
              "    <tr>\n",
              "      <th>178</th>\n",
              "      <td>9d3a1e0269</td>\n",
              "      <td>really hopes her car`s illness is not terminal...</td>\n",
              "      <td>illness</td>\n",
              "      <td>negative</td>\n",
              "      <td>really hope -PRON- car`s illness be not termin...</td>\n",
              "      <td>positive</td>\n",
              "    </tr>\n",
              "    <tr>\n",
              "      <th>182</th>\n",
              "      <td>2bf5c7dba7</td>\n",
              "      <td>I VOTED!!! do u have a personal myspace? i ke...</td>\n",
              "      <td>i &lt;3 you. u helped me thru the hrdest time of ...</td>\n",
              "      <td>positive</td>\n",
              "      <td>-PRON- vote ! ! ! do u have a personal myspa...</td>\n",
              "      <td>negative</td>\n",
              "    </tr>\n",
              "  </tbody>\n",
              "</table>\n",
              "</div>"
            ],
            "text/plain": [
              "         textID  ...     preds\n",
              "17   919fa93391  ...  positive\n",
              "76   35f393a245  ...  positive\n",
              "103  fd9fb4f1ad  ...  positive\n",
              "108  561b44a42f  ...  negative\n",
              "124  f0460d611d  ...  positive\n",
              "125  6649f3558c  ...  negative\n",
              "148  ae71041e21  ...  negative\n",
              "149  11c10e3fc5  ...  negative\n",
              "178  9d3a1e0269  ...  positive\n",
              "182  2bf5c7dba7  ...  negative\n",
              "\n",
              "[10 rows x 6 columns]"
            ]
          },
          "metadata": {
            "tags": []
          },
          "execution_count": 31
        }
      ]
    }
  ]
}