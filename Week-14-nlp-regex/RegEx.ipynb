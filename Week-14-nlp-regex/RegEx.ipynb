{
  "nbformat": 4,
  "nbformat_minor": 0,
  "metadata": {
    "colab": {
      "name": "jpm_Copy of RegEx.ipynb",
      "provenance": [],
      "collapsed_sections": [],
      "include_colab_link": true
    },
    "kernelspec": {
      "name": "python3",
      "display_name": "Python 3"
    }
  },
  "cells": [
    {
      "cell_type": "markdown",
      "metadata": {
        "id": "view-in-github",
        "colab_type": "text"
      },
      "source": [
        "<a href=\"https://colab.research.google.com/github/james-monahan/Code-school-notebooks/blob/main/Week-14-nlp-regex/RegEx.ipynb\" target=\"_parent\"><img src=\"https://colab.research.google.com/assets/colab-badge.svg\" alt=\"Open In Colab\"/></a>"
      ]
    },
    {
      "cell_type": "code",
      "metadata": {
        "id": "qZRZHUqjxhvH"
      },
      "source": [
        "import re"
      ],
      "execution_count": null,
      "outputs": []
    },
    {
      "cell_type": "code",
      "metadata": {
        "id": "u_1sj7UPxyTH"
      },
      "source": [
        "txt = \"\"\"\n",
        "Matrix (31/03/1999) - 130 minutes\n",
        "\n",
        "IMDB note 9/10 (https://www.imdb.com/title/tt0133093)\n",
        "\n",
        "Thomas A. Anderson (Keanu Reeves), a young computer scientist known in the hacking world as Neo, is contacted via his computer by what he thinks is a group of hackers. They make him discover that the world he lives in is only a virtual world, the matrix, in which human beings are kept under control.\n",
        "\n",
        "Morpheus (Laurence Fishburne), the captain of the Nebuchadnezzar, contacts Neo and believes he is the Chosen One who can free human beings from the yoke of machines and take control of the Matrix.\n",
        "\n",
        "\"\"\""
      ],
      "execution_count": null,
      "outputs": []
    },
    {
      "cell_type": "code",
      "metadata": {
        "id": "YKZevioT1sKN",
        "colab": {
          "base_uri": "https://localhost:8080/"
        },
        "outputId": "afd57d32-bf15-4555-aed0-195a636849ac"
      },
      "source": [
        "# Example of how to use the regex library in python.\n",
        "\n",
        "# Finding all occurrances of \"Matrix\":\n",
        "number_of_occurances = len(re.findall(\"Matrix\", txt))\n",
        "print(f'The word \"Matrix\" appears {number_of_occurances} times in the text.')\n",
        "\n",
        "# Finding how many numbers are in the text:\n",
        "number_of_occurances = len(re.findall(\"[0-9]\", txt))\n",
        "print(f'There are {number_of_occurances} total numbers within the text.')"
      ],
      "execution_count": null,
      "outputs": [
        {
          "output_type": "stream",
          "text": [
            "The word \"Matrix\" appears 2 times in the text.\n",
            "There are 21 total numbers within the text.\n"
          ],
          "name": "stdout"
        }
      ]
    },
    {
      "cell_type": "code",
      "metadata": {
        "id": "1jSIbBgAzP03",
        "colab": {
          "base_uri": "https://localhost:8080/"
        },
        "outputId": "29399b89-8da6-44c9-96d2-8a9bc78d97c2"
      },
      "source": [
        "# Task 1: Make a regular expression that counts the amount of times that Neo's middle name appears\n",
        "# (i.e. the \"A.\" of \"Thomas A. Anderson\")\n",
        "number_of_occurances = len(re.findall(\"A\\.\", txt))\n",
        "print(f'The word \"A.\" appears {number_of_occurances} times in the text.')"
      ],
      "execution_count": null,
      "outputs": [
        {
          "output_type": "stream",
          "text": [
            "The word \"A.\" appears 1 times in the text.\n"
          ],
          "name": "stdout"
        }
      ]
    },
    {
      "cell_type": "code",
      "metadata": {
        "id": "9drf__hB087f",
        "colab": {
          "base_uri": "https://localhost:8080/"
        },
        "outputId": "80b5d72e-f111-4b86-8c2e-f43e2b403a45"
      },
      "source": [
        "# Task 2: Make a regular expression that counts the amount of times a date appears in the document.\n",
        "# HINT: Do not look for the date itself but rather for two digits and a slash followed by another two digits and a slash followed by four digits.\n",
        "number_of_occurances = len(re.findall(\"\\d{2}/\\d{2}/\\d{4}\", txt))\n",
        "print(f'Dates appear {number_of_occurances} times in the text.')"
      ],
      "execution_count": null,
      "outputs": [
        {
          "output_type": "stream",
          "text": [
            "Dates appear 1 times in the text.\n"
          ],
          "name": "stdout"
        }
      ]
    },
    {
      "cell_type": "code",
      "metadata": {
        "id": "SoMfXTCY1Iw7",
        "colab": {
          "base_uri": "https://localhost:8080/"
        },
        "outputId": "1a8b30d8-345a-42ae-9715-ccc92864449a"
      },
      "source": [
        "# Task 3: Make a regular expression that looks for a date in the text, without selecting the year of that date.\n",
        "# HINT: It is not a question of searching directly for the date itself, but rather looking for a number and a slash followed by two numbers.\n",
        "number_of_occurances = len(re.findall(\"\\d(\\d)?/\\d{2}\", txt))\n",
        "print(f'Dates appear {number_of_occurances} times in the text.')"
      ],
      "execution_count": null,
      "outputs": [
        {
          "output_type": "stream",
          "text": [
            "Dates appear 2 times in the text.\n"
          ],
          "name": "stdout"
        }
      ]
    },
    {
      "cell_type": "code",
      "metadata": {
        "id": "KbfFWJnu1abL",
        "colab": {
          "base_uri": "https://localhost:8080/"
        },
        "outputId": "f89f9c6a-f473-4195-f822-758a4288fe2a"
      },
      "source": [
        "# Task 4: Find the regular expression that returns words with at least 14 characters.\n",
        "number_of_occurances = len(re.findall(\"\\w{14,}\", txt))\n",
        "print(f'14 or more char appear {number_of_occurances} times in the text.')"
      ],
      "execution_count": null,
      "outputs": [
        {
          "output_type": "stream",
          "text": [
            "14 or more char appear 1 times in the text.\n"
          ],
          "name": "stdout"
        }
      ]
    },
    {
      "cell_type": "code",
      "metadata": {
        "id": "2piF8ByC1hBK",
        "colab": {
          "base_uri": "https://localhost:8080/"
        },
        "outputId": "a4fd2e8d-8f3d-417f-95f0-30c0daa9ead9"
      },
      "source": [
        "# Task 5: Find the regular expression that selects only the unique parts of the following links:\n",
        "# https://www.imdb.com/title/tt0133093\n",
        "# https://www.imdb.com/title/tt0167261\n",
        "# https://www.imdb.com/title/tt0468569\n",
        "# For example, the three strings that should be extracted are \"tt0133093\", \"tt0167261\", and \"tt0468569\"\n",
        "# INSERT CODE HERE\n",
        "matches = re.findall(\"https://.+/(?P<name>.+\\d)\", txt)\n",
        "matches"
      ],
      "execution_count": null,
      "outputs": [
        {
          "output_type": "execute_result",
          "data": {
            "text/plain": [
              "['tt0133093']"
            ]
          },
          "metadata": {
            "tags": []
          },
          "execution_count": 50
        }
      ]
    }
  ]
}