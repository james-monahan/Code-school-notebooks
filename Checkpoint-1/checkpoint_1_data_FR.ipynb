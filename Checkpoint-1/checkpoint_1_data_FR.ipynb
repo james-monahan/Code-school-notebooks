{
  "nbformat": 4,
  "nbformat_minor": 0,
  "metadata": {
    "colab": {
      "name": "pour finir of submit of checkpoint 1 data FR.ipynb",
      "provenance": [],
      "collapsed_sections": [],
      "include_colab_link": true
    },
    "kernelspec": {
      "name": "python3",
      "display_name": "Python 3"
    }
  },
  "cells": [
    {
      "cell_type": "markdown",
      "metadata": {
        "id": "view-in-github",
        "colab_type": "text"
      },
      "source": [
        "<a href=\"https://colab.research.google.com/github/james-monahan/Code-school-notebooks/blob/main/Checkpoint-1/checkpoint_1_data_FR.ipynb\" target=\"_parent\"><img src=\"https://colab.research.google.com/assets/colab-badge.svg\" alt=\"Open In Colab\"/></a>"
      ]
    },
    {
      "cell_type": "markdown",
      "metadata": {
        "id": "TYrzh-8uK9ib"
      },
      "source": [
        "C'est ton premier checkpoint.\n",
        "Les 5 exercices sont indépendants. Tu peux donc les effectuer dans l'ordre que tu préfères.\n",
        "\n",
        "Essaye de finir ce checkpoint en 3h30. Si tu n'as pas tout fini, ce n'est pas grave. Tu pourras le reprendre plus tard, tu indiqueras simplement en commentaire ce que tu as fait a posteriori."
      ]
    },
    {
      "cell_type": "markdown",
      "metadata": {
        "id": "815_otfHPX5a"
      },
      "source": [
        "#SQL"
      ]
    },
    {
      "cell_type": "markdown",
      "metadata": {
        "id": "b2l_0IGPQgpp"
      },
      "source": [
        "A partir de la base de données client que [tu trouveras ici](https://www.w3schools.com/sql/trysql.asp?filename=trysql_op_in), crée une requête SQL qui fournit les noms de chaque catégorie, le chiffre d'affaire associé à cette catégorie, et le prix moyen pondéré des produits vendus pour cette catégorie. \n",
        "\n",
        "Le chiffre d'affaire sera arrondi à l'unité la plus proche, et le prix moyen comportera 2 décimales.\n",
        "\n",
        "Ce tableau devra être trié pour avoir les catégories avec le chiffre d'affaire le plus élevé en premier.\n",
        "\n",
        "Le code SQL devra être copié / collé dans un bloc de code ci-dessous.\n",
        "\n",
        "\n",
        "\n",
        "*** Voici les premières lignes attendues ***\n",
        "*********************\n",
        "\n",
        "Categories | Chiffre_d_affaire | Prix_moyen\n",
        "- |:-: | -:\n",
        "Beverages | 99465 | 43.45\n",
        "Dairy Products | 69921 | 26.88\n",
        "... | ... | ...\n",
        "\n",
        "Le lien précédent te permet de travailler directement dans ton navigateur (Chrome uniquement, ne fonctionne pas sur Firefox). Si tu préfères travailler en local sur MySQL Workbench, [voici un script pour charger la base](\n",
        "https://github.com/AndrejPHP/w3schools-database/blob/master/w3schools.sql)."
      ]
    },
    {
      "cell_type": "code",
      "metadata": {
        "id": "bRd5eTTlPZIZ"
      },
      "source": [
        "SELECT c.CategoryName, p.price, od.quantity,\n",
        "p.price * od.quantity AS turnover, ROUND(SUM(p.price * od.quantity) / SUM(od.quantity),2) AS w_avg_price\n",
        "FROM Categories as c\n",
        "JOIN Products as p\n",
        "ON p.CategoryID = c.CategoryID\n",
        "JOIN OrderDetails as od\n",
        "ON od.ProductID = p.productid\n",
        "JOIN orders AS o\n",
        "ON o.orderid = od.orderid\n",
        "\n",
        "GROUP BY c.CategoryName\n",
        "ORDER BY turnover DESC\n",
        "\n"
      ],
      "execution_count": null,
      "outputs": []
    },
    {
      "cell_type": "markdown",
      "metadata": {
        "id": "JnOBqXLAHJju"
      },
      "source": [
        "# Tableur"
      ]
    },
    {
      "cell_type": "markdown",
      "metadata": {
        "id": "i-astmsSHLGn"
      },
      "source": [
        "Le responsable du reporting mensuel est absent, et il faut absolument envoyer le reporting de chiffre d'affaire (quantité * prix de chaque produit) aujourd'hui... mais impossible de remettre la main sur le fichier du mois dernier !\n",
        "\n",
        "Heureusement, tu as trouvé comment extraire les données, [tu les trouveras ici.](https://docs.google.com/spreadsheets/d/1T7zh6Swn4Yj8Feu-xcp-B7xeOQfBoBSWn7sRjx07GvI/edit?usp=sharing)\n",
        "\n",
        "Tu vas maintenant devoir recréer un graphique qui ressemblera au maximum à celui-ci, mais en incluant les données de septembre 2020. Tu en profiteras pour ajouter l'affichage des mois sous les colonnes. Tu essaieras au maximum d'utiliser les tableaux croisés dynamiques pour faire ca.\n",
        "\n",
        "Tu incluras l'image du graphique dans ce notebook, et tu indiqueras également le lien de ton google spreadsheet que tu auras pris soin de partager.\n",
        "\n",
        "![Tableur checkpoint](https://github.com/murpi/wilddata/raw/master/checkpoint1_withoutdate.png)"
      ]
    },
    {
      "cell_type": "code",
      "metadata": {
        "id": "O0YtFiU3ZeoR"
      },
      "source": [
        "#  https://docs.google.com/spreadsheets/d/11fuZLP6eBJr79XnMNb-of5gOJCKSFG6R9TwZnfpyQes/edit?usp=sharing"
      ],
      "execution_count": null,
      "outputs": []
    },
    {
      "cell_type": "code",
      "metadata": {
        "id": "6Vz53Mq3Zecj",
        "colab": {
          "base_uri": "https://localhost:8080/",
          "height": 34
        },
        "outputId": "6ad388ac-9762-4239-c971-32d3a6b6a81c"
      },
      "source": [
        "from google.colab import drive\n",
        "drive.mount('/content/drive')"
      ],
      "execution_count": null,
      "outputs": [
        {
          "output_type": "stream",
          "text": [
            "Mounted at /content/drive\n"
          ],
          "name": "stdout"
        }
      ]
    },
    {
      "cell_type": "code",
      "metadata": {
        "id": "URg0qhg0aK8j",
        "colab": {
          "base_uri": "https://localhost:8080/",
          "height": 452
        },
        "outputId": "5f5978aa-11d4-43fe-845d-2db85bcdfc79"
      },
      "source": [
        "from IPython.display import Image\n",
        "\n",
        "Image(filename='/content/drive/My Drive/CA mensuel.png')"
      ],
      "execution_count": null,
      "outputs": [
        {
          "output_type": "execute_result",
          "data": {
            "image/png": "[encoded data removed]",
            "text/plain": [
              "<IPython.core.display.Image object>"
            ]
          },
          "metadata": {
            "tags": []
          },
          "execution_count": 2
        }
      ]
    },
    {
      "cell_type": "markdown",
      "metadata": {
        "id": "YSAw1n0NNBrc"
      },
      "source": [
        "#NUMPY\n",
        "Exécute le code suivant, puis réponds aux questions.\n",
        "\n",
        "La matrice contient 12 colonnes correspondant chacune à un mois de l'année, et 31 lignes. Attention, certaines lignes ont des valeurs nulles pour les mois de 28 et 30 jours."
      ]
    },
    {
      "cell_type": "code",
      "metadata": {
        "id": "W35UE3f6BhC2",
        "colab": {
          "base_uri": "https://localhost:8080/",
          "height": 34
        },
        "outputId": "49ab87d5-750c-4859-ce93-701804f2f31c"
      },
      "source": [
        "# Exécute le code ci-dessous sans rien modifier\n",
        "import numpy as np\n",
        "import pandas as pd\n",
        "temperatures_df = pd.read_csv(\"https://raw.githubusercontent.com/murpi/wilddata/master/temp2019.csv\", skiprows = 3)\n",
        "temperatures_df['jour'] = temperatures_df['DATE'].apply(lambda x: x[8:10])\n",
        "temperatures_df['mois'] = temperatures_df['DATE'].apply(lambda x: x[5:7])\n",
        "temperatures_array = temperatures_df.pivot_table(values = 'MAX_TEMPERATURE_C', index = 'jour' , columns='mois').to_numpy()\n",
        "print(\"C'est chargé, ta matrice numpy est disponible sous le nom de variable : temperatures_array\")\n",
        "df = temperatures_df\n"
      ],
      "execution_count": null,
      "outputs": [
        {
          "output_type": "stream",
          "text": [
            "C'est chargé, ta matrice numpy est disponible sous le nom de variable : temperatures_array\n"
          ],
          "name": "stdout"
        }
      ]
    },
    {
      "cell_type": "markdown",
      "metadata": {
        "id": "H-azX8nUNO9_"
      },
      "source": [
        "Questions"
      ]
    },
    {
      "cell_type": "code",
      "metadata": {
        "id": "gXAfaemhNkzC",
        "colab": {
          "base_uri": "https://localhost:8080/",
          "height": 68
        },
        "outputId": "a34acbc2-98ab-41e6-b18d-5d59973a0eda"
      },
      "source": [
        "# Affiche un array numpy à partir de l'array \"temperatures_array\", \n",
        "# avec le nombre de jours par mois où la température a été inférieure à 10 degrés.*\n",
        "np.sum(temperatures_array<10, axis=0)"
      ],
      "execution_count": null,
      "outputs": [
        {
          "output_type": "stream",
          "text": [
            "/usr/local/lib/python3.6/dist-packages/ipykernel_launcher.py:3: RuntimeWarning: invalid value encountered in less\n",
            "  This is separate from the ipykernel package so we can avoid doing imports until\n"
          ],
          "name": "stderr"
        },
        {
          "output_type": "execute_result",
          "data": {
            "text/plain": [
              "array([23,  4,  0,  1,  0,  0,  0,  0,  0,  0,  7,  7])"
            ]
          },
          "metadata": {
            "tags": []
          },
          "execution_count": 144
        }
      ]
    },
    {
      "cell_type": "code",
      "metadata": {
        "id": "VOm89Ud0N2ww",
        "colab": {
          "base_uri": "https://localhost:8080/",
          "height": 102
        },
        "outputId": "bff40f09-6bd4-4d96-9a65-9f7e18fd9d7f"
      },
      "source": [
        "# Idem avec la température entre 12 et 20 degrés\n",
        "#print(np.count_nonzero((temperatures_array>=12) & (temperatures_array<=20), axis=0))\n",
        "np.sum((temperatures_array>=12) & (temperatures_array<=20), axis=0)"
      ],
      "execution_count": null,
      "outputs": [
        {
          "output_type": "stream",
          "text": [
            "/usr/local/lib/python3.6/dist-packages/ipykernel_launcher.py:4: RuntimeWarning: invalid value encountered in greater_equal\n",
            "  after removing the cwd from sys.path.\n",
            "/usr/local/lib/python3.6/dist-packages/ipykernel_launcher.py:4: RuntimeWarning: invalid value encountered in less_equal\n",
            "  after removing the cwd from sys.path.\n"
          ],
          "name": "stderr"
        },
        {
          "output_type": "execute_result",
          "data": {
            "text/plain": [
              "array([ 0, 18, 22, 21, 27, 17,  0,  2, 10, 30, 13, 12])"
            ]
          },
          "metadata": {
            "tags": []
          },
          "execution_count": 140
        }
      ]
    },
    {
      "cell_type": "code",
      "metadata": {
        "id": "-i5BncuMRJl1",
        "colab": {
          "base_uri": "https://localhost:8080/",
          "height": 68
        },
        "outputId": "9b396998-a339-4efe-c081-74467e6deff9"
      },
      "source": [
        "# Au total sur l'année, combien y a-t-il eu de jours où la température était supérieure à 20 degrés ?\n",
        "np.sum(temperatures_array>20)"
      ],
      "execution_count": null,
      "outputs": [
        {
          "output_type": "stream",
          "text": [
            "/usr/local/lib/python3.6/dist-packages/ipykernel_launcher.py:2: RuntimeWarning: invalid value encountered in greater\n",
            "  \n"
          ],
          "name": "stderr"
        },
        {
          "output_type": "execute_result",
          "data": {
            "text/plain": [
              "101"
            ]
          },
          "metadata": {
            "tags": []
          },
          "execution_count": 142
        }
      ]
    },
    {
      "cell_type": "code",
      "metadata": {
        "id": "zH697iMjN-lP",
        "colab": {
          "base_uri": "https://localhost:8080/",
          "height": 34
        },
        "outputId": "c48567af-1b95-4261-cb47-4ec1a6fea2df"
      },
      "source": [
        "# Quelle a été la température moyenne du mois de mars ?\n",
        "\n",
        "#I realized after the livecoding that this was not the good way, better to take the slice and then the mean\n",
        "np.mean(temperatures_array, axis=1)[2]"
      ],
      "execution_count": null,
      "outputs": [
        {
          "output_type": "execute_result",
          "data": {
            "text/plain": [
              "16.166666666666668"
            ]
          },
          "metadata": {
            "tags": []
          },
          "execution_count": 3
        }
      ]
    },
    {
      "cell_type": "code",
      "metadata": {
        "id": "T78pPHmQOGRp",
        "colab": {
          "base_uri": "https://localhost:8080/",
          "height": 34
        },
        "outputId": "3846967c-8d48-4dc7-f8bd-b14abe433d97"
      },
      "source": [
        "# Quelle a été la température minimale du mois de juin ?\n",
        "np.nanmin(temperatures_array, axis=0, )[5]\n"
      ],
      "execution_count": null,
      "outputs": [
        {
          "output_type": "execute_result",
          "data": {
            "text/plain": [
              "15.0"
            ]
          },
          "metadata": {
            "tags": []
          },
          "execution_count": 124
        }
      ]
    },
    {
      "cell_type": "markdown",
      "metadata": {
        "id": "E_yz0X-2f1Ay"
      },
      "source": [
        "# POO"
      ]
    },
    {
      "cell_type": "markdown",
      "metadata": {
        "id": "LnAJMxmWf558"
      },
      "source": [
        "**Programmation orientée objet**\n",
        "\n",
        "Il t'est demandé de créer une nouvelle classe \"sentence\" qui va hériter de l'ensemble des méthodes de la classe \"str\" (*les chaines de caractères que tu connais bien en python*).\n",
        "\n",
        "Tu devras ajouter une méthode .clean() qui nettoyera les espaces en début et en fin de chaine, mettra en majuscule le premier caractère, et tous les autres caractères en minuscule, et ajoutera un point \".\" à la fin.\n",
        "\n",
        "Tu montreras le résultats en appliquant la méthode à la phrase ci-dessous.\n",
        "\n",
        "\n"
      ]
    },
    {
      "cell_type": "code",
      "metadata": {
        "id": "BWf81Swnf0OH",
        "colab": {
          "base_uri": "https://localhost:8080/",
          "height": 35
        },
        "outputId": "74dfa401-72d3-4cc9-8dfb-f180910141c1"
      },
      "source": [
        "# Tu mettras création de ta classe ici :\n",
        "class sentence(str):\n",
        "  def __init__(self, string):\n",
        "    super().__init__()\n",
        "  \n",
        "  def clean(self):\n",
        "    self = self.strip()\n",
        "    self = [val.lower() for val in self]\n",
        "    self[0] = self[0].upper()\n",
        "    self += '.'\n",
        "    return ''.join(self)\n",
        "\n",
        "\n",
        "# Ce code permettra de tester :\n",
        "variable = \" bonjour, AUJourd'hui c'EST le cheCKpoint   \"\n",
        "test = sentence(variable)\n",
        "test.clean()\n"
      ],
      "execution_count": null,
      "outputs": [
        {
          "output_type": "execute_result",
          "data": {
            "application/vnd.google.colaboratory.intrinsic+json": {
              "type": "string"
            },
            "text/plain": [
              "\"Bonjour, aujourd'hui c'est le checkpoint.\""
            ]
          },
          "metadata": {
            "tags": []
          },
          "execution_count": 125
        }
      ]
    },
    {
      "cell_type": "markdown",
      "metadata": {
        "id": "To2TYJGuPwc-"
      },
      "source": [
        "# Python et algorithmie"
      ]
    },
    {
      "cell_type": "markdown",
      "metadata": {
        "id": "B0XiM5wcQbY8"
      },
      "source": [
        "Ecris une fonction *monnaie_a_rendre()* qui prend deux arguments obligatoires : \n",
        "- montant de l'achat : float, supérieur à 0\n",
        "- monnaie du client : integer, supérieur à 0\n",
        "\n",
        "La fonction devra retourner la monnaie à rendre au client en un minimum de billets/pièces. \n",
        "\n",
        "Attention, si la monnaie du client est insuffisante (inférieure à l'achat), il faudra l'indiquer.\n",
        "\n",
        "Exemple : \n",
        "\n",
        "\n",
        "```\n",
        "monnaie_a_rendre(26.57 , 40)\n",
        ">>> Nb billets 10 euros : 1\n",
        ">>> Nb pièces 2 euros : 1\n",
        ">>> Nb pièces 1 euro : 1\n",
        ">>> Nb pièces 20 cents : 2\n",
        ">>> Nb pièces 2 cents : 1\n",
        ">>> Nb pièces 1 cent : 1\n",
        "```\n",
        "\n"
      ]
    },
    {
      "cell_type": "code",
      "metadata": {
        "id": "p-s6Nm4SzC09",
        "colab": {
          "base_uri": "https://localhost:8080/",
          "height": 119
        },
        "outputId": "f08cbaf5-a3b4-4b0a-da85-23d541d5b046"
      },
      "source": [
        "# Ta fonction ici :\n",
        "def monnaie_a_rendre(cost, money):\n",
        "  if money < cost:\n",
        "    print('insufficent funds')\n",
        "  elif money == cost:\n",
        "    print('no change')\n",
        "  else:\n",
        "    change = cost-money\n",
        "  \n",
        "  change = change*-1\n",
        "  change_given_paper = []\n",
        "  change_given_coins = []\n",
        "  notes = [500.0, 200.0, 100.0, 50.0, 20.0, 10.0, 5.0]\n",
        "  for i in range(len(notes)):\n",
        "    while change >= notes[i]:\n",
        "      change_given_paper.append(notes[i])\n",
        "      change = change-notes[i]\n",
        "  change = round(change,2)\n",
        "  coins = [2.0, 1.0, .5, .1, .05, .02, .01]\n",
        "  for i in range(len(coins)):\n",
        "    while change >= coins[i]:\n",
        "      change_given_coins.append(coins[i])\n",
        "      change -= coins[i]\n",
        "  \n",
        "  counts_paper = []\n",
        "  for val in change_given_paper:\n",
        "    counts_paper.append((val, change_given_paper.count(val))) \n",
        "  counts_coins = []\n",
        "  for val in change_given_coins:\n",
        "    counts_coins.append((val, change_given_coins.count(val))) \n",
        "\n",
        "\n",
        "  [print(f\"Nb billets {val[0]} : {val[1]}\") for val in sorted(set(counts_paper))]\n",
        "  [print(f\"Nb cents {val[0]} : {val[1]}\") for val in sorted(set(counts_coins))]\n",
        "\n",
        "\n",
        "monnaie_a_rendre(26.57 , 40)\n"
      ],
      "execution_count": null,
      "outputs": [
        {
          "output_type": "stream",
          "text": [
            "Nb billets 10.0 : 1\n",
            "Nb cents 0.01 : 1\n",
            "Nb cents 0.02 : 1\n",
            "Nb cents 0.1 : 4\n",
            "Nb cents 1.0 : 1\n",
            "Nb cents 2.0 : 1\n"
          ],
          "name": "stdout"
        }
      ]
    },
    {
      "cell_type": "code",
      "metadata": {
        "id": "jgf45NnuDyEb"
      },
      "source": [
        ""
      ],
      "execution_count": null,
      "outputs": []
    }
  ]
}