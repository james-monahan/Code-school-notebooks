{
  "nbformat": 4,
  "nbformat_minor": 0,
  "metadata": {
    "colab": {
      "name": "jpm_Copy of Date and Time.ipynb",
      "provenance": [],
      "collapsed_sections": [],
      "include_colab_link": true
    },
    "kernelspec": {
      "name": "python3",
      "display_name": "Python 3"
    }
  },
  "cells": [
    {
      "cell_type": "markdown",
      "metadata": {
        "id": "view-in-github",
        "colab_type": "text"
      },
      "source": [
        "<a href=\"https://colab.research.google.com/github/james-monahan/Code-school-notebooks/blob/main/Week-8-pandas-sql/Date_and_Time.ipynb\" target=\"_parent\"><img src=\"https://colab.research.google.com/assets/colab-badge.svg\" alt=\"Open In Colab\"/></a>"
      ]
    },
    {
      "cell_type": "markdown",
      "metadata": {
        "id": "t0bLJ1JMgmzT"
      },
      "source": [
        "# Imports"
      ]
    },
    {
      "cell_type": "code",
      "metadata": {
        "id": "mWNA7zJHgqUB"
      },
      "source": [
        "from datetime import datetime\n",
        "from datetime import timedelta\n",
        "import pandas as pd\n",
        "import seaborn as sns"
      ],
      "execution_count": null,
      "outputs": []
    },
    {
      "cell_type": "markdown",
      "metadata": {
        "id": "FL-eDQnxgsug"
      },
      "source": [
        "# You have to convert each string variable into datetime objects"
      ]
    },
    {
      "cell_type": "code",
      "metadata": {
        "id": "gRsiQWy1hFaz",
        "colab": {
          "base_uri": "https://localhost:8080/"
        },
        "outputId": "f1d1e74f-f4d1-4180-de34-163c7e106d44"
      },
      "source": [
        "var1 = '2018-01-04'\n",
        "print(type(var1))\n",
        "print(var1)"
      ],
      "execution_count": null,
      "outputs": [
        {
          "output_type": "stream",
          "text": [
            "<class 'str'>\n",
            "2018-01-04\n"
          ],
          "name": "stdout"
        }
      ]
    },
    {
      "cell_type": "code",
      "metadata": {
        "id": "817Nim6FgvF4",
        "colab": {
          "base_uri": "https://localhost:8080/"
        },
        "outputId": "2944f423-4e72-4b15-bbca-d4b56621b3c0"
      },
      "source": [
        "# It's up to you :\n",
        "var1 = datetime.strptime(var1, '%Y-%m-%d')\n",
        "print(type(var1))\n",
        "print(var1)"
      ],
      "execution_count": null,
      "outputs": [
        {
          "output_type": "stream",
          "text": [
            "<class 'datetime.datetime'>\n",
            "2018-01-04 00:00:00\n"
          ],
          "name": "stdout"
        }
      ]
    },
    {
      "cell_type": "code",
      "metadata": {
        "id": "-m_HBQQRhfrO",
        "colab": {
          "base_uri": "https://localhost:8080/"
        },
        "outputId": "a1ab8d93-59ae-4925-98a7-e80682ae6fe6"
      },
      "source": [
        "var2 = '14/02/2019'\n",
        "var2 = datetime.strptime(var2, '%d/%m/%Y')\n",
        "print(type(var2))\n",
        "print(var2)"
      ],
      "execution_count": null,
      "outputs": [
        {
          "output_type": "stream",
          "text": [
            "<class 'datetime.datetime'>\n",
            "2019-02-14 00:00:00\n"
          ],
          "name": "stdout"
        }
      ]
    },
    {
      "cell_type": "code",
      "metadata": {
        "id": "-UWufd5WhrXh",
        "colab": {
          "base_uri": "https://localhost:8080/"
        },
        "outputId": "c03bfd8d-e768-4069-dff7-0db9bd73e4a7"
      },
      "source": [
        "var3 = '14 03 20'\n",
        "var3 = datetime.strptime(var3, '%d %m %y')\n",
        "print(type(var3))\n",
        "print(var3)\n"
      ],
      "execution_count": null,
      "outputs": [
        {
          "output_type": "stream",
          "text": [
            "<class 'datetime.datetime'>\n",
            "2020-03-14 00:00:00\n"
          ],
          "name": "stdout"
        }
      ]
    },
    {
      "cell_type": "code",
      "metadata": {
        "id": "KIDWq6hXh8sL",
        "colab": {
          "base_uri": "https://localhost:8080/"
        },
        "outputId": "82efef8c-8632-45e1-a9f9-8dbf9c56149e"
      },
      "source": [
        "var4 = '14/02/2019 21:30'\n",
        "var4 = datetime.strptime(var4, '%d/%m/%Y %H:%M')\n",
        "print(type(var4))\n",
        "print(var4)"
      ],
      "execution_count": null,
      "outputs": [
        {
          "output_type": "stream",
          "text": [
            "<class 'datetime.datetime'>\n",
            "2019-02-14 21:30:00\n"
          ],
          "name": "stdout"
        }
      ]
    },
    {
      "cell_type": "code",
      "metadata": {
        "id": "9N-VqO3DiA9y",
        "colab": {
          "base_uri": "https://localhost:8080/"
        },
        "outputId": "a9e7ad46-5096-4523-d431-da12e4599a8c"
      },
      "source": [
        "var5 = '2018-01-04 at 18 hours and 48 min'\n",
        "var5 = datetime.strptime(var5, '%Y-%m-%d at %H hours and %M min')\n",
        "print(type(var5))\n",
        "print(var5)"
      ],
      "execution_count": null,
      "outputs": [
        {
          "output_type": "stream",
          "text": [
            "<class 'datetime.datetime'>\n",
            "2018-01-04 18:48:00\n"
          ],
          "name": "stdout"
        }
      ]
    },
    {
      "cell_type": "markdown",
      "metadata": {
        "id": "6xa7YX8AivRC"
      },
      "source": [
        "# You have to convert a datetime object into string with precise format"
      ]
    },
    {
      "cell_type": "code",
      "metadata": {
        "id": "ZqAwQbGKi8Og",
        "colab": {
          "base_uri": "https://localhost:8080/"
        },
        "outputId": "5dc20f06-634c-47d8-d3fb-7d8453134d21"
      },
      "source": [
        "var_date = datetime.strptime('2020-02-15 20:05', '%Y-%m-%d %H:%M')\n",
        "print(var_date)"
      ],
      "execution_count": null,
      "outputs": [
        {
          "output_type": "stream",
          "text": [
            "2020-02-15 20:05:00\n"
          ],
          "name": "stdout"
        }
      ]
    },
    {
      "cell_type": "code",
      "metadata": {
        "id": "Te-biE9gjkj8",
        "colab": {
          "base_uri": "https://localhost:8080/"
        },
        "outputId": "84f6779e-db1c-4158-f086-79aec3828337"
      },
      "source": [
        "# We would like to print this format : 15/02/2020\n",
        "var_date2 = datetime.strftime(var_date, '%d/%m/%Y')\n",
        "print(var_date2)\n"
      ],
      "execution_count": null,
      "outputs": [
        {
          "output_type": "stream",
          "text": [
            "15/02/2020\n"
          ],
          "name": "stdout"
        }
      ]
    },
    {
      "cell_type": "code",
      "metadata": {
        "id": "YaKMyjwcjwQE",
        "colab": {
          "base_uri": "https://localhost:8080/"
        },
        "outputId": "35dbe132-59a6-40ec-e8f9-716f43c14460"
      },
      "source": [
        "# We would like to print this format : 15-02-2020\n",
        "var_date3 = datetime.strftime(var_date, '%d-%m-%Y')\n",
        "print(var_date3)\n"
      ],
      "execution_count": null,
      "outputs": [
        {
          "output_type": "stream",
          "text": [
            "15-02-2020\n"
          ],
          "name": "stdout"
        }
      ]
    },
    {
      "cell_type": "code",
      "metadata": {
        "id": "-QuUBNpaj1ze",
        "colab": {
          "base_uri": "https://localhost:8080/"
        },
        "outputId": "7309ba07-5cb9-427e-9188-cfcbea14a2c2"
      },
      "source": [
        "# We would like to print this format : 15/02\n",
        "var_date4 = datetime.strftime(var_date, '%d/%m')\n",
        "print(var_date4)\n"
      ],
      "execution_count": null,
      "outputs": [
        {
          "output_type": "stream",
          "text": [
            "15/02\n"
          ],
          "name": "stdout"
        }
      ]
    },
    {
      "cell_type": "code",
      "metadata": {
        "id": "HkWp_pmbj2lw",
        "colab": {
          "base_uri": "https://localhost:8080/"
        },
        "outputId": "24db5734-aeed-4551-a427-b9290f8ccbbf"
      },
      "source": [
        "# We would like to print this format : 2020-02\n",
        "var_date5 = datetime.strftime(var_date, '%Y-%m')\n",
        "print(var_date5)\n"
      ],
      "execution_count": null,
      "outputs": [
        {
          "output_type": "stream",
          "text": [
            "2020-02\n"
          ],
          "name": "stdout"
        }
      ]
    },
    {
      "cell_type": "code",
      "metadata": {
        "id": "_wPUl9tvj3DX",
        "colab": {
          "base_uri": "https://localhost:8080/"
        },
        "outputId": "c84acd60-8975-4ed2-a208-bb03a7fe8c6a"
      },
      "source": [
        "# We would like to print this format : 2020-02-15 at 20:05\n",
        "var_date6 = datetime.strftime(var_date, '%Y-%m-%d at %H:%M')\n",
        "print(var_date6)"
      ],
      "execution_count": null,
      "outputs": [
        {
          "output_type": "stream",
          "text": [
            "2020-02-15 at 20:05\n"
          ],
          "name": "stdout"
        }
      ]
    },
    {
      "cell_type": "markdown",
      "metadata": {
        "id": "Bdh3lWC-kKeP"
      },
      "source": [
        "# Your mission is to determine which date it was / it will be"
      ]
    },
    {
      "cell_type": "code",
      "metadata": {
        "id": "mqjWPixhjRJt",
        "colab": {
          "base_uri": "https://localhost:8080/"
        },
        "outputId": "8adb14e1-d6f6-4cc5-8d5f-056ce5e90cc4"
      },
      "source": [
        "# what day will it be in 7 weeks ?\n",
        "print(datetime.strftime(datetime.now() + timedelta(weeks=7), '%A the %d of %B %Y'))"
      ],
      "execution_count": null,
      "outputs": [
        {
          "output_type": "stream",
          "text": [
            "Monday the 21 of December 2020\n"
          ],
          "name": "stdout"
        }
      ]
    },
    {
      "cell_type": "code",
      "metadata": {
        "id": "i9qsaEC7kdV_",
        "colab": {
          "base_uri": "https://localhost:8080/"
        },
        "outputId": "50687327-e2af-40d1-aaa0-a3b3664d916c"
      },
      "source": [
        "# what day will it be in 7 days ?\n",
        "print(datetime.strftime(datetime.now() + timedelta(days=7), '%A the %d of %B %Y'))"
      ],
      "execution_count": null,
      "outputs": [
        {
          "output_type": "stream",
          "text": [
            "Monday the 09 of November 2020\n"
          ],
          "name": "stdout"
        }
      ]
    },
    {
      "cell_type": "code",
      "metadata": {
        "id": "SJYZOuUikhIq",
        "colab": {
          "base_uri": "https://localhost:8080/"
        },
        "outputId": "d2a97573-242b-44cb-f341-2d7c1c26063c"
      },
      "source": [
        "# what day will it be in 72 hours ?\n",
        "print(datetime.strftime(datetime.now() + timedelta(hours=72), '%A the %d of %B %Y'))"
      ],
      "execution_count": null,
      "outputs": [
        {
          "output_type": "stream",
          "text": [
            "Thursday the 05 of November 2020\n"
          ],
          "name": "stdout"
        }
      ]
    },
    {
      "cell_type": "code",
      "metadata": {
        "id": "kdk858vtkljP",
        "colab": {
          "base_uri": "https://localhost:8080/"
        },
        "outputId": "14446809-3a57-429f-b477-c660a30ea6e7"
      },
      "source": [
        "# what date was 30 days ago ?\n",
        "print(datetime.strftime(datetime.now() + timedelta(days=-30), '%A the %d of %B %Y'))\n",
        "print(datetime.strftime(datetime.now() - timedelta(days=30), '%A the %d of %B %Y'))"
      ],
      "execution_count": null,
      "outputs": [
        {
          "output_type": "stream",
          "text": [
            "Saturday the 03 of October 2020\n",
            "Saturday the 03 of October 2020\n"
          ],
          "name": "stdout"
        }
      ]
    },
    {
      "cell_type": "code",
      "metadata": {
        "id": "EEORndhxkuA1",
        "colab": {
          "base_uri": "https://localhost:8080/"
        },
        "outputId": "8dfe7ed0-5b71-46bf-c8dd-8ba1763c7c7d"
      },
      "source": [
        "# what date was 30 weeks ago ?\n",
        "print(datetime.strftime(datetime.now() - timedelta(weeks=30), '%A the %d of %B %Y'))"
      ],
      "execution_count": null,
      "outputs": [
        {
          "output_type": "stream",
          "text": [
            "Monday the 06 of April 2020\n"
          ],
          "name": "stdout"
        }
      ]
    },
    {
      "cell_type": "markdown",
      "metadata": {
        "id": "vlbi8zDok3sp"
      },
      "source": [
        "# With Pandas\n",
        "\"DATE\" column has only string values. On a chart, the X-axis is not well displayed."
      ]
    },
    {
      "cell_type": "code",
      "metadata": {
        "id": "yd0cJVoLk3YZ",
        "colab": {
          "base_uri": "https://localhost:8080/",
          "height": 296
        },
        "outputId": "78d8bb9c-2a57-456a-b9bc-2e9f9a94d007"
      },
      "source": [
        "# Just execute the code below:\n",
        "df = pd.read_csv(\"https://raw.githubusercontent.com/murpi/wilddata/master/quests/weather2019.csv\")\n",
        "sns.scatterplot(data = df,\n",
        "                x = 'DATE',\n",
        "                y = 'MAX_TEMPERATURE_C')"
      ],
      "execution_count": null,
      "outputs": [
        {
          "output_type": "execute_result",
          "data": {
            "text/plain": [
              "<matplotlib.axes._subplots.AxesSubplot at 0x7f45d2fa1748>"
            ]
          },
          "metadata": {
            "tags": []
          },
          "execution_count": 63
        },
        {
          "output_type": "display_data",
          "data": {
            "image/png": "[encoded data removed]",
            "text/plain": [
              "<Figure size 432x288 with 1 Axes>"
            ]
          },
          "metadata": {
            "tags": [],
            "needs_background": "light"
          }
        }
      ]
    },
    {
      "cell_type": "code",
      "metadata": {
        "id": "-ZxwPNNelIJV",
        "colab": {
          "base_uri": "https://localhost:8080/",
          "height": 296
        },
        "outputId": "d734b5e4-28d0-4c63-bd0d-33c361e317e9"
      },
      "source": [
        "# Convert \"DATE\" column into a datetime format, then display the same chart. Are ticks on X-axis better printed ?\n",
        "df['DATE'] = pd.to_datetime(df['DATE'])\n",
        "sns.scatterplot(data = df,\n",
        "                x = 'DATE',\n",
        "                y = 'MAX_TEMPERATURE_C')"
      ],
      "execution_count": null,
      "outputs": [
        {
          "output_type": "execute_result",
          "data": {
            "text/plain": [
              "<matplotlib.axes._subplots.AxesSubplot at 0x7f45d0d47710>"
            ]
          },
          "metadata": {
            "tags": []
          },
          "execution_count": 67
        },
        {
          "output_type": "display_data",
          "data": {
            "image/png": "[encoded data removed]",
            "text/plain": [
              "<Figure size 432x288 with 1 Axes>"
            ]
          },
          "metadata": {
            "tags": [],
            "needs_background": "light"
          }
        }
      ]
    },
    {
      "cell_type": "code",
      "metadata": {
        "id": "UEyTRF_ZooSz",
        "colab": {
          "base_uri": "https://localhost:8080/",
          "height": 317
        },
        "outputId": "c6ff1dc6-bd1c-47f4-ce18-d195d4ce498e"
      },
      "source": [
        "# Display only the lines for the month of June\n",
        "# Its adding July 1st to the plot, no idea why....Cool\n",
        "import matplotlib.pyplot as plt\n",
        "June = df.loc[df['DATE'].between('2019-06-01','2019-06-30', inclusive=True)]\n",
        "sns.scatterplot(data = June,\n",
        "                x = 'DATE',\n",
        "                y = 'MAX_TEMPERATURE_C')\n",
        "plt.xticks(rotation=45)\n",
        "plt.show()"
      ],
      "execution_count": null,
      "outputs": [
        {
          "output_type": "display_data",
          "data": {
            "image/png": "[encoded data removed]",
            "text/plain": [
              "<Figure size 432x288 with 1 Axes>"
            ]
          },
          "metadata": {
            "tags": [],
            "needs_background": "light"
          }
        }
      ]
    }
  ]
}