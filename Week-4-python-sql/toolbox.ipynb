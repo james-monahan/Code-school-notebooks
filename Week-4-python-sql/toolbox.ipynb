{
  "nbformat": 4,
  "nbformat_minor": 0,
  "metadata": {
    "colab": {
      "name": "James Monahan toolbox.ipynb",
      "provenance": [],
      "collapsed_sections": [],
      "authorship_tag": "ABX9TyN63OEwDgskP/2p07P7o3xr",
      "include_colab_link": true
    },
    "kernelspec": {
      "name": "python3",
      "display_name": "Python 3"
    }
  },
  "cells": [
    {
      "cell_type": "markdown",
      "metadata": {
        "id": "view-in-github",
        "colab_type": "text"
      },
      "source": [
        "<a href=\"https://colab.research.google.com/github/james-monahan/Code-school-notebooks/blob/main/Week-4-python-sql/toolbox.ipynb\" target=\"_parent\"><img src=\"https://colab.research.google.com/assets/colab-badge.svg\" alt=\"Open In Colab\"/></a>"
      ]
    },
    {
      "cell_type": "code",
      "metadata": {
        "id": "DAgUb-UsH6gA",
        "colab": {
          "base_uri": "https://localhost:8080/",
          "height": 34
        },
        "outputId": "129cf66c-95c9-4c54-eb83-105f1970dc91"
      },
      "source": [
        "#1 partition() method searches for a specified string, and splits the string into a tuple containing three elements.\n",
        "\n",
        "txt = \"I could eat bananas all day\"\n",
        "x = txt.partition(\"bananas\")\n",
        "\n",
        "print(x)"
      ],
      "execution_count": null,
      "outputs": [
        {
          "output_type": "stream",
          "text": [
            "('I could eat ', 'bananas', ' all day')\n"
          ],
          "name": "stdout"
        }
      ]
    },
    {
      "cell_type": "code",
      "metadata": {
        "id": "k2c6KSmTH6dG",
        "colab": {
          "base_uri": "https://localhost:8080/",
          "height": 34
        },
        "outputId": "7931d26a-7506-44d0-a4ab-5c2fa04601ba"
      },
      "source": [
        "#2 product() - Cartesian Product of two sets - all ordered pairs (a, b) where a belongs to A and b belongs to B. \n",
        "\n",
        "from itertools import product\n",
        "#combinations, permutations\n",
        "\n",
        "arr1 = [1, 2, 3]\n",
        "arr2 = [5, 6, 7]\n",
        "\n",
        "list(product(arr1, arr2, repeat=1))"
      ],
      "execution_count": null,
      "outputs": [
        {
          "output_type": "execute_result",
          "data": {
            "text/plain": [
              "[(1, 5), (1, 6), (1, 7), (2, 5), (2, 6), (2, 7), (3, 5), (3, 6), (3, 7)]"
            ]
          },
          "metadata": {
            "tags": []
          },
          "execution_count": 2
        }
      ]
    },
    {
      "cell_type": "code",
      "metadata": {
        "id": "nO_WnDkeH6Y_",
        "colab": {
          "base_uri": "https://localhost:8080/",
          "height": 34
        },
        "outputId": "b33ac3c7-9341-40fb-beaf-0624ca1ac082"
      },
      "source": [
        "#3 dropwhile() - Make an iterator that drops elements from the iterable as long as the predicate is true; afterwards, returns every element.\n",
        "# use with custom function to efficently drop elements from a list\n",
        "\n",
        "from itertools import dropwhile\n",
        "\n",
        "li = [2, 4, 5, 7, 8]  \n",
        "list(dropwhile(lambda x : x % 2 == 0, li))"
      ],
      "execution_count": null,
      "outputs": [
        {
          "output_type": "execute_result",
          "data": {
            "text/plain": [
              "[5, 7, 8]"
            ]
          },
          "metadata": {
            "tags": []
          },
          "execution_count": 3
        }
      ]
    },
    {
      "cell_type": "code",
      "metadata": {
        "id": "KNMDrQcCH6Wy",
        "colab": {
          "base_uri": "https://localhost:8080/",
          "height": 34
        },
        "outputId": "84ab7f68-95f4-4d5c-c9a7-62c879ae6344"
      },
      "source": [
        "#4 Class 'Counter' It is an unordered collection where elements are stored as dictionary keys \n",
        "# and their counts are stored as dictionary values. Counts are allowed to be any integer value including zero or negative counts.\n",
        "\n",
        "from collections import Counter\n",
        "\n",
        "# most_common() - retrieve counts of n most common elements in an iterable\n",
        "text = 'abracadabrabandanaaaaaa'\n",
        "Counter(text).most_common(5)\n"
      ],
      "execution_count": null,
      "outputs": [
        {
          "output_type": "execute_result",
          "data": {
            "text/plain": [
              "[('a', 13), ('b', 3), ('r', 2), ('d', 2), ('n', 2)]"
            ]
          },
          "metadata": {
            "tags": []
          },
          "execution_count": 4
        }
      ]
    },
    {
      "cell_type": "code",
      "metadata": {
        "id": "SDnLQDGwH6Sq",
        "colab": {
          "base_uri": "https://localhost:8080/",
          "height": 85
        },
        "outputId": "ae1a86c8-6469-42da-87df-bbc8f025b4f8"
      },
      "source": [
        "#5 Class 'os' - This module provides a way of using operating system dependent functionality \n",
        "import os\n",
        "\n",
        "# uname() retrive basic system information\n",
        "print(os.uname())\n",
        "\n",
        "# scandir() iterate over file path to search for files meeting conditions\n",
        "with os.scandir('/content/sample_data') as it:\n",
        "    for entry in it:\n",
        "        if entry.name.startswith('ca') and entry.is_file():\n",
        "            print(entry.name)\n",
        "\n",
        "# walk() file system\n",
        "for i in os.walk('/content/sample_data'):\n",
        "  print(i)"
      ],
      "execution_count": null,
      "outputs": [
        {
          "output_type": "stream",
          "text": [
            "posix.uname_result(sysname='Linux', nodename='75e1f692e729', release='4.19.112+', version='#1 SMP Thu Jul 23 08:00:38 PDT 2020', machine='x86_64')\n",
            "california_housing_test.csv\n",
            "california_housing_train.csv\n",
            "('/content/sample_data', [], ['README.md', 'anscombe.json', 'mnist_train_small.csv', 'california_housing_test.csv', 'california_housing_train.csv', 'mnist_test.csv'])\n"
          ],
          "name": "stdout"
        }
      ]
    },
    {
      "cell_type": "code",
      "metadata": {
        "id": "IadExnt-H6Jn",
        "colab": {
          "base_uri": "https://localhost:8080/",
          "height": 34
        },
        "outputId": "91b7b4d5-f173-430a-8b95-ee89e4acefee"
      },
      "source": [
        "#6 isinstance() returns True if the specified object is of the specified type, otherwise False.\n",
        "# If the type parameter is a tuple, this function will return True if the object is one of the types in the tuple.\n",
        "\n",
        "x = isinstance(\"Hello\", (float, int, str, list, dict, tuple))\n",
        "y = isinstance(\"Hello\", (float, int, list, dict, tuple))\n",
        "x, y"
      ],
      "execution_count": null,
      "outputs": [
        {
          "output_type": "execute_result",
          "data": {
            "text/plain": [
              "(True, False)"
            ]
          },
          "metadata": {
            "tags": []
          },
          "execution_count": 6
        }
      ]
    },
    {
      "cell_type": "code",
      "metadata": {
        "id": "22RCn1YYH6FQ",
        "colab": {
          "base_uri": "https://localhost:8080/",
          "height": 51
        },
        "outputId": "47ef25c9-a23b-4bd9-811c-bed293396087"
      },
      "source": [
        "#7 replace() replaces a specified phrase with another specified phrase.\n",
        "\n",
        "txt = \"one one was a race horse, two two was one too.\"\n",
        "\n",
        "#able to replace a defined number of times(first to n), or all occurances\n",
        "z = txt.replace(\"one\", \"three\", 2)\n",
        "x = txt.replace(\"one\", \"three\")\n",
        "\n",
        "print(x)\n",
        "print(z)"
      ],
      "execution_count": null,
      "outputs": [
        {
          "output_type": "stream",
          "text": [
            "three three was a race horse, two two was three too.\n",
            "three three was a race horse, two two was one too.\n"
          ],
          "name": "stdout"
        }
      ]
    },
    {
      "cell_type": "code",
      "metadata": {
        "id": "28F8SU6njxOb",
        "colab": {
          "base_uri": "https://localhost:8080/",
          "height": 102
        },
        "outputId": "df508026-3c78-4274-edf0-206cb07bffc6"
      },
      "source": [
        "#8 translate() returns a string where some specified characters are replaced with the character described in a dictionary, or in a mapping table.\n",
        "\n",
        "#Sample usages\n",
        "print(ord('S'), chr(83))\n",
        "mydict = {83:  80};\n",
        "txt = \"Hello Sam!\";\n",
        "print(txt.translate(mydict))\n",
        "\n",
        "txt = \"Hi Sam!\";\n",
        "x = \"mSa\";\n",
        "y = \"eJo\";\n",
        "mytable = txt.maketrans(x, y);\n",
        "print(txt.translate(mytable))\n",
        "\n",
        "txt = \"Good night Sam!\";\n",
        "x = \"mSa\";\n",
        "y = \"eJo\";\n",
        "z = \"odnght\";\n",
        "mytable = txt.maketrans(x, y, z);\n",
        "print(txt.translate(mytable))\n",
        "\n",
        "txt = \"Good night Sam!\";\n",
        "mydict = {109: 101, 83: 74, 97: 111, 111: None, 100: None, 110: None, 103: None, 104: None, 116: None};\n",
        "print(txt.translate(mydict))"
      ],
      "execution_count": null,
      "outputs": [
        {
          "output_type": "stream",
          "text": [
            "83 S\n",
            "Hello Pam!\n",
            "Hi Joe!\n",
            "G i Joe!\n",
            "G i Joe!\n"
          ],
          "name": "stdout"
        }
      ]
    },
    {
      "cell_type": "code",
      "metadata": {
        "id": "LNrDXDYIjxCw",
        "colab": {
          "base_uri": "https://localhost:8080/",
          "height": 34
        },
        "outputId": "83cbf0ef-fcb1-4f92-b738-4c13c93fe619"
      },
      "source": [
        "#9 insert() adds an item at a specified index\n",
        "thislist = [\"apple\", \"banana\", \"cherry\"]\n",
        "thislist.insert(2, \"orange\")\n",
        "thislist"
      ],
      "execution_count": null,
      "outputs": [
        {
          "output_type": "execute_result",
          "data": {
            "text/plain": [
              "['apple', 'banana', 'orange', 'cherry']"
            ]
          },
          "metadata": {
            "tags": []
          },
          "execution_count": 13
        }
      ]
    },
    {
      "cell_type": "code",
      "metadata": {
        "id": "tiuHmwTHjw7a",
        "colab": {
          "base_uri": "https://localhost:8080/",
          "height": 51
        },
        "outputId": "bba49849-167b-4947-845c-386888b3da40"
      },
      "source": [
        "#10 SETS\n",
        "\n",
        "#union() of sets, returns single instance of all common elements\n",
        "set1 = {\"a\", \"b\" , \"c\", 1,2,3}\n",
        "set2 = {1, 2, 3}\n",
        "set3 = (set1.union(set2))\n",
        "print(set3)\n",
        "\n",
        "# difference() gives elements that are unique in comparison with another given set\n",
        "z = set1.difference(set2)\n",
        "print(z)"
      ],
      "execution_count": null,
      "outputs": [
        {
          "output_type": "stream",
          "text": [
            "{1, 2, 3, 'a', 'c', 'b'}\n",
            "{'a', 'c', 'b'}\n"
          ],
          "name": "stdout"
        }
      ]
    }
  ]
}