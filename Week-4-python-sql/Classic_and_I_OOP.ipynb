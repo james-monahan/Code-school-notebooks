{
  "nbformat": 4,
  "nbformat_minor": 0,
  "metadata": {
    "colab": {
      "name": "jpm_10. Classic and I OOP.ipynb",
      "provenance": [],
      "collapsed_sections": [],
      "authorship_tag": "ABX9TyOtD6R/UtR0gnxNZsS0KHRq",
      "include_colab_link": true
    },
    "kernelspec": {
      "name": "python3",
      "display_name": "Python 3"
    }
  },
  "cells": [
    {
      "cell_type": "markdown",
      "metadata": {
        "id": "view-in-github",
        "colab_type": "text"
      },
      "source": [
        "<a href=\"https://colab.research.google.com/github/james-monahan/Code-school-notebooks/blob/main/Week-4-python-sql/Classic_and_I_OOP.ipynb\" target=\"_parent\"><img src=\"https://colab.research.google.com/assets/colab-badge.svg\" alt=\"Open In Colab\"/></a>"
      ]
    },
    {
      "cell_type": "markdown",
      "metadata": {
        "id": "zIKwVGDOfxK4"
      },
      "source": [
        "In this challenge you will create your very first class called: dataAnalyst that will emulate the life of a data analyst. Here are the characteristics of your class:\n",
        "\n",
        "attributes :\n",
        "name (str), first name (str), age (int), gender (str), trainingPrevious (str), motivation (int worth 100 at instantiation), progression (int being 0 at instantiation)\n",
        "\n",
        "methods :  \n",
        "train(): each time it is used it decreases motivation by a random value between 5 and 25 and increases progression by a random value between 20 and 30.  \n",
        "\n",
        "promotion(): each time it is used, it increases motivation and progression both by a random value between 10 and 30.   \n",
        "\n",
        "fail(): each time it is used, it decreases motivation by a random value between 20 and 40 and increases progression by a random value between 20 and 40.   \n",
        "\n",
        "success(): each time it is used increases the motivation by a random value between 20 and 40 and increases the progression by a random value between 10 and 20"
      ]
    },
    {
      "cell_type": "code",
      "metadata": {
        "id": "jL0bW57mfc_o"
      },
      "source": [
        "class dataAnalyst:\n",
        "  \n",
        "  def __init__(self, name, first_name, age, gender, trainingPrevious):\n",
        "    #class attributes\n",
        "    self.name = str(name)\n",
        "    self.first_name = str(first_name)\n",
        "    self.age = int(age)\n",
        "    self.gender = str(gender)\n",
        "    self.trainingPrevious = str(trainingPrevious)\n",
        "    self.motivation = int(100)\n",
        "    self.progression = int(0)\n",
        "  \n",
        "  # class methods\n",
        "  def train(self):\n",
        "    #decreases motivation by a random value between 5 and 25 and increases progression by a random value between 20 and 30\n",
        "    import random \n",
        "    mot_decrease = random.choice(range(5,26))\n",
        "    prog_increase = random.choice(range(20,31))\n",
        "    self.motivation = self.motivation - mot_decrease\n",
        "    self.progression = self.progression + prog_increase\n",
        "\n",
        "  def promotion(self):\n",
        "    #increases motivation and progression both by a random value between 10 and 30\n",
        "    import random \n",
        "    mot_increase = random.choice(range(10,31))\n",
        "    prog_increase = random.choice(range(10,31))\n",
        "    self.motivation = self.motivation + mot_increase\n",
        "    self.progression = self.progression + prog_increase\n",
        "\n",
        "  def fail(self):\n",
        "    #decreases motivation by a random value between 20 and 40 and increases progression by a random value between 20 and 40\n",
        "    import random \n",
        "    mot_decrease = random.choice(range(20,41))\n",
        "    prog_increase = random.choice(range(20,41))\n",
        "    self.motivation = self.motivation - mot_decrease\n",
        "    self.progression = self.progression + prog_increase\n",
        "\n",
        "  def success(self):\n",
        "    #increases the motivation by a random value between 20 and 40 and increases the progression by a random value between 10 and 20\n",
        "    import random \n",
        "    mot_increase = random.choice(range(20,41))\n",
        "    prog_increase = random.choice(range(10,21))\n",
        "    self.motivation = self.motivation + mot_increase\n",
        "    self.progression = self.progression + prog_increase\n",
        "  \n",
        "  def play_game(self):\n",
        "    \"\"\"\n",
        "    automatically and randomly launch methods and display a summarised status report for the attributes: motivation and progress\n",
        "    program stops when the motivation falls to zero and displays \"BRAVO YOU WON!!!\" or when progress reaches 100 and then it displays \"BRAVO YOU LEARNED!!!\"\n",
        "    \"\"\"\n",
        "    import random\n",
        "    summary = []\n",
        "    choices = [self.train, self.promotion, self.fail, self.success]\n",
        "\n",
        "    while True:\n",
        "      random.choice(choices)()\n",
        "      summary.append((self.motivation, self.progression))\n",
        "      #[print(\"motivation =\", item[0], \"progression =\", item[1]) for item in summary]\n",
        "      print(\"motivation =\", self.motivation, \"progression =\", self.progression)\n",
        "\n",
        "      if self.motivation < 0:\n",
        "        print(\"BRAVO YOU WON!!!\")\n",
        "        break\n",
        "      if self.progression >= 100:\n",
        "        print(\"BRAVO YOU LEARNED!!!\")\n",
        "        break\n"
      ],
      "execution_count": null,
      "outputs": []
    },
    {
      "cell_type": "code",
      "metadata": {
        "id": "XhMY7Sj1grEn",
        "colab": {
          "base_uri": "https://localhost:8080/",
          "height": 170
        },
        "outputId": "2ae1cf1f-23f6-4e93-a270-172d8380c4b3"
      },
      "source": [
        "james = dataAnalyst('Monahan', 'James', 44, 'Male', 'WCS')\n",
        "print(\"Start motivation:\", james.motivation)\n",
        "print(\"Start progression:\", james.progression)\n",
        "james.play_game()"
      ],
      "execution_count": null,
      "outputs": [
        {
          "output_type": "stream",
          "text": [
            "Start motivation: 100\n",
            "Start progression: 0\n",
            "motivation = 120 progression = 11\n",
            "motivation = 111 progression = 34\n",
            "motivation = 140 progression = 51\n",
            "motivation = 171 progression = 63\n",
            "motivation = 163 progression = 92\n",
            "motivation = 147 progression = 118\n",
            "BRAVO YOU LEARNED!!!\n"
          ],
          "name": "stdout"
        }
      ]
    },
    {
      "cell_type": "code",
      "metadata": {
        "id": "RGn-XrnkdNwn"
      },
      "source": [
        ""
      ],
      "execution_count": null,
      "outputs": []
    }
  ]
}