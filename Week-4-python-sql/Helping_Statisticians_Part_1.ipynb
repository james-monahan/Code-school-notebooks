{
  "nbformat": 4,
  "nbformat_minor": 0,
  "metadata": {
    "colab": {
      "name": "Copy of jpm_Helping Statisticians - Part 1.ipynb",
      "provenance": [],
      "collapsed_sections": [],
      "include_colab_link": true
    },
    "kernelspec": {
      "name": "python3",
      "display_name": "Python 3"
    }
  },
  "cells": [
    {
      "cell_type": "markdown",
      "metadata": {
        "id": "view-in-github",
        "colab_type": "text"
      },
      "source": [
        "<a href=\"https://colab.research.google.com/github/james-monahan/Code-school-notebooks/blob/main/Week-4-python-sql/Helping_Statisticians_Part_1.ipynb\" target=\"_parent\"><img src=\"https://colab.research.google.com/assets/colab-badge.svg\" alt=\"Open In Colab\"/></a>"
      ]
    },
    {
      "cell_type": "markdown",
      "metadata": {
        "id": "co2X9cGIieV0"
      },
      "source": [
        "# Help for statisticians!\n",
        "\n",
        "Your fellow statisticians need you. They want to learn how to program in Python and have tons of calculations to do.\n",
        "\n",
        "Very kindly, you agree to help them. Complete the missions below."
      ]
    },
    {
      "cell_type": "markdown",
      "metadata": {
        "id": "rvnKhKV7CVoS"
      },
      "source": [
        "![Einstien le génie](https://wallup.net/wp-content/uploads/2018/09/30/201016-funny-albert-einstein-748x468.jpg)"
      ]
    },
    {
      "cell_type": "code",
      "metadata": {
        "id": "S4jmbgw-kWcj",
        "colab": {
          "base_uri": "https://localhost:8080/"
        },
        "outputId": "33653ba4-f193-415c-fba7-beed983d106b"
      },
      "source": [
        "# Mission 1: Display the message \"Hello Python\". You will need to use a str variable that is passed as a print parameter\n",
        "var = \"Hello Python\"\n",
        "print(var)"
      ],
      "execution_count": null,
      "outputs": [
        {
          "output_type": "stream",
          "text": [
            "Hello Python\n"
          ],
          "name": "stdout"
        }
      ]
    },
    {
      "cell_type": "code",
      "metadata": {
        "id": "4rJVUEkNk5Oo",
        "colab": {
          "base_uri": "https://localhost:8080/"
        },
        "outputId": "c698238f-4ca2-43d2-9b64-9613cf6bfeae"
      },
      "source": [
        "# Mission 2: Create a function that takes in 2 numbers as parameters, and indicates whether or not they are equal.\n",
        "def is_equal(num1, num2):\n",
        "  if num1 == num2:\n",
        "    print(f'{num1} and {num2} are equal')\n",
        "  else:\n",
        "    print(f'{num1} and {num2} are NOT equal')\n",
        "\n",
        "print(is_equal(1,2))\n",
        "print(is_equal(2,2))"
      ],
      "execution_count": null,
      "outputs": [
        {
          "output_type": "stream",
          "text": [
            "1 and 2 are NOT equal\n",
            "None\n",
            "2 and 2 are equal\n",
            "None\n"
          ],
          "name": "stdout"
        }
      ]
    },
    {
      "cell_type": "code",
      "metadata": {
        "id": "Q9X4m3D4h-xu",
        "colab": {
          "base_uri": "https://localhost:8080/"
        },
        "outputId": "9ab700fe-43fb-4970-b9d2-98f835b7e263"
      },
      "source": [
        "# Mission 3: Create a function that uses a while or for loop to display the \n",
        "# first 10 multiples of the given number.\n",
        "# For example if your input is 2 it will look like this: \n",
        "# 2, 4, 6, 8, 10, 12, 14, 16, 18, 20\n",
        "\n",
        "def multiples(num):\n",
        "  for loop in range(1, 11):\n",
        "    print(loop*num, end = ' ')\n",
        "\n",
        "multiples(2)"
      ],
      "execution_count": null,
      "outputs": [
        {
          "output_type": "stream",
          "text": [
            "2 4 6 8 10 12 14 16 18 20 "
          ],
          "name": "stdout"
        }
      ]
    },
    {
      "cell_type": "code",
      "metadata": {
        "id": "Fe9kZrvklI0b",
        "colab": {
          "base_uri": "https://localhost:8080/"
        },
        "outputId": "39d7df67-57ae-4bcf-e8d2-845d1324765b"
      },
      "source": [
        "# Mission 4: Create a while loop that displays the vowels of the longest word in English one after the other (i.e. horizontally, not one above \n",
        "# the other, i.e. vertically). The longest word in English is: \"antidisestablishmentarianism\"\n",
        "\n",
        "#INCLUDING 'y' as a vowell\n",
        "longest_word = \"antidisestablishmentarianism\"\n",
        "vowells = 'a e i o u y'.split()\n",
        "counter = 0\n",
        "\n",
        "while counter != len(longest_word):\n",
        "    if longest_word[counter] in vowells:\n",
        "      print(longest_word[counter], end='')\n",
        "    counter += 1"
      ],
      "execution_count": null,
      "outputs": [
        {
          "output_type": "stream",
          "text": [
            "aiieaieaiai"
          ],
          "name": "stdout"
        }
      ]
    },
    {
      "cell_type": "code",
      "metadata": {
        "id": "6hjrrDyUlN8o",
        "colab": {
          "base_uri": "https://localhost:8080/"
        },
        "outputId": "4c6999cc-d726-4825-a5e4-ebabb549d487"
      },
      "source": [
        "# Mission 5: Create a function that takes in 3 numbers as parameters, and carries out two mathematical operations (such as +, -, *, or /),\n",
        "# as in the examples below.\n",
        "# Then return the result of the applied operations. You will have to take into account a situation where division by zero is attempted.\n",
        "# Display a message that indicates whether the result is positive, negative or zero.\n",
        "# Example operations: \n",
        "# 0*32+2 = 2 \n",
        "# 21/0+3 > \"Error, you're trying to divide by zero\"\n",
        "\n",
        "#function to check positive/negative/zero\n",
        "def check_val(val):\n",
        "  if val == 0:\n",
        "    print(f'{val} is zero')\n",
        "  if val > 0:\n",
        "    print(f'{val} is positive')\n",
        "  if val < 0:\n",
        "    print(f'{val} is negative')\n",
        "\n",
        "#Mission 5 function\n",
        "def do_some_math(num1, num2, num3):\n",
        "\n",
        "  #first calculation\n",
        "  calc1 = (num1**num2)+num3\n",
        "  print(f'({num1}**{num2})+{num3} = {calc1}')\n",
        "  check_val(calc1)\n",
        "\n",
        "  \n",
        "  #check for zero division in second\n",
        "  if num3 == 0:\n",
        "    print(\"Error, you're trying to divide by zero\")\n",
        "  #otherwise do calc\n",
        "  else:\n",
        "    calc2 = (num1*num2)/num3\n",
        "    print(f'({num1}*{num2})/{num3} = {calc2}')\n",
        "    check_val(calc2)\n",
        "\n",
        "do_some_math(2,3,-100)\n",
        "print()\n",
        "do_some_math(2,3,0)"
      ],
      "execution_count": null,
      "outputs": [
        {
          "output_type": "stream",
          "text": [
            "(2**3)+-100 = -92\n",
            "-92 is negative\n",
            "(2*3)/-100 = -0.06\n",
            "-0.06 is negative\n",
            "\n",
            "(2**3)+0 = 8\n",
            "8 is positive\n",
            "Error, you're trying to divide by zero\n"
          ],
          "name": "stdout"
        }
      ]
    },
    {
      "cell_type": "code",
      "metadata": {
        "id": "7b3JtuNClm4a",
        "colab": {
          "base_uri": "https://localhost:8080/"
        },
        "outputId": "4a691c29-d38d-4885-9184-c1cf32a529b6"
      },
      "source": [
        "# Mission 6: Create a lambda function that takes 2 numbers as parameters, and returns the result of a division operation. \n",
        "# Test if the denominator is equal to 0 and if so, display a message that says: \"You can't divide by zero\".\n",
        "\n",
        "div_op = lambda x, y: print(\"You can't divide by zero\") if y == 0 else x/y\n",
        "\n",
        "print(div_op(2,3))\n",
        "div_op(2,0)"
      ],
      "execution_count": null,
      "outputs": [
        {
          "output_type": "stream",
          "text": [
            "0.6666666666666666\n",
            "You can't divide by zero\n"
          ],
          "name": "stdout"
        }
      ]
    },
    {
      "cell_type": "code",
      "metadata": {
        "id": "r6DP6oTDmqfs",
        "colab": {
          "base_uri": "https://localhost:8080/"
        },
        "outputId": "23567ae5-d7b5-4a4a-bbe9-69225ac22460"
      },
      "source": [
        "# Mission 7: Create a function that takes a number as a parameter that corresponds to gross salary and returns the net salary for executives.\n",
        "# You can specify any amount of deductions, or base them on your country's example\n",
        "\n",
        "def gross_to_net(salary):\n",
        "  # 25% deduction\n",
        "  net = salary - (salary*.25)\n",
        "  print(f\"net salary is: ${net}\")\n",
        "\n",
        "gross_to_net(100000)"
      ],
      "execution_count": null,
      "outputs": [
        {
          "output_type": "stream",
          "text": [
            "net salary is: $75000.0\n"
          ],
          "name": "stdout"
        }
      ]
    },
    {
      "cell_type": "code",
      "metadata": {
        "id": "MyF5hG_hm1np",
        "colab": {
          "base_uri": "https://localhost:8080/"
        },
        "outputId": "96d39672-14b2-4e61-d35b-9ee20413fdfc"
      },
      "source": [
        "# Mission 8: Create a function that can swap the values of any 2 variables, such as if variable A = 1 and variable B = 2, \n",
        "# after applying the function, variable A = 2 and variable B = 1\n",
        "\n",
        "def swap_vals(val1, val2):\n",
        "  val1, val2 = val2, val1\n",
        "  print(f\"val1 = {val1} val2 = {val2}\")\n",
        " \n",
        "val1, val2 = 'A', 'B'\n",
        "print(f\"Before swap val1 = {val1} val2 = {val2}\")\n",
        "print()\n",
        "print(\"After swap:\")\n",
        "swap_vals(val1, val2) "
      ],
      "execution_count": null,
      "outputs": [
        {
          "output_type": "stream",
          "text": [
            "Before swap val1 = A val2 = B\n",
            "\n",
            "After swap:\n",
            "val1 = B val2 = A\n"
          ],
          "name": "stdout"
        }
      ]
    },
    {
      "cell_type": "markdown",
      "metadata": {
        "id": "CLFkEk_Fm9d4"
      },
      "source": [
        "## Your colleagues are impressed. So they show you some more exercises that they're stuck on. Code your heart out, you go for it ^^"
      ]
    },
    {
      "cell_type": "code",
      "metadata": {
        "id": "pIoUqiKynBbe",
        "colab": {
          "base_uri": "https://localhost:8080/"
        },
        "outputId": "1f5ccdda-fc41-424f-8180-2c0c151a73aa"
      },
      "source": [
        "# Mission 9: Create a function that takes a day as a parameter and returns the next day (i.e. for Sunday it would return Monday). \n",
        "# You can use lists or dictionaries to solve this.\n",
        "\n",
        "days = 'Mon Tue Wed Thur Fri Sat Sun'.split()\n",
        "\n",
        "def return_next_day(day):\n",
        "  if day in days:\n",
        "    position = days.index(day)\n",
        "    if (position+1)%7 == (position+1):\n",
        "      return days[position+1]\n",
        "    else:\n",
        "      return days[0]\n",
        "\n",
        "print(\"Mon:\", return_next_day('Mon'))\n",
        "print(\"Wed:\", return_next_day('Wed'))\n",
        "print(\"Sun:\", return_next_day('Sun'))"
      ],
      "execution_count": null,
      "outputs": [
        {
          "output_type": "stream",
          "text": [
            "Mon: Tue\n",
            "Wed: Thur\n",
            "Sun: Mon\n"
          ],
          "name": "stdout"
        }
      ]
    },
    {
      "cell_type": "code",
      "metadata": {
        "id": "68rX-Y0AnGiR",
        "colab": {
          "base_uri": "https://localhost:8080/"
        },
        "outputId": "a7d71d8e-cddc-418c-b1a3-d0017e3104ef"
      },
      "source": [
        "# Mission 10: Create a function that fills an empty list with values (words) from the following string : \n",
        "# \"After twelve soft showers are the arch-duchess' socks dry, arch-dry?\"\n",
        "\n",
        "import random\n",
        "vals = \"After twelve soft showers are the arch-duchess' socks dry, arch-dry?\"\n",
        "empty_list = []\n",
        "\n",
        "# basic punctuation removal\n",
        "def remove_punctuation(vals=vals):\n",
        "  punctuation = [\"'\", \"?\", \"%\", \"!\"]\n",
        "  for val in vals:\n",
        "    if val in punctuation:\n",
        "      vals = vals.replace(val, '')\n",
        "  return vals\n",
        "\n",
        "#fill list function\n",
        "def fill_empty_list(empty_list, vals=vals, num_words = 5):\n",
        "  vals = remove_punctuation(vals)\n",
        "\n",
        "  choices = vals.split()\n",
        "  empty_list = random.sample(choices,num_words)\n",
        "  return empty_list\n",
        "\n",
        "fill_empty_list(empty_list, vals=vals, num_words = 5)"
      ],
      "execution_count": null,
      "outputs": [
        {
          "output_type": "execute_result",
          "data": {
            "text/plain": [
              "['the', 'twelve', 'arch-duchess', 'are', 'socks']"
            ]
          },
          "metadata": {
            "tags": []
          },
          "execution_count": 15
        }
      ]
    },
    {
      "cell_type": "code",
      "metadata": {
        "id": "YGNoBYBEnLAx",
        "colab": {
          "base_uri": "https://localhost:8080/",
          "height": 35
        },
        "outputId": "65f90485-51d5-4908-f506-9b871e0bded6"
      },
      "source": [
        "# Mission 11: Create a function that takes a str as a parameter, and returns the same string, where every other letter\n",
        "# is written in uppercase, unless it's a consonant.\n",
        "\n",
        "def every_other_upper(word):\n",
        "  new_word = [val for val in word]\n",
        "  vowells = 'a e i o u y'\n",
        "  for i in range(len(new_word)):\n",
        "    if i%2 == 0:\n",
        "      if new_word[i] not in vowells:\n",
        "        new_word[i] = new_word[i].lower()\n",
        "      else:\n",
        "        new_word[i] = new_word[i].upper()\n",
        "    else:\n",
        "      new_word[i] = new_word[i]\n",
        "  return ''.join(new_word)\n",
        "\n",
        "\n",
        "word = \"aaaaaaaaantidisestablishmentarianism\"\n",
        "every_other_upper(word)"
      ],
      "execution_count": null,
      "outputs": [
        {
          "output_type": "execute_result",
          "data": {
            "application/vnd.google.colaboratory.intrinsic+json": {
              "type": "string"
            },
            "text/plain": [
              "'AaAaAaAaAntidisestAblishmentArIanism'"
            ]
          },
          "metadata": {
            "tags": []
          },
          "execution_count": 6
        }
      ]
    },
    {
      "cell_type": "code",
      "metadata": {
        "id": "IJCr_jvwnOCh",
        "colab": {
          "base_uri": "https://localhost:8080/"
        },
        "outputId": "876ca234-839c-4503-acc0-fea1ad81d36c"
      },
      "source": [
        "# Mission 12: Create a function that fills an empty list with string values of each letter of the following string: \n",
        "# \"Python fan\", and then displays the filled list\n",
        "\n",
        "empty_list = []\n",
        "word = \"Python fan\"\n",
        "\n",
        "def fill_empty_list(empty_list, word):\n",
        "  empty_list = [let for let in word if let.isalpha()]\n",
        "  return empty_list\n",
        "\n",
        "fill_empty_list(empty_list, word)"
      ],
      "execution_count": null,
      "outputs": [
        {
          "output_type": "execute_result",
          "data": {
            "text/plain": [
              "['P', 'y', 't', 'h', 'o', 'n', 'f', 'a', 'n']"
            ]
          },
          "metadata": {
            "tags": []
          },
          "execution_count": 7
        }
      ]
    },
    {
      "cell_type": "code",
      "metadata": {
        "id": "xjYGsODEnSb2",
        "colab": {
          "base_uri": "https://localhost:8080/"
        },
        "outputId": "7005027b-190f-4ac0-b3b3-81e25dd5f2d3"
      },
      "source": [
        "# Mission 13: Create a function that take 2 inputs from the user, their date of birth and first name.\n",
        "# Convert the date of birth into an int and subtract it from the current year (you can do it using a certain module :-P).\n",
        "# Then display the message: Hello [first name], today you are [age] years old.\n",
        "\n",
        "from datetime import datetime, timedelta\n",
        "\n",
        "\n",
        "# DOB format = 31/12/1992\n",
        "def name_age(dob, name='enter_your_name'):\n",
        "  bday = datetime.strptime(dob, '%d/%m/%Y')\n",
        "  current_year = datetime.today()\n",
        "  delta = current_year-bday\n",
        "  age = delta.days//365\n",
        "  print(f\"Hello {name}, today you are {age} years old\")\n",
        "\n",
        "name_age('13/09/1976', 'James')\n",
        "#I think there is a problem accounting for leap years\n",
        "name_age('19/10/1976', 'James')\n",
        "name_age('20/10/1976', 'James')"
      ],
      "execution_count": null,
      "outputs": [
        {
          "output_type": "stream",
          "text": [
            "Hello James, today you are 44 years old\n",
            "Hello James, today you are 44 years old\n",
            "Hello James, today you are 43 years old\n"
          ],
          "name": "stdout"
        }
      ]
    }
  ]
}