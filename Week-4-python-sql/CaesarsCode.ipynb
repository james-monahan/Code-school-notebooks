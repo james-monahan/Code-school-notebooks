{
  "nbformat": 4,
  "nbformat_minor": 0,
  "metadata": {
    "colab": {
      "name": "09 Avé James Monahan.ipynb",
      "provenance": [],
      "collapsed_sections": [],
      "authorship_tag": "ABX9TyNr/fDQIpLEbNJXBr68GhbM",
      "include_colab_link": true
    },
    "kernelspec": {
      "name": "python3",
      "display_name": "Python 3"
    }
  },
  "cells": [
    {
      "cell_type": "markdown",
      "metadata": {
        "id": "view-in-github",
        "colab_type": "text"
      },
      "source": [
        "<a href=\"https://colab.research.google.com/github/james-monahan/Code-school-notebooks/blob/main/Week-4-python-sql/CaesarsCode.ipynb\" target=\"_parent\"><img src=\"https://colab.research.google.com/assets/colab-badge.svg\" alt=\"Open In Colab\"/></a>"
      ]
    },
    {
      "cell_type": "markdown",
      "metadata": {
        "id": "F00EXmvEcf39"
      },
      "source": [
        "Initialise un notebook sur Google colab appelé : Avé [Prenom Nom]. Dans le notebook, crée une fonction qui prend en paramètre un message sous forme de liste ou de chaine de caractère, et affiche le message correctement (décrypté). Voici le message à décrypter (ne pas tenir compte de l'émoji) : \"Dlzo iyv ab jvklz lu wfaovu thpualuhua\" 😜."
      ]
    },
    {
      "cell_type": "code",
      "metadata": {
        "id": "yp1NZCm55EKF"
      },
      "source": [
        "code = \"Dlzo iyv ab jvklz lu wfaovu thpualuhua\""
      ],
      "execution_count": null,
      "outputs": []
    },
    {
      "cell_type": "code",
      "metadata": {
        "id": "PnTeO5Xe5JHr",
        "colab": {
          "base_uri": "https://localhost:8080/",
          "height": 34
        },
        "outputId": "75852df2-7871-4834-e9f5-9eaa819eb70a"
      },
      "source": [
        "for char in code:\n",
        "  if ord(char) in range(ord(\"a\"), ord(\"z\")+1):\n",
        "    val = ((ord(char)-(7))-97)%26\n",
        "    print(chr(val+97), end=\"\")\n",
        "  elif ord(char) in range(ord(\"A\"), ord(\"Z\")+1):\n",
        "    val = ((ord(char.lower())-(7))-97)%26\n",
        "    print(chr(val+97).upper(), end=\"\")\n",
        "  else:\n",
        "    print(char, end=\"\")"
      ],
      "execution_count": null,
      "outputs": [
        {
          "output_type": "stream",
          "text": [
            "Wesh bro tu codes en python maintenant"
          ],
          "name": "stdout"
        }
      ]
    }
  ]
}