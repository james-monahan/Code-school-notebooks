{
  "nbformat": 4,
  "nbformat_minor": 0,
  "metadata": {
    "colab": {
      "name": "jpm_Copy of Numpy : Introduction.ipynb",
      "provenance": [],
      "collapsed_sections": [],
      "include_colab_link": true
    },
    "kernelspec": {
      "name": "python3",
      "display_name": "Python 3"
    }
  },
  "cells": [
    {
      "cell_type": "markdown",
      "metadata": {
        "id": "view-in-github",
        "colab_type": "text"
      },
      "source": [
        "<a href=\"https://colab.research.google.com/github/james-monahan/Code-school-notebooks/blob/main/Week-5-python-sql/Numpy_Introduction.ipynb\" target=\"_parent\"><img src=\"https://colab.research.google.com/assets/colab-badge.svg\" alt=\"Open In Colab\"/></a>"
      ]
    },
    {
      "cell_type": "markdown",
      "metadata": {
        "id": "s6odsFbLpgIh"
      },
      "source": [
        "# Numpy : Introduction\n",
        "\n",
        "**Numpy allows you to manipulate data in the form of an array.**\n",
        "\n",
        "**Complete the missions below using Numpy.**"
      ]
    },
    {
      "cell_type": "code",
      "metadata": {
        "id": "sXzBVR4imVvO",
        "colab": {
          "base_uri": "https://localhost:8080/",
          "height": 35
        },
        "outputId": "65164bbc-e320-47a1-e226-7ba5a8fbfb8d"
      },
      "source": [
        "# Mission 1 : Display the version of Numpy you are running\n",
        "import numpy as np\n",
        "np.__version__"
      ],
      "execution_count": null,
      "outputs": [
        {
          "output_type": "execute_result",
          "data": {
            "application/vnd.google.colaboratory.intrinsic+json": {
              "type": "string"
            },
            "text/plain": [
              "'1.18.5'"
            ]
          },
          "metadata": {
            "tags": []
          },
          "execution_count": 2
        }
      ]
    },
    {
      "cell_type": "code",
      "metadata": {
        "id": "vQGzQgU-phGc",
        "colab": {
          "base_uri": "https://localhost:8080/",
          "height": 34
        },
        "outputId": "a27bbae0-57bc-400e-fcba-0c6987650803"
      },
      "source": [
        "# Mission 2 : Create a Numpy array with a length of 3, that contains floats of the following format: 0.x, where x represents any value\n",
        "#array1 = np.array([0.1, 0.2, 0.3])\n",
        "array1 = np.random.rand(3)\n",
        "array1.shape, array1"
      ],
      "execution_count": null,
      "outputs": [
        {
          "output_type": "execute_result",
          "data": {
            "text/plain": [
              "((3,), array([0.86679786, 0.53968498, 0.84676248]))"
            ]
          },
          "metadata": {
            "tags": []
          },
          "execution_count": 5
        }
      ]
    },
    {
      "cell_type": "code",
      "metadata": {
        "id": "66-o1bXYqPC_",
        "colab": {
          "base_uri": "https://localhost:8080/",
          "height": 51
        },
        "outputId": "67d5ab8e-0c4b-4d05-c3dd-0b6c29ba8093"
      },
      "source": [
        "# Mission 3 : Create a function that uses the random.random() method to display 10 random elements, all of which must be greater than 0.25\n",
        "def np_rand_gen():\n",
        "  return np.random.random(10)+.250001\n",
        "np_rand_gen()"
      ],
      "execution_count": null,
      "outputs": [
        {
          "output_type": "execute_result",
          "data": {
            "text/plain": [
              "array([0.25174633, 0.90456173, 0.38299745, 0.36271486, 0.69074379,\n",
              "       0.25584438, 1.06405838, 0.27471065, 0.58610395, 0.56815379])"
            ]
          },
          "metadata": {
            "tags": []
          },
          "execution_count": 9
        }
      ]
    },
    {
      "cell_type": "code",
      "metadata": {
        "id": "hx8Ck-neqRZe",
        "colab": {
          "base_uri": "https://localhost:8080/",
          "height": 68
        },
        "outputId": "75ec1494-4ea1-4d1b-f8c6-9e8993249587"
      },
      "source": [
        "# Mission 4 : What does the np.empty() method do? Don't just copy the documentation, explain in your own words here\n",
        "\n",
        "\n",
        "#returns an array of the shape specified in a tuple. Array is filled with junk data, data type can be specified as an argument\n",
        "# for large arrays it can be faster to produce as ir just grabs whatever\n",
        "x = np.empty((3,3), dtype=int)\n",
        "x"
      ],
      "execution_count": null,
      "outputs": [
        {
          "output_type": "execute_result",
          "data": {
            "text/plain": [
              "array([[59442032,        0,        0],\n",
              "       [       0,        0,        0],\n",
              "       [       0,        0,        0]])"
            ]
          },
          "metadata": {
            "tags": []
          },
          "execution_count": 11
        }
      ]
    },
    {
      "cell_type": "code",
      "metadata": {
        "id": "q_BJsGjwqTQp",
        "colab": {
          "base_uri": "https://localhost:8080/",
          "height": 34
        },
        "outputId": "444bd95e-97c8-4766-ccce-3517e508e86a"
      },
      "source": [
        "# Mission 5 : Create an array filled with floats that have 7 zeros.\n",
        "\n",
        "zero_array = np.zeros((7,))\n",
        "zero_array"
      ],
      "execution_count": null,
      "outputs": [
        {
          "output_type": "execute_result",
          "data": {
            "text/plain": [
              "array([0., 0., 0., 0., 0., 0., 0.])"
            ]
          },
          "metadata": {
            "tags": []
          },
          "execution_count": 12
        }
      ]
    },
    {
      "cell_type": "code",
      "metadata": {
        "id": "KhQZPyHhqUql",
        "colab": {
          "base_uri": "https://localhost:8080/",
          "height": 34
        },
        "outputId": "a4043427-1a1f-45c5-b09e-807aaf7068d2"
      },
      "source": [
        "# Mission 6 : Create an array filled with 10 random ints\n",
        "\n",
        "rand_array = np.random.randint(0, 100, size=10)\n",
        "rand_array"
      ],
      "execution_count": null,
      "outputs": [
        {
          "output_type": "execute_result",
          "data": {
            "text/plain": [
              "array([17,  9, 79,  7, 47, 32,  8, 88, 35, 40])"
            ]
          },
          "metadata": {
            "tags": []
          },
          "execution_count": 13
        }
      ]
    },
    {
      "cell_type": "code",
      "metadata": {
        "id": "v3vqX26BqWTo",
        "colab": {
          "base_uri": "https://localhost:8080/",
          "height": 85
        },
        "outputId": "ceff763b-4cda-47db-884f-18c1594ed23a"
      },
      "source": [
        "# Mission 7 : Create an array that contains 70 values randomly selected only from these numbers: 0, 1, 2, 3, 4, 5, 6, 7.\n",
        "\n",
        "choice_array = np.random.choice([0, 1, 2, 3, 4, 5, 6, 7], size=70)\n",
        "choice_array"
      ],
      "execution_count": null,
      "outputs": [
        {
          "output_type": "execute_result",
          "data": {
            "text/plain": [
              "array([5, 3, 7, 2, 2, 6, 7, 6, 5, 3, 6, 6, 0, 5, 0, 1, 0, 3, 0, 4, 3, 2,\n",
              "       0, 5, 7, 1, 2, 2, 7, 4, 2, 4, 2, 4, 6, 5, 0, 2, 0, 7, 1, 2, 5, 3,\n",
              "       3, 0, 6, 0, 5, 1, 2, 7, 2, 1, 7, 0, 3, 1, 1, 5, 6, 5, 3, 7, 2, 6,\n",
              "       5, 7, 6, 5])"
            ]
          },
          "metadata": {
            "tags": []
          },
          "execution_count": 16
        }
      ]
    },
    {
      "cell_type": "code",
      "metadata": {
        "id": "Hii5gz9BqZf9",
        "colab": {
          "base_uri": "https://localhost:8080/",
          "height": 34
        },
        "outputId": "ba8f4db9-b6c4-4940-ba36-0556af3495ee"
      },
      "source": [
        "# Mission 8 : Use the slicing operator to return the items between position 3 and 6 inclusive, from the array in mission 6\n",
        "\n",
        "rand_array[3:7]"
      ],
      "execution_count": null,
      "outputs": [
        {
          "output_type": "execute_result",
          "data": {
            "text/plain": [
              "array([ 7, 47, 32,  8])"
            ]
          },
          "metadata": {
            "tags": []
          },
          "execution_count": 17
        }
      ]
    },
    {
      "cell_type": "code",
      "metadata": {
        "id": "lv-cIYMMqc0s",
        "colab": {
          "base_uri": "https://localhost:8080/",
          "height": 34
        },
        "outputId": "e0015407-c763-40c3-bdf4-ea11e8159135"
      },
      "source": [
        "# Mission 9 : Use a method to return the index of the smallest element in the array from mission 7\n",
        "\n",
        "min = np.argmin(choice_array)\n",
        "print('min value =', choice_array[min], 'min index = ', min)"
      ],
      "execution_count": null,
      "outputs": [
        {
          "output_type": "stream",
          "text": [
            "min value = 0 min index =  12\n"
          ],
          "name": "stdout"
        }
      ]
    },
    {
      "cell_type": "code",
      "metadata": {
        "id": "OnXTuji0t46s",
        "colab": {
          "base_uri": "https://localhost:8080/",
          "height": 68
        },
        "outputId": "38522ef8-7729-4c83-fc78-a0e79136b0ee"
      },
      "source": [
        "# Mission 10 : Using a numpy method, return the index of all the values in the array from mission 6 that are greater than their median value.\n",
        "\n",
        "print(rand_array)\n",
        "print(np.median(rand_array))\n",
        "np.where(rand_array > np.median(rand_array))"
      ],
      "execution_count": null,
      "outputs": [
        {
          "output_type": "stream",
          "text": [
            "[17  9 79  7 47 32  8 88 35 40]\n",
            "33.5\n"
          ],
          "name": "stdout"
        },
        {
          "output_type": "execute_result",
          "data": {
            "text/plain": [
              "(array([2, 4, 7, 8, 9]),)"
            ]
          },
          "metadata": {
            "tags": []
          },
          "execution_count": 21
        }
      ]
    },
    {
      "cell_type": "code",
      "metadata": {
        "id": "Ljy8t0yvqha5",
        "colab": {
          "base_uri": "https://localhost:8080/",
          "height": 136
        },
        "outputId": "d4e4e9c6-969e-4d6e-e4f2-a5e044ae331b"
      },
      "source": [
        "# Mission 11: Create 3 arrays filled with random ints, and place them in another array.\n",
        "# Create a function that will go through the elements of the 3 arrays in turn.\n",
        "# It should return: Element 1 of arrays 1, 2 and 3. Then element 2 of arrays 1, 2 and 3... etc.\n",
        "arr1 = np.random.randint(0,10,(5,))\n",
        "arr2 = np.random.randint(0,10,(5,))\n",
        "arr3 = np.random.randint(0,10,(5,))\n",
        "print(arr1, arr2, arr3)\n",
        "print()\n",
        "big_array = np.array([arr1, arr2, arr3])\n",
        "print(big_array)\n",
        "print()\n",
        "\n",
        "def walk_array(np_array):\n",
        "  for x in np.nditer(np_array, order='F'):\n",
        "    print(x, end=' ')\n",
        "\n",
        "walk_array(big_array)"
      ],
      "execution_count": null,
      "outputs": [
        {
          "output_type": "stream",
          "text": [
            "[3 7 9 6 2] [9 7 7 5 8] [5 5 9 3 9]\n",
            "\n",
            "[[3 7 9 6 2]\n",
            " [9 7 7 5 8]\n",
            " [5 5 9 3 9]]\n",
            "\n",
            "3 9 5 7 7 5 9 7 9 6 5 3 2 8 9 "
          ],
          "name": "stdout"
        }
      ]
    },
    {
      "cell_type": "code",
      "metadata": {
        "id": "I-Ecqv-Gqigx",
        "colab": {
          "base_uri": "https://localhost:8080/",
          "height": 119
        },
        "outputId": "37d63880-e74f-4f10-ea79-02112fe85a32"
      },
      "source": [
        "# Mission 12: Create an array and fill it with 20 random float values.\n",
        "# Create a function that will go through the array and return the smallest and largest value it contains.\n",
        "\n",
        "rand_floats = np.random.random(size=20)\n",
        "print(rand_floats)\n",
        "print()\n",
        "\n",
        "def array_sizes(sample_array):\n",
        "  print(f'minimum = {np.min(sample_array)} maximum = {np.max(sample_array)}')\n",
        "\n",
        "array_sizes(rand_floats)"
      ],
      "execution_count": null,
      "outputs": [
        {
          "output_type": "stream",
          "text": [
            "[0.99281716 0.39482582 0.64814526 0.66266702 0.20573948 0.09007882\n",
            " 0.7004145  0.11941671 0.28813144 0.38587878 0.26896739 0.46631888\n",
            " 0.78859876 0.51370555 0.4334411  0.47538184 0.48672805 0.93644146\n",
            " 0.07439425 0.74273583]\n",
            "\n",
            "minimum = 0.0743942476023296 maximum = 0.9928171610799369\n"
          ],
          "name": "stdout"
        }
      ]
    },
    {
      "cell_type": "code",
      "metadata": {
        "id": "6Q31D-P0qk14",
        "colab": {
          "base_uri": "https://localhost:8080/",
          "height": 68
        },
        "outputId": "2e4ac457-fc33-4939-d3d1-2c5c9ab097c3"
      },
      "source": [
        "# Mission 13: Create 2 arrays, randomly fill them with 20 int values between 0 and 10.\n",
        "# Create a function that will go through each array using a while loop.\n",
        "# At each iteration of the loop the function should compare the values of the 2 arrays located at the same index position.\n",
        "# Return any index at which the values of the 2 arrays happen to be equal.\n",
        "# If no values are equal at the same indices across the 2 arrays, return the message: \"No values in common\".\n",
        "\n",
        "r_i_array1 = np.random.randint(0,11, size=20)\n",
        "r_i_array2 = np.random.randint(0,11, size=20)\n",
        "\n",
        "def compare_vals(array1, array2):\n",
        "  counter = 0\n",
        "  equals = []\n",
        "  while counter < len(array1):\n",
        "    if array1[counter] == array2[counter]:\n",
        "      equals.append(counter)\n",
        "      print(f'values match at index = {counter}')\n",
        "    counter += 1\n",
        "  if len(equals) == 0:\n",
        "    print('No values in common')\n",
        "  else:\n",
        "    return equals\n",
        "  print(array1) \n",
        "  print(array2)\n",
        "\n",
        "compare_vals(r_i_array1, r_i_array2)"
      ],
      "execution_count": null,
      "outputs": [
        {
          "output_type": "stream",
          "text": [
            "No values in common\n",
            "[ 8  1  2  7  6  8  1  2  6  3  3 10  6  2  4  4  1  2  0  5]\n",
            "[ 7  0  4  0  7  7  4  0  3  1  8  8  5  0  5  3  8  1 10  6]\n"
          ],
          "name": "stdout"
        }
      ]
    },
    {
      "cell_type": "code",
      "metadata": {
        "id": "QMIOlB35VkEQ",
        "colab": {
          "base_uri": "https://localhost:8080/",
          "height": 68
        },
        "outputId": "6febdfdb-d269-40b4-e17e-5e694310887a"
      },
      "source": [
        "r_i_array1 = np.random.randint(1,11, size=20)\n",
        "r_i_array2 = np.random.randint(1,11, size=20)\n",
        "compare_vals(r_i_array1, r_i_array2)"
      ],
      "execution_count": null,
      "outputs": [
        {
          "output_type": "stream",
          "text": [
            "values match at index = 4\n",
            "values match at index = 17\n"
          ],
          "name": "stdout"
        },
        {
          "output_type": "execute_result",
          "data": {
            "text/plain": [
              "[4, 17]"
            ]
          },
          "metadata": {
            "tags": []
          },
          "execution_count": 29
        }
      ]
    }
  ]
}