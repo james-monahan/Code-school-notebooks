{
  "nbformat": 4,
  "nbformat_minor": 0,
  "metadata": {
    "colab": {
      "name": "jpm_Copy of Monty Hall",
      "provenance": [],
      "collapsed_sections": [],
      "include_colab_link": true
    },
    "kernelspec": {
      "name": "python3",
      "display_name": "Python 3"
    }
  },
  "cells": [
    {
      "cell_type": "markdown",
      "metadata": {
        "id": "view-in-github",
        "colab_type": "text"
      },
      "source": [
        "<a href=\"https://colab.research.google.com/github/james-monahan/Code-school-notebooks/blob/main/Week-5-python-sql/Monty_Hall.ipynb\" target=\"_parent\"><img src=\"https://colab.research.google.com/assets/colab-badge.svg\" alt=\"Open In Colab\"/></a>"
      ]
    },
    {
      "cell_type": "markdown",
      "metadata": {
        "id": "s6odsFbLpgIh"
      },
      "source": [
        "# Monty Hall\n",
        "\n",
        "**Below is an example of an implementation of the Monty Hall game using Python. It contains no comments.**"
      ]
    },
    {
      "cell_type": "markdown",
      "metadata": {
        "id": "QAqgGziZPsIZ"
      },
      "source": [
        "## Mission 1\n",
        "\n",
        "After reviewing the code below, add both **unilinear** and **multilinear** comments to explain how it works to another developer."
      ]
    },
    {
      "cell_type": "code",
      "metadata": {
        "id": "0dL7B4XiO1ft",
        "colab": {
          "base_uri": "https://localhost:8080/",
          "height": 265
        },
        "outputId": "c173a51a-cece-435b-ee67-7402f047feb1"
      },
      "source": [
        "import matplotlib.pyplot as plt\n",
        "\n",
        "from random import randint\n",
        "\n",
        "\n",
        "#player choices\n",
        "CHANGE = \"change\"\n",
        "KEEP = \"keep\"\n",
        "\n",
        "def playOneGame (strategy):\n",
        "    # available choices\n",
        "    doors = [0, 1, 2]\n",
        "\n",
        "    # randomly choose door with prize\n",
        "    good_door = randint(0,2)\n",
        "\n",
        "    # players first random choice\n",
        "    first_choice = randint(0,2)\n",
        "\n",
        "    # remove player door, will be one of two choices in next part)\n",
        "    doors.remove(first_choice)\n",
        "\n",
        "    # if door was correct, eliminate one of the two remaining doors (leaving first-choice and doors(1 val))\n",
        "    # if door not good, it will update doors to only include good door, and first_choice still available\n",
        "    if first_choice == good_door:\n",
        "        doors.remove(doors [randint(0,1)])\n",
        "    else:\n",
        "        doors = [good_door]\n",
        "\n",
        "    second_choice = 0\n",
        "\n",
        "    #keep or switch strategy\n",
        "    #if changing doors, it will select remaining value in doors, else first_choice will be maintained as player selection\n",
        "    if strategy.lower() == \"change\":\n",
        "        second_choice = doors[0]\n",
        "    elif strategy.lower() == \"keep\":\n",
        "        second_choice = first_choice\n",
        "    else:\n",
        "        raise ValueError(\"Strategy not recognized!\")\n",
        "    \n",
        "    # return True if second choice matches the original good door\n",
        "    return second_choice == good_door\n",
        "\n",
        "\n",
        "def playManyGames(strategy, nb_turns):\n",
        "    #looping over the number of turns\n",
        "    #converting True to 1; false to 0 based on if player chose correctly\n",
        "    return [1 if playOneGame(strategy) else 0 for i in range(nb_turns)]\n",
        "\n",
        "#plotting results of the two strategies over 10000 iterations \n",
        "plot = plt.bar([1,2], [sum(playManyGames(\"change\", 10000)), sum(playManyGames(\"keep\", 10000))], \n",
        "               tick_label=[\"Change\", \"Keep\"])"
      ],
      "execution_count": null,
      "outputs": [
        {
          "output_type": "display_data",
          "data": {
            "image/png": "[encoded data removed]",
            "text/plain": [
              "<Figure size 432x288 with 1 Axes>"
            ]
          },
          "metadata": {
            "tags": [],
            "needs_background": "light"
          }
        }
      ]
    },
    {
      "cell_type": "markdown",
      "metadata": {
        "id": "KPuEESZDP-C-"
      },
      "source": [
        "# Mission 2\n",
        "\n",
        "To make sure you understood the code, in a new cell, change up the code in mission 1 to add a third bar. Go ahead and name this **\"Alternating \"**. This will be represent players that alternate **randomly** between \"change\" and \"keep\".\n"
      ]
    },
    {
      "cell_type": "code",
      "metadata": {
        "id": "1M02IxAUQ1VO",
        "colab": {
          "base_uri": "https://localhost:8080/",
          "height": 269
        },
        "outputId": "b19c7be3-1267-4682-87b5-fb59b707571f"
      },
      "source": [
        "import matplotlib.pyplot as plt\n",
        "\n",
        "from random import randint, choice\n",
        "\n",
        "\n",
        "#player choices\n",
        "CHANGE = \"change\"\n",
        "KEEP = \"keep\"\n",
        "ALTERNATING = \"alternating\"\n",
        "\n",
        "def playOneGame (strategy):\n",
        "    # available choices\n",
        "    doors = [0, 1, 2]\n",
        "\n",
        "    # randomly choose door with prize\n",
        "    good_door = randint(0,2)\n",
        "\n",
        "    # players first random choice\n",
        "    first_choice = randint(0,2)\n",
        "\n",
        "    # remove player door, will be one of two choices in next part)\n",
        "    doors.remove(first_choice)\n",
        "\n",
        "    # if door was correct, eliminate one of the two remaining doors (leaving first-choice and doors(1 val))\n",
        "    # if door not good, it will update doors to only include good door, and first_choice still available\n",
        "    if first_choice == good_door:\n",
        "        doors.remove(doors [randint(0,1)])\n",
        "    else:\n",
        "        doors = [good_door]\n",
        "\n",
        "    second_choice = 0\n",
        "\n",
        "\n",
        "    #add alternating strategy\n",
        "    if strategy.lower() == \"alternating\":\n",
        "      strategy = choice([\"keep\", \"change\"])\n",
        "    \n",
        "    #keep, switch or alternating strategy\n",
        "    #if changing doors, it will select remaining value in doors, else first_choice will be maintained as player selection\n",
        "    if strategy.lower() == \"change\":\n",
        "        second_choice = doors[0]\n",
        "    elif strategy.lower() == \"keep\":\n",
        "        second_choice = first_choice\n",
        "    else:\n",
        "        raise ValueError(\"Strategy not recognized!\")\n",
        "    \n",
        "    # return True if second choice matches the original good door\n",
        "    return second_choice == good_door\n",
        "\n",
        "\n",
        "def playManyGames(strategy, nb_turns):\n",
        "    #looping over the number of turns\n",
        "    #converting True to 1; false to 0 based on if player chose correctly\n",
        "    return [1 if playOneGame(strategy) else 0 for i in range(nb_turns)]\n",
        "\n",
        "#plotting results of the two strategies over 10000 iterations \n",
        "plot = plt.bar([1,2,3], [sum(playManyGames(\"change\", 10000)), sum(playManyGames(\"keep\", 10000)), sum(playManyGames(\"alternating\", 10000))], \n",
        "               tick_label=[\"Change\", \"Keep\", \"Alternating\"])"
      ],
      "execution_count": null,
      "outputs": [
        {
          "output_type": "display_data",
          "data": {
            "image/png": "[encoded data removed]",
            "text/plain": [
              "<Figure size 432x288 with 1 Axes>"
            ]
          },
          "metadata": {
            "tags": [],
            "needs_background": "light"
          }
        }
      ]
    },
    {
      "cell_type": "markdown",
      "metadata": {
        "id": "VPjKxsbQQbbx"
      },
      "source": [
        "# Mission 3\n",
        "\n",
        "Now, go ahead and re-code the Monty Hall game using Numpy. **Do not use Python lists, the random method in Python, or any for or while loops in the code**. Numpy contains all the mechanisms you need to achieve the same result.\n",
        "\n",
        "Finally, combine the 2 functions, playOneGame() and playMultipleGames() into one. In other words, **your Numpy program should now contain only one function**. Obviously, **the visual should be the same as mission 2**."
      ]
    },
    {
      "cell_type": "code",
      "metadata": {
        "id": "t8Jobl71_aFW",
        "colab": {
          "base_uri": "https://localhost:8080/",
          "height": 269
        },
        "outputId": "1c117c13-bae7-4fb1-f416-6c65fdeeeb5b"
      },
      "source": [
        "import numpy as np\n",
        "def numpy_solution(r):\n",
        "  import matplotlib.pyplot as plt\n",
        "  repeats = 10000\n",
        "  good_door = np.random.randint(0,3, size=(repeats,1))\n",
        "  player_choice = np.random.randint(0,3, size=(repeats,1))\n",
        "  # if you pick correctly the first time, odds were 1/3, Montys choice is irrelevant\n",
        "  stay = sum(good_door == player_choice)\n",
        "  # if you switch you will win if you DID NOT guess correctly the first time, which is 2/3 odds\n",
        "  #since Monty eliminates a non-wining option, if you guessed incorrectly, the winning option is switching\n",
        "  switch = sum(good_door != player_choice)\n",
        "  #alternating will just be the mean of these two events\n",
        "\n",
        "\n",
        "  plot = plt.bar([1,2,3], [switch[0], stay[0], (switch[0]+stay[0])/2], \n",
        "               tick_label=[\"Change\", \"Keep\", \"Alternating\"])\n",
        "numpy_solution()"
      ],
      "execution_count": null,
      "outputs": [
        {
          "output_type": "display_data",
          "data": {
            "image/png": "[encoded data removed]",
            "text/plain": [
              "<Figure size 432x288 with 1 Axes>"
            ]
          },
          "metadata": {
            "tags": [],
            "needs_background": "light"
          }
        }
      ]
    }
  ]
}