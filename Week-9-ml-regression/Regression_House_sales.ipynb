{
  "nbformat": 4,
  "nbformat_minor": 0,
  "metadata": {
    "colab": {
      "name": "Regression House sales - James_Monahan_.ipynb",
      "provenance": [],
      "collapsed_sections": [],
      "authorship_tag": "ABX9TyPK+4uTL3rhMk0GwiVxbuCs",
      "include_colab_link": true
    },
    "kernelspec": {
      "name": "python3",
      "display_name": "Python 3"
    }
  },
  "cells": [
    {
      "cell_type": "markdown",
      "metadata": {
        "id": "view-in-github",
        "colab_type": "text"
      },
      "source": [
        "<a href=\"https://colab.research.google.com/github/james-monahan/Code-school-notebooks/blob/main/Week-9-ml-regression/Regression_House_sales.ipynb\" target=\"_parent\"><img src=\"https://colab.research.google.com/assets/colab-badge.svg\" alt=\"Open In Colab\"/></a>"
      ]
    },
    {
      "cell_type": "markdown",
      "metadata": {
        "id": "lTwMSajdAHGr"
      },
      "source": [
        "#This is still a work in progress, but complete enough for submission  \n",
        "\n",
        "#Il s'agit d'un travail encore en cours, mais suffisamment complet pour être soumis"
      ]
    },
    {
      "cell_type": "code",
      "metadata": {
        "id": "aFhv13iTvvMr"
      },
      "source": [
        "import pandas as pd\n",
        "import numpy as np\n",
        "#import random\n",
        "\n",
        "import matplotlib.pyplot as plt\n",
        "\n",
        "from sklearn.linear_model import LinearRegression\n",
        "from sklearn.model_selection import train_test_split\n",
        "#from sklearn.preprocessing import PolynomialFeatures\n",
        "from sklearn.metrics import mean_squared_error"
      ],
      "execution_count": null,
      "outputs": []
    },
    {
      "cell_type": "markdown",
      "metadata": {
        "id": "7JUV_2cJ7Ry0"
      },
      "source": [
        "#To do's:  \n",
        "\n",
        ">add summary  \n",
        ">add plot legends, etc\n"
      ]
    },
    {
      "cell_type": "markdown",
      "metadata": {
        "id": "yNFoVEHHv79N"
      },
      "source": [
        "#Objective:  \n",
        "Fill missing price information based upon predictions using a linear model.  \n",
        "The model performs an Ordinary least squares Linear Regression and returns the R2 score which is the proportion of the variance in the dependent variable that is predictable from the independent variables. In other words, it measures the difference between real and predicted values. The R2 normally ranges from 0 to 1, with a score of 1 meaning the model perfectly explains the variation from the mean.  \n",
        "\n",
        "This notebook will solely focus on preprocessing the data and making predictions. EDA and visualizations were conducted prior to this effort. Feature selection and engineering was determined by these prior efforts."
      ]
    },
    {
      "cell_type": "markdown",
      "metadata": {
        "id": "dxJjzlWd0FGB"
      },
      "source": [
        "#Summary\n",
        "\n",
        "I discovered variables that would correlate.  \n",
        "They would reduce RMSE, but not affect r2.  \n",
        "Ultimately, simply removing houses where price/sq_foot was outside the 75% percentile resulted in the greatest performance increase.  \n",
        "I also discovered some mislabeled (likely) data with bedrooms."
      ]
    },
    {
      "cell_type": "markdown",
      "metadata": {
        "id": "BXgWDn4h_l0N"
      },
      "source": [
        "###Explanation of special variables:  \n",
        "'sqft_living15', 'sqft_lot15' represent the avg comparable sq_ft of closest 15 neighboring houses"
      ]
    },
    {
      "cell_type": "markdown",
      "metadata": {
        "id": "5vAIP4ydAoAs"
      },
      "source": [
        "#Load data"
      ]
    },
    {
      "cell_type": "code",
      "metadata": {
        "id": "IyE1QlJSv6z0",
        "colab": {
          "base_uri": "https://localhost:8080/",
          "height": 278
        },
        "outputId": "6897d44f-b5f8-419f-bd07-fee396b11b65"
      },
      "source": [
        "link = 'https://raw.githubusercontent.com/murpi/wilddata/master/quests/kc_house_data.csv'\n",
        "df = pd.read_csv(link, parse_dates=['date'])\n",
        "print(\"Values to be predicted:\")\n",
        "df[df.isnull().any(axis=1)]"
      ],
      "execution_count": null,
      "outputs": [
        {
          "output_type": "stream",
          "text": [
            "Values to be predicted:\n"
          ],
          "name": "stdout"
        },
        {
          "output_type": "execute_result",
          "data": {
            "text/html": [
              "<div>\n",
              "<style scoped>\n",
              "    .dataframe tbody tr th:only-of-type {\n",
              "        vertical-align: middle;\n",
              "    }\n",
              "\n",
              "    .dataframe tbody tr th {\n",
              "        vertical-align: top;\n",
              "    }\n",
              "\n",
              "    .dataframe thead th {\n",
              "        text-align: right;\n",
              "    }\n",
              "</style>\n",
              "<table border=\"1\" class=\"dataframe\">\n",
              "  <thead>\n",
              "    <tr style=\"text-align: right;\">\n",
              "      <th></th>\n",
              "      <th>id</th>\n",
              "      <th>date</th>\n",
              "      <th>price</th>\n",
              "      <th>bedrooms</th>\n",
              "      <th>bathrooms</th>\n",
              "      <th>sqft_living</th>\n",
              "      <th>sqft_lot</th>\n",
              "      <th>floors</th>\n",
              "      <th>waterfront</th>\n",
              "      <th>view</th>\n",
              "      <th>condition</th>\n",
              "      <th>grade</th>\n",
              "      <th>sqft_above</th>\n",
              "      <th>sqft_basement</th>\n",
              "      <th>yr_built</th>\n",
              "      <th>yr_renovated</th>\n",
              "      <th>zipcode</th>\n",
              "      <th>lat</th>\n",
              "      <th>long</th>\n",
              "      <th>sqft_living15</th>\n",
              "      <th>sqft_lot15</th>\n",
              "    </tr>\n",
              "  </thead>\n",
              "  <tbody>\n",
              "    <tr>\n",
              "      <th>21609</th>\n",
              "      <td>6600060120</td>\n",
              "      <td>2015-02-23</td>\n",
              "      <td>NaN</td>\n",
              "      <td>4</td>\n",
              "      <td>2.50</td>\n",
              "      <td>2310</td>\n",
              "      <td>5813</td>\n",
              "      <td>2.0</td>\n",
              "      <td>0</td>\n",
              "      <td>0</td>\n",
              "      <td>3</td>\n",
              "      <td>8</td>\n",
              "      <td>2310</td>\n",
              "      <td>0</td>\n",
              "      <td>2014</td>\n",
              "      <td>0</td>\n",
              "      <td>98146</td>\n",
              "      <td>47.5107</td>\n",
              "      <td>-122.362</td>\n",
              "      <td>1830</td>\n",
              "      <td>7200</td>\n",
              "    </tr>\n",
              "    <tr>\n",
              "      <th>21610</th>\n",
              "      <td>1523300141</td>\n",
              "      <td>2014-06-23</td>\n",
              "      <td>NaN</td>\n",
              "      <td>2</td>\n",
              "      <td>0.75</td>\n",
              "      <td>1020</td>\n",
              "      <td>1350</td>\n",
              "      <td>2.0</td>\n",
              "      <td>0</td>\n",
              "      <td>0</td>\n",
              "      <td>3</td>\n",
              "      <td>7</td>\n",
              "      <td>1020</td>\n",
              "      <td>0</td>\n",
              "      <td>2009</td>\n",
              "      <td>0</td>\n",
              "      <td>98144</td>\n",
              "      <td>47.5944</td>\n",
              "      <td>-122.299</td>\n",
              "      <td>1020</td>\n",
              "      <td>2007</td>\n",
              "    </tr>\n",
              "    <tr>\n",
              "      <th>21611</th>\n",
              "      <td>291310100</td>\n",
              "      <td>2015-01-16</td>\n",
              "      <td>NaN</td>\n",
              "      <td>3</td>\n",
              "      <td>2.50</td>\n",
              "      <td>1600</td>\n",
              "      <td>2388</td>\n",
              "      <td>2.0</td>\n",
              "      <td>0</td>\n",
              "      <td>0</td>\n",
              "      <td>3</td>\n",
              "      <td>8</td>\n",
              "      <td>1600</td>\n",
              "      <td>0</td>\n",
              "      <td>2004</td>\n",
              "      <td>0</td>\n",
              "      <td>98027</td>\n",
              "      <td>47.5345</td>\n",
              "      <td>-122.069</td>\n",
              "      <td>1410</td>\n",
              "      <td>1287</td>\n",
              "    </tr>\n",
              "    <tr>\n",
              "      <th>21612</th>\n",
              "      <td>1523300157</td>\n",
              "      <td>2014-10-15</td>\n",
              "      <td>NaN</td>\n",
              "      <td>2</td>\n",
              "      <td>0.75</td>\n",
              "      <td>1020</td>\n",
              "      <td>1076</td>\n",
              "      <td>2.0</td>\n",
              "      <td>0</td>\n",
              "      <td>0</td>\n",
              "      <td>3</td>\n",
              "      <td>7</td>\n",
              "      <td>1020</td>\n",
              "      <td>0</td>\n",
              "      <td>2008</td>\n",
              "      <td>0</td>\n",
              "      <td>98144</td>\n",
              "      <td>47.5941</td>\n",
              "      <td>-122.299</td>\n",
              "      <td>1020</td>\n",
              "      <td>1357</td>\n",
              "    </tr>\n",
              "  </tbody>\n",
              "</table>\n",
              "</div>"
            ],
            "text/plain": [
              "               id       date  price  ...     long  sqft_living15  sqft_lot15\n",
              "21609  6600060120 2015-02-23    NaN  ... -122.362           1830        7200\n",
              "21610  1523300141 2014-06-23    NaN  ... -122.299           1020        2007\n",
              "21611   291310100 2015-01-16    NaN  ... -122.069           1410        1287\n",
              "21612  1523300157 2014-10-15    NaN  ... -122.299           1020        1357\n",
              "\n",
              "[4 rows x 21 columns]"
            ]
          },
          "metadata": {
            "tags": []
          },
          "execution_count": 17
        }
      ]
    },
    {
      "cell_type": "code",
      "metadata": {
        "id": "Mu_viXVdkUqP",
        "colab": {
          "base_uri": "https://localhost:8080/",
          "height": 117
        },
        "outputId": "abbc8f61-ab19-4be0-c44a-d1e94d27f496"
      },
      "source": [
        "#Example Extreme Outiler\n",
        "df.iloc[6994:6995]"
      ],
      "execution_count": null,
      "outputs": [
        {
          "output_type": "execute_result",
          "data": {
            "text/html": [
              "<div>\n",
              "<style scoped>\n",
              "    .dataframe tbody tr th:only-of-type {\n",
              "        vertical-align: middle;\n",
              "    }\n",
              "\n",
              "    .dataframe tbody tr th {\n",
              "        vertical-align: top;\n",
              "    }\n",
              "\n",
              "    .dataframe thead th {\n",
              "        text-align: right;\n",
              "    }\n",
              "</style>\n",
              "<table border=\"1\" class=\"dataframe\">\n",
              "  <thead>\n",
              "    <tr style=\"text-align: right;\">\n",
              "      <th></th>\n",
              "      <th>id</th>\n",
              "      <th>date</th>\n",
              "      <th>price</th>\n",
              "      <th>bedrooms</th>\n",
              "      <th>bathrooms</th>\n",
              "      <th>sqft_living</th>\n",
              "      <th>sqft_lot</th>\n",
              "      <th>floors</th>\n",
              "      <th>waterfront</th>\n",
              "      <th>view</th>\n",
              "      <th>condition</th>\n",
              "      <th>grade</th>\n",
              "      <th>sqft_above</th>\n",
              "      <th>sqft_basement</th>\n",
              "      <th>yr_built</th>\n",
              "      <th>yr_renovated</th>\n",
              "      <th>zipcode</th>\n",
              "      <th>lat</th>\n",
              "      <th>long</th>\n",
              "      <th>sqft_living15</th>\n",
              "      <th>sqft_lot15</th>\n",
              "    </tr>\n",
              "  </thead>\n",
              "  <tbody>\n",
              "    <tr>\n",
              "      <th>6994</th>\n",
              "      <td>2954400190</td>\n",
              "      <td>2014-06-24</td>\n",
              "      <td>1295650.0</td>\n",
              "      <td>0</td>\n",
              "      <td>0.0</td>\n",
              "      <td>4810</td>\n",
              "      <td>28008</td>\n",
              "      <td>2.0</td>\n",
              "      <td>0</td>\n",
              "      <td>0</td>\n",
              "      <td>3</td>\n",
              "      <td>12</td>\n",
              "      <td>4810</td>\n",
              "      <td>0</td>\n",
              "      <td>1990</td>\n",
              "      <td>0</td>\n",
              "      <td>98053</td>\n",
              "      <td>47.6642</td>\n",
              "      <td>-122.069</td>\n",
              "      <td>4740</td>\n",
              "      <td>35061</td>\n",
              "    </tr>\n",
              "  </tbody>\n",
              "</table>\n",
              "</div>"
            ],
            "text/plain": [
              "              id       date      price  ...     long  sqft_living15  sqft_lot15\n",
              "6994  2954400190 2014-06-24  1295650.0  ... -122.069           4740       35061\n",
              "\n",
              "[1 rows x 21 columns]"
            ]
          },
          "metadata": {
            "tags": []
          },
          "execution_count": 18
        }
      ]
    },
    {
      "cell_type": "code",
      "metadata": {
        "id": "mQ1fZ_O1xvsT",
        "colab": {
          "base_uri": "https://localhost:8080/",
          "height": 265
        },
        "outputId": "fc0047f2-0814-4823-cebc-3881058c9fa9"
      },
      "source": [
        "df_p = df.copy().dropna()\n",
        "df_p['pricetofoot'] = df['price']//df['sqft_living']\n",
        "df_p['pricetofoot'].describe()\n",
        "plt.hist(df_p['pricetofoot'])\n",
        "plt.show()"
      ],
      "execution_count": null,
      "outputs": [
        {
          "output_type": "display_data",
          "data": {
            "image/png": "[encoded data removed]",
            "text/plain": [
              "<Figure size 432x288 with 1 Axes>"
            ]
          },
          "metadata": {
            "tags": [],
            "needs_background": "light"
          }
        }
      ]
    },
    {
      "cell_type": "code",
      "metadata": {
        "id": "RQAXyl9Wch9h",
        "colab": {
          "base_uri": "https://localhost:8080/",
          "height": 309
        },
        "outputId": "94f411fa-382c-4bcb-a78b-24f8e80402d6"
      },
      "source": [
        "#usually something weird in the results, a data point outside the norm\n",
        "df_p[df_p['pricetofoot']>600].sample(5)"
      ],
      "execution_count": null,
      "outputs": [
        {
          "output_type": "execute_result",
          "data": {
            "text/html": [
              "<div>\n",
              "<style scoped>\n",
              "    .dataframe tbody tr th:only-of-type {\n",
              "        vertical-align: middle;\n",
              "    }\n",
              "\n",
              "    .dataframe tbody tr th {\n",
              "        vertical-align: top;\n",
              "    }\n",
              "\n",
              "    .dataframe thead th {\n",
              "        text-align: right;\n",
              "    }\n",
              "</style>\n",
              "<table border=\"1\" class=\"dataframe\">\n",
              "  <thead>\n",
              "    <tr style=\"text-align: right;\">\n",
              "      <th></th>\n",
              "      <th>id</th>\n",
              "      <th>date</th>\n",
              "      <th>price</th>\n",
              "      <th>bedrooms</th>\n",
              "      <th>bathrooms</th>\n",
              "      <th>sqft_living</th>\n",
              "      <th>sqft_lot</th>\n",
              "      <th>floors</th>\n",
              "      <th>waterfront</th>\n",
              "      <th>view</th>\n",
              "      <th>condition</th>\n",
              "      <th>grade</th>\n",
              "      <th>sqft_above</th>\n",
              "      <th>sqft_basement</th>\n",
              "      <th>yr_built</th>\n",
              "      <th>yr_renovated</th>\n",
              "      <th>zipcode</th>\n",
              "      <th>lat</th>\n",
              "      <th>long</th>\n",
              "      <th>sqft_living15</th>\n",
              "      <th>sqft_lot15</th>\n",
              "      <th>pricetofoot</th>\n",
              "    </tr>\n",
              "  </thead>\n",
              "  <tbody>\n",
              "    <tr>\n",
              "      <th>20096</th>\n",
              "      <td>3262300485</td>\n",
              "      <td>2015-04-21</td>\n",
              "      <td>2250000.0</td>\n",
              "      <td>5</td>\n",
              "      <td>5.25</td>\n",
              "      <td>3410</td>\n",
              "      <td>8118</td>\n",
              "      <td>2.0</td>\n",
              "      <td>0</td>\n",
              "      <td>0</td>\n",
              "      <td>3</td>\n",
              "      <td>11</td>\n",
              "      <td>3410</td>\n",
              "      <td>0</td>\n",
              "      <td>2006</td>\n",
              "      <td>0</td>\n",
              "      <td>98039</td>\n",
              "      <td>47.6295</td>\n",
              "      <td>-122.236</td>\n",
              "      <td>3410</td>\n",
              "      <td>16236</td>\n",
              "      <td>659.0</td>\n",
              "    </tr>\n",
              "    <tr>\n",
              "      <th>9487</th>\n",
              "      <td>6072800205</td>\n",
              "      <td>2014-11-19</td>\n",
              "      <td>2375000.0</td>\n",
              "      <td>4</td>\n",
              "      <td>2.50</td>\n",
              "      <td>3220</td>\n",
              "      <td>20251</td>\n",
              "      <td>1.0</td>\n",
              "      <td>0</td>\n",
              "      <td>0</td>\n",
              "      <td>3</td>\n",
              "      <td>10</td>\n",
              "      <td>3220</td>\n",
              "      <td>0</td>\n",
              "      <td>1969</td>\n",
              "      <td>0</td>\n",
              "      <td>98006</td>\n",
              "      <td>47.5692</td>\n",
              "      <td>-122.192</td>\n",
              "      <td>4200</td>\n",
              "      <td>22114</td>\n",
              "      <td>737.0</td>\n",
              "    </tr>\n",
              "    <tr>\n",
              "      <th>3861</th>\n",
              "      <td>1118001295</td>\n",
              "      <td>2014-12-03</td>\n",
              "      <td>2200000.0</td>\n",
              "      <td>4</td>\n",
              "      <td>3.00</td>\n",
              "      <td>3540</td>\n",
              "      <td>11098</td>\n",
              "      <td>2.0</td>\n",
              "      <td>0</td>\n",
              "      <td>0</td>\n",
              "      <td>3</td>\n",
              "      <td>10</td>\n",
              "      <td>3000</td>\n",
              "      <td>540</td>\n",
              "      <td>1940</td>\n",
              "      <td>0</td>\n",
              "      <td>98112</td>\n",
              "      <td>47.6340</td>\n",
              "      <td>-122.288</td>\n",
              "      <td>3430</td>\n",
              "      <td>8214</td>\n",
              "      <td>621.0</td>\n",
              "    </tr>\n",
              "    <tr>\n",
              "      <th>11217</th>\n",
              "      <td>8964800695</td>\n",
              "      <td>2015-03-27</td>\n",
              "      <td>1450000.0</td>\n",
              "      <td>3</td>\n",
              "      <td>1.75</td>\n",
              "      <td>2230</td>\n",
              "      <td>13529</td>\n",
              "      <td>1.0</td>\n",
              "      <td>0</td>\n",
              "      <td>0</td>\n",
              "      <td>3</td>\n",
              "      <td>9</td>\n",
              "      <td>2230</td>\n",
              "      <td>0</td>\n",
              "      <td>1949</td>\n",
              "      <td>0</td>\n",
              "      <td>98004</td>\n",
              "      <td>47.6204</td>\n",
              "      <td>-122.217</td>\n",
              "      <td>2230</td>\n",
              "      <td>11900</td>\n",
              "      <td>650.0</td>\n",
              "    </tr>\n",
              "    <tr>\n",
              "      <th>6982</th>\n",
              "      <td>824059265</td>\n",
              "      <td>2014-10-01</td>\n",
              "      <td>1155000.0</td>\n",
              "      <td>3</td>\n",
              "      <td>1.75</td>\n",
              "      <td>1640</td>\n",
              "      <td>10464</td>\n",
              "      <td>1.0</td>\n",
              "      <td>0</td>\n",
              "      <td>2</td>\n",
              "      <td>4</td>\n",
              "      <td>8</td>\n",
              "      <td>1640</td>\n",
              "      <td>0</td>\n",
              "      <td>1968</td>\n",
              "      <td>0</td>\n",
              "      <td>98004</td>\n",
              "      <td>47.5873</td>\n",
              "      <td>-122.205</td>\n",
              "      <td>2630</td>\n",
              "      <td>18872</td>\n",
              "      <td>704.0</td>\n",
              "    </tr>\n",
              "  </tbody>\n",
              "</table>\n",
              "</div>"
            ],
            "text/plain": [
              "               id       date      price  ...  sqft_living15  sqft_lot15  pricetofoot\n",
              "20096  3262300485 2015-04-21  2250000.0  ...           3410       16236        659.0\n",
              "9487   6072800205 2014-11-19  2375000.0  ...           4200       22114        737.0\n",
              "3861   1118001295 2014-12-03  2200000.0  ...           3430        8214        621.0\n",
              "11217  8964800695 2015-03-27  1450000.0  ...           2230       11900        650.0\n",
              "6982    824059265 2014-10-01  1155000.0  ...           2630       18872        704.0\n",
              "\n",
              "[5 rows x 22 columns]"
            ]
          },
          "metadata": {
            "tags": []
          },
          "execution_count": 20
        }
      ]
    },
    {
      "cell_type": "code",
      "metadata": {
        "id": "QhIiMeJNePjP",
        "colab": {
          "base_uri": "https://localhost:8080/"
        },
        "outputId": "ea8d1b70-533c-47b0-b026-7f57affc4198"
      },
      "source": [
        "df_p[df_p['pricetofoot']>600].groupby('zipcode')['id'].count().nlargest(5)"
      ],
      "execution_count": null,
      "outputs": [
        {
          "output_type": "execute_result",
          "data": {
            "text/plain": [
              "zipcode\n",
              "98004    55\n",
              "98112    23\n",
              "98039    20\n",
              "98119    20\n",
              "98103    17\n",
              "Name: id, dtype: int64"
            ]
          },
          "metadata": {
            "tags": []
          },
          "execution_count": 21
        }
      ]
    },
    {
      "cell_type": "code",
      "metadata": {
        "id": "mkJv3h99e_z4",
        "colab": {
          "base_uri": "https://localhost:8080/"
        },
        "outputId": "9a4ebb59-879b-4f47-8dd6-4f17618fbd13"
      },
      "source": [
        "#outliers exist in well represented areas\n",
        "print(df.groupby('zipcode')['id'].count().sort_values(ascending=False)[28:29])\n",
        "print(df.groupby('zipcode')['id'].count().sort_values(ascending=False)[41:42])"
      ],
      "execution_count": null,
      "outputs": [
        {
          "output_type": "stream",
          "text": [
            "zipcode\n",
            "98004    317\n",
            "Name: id, dtype: int64\n",
            "zipcode\n",
            "98112    269\n",
            "Name: id, dtype: int64\n"
          ],
          "name": "stdout"
        }
      ]
    },
    {
      "cell_type": "code",
      "metadata": {
        "id": "_LGqj9PkuLP6",
        "colab": {
          "base_uri": "https://localhost:8080/",
          "height": 265
        },
        "outputId": "62fdced4-3f6f-432d-e21e-024667570c3d"
      },
      "source": [
        "#grade is also highly correlated\n",
        "df_p['pricetograde'] = df['price']//df['grade']\n",
        "plt.hist(df_p['pricetograde'], bins=40)\n",
        "plt.show()"
      ],
      "execution_count": null,
      "outputs": [
        {
          "output_type": "display_data",
          "data": {
            "image/png": "[encoded data removed]",
            "text/plain": [
              "<Figure size 432x288 with 1 Axes>"
            ]
          },
          "metadata": {
            "tags": [],
            "needs_background": "light"
          }
        }
      ]
    },
    {
      "cell_type": "code",
      "metadata": {
        "id": "G6uTdkIyk4eR",
        "colab": {
          "base_uri": "https://localhost:8080/",
          "height": 301
        },
        "outputId": "41133628-c2f2-431f-be24-e7c8e88bbad2"
      },
      "source": [
        "#price by bedrooms also displays outlier values\n",
        "df.boxplot('price', by='bedrooms')\n",
        "plt.show()"
      ],
      "execution_count": null,
      "outputs": [
        {
          "output_type": "display_data",
          "data": {
            "image/png": "[encoded data removed]",
            "text/plain": [
              "<Figure size 432x288 with 1 Axes>"
            ]
          },
          "metadata": {
            "tags": [],
            "needs_background": "light"
          }
        }
      ]
    },
    {
      "cell_type": "markdown",
      "metadata": {
        "id": "xU0vW5ysxef-"
      },
      "source": [
        "#Create a function to make predictions based on a linear model"
      ]
    },
    {
      "cell_type": "code",
      "metadata": {
        "id": "PSKH5XV0xTO1"
      },
      "source": [
        "def linear_prediction(df_data, X_col, y_pred, normalize = True):\n",
        "  df = df_data.copy()\n",
        "  #drop na (data to be predicted)\n",
        "  X = df.dropna()[X_col]\n",
        "  y = df.dropna()[y_pred]\n",
        "  #split data\n",
        "  X_train, X_test, y_train, y_test = train_test_split(X, y, test_size=0.30, random_state=42)\n",
        "\n",
        "  model = LinearRegression(normalize= normalize)\n",
        "  model.fit(X_train, y_train)\n",
        "  y_prediction = model.predict(X_test)\n",
        "\n",
        "  print(\"cols used:\", X.columns.values)\n",
        "  print('rmse:', mean_squared_error(y_test, y_prediction, squared=False))\n",
        "  print(\"R2 for train data:\", model.score(X_train, y_train))\n",
        "  print(\"R2 for test data:\", model.score(X_test, y_test))\n",
        "  print()\n",
        "  #return preds and test for comparison to determine where model is failing\n",
        "  return y_test, y_prediction, model"
      ],
      "execution_count": null,
      "outputs": []
    },
    {
      "cell_type": "code",
      "metadata": {
        "id": "4ZjAyKnI6Z84",
        "colab": {
          "base_uri": "https://localhost:8080/"
        },
        "outputId": "ba80cac6-340a-4ff8-8252-b23a5495d612"
      },
      "source": [
        "#establish baseline model\n",
        "y_pred = 'price'\n",
        "cols_to_drop = ['price', 'id', 'date']\n",
        "X_col = df.columns.drop(cols_to_drop)\n",
        "\n",
        "print(\"Baseline model:\")\n",
        "linear_prediction(df, X_col, y_pred, normalize = True)"
      ],
      "execution_count": null,
      "outputs": [
        {
          "output_type": "stream",
          "text": [
            "Baseline model:\n",
            "cols used: ['bedrooms' 'bathrooms' 'sqft_living' 'sqft_lot' 'floors' 'waterfront'\n",
            " 'view' 'condition' 'grade' 'sqft_above' 'sqft_basement' 'yr_built'\n",
            " 'yr_renovated' 'zipcode' 'lat' 'long' 'sqft_living15' 'sqft_lot15']\n",
            "rmse: 209453.11072630956\n",
            "R2 for train data: 0.7033289164843857\n",
            "R2 for test data: 0.6909541019052551\n",
            "\n"
          ],
          "name": "stdout"
        },
        {
          "output_type": "execute_result",
          "data": {
            "text/plain": [
              "(4982     476900.0\n",
              " 10254    235000.0\n",
              " 4044     269900.0\n",
              " 21267    400000.0\n",
              " 10494    550000.0\n",
              "            ...   \n",
              " 20402    437000.0\n",
              " 11756    435000.0\n",
              " 85       940000.0\n",
              " 7708     592500.0\n",
              " 167      807100.0\n",
              " Name: price, Length: 6483, dtype: float64,\n",
              " array([363958.7040161 , 129435.84767793, 319092.00837036, ...,\n",
              "        822016.42576867, 576457.22489942, 729971.4166637 ]),\n",
              " LinearRegression(copy_X=True, fit_intercept=True, n_jobs=None, normalize=True))"
            ]
          },
          "metadata": {
            "tags": []
          },
          "execution_count": 38
        }
      ]
    },
    {
      "cell_type": "code",
      "metadata": {
        "id": "ogvuoKwhsJsy",
        "colab": {
          "base_uri": "https://localhost:8080/"
        },
        "outputId": "6147a752-9246-4e29-a216-429b1f2ec625"
      },
      "source": [
        "# (loop) predict on correlated columns, adding in order of correlation \n",
        "build = []\n",
        "y_pred = 'price'\n",
        "variables = abs(df.corr()['price']).sort_values(ascending=False).index[1:].drop(['id'])\n",
        "\n",
        "for item in variables:\n",
        "  build.append(item)\n",
        "  linear_prediction(df, build, y_pred)"
      ],
      "execution_count": null,
      "outputs": [
        {
          "output_type": "stream",
          "text": [
            "cols used: ['sqft_living']\n",
            "rmse: 269724.1330729262\n",
            "R2 for train data: 0.4953021648921838\n",
            "R2 for test data: 0.48750578676510237\n",
            "\n",
            "cols used: ['sqft_living' 'grade']\n",
            "rmse: 260207.73669540786\n",
            "R2 for train data: 0.5397328931210399\n",
            "R2 for test data: 0.5230314271845454\n",
            "\n",
            "cols used: ['sqft_living' 'grade' 'sqft_above']\n",
            "rmse: 258604.98317920265\n",
            "R2 for train data: 0.5465980685122354\n",
            "R2 for test data: 0.5288891215479612\n",
            "\n",
            "cols used: ['sqft_living' 'grade' 'sqft_above' 'sqft_living15']\n",
            "rmse: 258604.72380826794\n",
            "R2 for train data: 0.5478748825025767\n",
            "R2 for test data: 0.5288900665599723\n",
            "\n",
            "cols used: ['sqft_living' 'grade' 'sqft_above' 'sqft_living15' 'bathrooms']\n",
            "rmse: 257831.01879385777\n",
            "R2 for train data: 0.549841791693249\n",
            "R2 for test data: 0.5317048245328333\n",
            "\n",
            "cols used: ['sqft_living' 'grade' 'sqft_above' 'sqft_living15' 'bathrooms' 'view']\n",
            "rmse: 247894.16018449445\n",
            "R2 for train data: 0.5799095799631919\n",
            "R2 for test data: 0.567105621663489\n",
            "\n",
            "cols used: ['sqft_living' 'grade' 'sqft_above' 'sqft_living15' 'bathrooms' 'view'\n",
            " 'sqft_basement']\n",
            "rmse: 247894.16018449445\n",
            "R2 for train data: 0.5799095799631919\n",
            "R2 for test data: 0.567105621663489\n",
            "\n",
            "cols used: ['sqft_living' 'grade' 'sqft_above' 'sqft_living15' 'bathrooms' 'view'\n",
            " 'sqft_basement' 'bedrooms']\n",
            "rmse: 246654.9404608342\n",
            "R2 for train data: 0.5838423276150011\n",
            "R2 for test data: 0.5714228705655047\n",
            "\n",
            "cols used: ['sqft_living' 'grade' 'sqft_above' 'sqft_living15' 'bathrooms' 'view'\n",
            " 'sqft_basement' 'bedrooms' 'lat']\n",
            "rmse: 228135.15268328774\n",
            "R2 for train data: 0.6427860029917445\n",
            "R2 for test data: 0.6333651250844049\n",
            "\n",
            "cols used: ['sqft_living' 'grade' 'sqft_above' 'sqft_living15' 'bathrooms' 'view'\n",
            " 'sqft_basement' 'bedrooms' 'lat' 'waterfront']\n",
            "rmse: 223731.8369034916\n",
            "R2 for train data: 0.660681220362303\n",
            "R2 for test data: 0.6473816321925835\n",
            "\n",
            "cols used: ['sqft_living' 'grade' 'sqft_above' 'sqft_living15' 'bathrooms' 'view'\n",
            " 'sqft_basement' 'bedrooms' 'lat' 'waterfront' 'floors']\n",
            "rmse: 223340.09593666953\n",
            "R2 for train data: 0.6615902453172344\n",
            "R2 for test data: 0.6486153781730409\n",
            "\n",
            "cols used: ['sqft_living' 'grade' 'sqft_above' 'sqft_living15' 'bathrooms' 'view'\n",
            " 'sqft_basement' 'bedrooms' 'lat' 'waterfront' 'floors' 'yr_renovated']\n",
            "rmse: 223131.3205716031\n",
            "R2 for train data: 0.6670047051437274\n",
            "R2 for test data: 0.6492720105095062\n",
            "\n",
            "cols used: ['sqft_living' 'grade' 'sqft_above' 'sqft_living15' 'bathrooms' 'view'\n",
            " 'sqft_basement' 'bedrooms' 'lat' 'waterfront' 'floors' 'yr_renovated'\n",
            " 'sqft_lot']\n",
            "rmse: 223146.43310786047\n",
            "R2 for train data: 0.667337892312234\n",
            "R2 for test data: 0.6492244997527017\n",
            "\n",
            "cols used: ['sqft_living' 'grade' 'sqft_above' 'sqft_living15' 'bathrooms' 'view'\n",
            " 'sqft_basement' 'bedrooms' 'lat' 'waterfront' 'floors' 'yr_renovated'\n",
            " 'sqft_lot' 'sqft_lot15']\n",
            "rmse: 222774.92781393495\n",
            "R2 for train data: 0.6680505884940557\n",
            "R2 for test data: 0.6503915045404935\n",
            "\n",
            "cols used: ['sqft_living' 'grade' 'sqft_above' 'sqft_living15' 'bathrooms' 'view'\n",
            " 'sqft_basement' 'bedrooms' 'lat' 'waterfront' 'floors' 'yr_renovated'\n",
            " 'sqft_lot' 'sqft_lot15' 'yr_built']\n",
            "rmse: 212965.56988066089\n",
            "R2 for train data: 0.6966238435886669\n",
            "R2 for test data: 0.6805019971790344\n",
            "\n",
            "cols used: ['sqft_living' 'grade' 'sqft_above' 'sqft_living15' 'bathrooms' 'view'\n",
            " 'sqft_basement' 'bedrooms' 'lat' 'waterfront' 'floors' 'yr_renovated'\n",
            " 'sqft_lot' 'sqft_lot15' 'yr_built' 'zipcode']\n",
            "rmse: 211878.8988318745\n",
            "R2 for train data: 0.6987407033433615\n",
            "R2 for test data: 0.6837541984797805\n",
            "\n",
            "cols used: ['sqft_living' 'grade' 'sqft_above' 'sqft_living15' 'bathrooms' 'view'\n",
            " 'sqft_basement' 'bedrooms' 'lat' 'waterfront' 'floors' 'yr_renovated'\n",
            " 'sqft_lot' 'sqft_lot15' 'yr_built' 'zipcode' 'condition']\n",
            "rmse: 211119.67385984544\n",
            "R2 for train data: 0.7001950210769055\n",
            "R2 for test data: 0.6860165429916243\n",
            "\n",
            "cols used: ['sqft_living' 'grade' 'sqft_above' 'sqft_living15' 'bathrooms' 'view'\n",
            " 'sqft_basement' 'bedrooms' 'lat' 'waterfront' 'floors' 'yr_renovated'\n",
            " 'sqft_lot' 'sqft_lot15' 'yr_built' 'zipcode' 'condition' 'long']\n",
            "rmse: 209453.11072630933\n",
            "R2 for train data: 0.7033289164843861\n",
            "R2 for test data: 0.690954101905256\n",
            "\n"
          ],
          "name": "stdout"
        }
      ]
    },
    {
      "cell_type": "markdown",
      "metadata": {
        "id": "PzUeIIs-ClkX"
      },
      "source": [
        "#Achieving a similar result on fewer variables"
      ]
    },
    {
      "cell_type": "code",
      "metadata": {
        "id": "iIme9ngNCEhX",
        "colab": {
          "base_uri": "https://localhost:8080/"
        },
        "outputId": "d52cfc1c-9160-4e94-a831-5422ec0e3980"
      },
      "source": [
        "#simplified baseline based on varibales that produced greatest change in R2\n",
        "y_pred = 'price'\n",
        "X_col = ['sqft_living', 'grade', 'view', 'lat', 'yr_built']\n",
        "\n",
        "print(\"Baseline model:\")\n",
        "b_11, b_22, model = linear_prediction(df, X_col, y_pred, normalize = True)"
      ],
      "execution_count": null,
      "outputs": [
        {
          "output_type": "stream",
          "text": [
            "Baseline model:\n",
            "cols used: ['sqft_living' 'grade' 'view' 'lat' 'yr_built']\n",
            "rmse: 219944.58555065922\n",
            "R2 for train data: 0.6698209146990708\n",
            "R2 for test data: 0.6592185827595286\n",
            "\n"
          ],
          "name": "stdout"
        }
      ]
    },
    {
      "cell_type": "code",
      "metadata": {
        "id": "5FFIzaG49nqm",
        "colab": {
          "base_uri": "https://localhost:8080/"
        },
        "outputId": "8e0ecddd-8371-45f3-b347-cd6429873749"
      },
      "source": [
        "#RMSE comparison to data\n",
        "print('mean price:',round(df.price.mean()), 'min price:',round(df.price.min()),'max price:',round(df.price.max()))\n",
        "print('rmse:',219944)"
      ],
      "execution_count": null,
      "outputs": [
        {
          "output_type": "stream",
          "text": [
            "mean price: 540117 min price: 75000 max price: 7700000\n",
            "rmse: 219944\n"
          ],
          "name": "stdout"
        }
      ]
    },
    {
      "cell_type": "markdown",
      "metadata": {
        "id": "SVLZc-u5CBa8"
      },
      "source": [
        "# Function to perform data cleaning and feature engineering:  "
      ]
    },
    {
      "cell_type": "code",
      "metadata": {
        "id": "g0O_8ML6B40H"
      },
      "source": [
        "def clean_and_transform(df_data, lat_long_bins=10, reno_bins=5, drop_engineered=False, drop_orig=False, bedroom_limit = None):\n",
        "  ### bedroom limit: 'None' uses data as is, '-1' removes col, or set value to limit dataset by num bedrooms ###\n",
        "\n",
        "  original_cols = df_data.columns.drop(['price'])\n",
        "\n",
        "  df = df_data.copy()\n",
        "\n",
        "  #remove duplicates, keeping most recent value (values duplicated as they were relisted at a different price)\n",
        "  cols_to_check = df.drop(['date', 'price'], axis=1).columns\n",
        "  df = df.sort_values('date').drop_duplicates(cols_to_check, keep='last').sort_index()\n",
        "\n",
        "  #add total size (lot and living)\n",
        "  df['total_size'] = df['sqft_living']+df['sqft_lot']\n",
        "  \n",
        "  #add comparison to neighbors size\n",
        "  df['sqft_living_to_neighbor'] = df['sqft_living']-df['sqft_living15']\n",
        "  df['sqft_lot_to_neighbor'] = df['sqft_lot']-df['sqft_lot15']\n",
        "\n",
        "  #add sq_foot per floor\n",
        "  df['sq_per_floor'] = df['sqft_living']//df['floors']\n",
        "\n",
        "  #bin lat and long\n",
        "  data_lat = pd.cut(df['lat'], bins= lat_long_bins, labels= range(1,lat_long_bins+1))\n",
        "  data_long = pd.cut(df['long'], bins= lat_long_bins, labels= range(1,lat_long_bins+1))\n",
        "  df['lat_bin'] = data_lat\n",
        "  df['long_bin'] = data_long\n",
        "  #planning to convert to feature cross\n",
        "  df['lat_long_bin'] = (df['lat_bin'].astype('int64')**2) * (df['long_bin'].astype('int64')**2)\n",
        "  df['lat_long_bin'] = pd.cut(df['lat_long_bin'], bins= lat_long_bins, labels= range(1,lat_long_bins+1))\n",
        "\n",
        "  #bin renovation\n",
        "  df_zero = df[df['yr_renovated']==0]\n",
        "  df_not_zero = df[df['yr_renovated']!=0]\n",
        "  data_ren = pd.cut(df_not_zero['yr_renovated'], bins=reno_bins, labels= range(1,reno_bins+1))\n",
        "  df['renovation_binned'] = data_ren  \n",
        "  df['renovation_binned'] = df['renovation_binned'].cat.add_categories(0)\n",
        "  df['renovation_binned'].fillna(0, inplace=True)\n",
        "\n",
        "  #bedroom limit\n",
        "  if bedroom_limit == -1:\n",
        "    df = df.drop('bedrooms', axis=1)\n",
        "  elif bedroom_limit:\n",
        "    df = df[(df['bedrooms'] <= bedroom_limit)]\n",
        "\n",
        "  #drop_engineered, remove all engineered cols\n",
        "  if drop_engineered == True:\n",
        "    df = df.drop(['total_size', 'sqft_living_to_neighbor', 'sqft_lot_to_neighbor', 'sq_per_floor', 'lat_long_bin', 'long_bin', 'renovation_binned'], axis=1)\n",
        "\n",
        "  #drop all original columns\n",
        "  if drop_orig == True:\n",
        "    df = df.drop(original_cols, axis=1)\n",
        "  else:\n",
        "    #drop unneeded columns, sqft_above is redundant\n",
        "    #drop sq lviing as it is duplicate value (above + basement)\n",
        "    df = df.drop(['id', 'date', 'zipcode','sqft_living'], axis=1)\n",
        "\n",
        "  return df"
      ],
      "execution_count": null,
      "outputs": []
    },
    {
      "cell_type": "code",
      "metadata": {
        "id": "3cSonsowBzEO",
        "colab": {
          "base_uri": "https://localhost:8080/"
        },
        "outputId": "bd124e49-686b-45a8-8a14-8900f03fd760"
      },
      "source": [
        "#using everything\n",
        "df_new = clean_and_transform(df, lat_long_bins=5, reno_bins=5, drop_engineered=False, drop_orig=False, bedroom_limit = None)\n",
        "\n",
        "y_pred = 'price'\n",
        "cols_to_drop = ['price']\n",
        "X_col = df_new.columns.drop(cols_to_drop)\n",
        "\n",
        "print(\"Revised model:\")\n",
        "y_test, y_prediction, model2 = linear_prediction(df_new, X_col, y_pred, normalize = False)"
      ],
      "execution_count": null,
      "outputs": [
        {
          "output_type": "stream",
          "text": [
            "Revised model:\n",
            "cols used: ['bedrooms' 'bathrooms' 'sqft_lot' 'floors' 'waterfront' 'view'\n",
            " 'condition' 'grade' 'sqft_above' 'sqft_basement' 'yr_built'\n",
            " 'yr_renovated' 'lat' 'long' 'sqft_living15' 'sqft_lot15' 'total_size'\n",
            " 'sqft_living_to_neighbor' 'sqft_lot_to_neighbor' 'sq_per_floor' 'lat_bin'\n",
            " 'long_bin' 'lat_long_bin' 'renovation_binned']\n",
            "rmse: 195032.45938716343\n",
            "R2 for train data: 0.703360709428436\n",
            "R2 for test data: 0.6974534399385659\n",
            "\n"
          ],
          "name": "stdout"
        }
      ]
    },
    {
      "cell_type": "markdown",
      "metadata": {
        "id": "MGz_j1t4ffFb"
      },
      "source": [
        "###While modifications to the data set provide slight improvemnt to RMSE, virtually no improvement is made to R2.  \n",
        "\n",
        "###As we observe the model explaining approx 70% of the variance, let's remove the top 30% based on price/sq ft and see if the model improves.\n"
      ]
    },
    {
      "cell_type": "code",
      "metadata": {
        "id": "MuhYVn7VfYG4",
        "colab": {
          "base_uri": "https://localhost:8080/"
        },
        "outputId": "d735d095-a637-41a3-cbfd-73c55a19b428"
      },
      "source": [
        "#remove data above 70% of price to foot \n",
        "#select quantile\n",
        "q_val=.7\n",
        "quantile_data = df_p['pricetofoot'].quantile([q_val]).values[0]\n",
        "df_p_pred = df_p[df_p['pricetofoot'] < quantile_data].copy()\n",
        "df_new_q = clean_and_transform(df_p_pred, lat_long_bins=5, reno_bins=5, drop_engineered=False, drop_orig=False, bedroom_limit = None)\n",
        "\n",
        "y_pred = 'price'\n",
        "cols_to_drop = ['price', 'pricetofoot', 'pricetograde']\n",
        "X_col = df_new_q.columns.drop(cols_to_drop)\n",
        "\n",
        "print(\"Model\")\n",
        "a, b, model3 = linear_prediction(df_new_q, X_col, y_pred, normalize = False)"
      ],
      "execution_count": null,
      "outputs": [
        {
          "output_type": "stream",
          "text": [
            "Model\n",
            "cols used: ['bedrooms' 'bathrooms' 'sqft_lot' 'floors' 'waterfront' 'view'\n",
            " 'condition' 'grade' 'sqft_above' 'sqft_basement' 'yr_built'\n",
            " 'yr_renovated' 'lat' 'long' 'sqft_living15' 'sqft_lot15' 'total_size'\n",
            " 'sqft_living_to_neighbor' 'sqft_lot_to_neighbor' 'sq_per_floor' 'lat_bin'\n",
            " 'long_bin' 'lat_long_bin' 'renovation_binned']\n",
            "rmse: 88094.50804888844\n",
            "R2 for train data: 0.8357242366393008\n",
            "R2 for test data: 0.829130888376258\n",
            "\n"
          ],
          "name": "stdout"
        }
      ]
    },
    {
      "cell_type": "markdown",
      "metadata": {
        "id": "rdY7PNp6pZ8N"
      },
      "source": [
        "####The model now gains an increase in predictive power. At the beginning I pointed out some values far from the norm. It is demonstrated that these values have a meaningful impact on our model performance. At this stage, I would conclude that the best course of action to increase model performance is to clean and verify existing data at the extremes, then standardize a process for collecting and verifying new data. Without further investigation into the correctness of extreme values we are unable to conclude the current model's true potential."
      ]
    },
    {
      "cell_type": "markdown",
      "metadata": {
        "id": "H9FYzzYAlQLj"
      },
      "source": [
        "##Additional functionality to compare predicted and actual values, providing a way to view where the model's predictions are furthest from actual."
      ]
    },
    {
      "cell_type": "code",
      "metadata": {
        "id": "jnMate1xvPuf",
        "colab": {
          "base_uri": "https://localhost:8080/"
        },
        "outputId": "38b72658-a7d6-42d4-e645-7723e57cd2e2"
      },
      "source": [
        "#columns reminder\n",
        "df_new.columns"
      ],
      "execution_count": null,
      "outputs": [
        {
          "output_type": "execute_result",
          "data": {
            "text/plain": [
              "Index(['price', 'bedrooms', 'bathrooms', 'sqft_lot', 'floors', 'waterfront',\n",
              "       'view', 'condition', 'grade', 'sqft_above', 'sqft_basement', 'yr_built',\n",
              "       'yr_renovated', 'lat', 'long', 'sqft_living15', 'sqft_lot15',\n",
              "       'total_size', 'sqft_living_to_neighbor', 'sqft_lot_to_neighbor',\n",
              "       'sq_per_floor', 'lat_bin', 'long_bin', 'lat_long_bin',\n",
              "       'renovation_binned'],\n",
              "      dtype='object')"
            ]
          },
          "metadata": {
            "tags": []
          },
          "execution_count": 49
        }
      ]
    },
    {
      "cell_type": "code",
      "metadata": {
        "id": "d1sdXx-Iyl0o"
      },
      "source": [
        "#I plan to add binning feature for continuous cols\n",
        "def group_by_mean(col_to_compare, all=False, n_largest_val = 1):\n",
        "  pred_df = df_new.loc[y_test.index]\n",
        "  pred_df['predictions'] = y_prediction\n",
        "  round_preds = abs(pred_df['predictions']-pred_df['price'])\n",
        "  pred_df['difference'] = round_preds\n",
        "  cols = list(pred_df.columns)\n",
        "  cols.insert(0, cols.pop(cols.index('predictions')))\n",
        "  cols.insert(0, cols.pop(cols.index('difference')))\n",
        "  pred_df = pred_df[cols]\n",
        "  if all == True:\n",
        "    return np.round(pred_df.groupby(col_to_compare).difference.mean().sort_values(ascending=False))\n",
        "  if n_largest_val:\n",
        "    return np.round(pred_df.groupby(col_to_compare).difference.mean().sort_values(ascending=False))[0:n_largest_val]"
      ],
      "execution_count": null,
      "outputs": []
    },
    {
      "cell_type": "code",
      "metadata": {
        "id": "dDCYIRszXr6Q",
        "colab": {
          "base_uri": "https://localhost:8080/"
        },
        "outputId": "c478c5f3-9ba1-4474-b655-c7d7db8a5575"
      },
      "source": [
        "#In general, the higher the grade, the more difficulty in making an accurate prediction\n",
        "col_to_compare = 'grade'\n",
        "group_by_mean(col_to_compare, all=False, n_largest_val = 5)\n"
      ],
      "execution_count": null,
      "outputs": [
        {
          "output_type": "execute_result",
          "data": {
            "text/plain": [
              "grade\n",
              "13    1655658.0\n",
              "12     727488.0\n",
              "3      475079.0\n",
              "11     401936.0\n",
              "10     253201.0\n",
              "Name: difference, dtype: float64"
            ]
          },
          "metadata": {
            "tags": []
          },
          "execution_count": 51
        }
      ]
    },
    {
      "cell_type": "code",
      "metadata": {
        "id": "lOGVcR7T3VF5",
        "colab": {
          "base_uri": "https://localhost:8080/"
        },
        "outputId": "64b67cb5-1c7d-4dfa-d5e9-1d9cddb88cbc"
      },
      "source": [
        "#Model does not seem to predict well using year, could be converted to 'age' or bin data by decade\n",
        "col_to_compare = 'yr_built'\n",
        "group_by_mean(col_to_compare, all=True, n_largest_val = False)"
      ],
      "execution_count": null,
      "outputs": [
        {
          "output_type": "execute_result",
          "data": {
            "text/plain": [
              "yr_built\n",
              "1911    222035.0\n",
              "1935    204087.0\n",
              "1928    198886.0\n",
              "1952    181341.0\n",
              "2008    176246.0\n",
              "          ...   \n",
              "1962     74630.0\n",
              "1901     73377.0\n",
              "1913     73154.0\n",
              "1944     62848.0\n",
              "1917     53457.0\n",
              "Name: difference, Length: 116, dtype: float64"
            ]
          },
          "metadata": {
            "tags": []
          },
          "execution_count": 52
        }
      ]
    },
    {
      "cell_type": "markdown",
      "metadata": {
        "id": "5WRElx6g9meB"
      },
      "source": [
        "##Prediction"
      ]
    },
    {
      "cell_type": "code",
      "metadata": {
        "id": "8cuOdnAp-ts8"
      },
      "source": [
        "#get data with missing, data is already preprocessed\n",
        "to_predict = df_new.loc[df_new.price.isna()]"
      ],
      "execution_count": null,
      "outputs": []
    },
    {
      "cell_type": "code",
      "metadata": {
        "id": "sKN0VsSL9lmz"
      },
      "source": [
        "preds_for_na = model3.predict(to_predict.drop('price', axis=1))"
      ],
      "execution_count": null,
      "outputs": []
    },
    {
      "cell_type": "code",
      "metadata": {
        "id": "SeYaUzMG_Vik",
        "colab": {
          "base_uri": "https://localhost:8080/"
        },
        "outputId": "53d7b75f-ecc1-4764-8914-719442d5dc26"
      },
      "source": [
        "to_predict.loc[:,'price'] = preds_for_na"
      ],
      "execution_count": null,
      "outputs": [
        {
          "output_type": "stream",
          "text": [
            "/usr/local/lib/python3.6/dist-packages/pandas/core/indexing.py:1743: SettingWithCopyWarning: \n",
            "A value is trying to be set on a copy of a slice from a DataFrame.\n",
            "Try using .loc[row_indexer,col_indexer] = value instead\n",
            "\n",
            "See the caveats in the documentation: https://pandas.pydata.org/pandas-docs/stable/user_guide/indexing.html#returning-a-view-versus-a-copy\n",
            "  isetter(ilocs[0], value)\n"
          ],
          "name": "stderr"
        }
      ]
    },
    {
      "cell_type": "code",
      "metadata": {
        "id": "4qWiL7gP_qO8",
        "colab": {
          "base_uri": "https://localhost:8080/",
          "height": 193
        },
        "outputId": "566ad3cf-8ce6-415f-eb78-b120621ed503"
      },
      "source": [
        "to_predict"
      ],
      "execution_count": null,
      "outputs": [
        {
          "output_type": "execute_result",
          "data": {
            "text/html": [
              "<div>\n",
              "<style scoped>\n",
              "    .dataframe tbody tr th:only-of-type {\n",
              "        vertical-align: middle;\n",
              "    }\n",
              "\n",
              "    .dataframe tbody tr th {\n",
              "        vertical-align: top;\n",
              "    }\n",
              "\n",
              "    .dataframe thead th {\n",
              "        text-align: right;\n",
              "    }\n",
              "</style>\n",
              "<table border=\"1\" class=\"dataframe\">\n",
              "  <thead>\n",
              "    <tr style=\"text-align: right;\">\n",
              "      <th></th>\n",
              "      <th>price</th>\n",
              "      <th>bedrooms</th>\n",
              "      <th>bathrooms</th>\n",
              "      <th>sqft_lot</th>\n",
              "      <th>floors</th>\n",
              "      <th>waterfront</th>\n",
              "      <th>view</th>\n",
              "      <th>condition</th>\n",
              "      <th>grade</th>\n",
              "      <th>sqft_above</th>\n",
              "      <th>sqft_basement</th>\n",
              "      <th>yr_built</th>\n",
              "      <th>yr_renovated</th>\n",
              "      <th>lat</th>\n",
              "      <th>long</th>\n",
              "      <th>sqft_living15</th>\n",
              "      <th>sqft_lot15</th>\n",
              "      <th>total_size</th>\n",
              "      <th>sqft_living_to_neighbor</th>\n",
              "      <th>sqft_lot_to_neighbor</th>\n",
              "      <th>sq_per_floor</th>\n",
              "      <th>lat_bin</th>\n",
              "      <th>long_bin</th>\n",
              "      <th>lat_long_bin</th>\n",
              "      <th>renovation_binned</th>\n",
              "    </tr>\n",
              "  </thead>\n",
              "  <tbody>\n",
              "    <tr>\n",
              "      <th>21609</th>\n",
              "      <td>402972.732844</td>\n",
              "      <td>4</td>\n",
              "      <td>2.50</td>\n",
              "      <td>5813</td>\n",
              "      <td>2.0</td>\n",
              "      <td>0</td>\n",
              "      <td>0</td>\n",
              "      <td>3</td>\n",
              "      <td>8</td>\n",
              "      <td>2310</td>\n",
              "      <td>0</td>\n",
              "      <td>2014</td>\n",
              "      <td>0</td>\n",
              "      <td>47.5107</td>\n",
              "      <td>-122.362</td>\n",
              "      <td>1830</td>\n",
              "      <td>7200</td>\n",
              "      <td>8123</td>\n",
              "      <td>480</td>\n",
              "      <td>-1387</td>\n",
              "      <td>1155.0</td>\n",
              "      <td>3</td>\n",
              "      <td>1</td>\n",
              "      <td>1</td>\n",
              "      <td>0</td>\n",
              "    </tr>\n",
              "    <tr>\n",
              "      <th>21610</th>\n",
              "      <td>222095.682980</td>\n",
              "      <td>2</td>\n",
              "      <td>0.75</td>\n",
              "      <td>1350</td>\n",
              "      <td>2.0</td>\n",
              "      <td>0</td>\n",
              "      <td>0</td>\n",
              "      <td>3</td>\n",
              "      <td>7</td>\n",
              "      <td>1020</td>\n",
              "      <td>0</td>\n",
              "      <td>2009</td>\n",
              "      <td>0</td>\n",
              "      <td>47.5944</td>\n",
              "      <td>-122.299</td>\n",
              "      <td>1020</td>\n",
              "      <td>2007</td>\n",
              "      <td>2370</td>\n",
              "      <td>0</td>\n",
              "      <td>-657</td>\n",
              "      <td>510.0</td>\n",
              "      <td>4</td>\n",
              "      <td>1</td>\n",
              "      <td>1</td>\n",
              "      <td>0</td>\n",
              "    </tr>\n",
              "    <tr>\n",
              "      <th>21611</th>\n",
              "      <td>405009.636930</td>\n",
              "      <td>3</td>\n",
              "      <td>2.50</td>\n",
              "      <td>2388</td>\n",
              "      <td>2.0</td>\n",
              "      <td>0</td>\n",
              "      <td>0</td>\n",
              "      <td>3</td>\n",
              "      <td>8</td>\n",
              "      <td>1600</td>\n",
              "      <td>0</td>\n",
              "      <td>2004</td>\n",
              "      <td>0</td>\n",
              "      <td>47.5345</td>\n",
              "      <td>-122.069</td>\n",
              "      <td>1410</td>\n",
              "      <td>1287</td>\n",
              "      <td>3988</td>\n",
              "      <td>190</td>\n",
              "      <td>1101</td>\n",
              "      <td>800.0</td>\n",
              "      <td>4</td>\n",
              "      <td>2</td>\n",
              "      <td>1</td>\n",
              "      <td>0</td>\n",
              "    </tr>\n",
              "    <tr>\n",
              "      <th>21612</th>\n",
              "      <td>222607.682980</td>\n",
              "      <td>2</td>\n",
              "      <td>0.75</td>\n",
              "      <td>1076</td>\n",
              "      <td>2.0</td>\n",
              "      <td>0</td>\n",
              "      <td>0</td>\n",
              "      <td>3</td>\n",
              "      <td>7</td>\n",
              "      <td>1020</td>\n",
              "      <td>0</td>\n",
              "      <td>2008</td>\n",
              "      <td>0</td>\n",
              "      <td>47.5941</td>\n",
              "      <td>-122.299</td>\n",
              "      <td>1020</td>\n",
              "      <td>1357</td>\n",
              "      <td>2096</td>\n",
              "      <td>0</td>\n",
              "      <td>-281</td>\n",
              "      <td>510.0</td>\n",
              "      <td>4</td>\n",
              "      <td>1</td>\n",
              "      <td>1</td>\n",
              "      <td>0</td>\n",
              "    </tr>\n",
              "  </tbody>\n",
              "</table>\n",
              "</div>"
            ],
            "text/plain": [
              "               price  bedrooms  ...  lat_long_bin  renovation_binned\n",
              "21609  402972.732844         4  ...             1                  0\n",
              "21610  222095.682980         2  ...             1                  0\n",
              "21611  405009.636930         3  ...             1                  0\n",
              "21612  222607.682980         2  ...             1                  0\n",
              "\n",
              "[4 rows x 25 columns]"
            ]
          },
          "metadata": {
            "tags": []
          },
          "execution_count": 72
        }
      ]
    }
  ]
}