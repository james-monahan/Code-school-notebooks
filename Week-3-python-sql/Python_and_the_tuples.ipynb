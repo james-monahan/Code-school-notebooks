{
  "nbformat": 4,
  "nbformat_minor": 0,
  "metadata": {
    "colab": {
      "name": "jpmPython and the tuples.ipynb",
      "provenance": [],
      "collapsed_sections": [],
      "include_colab_link": true
    },
    "kernelspec": {
      "name": "python3",
      "display_name": "Python 3"
    }
  },
  "cells": [
    {
      "cell_type": "markdown",
      "metadata": {
        "id": "view-in-github",
        "colab_type": "text"
      },
      "source": [
        "<a href=\"https://colab.research.google.com/github/james-monahan/Code-school-notebooks/blob/main/Week-3-python-sql/Python_and_the_tuples.ipynb\" target=\"_parent\"><img src=\"https://colab.research.google.com/assets/colab-badge.svg\" alt=\"Open In Colab\"/></a>"
      ]
    },
    {
      "cell_type": "markdown",
      "metadata": {
        "id": "LoJw-LlCTnWF"
      },
      "source": [
        "# Mission 1\n",
        "\n",
        "Create a tuple of your choice containing 10 elements in this order:\n",
        "- 3 integers\n",
        "- 3 strings\n",
        "- 2 lists containing 3 items each\n",
        "- 2 dictionaries containing 3 items (3 key/value pairs) each\n",
        "\n",
        "Now, access the second-to-last item in the second list."
      ]
    },
    {
      "cell_type": "code",
      "metadata": {
        "id": "C2Lk113KSPUO",
        "colab": {
          "base_uri": "https://localhost:8080/",
          "height": 52
        },
        "outputId": "95256a42-18df-4127-e0f7-c81b12466fe4"
      },
      "source": [
        "sample_tuple = (1, 2, 3, 'a', 'b', 'c', [4, 5, 6], ['d', 'e', 'f'], {'a':1, 'b':2, 'c':3}, {'aa':11, 'bb':22, 'cc':33})\n",
        "print(type(sample_tuple))\n",
        "sample_tuple[7][-2]"
      ],
      "execution_count": null,
      "outputs": [
        {
          "output_type": "stream",
          "text": [
            "<class 'tuple'>\n"
          ],
          "name": "stdout"
        },
        {
          "output_type": "execute_result",
          "data": {
            "application/vnd.google.colaboratory.intrinsic+json": {
              "type": "string"
            },
            "text/plain": [
              "'e'"
            ]
          },
          "metadata": {
            "tags": []
          },
          "execution_count": 13
        }
      ]
    },
    {
      "cell_type": "markdown",
      "metadata": {
        "id": "HGoGFI9qxuzW"
      },
      "source": [
        "# Mission 2\n",
        "\n",
        "With same tuple, access the last 4 elements using slicing"
      ]
    },
    {
      "cell_type": "code",
      "metadata": {
        "id": "qk097m4Zx4mR",
        "colab": {
          "base_uri": "https://localhost:8080/",
          "height": 34
        },
        "outputId": "10a36e79-2ba4-49c0-f79f-e3f0fc2a36de"
      },
      "source": [
        "print(sample_tuple[-4:])"
      ],
      "execution_count": null,
      "outputs": [
        {
          "output_type": "stream",
          "text": [
            "([4, 5, 6], ['d', 'e', 'f'], {'a': 1, 'b': 2, 'c': 3}, {'aa': 11, 'bb': 22, 'cc': 33})\n"
          ],
          "name": "stdout"
        }
      ]
    },
    {
      "cell_type": "markdown",
      "metadata": {
        "id": "iVHJFx3Px8mY"
      },
      "source": [
        "# Mission 3\n",
        "\n",
        "Change the value of the 4th element (the 1st string) of your tuple (oh yes it's possible!)"
      ]
    },
    {
      "cell_type": "code",
      "metadata": {
        "id": "IY0_zgTFUll3",
        "colab": {
          "base_uri": "https://localhost:8080/",
          "height": 187
        },
        "outputId": "92498d3a-c392-45d0-8f74-a982fb588083"
      },
      "source": [
        "sample_tuple = list(sample_tuple)\n",
        "sample_tuple[3] = 'AAA'\n",
        "sample_tuple = tuple(sample_tuple)\n",
        "sample_tuple"
      ],
      "execution_count": null,
      "outputs": [
        {
          "output_type": "execute_result",
          "data": {
            "text/plain": [
              "(1,\n",
              " 2,\n",
              " 3,\n",
              " 'AAA',\n",
              " 'b',\n",
              " 'c',\n",
              " [4, 5, 6],\n",
              " ['d', 'e', 'f'],\n",
              " {'a': 1, 'b': 2, 'c': 3},\n",
              " {'aa': 11, 'bb': 22, 'cc': 33})"
            ]
          },
          "metadata": {
            "tags": []
          },
          "execution_count": 3
        }
      ]
    },
    {
      "cell_type": "markdown",
      "metadata": {
        "id": "Wp3_jhWS2Foi"
      },
      "source": [
        "# Mission 4\n",
        "\n",
        "Create 2 tuples that contain only integers.\n",
        "Create a function that compares them to each other and indicates which one returns the highest total value after adding all their values together. "
      ]
    },
    {
      "cell_type": "code",
      "metadata": {
        "id": "dGMYxaMWx8RO",
        "colab": {
          "base_uri": "https://localhost:8080/",
          "height": 34
        },
        "outputId": "d44b4bd2-d94a-4b85-9d21-6af77efd8e8a"
      },
      "source": [
        "tuple1 = (1,2,3,4,5)\n",
        "tuple2 = (1,1000)\n",
        "\n",
        "def compare_tuples(first, second):\n",
        "  if sum(first) > sum(second):\n",
        "    print('The first has the highest sum')\n",
        "  elif sum(second) > sum(first):\n",
        "    print('The second has the highest sum')\n",
        "  else:\n",
        "    print('The sums of both lists are equal')\n",
        "\n",
        "compare_tuples(tuple1, tuple2)"
      ],
      "execution_count": null,
      "outputs": [
        {
          "output_type": "stream",
          "text": [
            "The second has the highest sum\n"
          ],
          "name": "stdout"
        }
      ]
    },
    {
      "cell_type": "markdown",
      "metadata": {
        "id": "Zmk8uviVzPBZ"
      },
      "source": [
        "# Mission 5\n",
        "\n",
        "Here's a tuple:\n",
        "\n",
        "my_tuple = (\"data analyst\", \"data scientist\", \"data engineer\", \"data architect\")\n",
        "\n",
        "Create a function that allows you to change one of the values of \"my_tuple\" by indicating the position of the value you want to change, as well as the new value."
      ]
    },
    {
      "cell_type": "code",
      "metadata": {
        "id": "0o-MuRyZ1_7u",
        "colab": {
          "base_uri": "https://localhost:8080/",
          "height": 34
        },
        "outputId": "60ecfac0-4256-4f67-be67-7c5bb4504a58"
      },
      "source": [
        "#position is zero indexed\n",
        "\n",
        "def change_tuple(vals, position, element):\n",
        "  vals = list(vals)\n",
        "  vals[position] = element\n",
        "  return tuple(vals)\n",
        "\n",
        "\n",
        "my_tuple = (\"data analyst\", \"data scientist\", \"data engineer\", \"data architect\")\n",
        "\n",
        "change_tuple(my_tuple, 3, 'changed')"
      ],
      "execution_count": null,
      "outputs": [
        {
          "output_type": "execute_result",
          "data": {
            "text/plain": [
              "('data analyst', 'data scientist', 'data engineer', 'changed')"
            ]
          },
          "metadata": {
            "tags": []
          },
          "execution_count": 11
        }
      ]
    }
  ]
}