{
  "nbformat": 4,
  "nbformat_minor": 0,
  "metadata": {
    "colab": {
      "name": "jpmPython and dictionaries.ipynb",
      "provenance": [],
      "collapsed_sections": [],
      "include_colab_link": true
    },
    "kernelspec": {
      "name": "python3",
      "display_name": "Python 3"
    }
  },
  "cells": [
    {
      "cell_type": "markdown",
      "metadata": {
        "id": "view-in-github",
        "colab_type": "text"
      },
      "source": [
        "<a href=\"https://colab.research.google.com/github/james-monahan/Code-school-notebooks/blob/main/Week-3-python-sql/Python_and_dictionaries.ipynb\" target=\"_parent\"><img src=\"https://colab.research.google.com/assets/colab-badge.svg\" alt=\"Open In Colab\"/></a>"
      ]
    },
    {
      "cell_type": "markdown",
      "metadata": {
        "id": "LoJw-LlCTnWF"
      },
      "source": [
        "# Mission 1\n",
        "\n",
        "Below is a dictionary containing the number of French campuses that offer each kind of Wild Code School course.\n",
        "\n",
        "wildcodeschool = {\n",
        "   \"data_analyst\": 4,\n",
        "   \"data_scientist\": 2,\n",
        "   \"dev_web\": \"13\" \n",
        "}\n",
        "\n",
        "Find a way to display the keys that have int values."
      ]
    },
    {
      "cell_type": "code",
      "metadata": {
        "id": "C2Lk113KSPUO"
      },
      "source": [
        "wildcodeschool =\t{\n",
        "  \"data_analyst\": 4,\n",
        "  \"data_scientist\": 2,\n",
        "  \"dev_web\": \"13\"\n",
        "}"
      ],
      "execution_count": null,
      "outputs": []
    },
    {
      "cell_type": "code",
      "metadata": {
        "id": "i1T9MV2V3j5I",
        "colab": {
          "base_uri": "https://localhost:8080/",
          "height": 34
        },
        "outputId": "7e87284a-627b-4af2-f555-8ce203b3de9e"
      },
      "source": [
        "{val for val in wildcodeschool if type(wildcodeschool[val])==int}"
      ],
      "execution_count": null,
      "outputs": [
        {
          "output_type": "execute_result",
          "data": {
            "text/plain": [
              "{'data_analyst', 'data_scientist'}"
            ]
          },
          "metadata": {
            "tags": []
          },
          "execution_count": 2
        }
      ]
    },
    {
      "cell_type": "markdown",
      "metadata": {
        "id": "J3bsGIvAT049"
      },
      "source": [
        "# Mission 2\n",
        "\n",
        "For the same dictionary, find a way to display all the values that have a key that contains the letter \"e\"."
      ]
    },
    {
      "cell_type": "code",
      "metadata": {
        "id": "Fy1OmPSUXNaP",
        "colab": {
          "base_uri": "https://localhost:8080/",
          "height": 34
        },
        "outputId": "a4b73a1c-1f76-4470-808a-a322c19712b9"
      },
      "source": [
        "{wildcodeschool[val] for val in wildcodeschool if 'e' in val}"
      ],
      "execution_count": null,
      "outputs": [
        {
          "output_type": "execute_result",
          "data": {
            "text/plain": [
              "{'13', 2}"
            ]
          },
          "metadata": {
            "tags": []
          },
          "execution_count": 3
        }
      ]
    },
    {
      "cell_type": "markdown",
      "metadata": {
        "id": "dVl36lvlWLdV"
      },
      "source": [
        "# Mission 3\n",
        "\n",
        "Within the same dictionary, change the type of the value of the \"dev_web\" key to be an int. Then add a new key-value pair which will be \"total_campus\" > 19, using a **dictionary method**."
      ]
    },
    {
      "cell_type": "code",
      "metadata": {
        "id": "pN3_mD4YSPfb",
        "colab": {
          "base_uri": "https://localhost:8080/",
          "height": 51
        },
        "outputId": "4001f652-6101-484c-b432-f0d0054d8841"
      },
      "source": [
        "wildcodeschool[\"dev_web\"] = int(wildcodeschool[\"dev_web\"])\n",
        "print(type(wildcodeschool[\"dev_web\"]), wildcodeschool[\"dev_web\"])\n",
        "\n",
        "#I think the '>' meant '='\n",
        "wildcodeschool.setdefault(\"total_campus\", 19)\n",
        "wildcodeschool"
      ],
      "execution_count": null,
      "outputs": [
        {
          "output_type": "stream",
          "text": [
            "<class 'int'> 13\n"
          ],
          "name": "stdout"
        },
        {
          "output_type": "execute_result",
          "data": {
            "text/plain": [
              "{'data_analyst': 4, 'data_scientist': 2, 'dev_web': 13, 'total_campus': 19}"
            ]
          },
          "metadata": {
            "tags": []
          },
          "execution_count": 4
        }
      ]
    },
    {
      "cell_type": "markdown",
      "metadata": {
        "id": "GCvpkWzXXPTf"
      },
      "source": [
        "# Mission 4\n",
        "\n",
        "Take the dictionary generated from mission 3. Delete any key value pair randomly, except for total_campus."
      ]
    },
    {
      "cell_type": "code",
      "metadata": {
        "id": "QjLMjogySPk_",
        "colab": {
          "base_uri": "https://localhost:8080/",
          "height": 51
        },
        "outputId": "cdc80a91-9582-4c6e-e71b-ad6f9b4cbb51"
      },
      "source": [
        "import random\n",
        "choice = random.choice([val for val in wildcodeschool if val != 'total_campus'])\n",
        "print('deleting;',choice)\n",
        "del(wildcodeschool[choice])\n",
        "wildcodeschool\n",
        "\n"
      ],
      "execution_count": null,
      "outputs": [
        {
          "output_type": "stream",
          "text": [
            "deleting; dev_web\n"
          ],
          "name": "stdout"
        },
        {
          "output_type": "execute_result",
          "data": {
            "text/plain": [
              "{'data_analyst': 4, 'data_scientist': 2, 'total_campus': 19}"
            ]
          },
          "metadata": {
            "tags": []
          },
          "execution_count": 5
        }
      ]
    },
    {
      "cell_type": "markdown",
      "metadata": {
        "id": "V8ZS3aECXvuZ"
      },
      "source": [
        "# Mission 5\n",
        "\n",
        "Still within the dictionary generated from Mission 3, find a way to display the dictionary keys in alphabetical order."
      ]
    },
    {
      "cell_type": "code",
      "metadata": {
        "id": "ph_j97PoSPmU",
        "colab": {
          "base_uri": "https://localhost:8080/",
          "height": 34
        },
        "outputId": "ec935d96-0c42-438e-fec3-7a476b0ee26b"
      },
      "source": [
        "sorted(wildcodeschool.keys())"
      ],
      "execution_count": null,
      "outputs": [
        {
          "output_type": "execute_result",
          "data": {
            "text/plain": [
              "['data_analyst', 'data_scientist', 'total_campus']"
            ]
          },
          "metadata": {
            "tags": []
          },
          "execution_count": 6
        }
      ]
    },
    {
      "cell_type": "markdown",
      "metadata": {
        "id": "geMLdrvAYHKx"
      },
      "source": [
        "# Mission 6\n",
        "\n",
        "Create a function that returns the same output as the **values()** method."
      ]
    },
    {
      "cell_type": "code",
      "metadata": {
        "id": "1-cenx3RSPpq",
        "colab": {
          "base_uri": "https://localhost:8080/",
          "height": 34
        },
        "outputId": "cb1aebb0-d134-4c6b-bb0a-0753f6f4aa82"
      },
      "source": [
        "def get_dict_vals(dictionary):\n",
        "  return [wildcodeschool[val] for val in wildcodeschool]\n",
        "\n",
        "wildcodeschool.values()"
      ],
      "execution_count": null,
      "outputs": [
        {
          "output_type": "execute_result",
          "data": {
            "text/plain": [
              "dict_values([4, 2, 19])"
            ]
          },
          "metadata": {
            "tags": []
          },
          "execution_count": 7
        }
      ]
    },
    {
      "cell_type": "code",
      "metadata": {
        "id": "lWRdHmdWQEY5",
        "colab": {
          "base_uri": "https://localhost:8080/",
          "height": 34
        },
        "outputId": "e2c9a894-5367-44ff-aba6-490e7373ebea"
      },
      "source": [
        "get_dict_vals(wildcodeschool)"
      ],
      "execution_count": null,
      "outputs": [
        {
          "output_type": "execute_result",
          "data": {
            "text/plain": [
              "[4, 2, 19]"
            ]
          },
          "metadata": {
            "tags": []
          },
          "execution_count": 8
        }
      ]
    },
    {
      "cell_type": "code",
      "metadata": {
        "id": "E5VW2yDxQahY"
      },
      "source": [
        ""
      ],
      "execution_count": null,
      "outputs": []
    }
  ]
}