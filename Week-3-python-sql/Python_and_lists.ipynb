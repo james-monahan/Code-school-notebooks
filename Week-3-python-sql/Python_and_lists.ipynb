{
  "nbformat": 4,
  "nbformat_minor": 0,
  "metadata": {
    "colab": {
      "name": "Copy of  Python and lists.ipynb",
      "provenance": [],
      "collapsed_sections": [],
      "include_colab_link": true
    },
    "kernelspec": {
      "name": "python3",
      "display_name": "Python 3"
    }
  },
  "cells": [
    {
      "cell_type": "markdown",
      "metadata": {
        "id": "view-in-github",
        "colab_type": "text"
      },
      "source": [
        "<a href=\"https://colab.research.google.com/github/james-monahan/Code-school-notebooks/blob/main/Week-3-python-sql/Python_and_lists.ipynb\" target=\"_parent\"><img src=\"https://colab.research.google.com/assets/colab-badge.svg\" alt=\"Open In Colab\"/></a>"
      ]
    },
    {
      "cell_type": "markdown",
      "metadata": {
        "id": "LoJw-LlCTnWF"
      },
      "source": [
        "# Mission 1\n",
        "\n",
        "Create a function that takes a list as a parameter and displays only the elements (and their position) that have positions that are even (0, 2, 4, 6...).\n",
        "\n",
        "Example list = [\"a\", \"b\", \"c\", \"d\", \"e\"], the function should return : \n",
        "- a position 0\n",
        "- c position 2\n",
        "- e position 4"
      ]
    },
    {
      "cell_type": "code",
      "metadata": {
        "id": "C2Lk113KSPUO",
        "colab": {
          "base_uri": "https://localhost:8080/",
          "height": 68
        },
        "outputId": "dadcd530-d71e-48e2-a8b7-4eb3c6547edc"
      },
      "source": [
        "def evens_only(data):\n",
        "  for i in range(len(data)):\n",
        "    if i % 2 == 0:\n",
        "      print(f\"{data[i]} position {i}\") \n",
        "\n",
        "\n",
        "\n",
        "sample_evens_only = [\"a\", \"b\", \"c\", \"d\", \"e\"]\n",
        "evens_only(sample_evens_only)"
      ],
      "execution_count": null,
      "outputs": [
        {
          "output_type": "stream",
          "text": [
            "a position 0\n",
            "c position 2\n",
            "e position 4\n"
          ],
          "name": "stdout"
        }
      ]
    },
    {
      "cell_type": "markdown",
      "metadata": {
        "id": "J3bsGIvAT049"
      },
      "source": [
        "# Mission 2\n",
        "\n",
        "Create a function that takes a list as a parameter. Then make the function allow to replace the value of an element with another simply by indicating its position, however, only if both elements have the same type."
      ]
    },
    {
      "cell_type": "code",
      "metadata": {
        "id": "Fy1OmPSUXNaP",
        "colab": {
          "base_uri": "https://localhost:8080/",
          "height": 68
        },
        "outputId": "173d1502-ff12-47d3-8e03-b1b02fc9ebc3"
      },
      "source": [
        "def swap_same_type (data, val, position):\n",
        "  if (position in range(len(data))):\n",
        "    if (type(val) == type(data[position])):\n",
        "      data[position] = val\n",
        "      return data\n",
        "    else:\n",
        "      print('Not the same data type')\n",
        "  else:\n",
        "    print('Not a valid position')\n",
        "\n",
        "\n",
        "\n",
        "sample_swap_same_type = [\"a\", 1, \"c\", 2, \"e\"]\n",
        "\n",
        "print(swap_same_type(sample_swap_same_type, '8', 4))\n",
        "swap_same_type(sample_swap_same_type, 8, 4)\n",
        "swap_same_type(sample_swap_same_type, 8, 5)"
      ],
      "execution_count": null,
      "outputs": [
        {
          "output_type": "stream",
          "text": [
            "['a', 1, 'c', 2, '8']\n",
            "Not the same data type\n",
            "Not a valid position\n"
          ],
          "name": "stdout"
        }
      ]
    },
    {
      "cell_type": "markdown",
      "metadata": {
        "id": "dVl36lvlWLdV"
      },
      "source": [
        "# Mission 3\n",
        "\n",
        "Create a function that adds an element to the end of a list and removes the first element so that the list stays the same size."
      ]
    },
    {
      "cell_type": "code",
      "metadata": {
        "id": "pN3_mD4YSPfb",
        "colab": {
          "base_uri": "https://localhost:8080/",
          "height": 34
        },
        "outputId": "5ee63ad4-eb15-4424-d374-266d82cfef0b"
      },
      "source": [
        "def add_and_pop(data, element):\n",
        "  return data[1:] + [element]\n",
        "\n",
        "\n",
        "sample_add_and_pop = [\"a\", 1, \"c\", 2, \"e\"]\n",
        "add_and_pop(sample_add_and_pop, 5)"
      ],
      "execution_count": null,
      "outputs": [
        {
          "output_type": "execute_result",
          "data": {
            "text/plain": [
              "[1, 'c', 2, 'e', 5]"
            ]
          },
          "metadata": {
            "tags": []
          },
          "execution_count": 12
        }
      ]
    },
    {
      "cell_type": "markdown",
      "metadata": {
        "id": "GCvpkWzXXPTf"
      },
      "source": [
        "# Mission 4\n",
        "\n",
        "Create a function that does the same thing as the insert method, but at a random position."
      ]
    },
    {
      "cell_type": "code",
      "metadata": {
        "id": "QjLMjogySPk_",
        "colab": {
          "base_uri": "https://localhost:8080/",
          "height": 51
        },
        "outputId": "ef448aac-be4c-459f-a945-01c290d1d542"
      },
      "source": [
        "import random\n",
        "\n",
        "def insert_random(data, element):\n",
        "  _add = random.randint(0, len(data))\n",
        "  print('random index position =',_add)\n",
        "  start = data[:_add]\n",
        "  end = data[_add:]\n",
        "  return start + [element] + end\n",
        "\n",
        "\n",
        "sample_insert_random = [1,2,6,7]\n",
        "\n",
        "insert_random(sample_insert_random,25)"
      ],
      "execution_count": null,
      "outputs": [
        {
          "output_type": "stream",
          "text": [
            "random index position = 0\n"
          ],
          "name": "stdout"
        },
        {
          "output_type": "execute_result",
          "data": {
            "text/plain": [
              "[25, 1, 2, 6, 7]"
            ]
          },
          "metadata": {
            "tags": []
          },
          "execution_count": 9
        }
      ]
    },
    {
      "cell_type": "markdown",
      "metadata": {
        "id": "V8ZS3aECXvuZ"
      },
      "source": [
        "# Mission 5\n",
        "\n",
        "Create a function that does the same thing as the pop method for a list containing only characters. The difference is that this function displays a message indicating the number of characters that are identical to the deleted character and still remain in the string. In other words, if there were 3 \"b\" s in the list, and one has just been deleted by your function, the function will display \"there are still 2 letter b s\"."
      ]
    },
    {
      "cell_type": "code",
      "metadata": {
        "id": "IUWE1iGgClmv",
        "colab": {
          "base_uri": "https://localhost:8080/",
          "height": 85
        },
        "outputId": "fe5621e3-79e0-4a45-c413-f19feccebce8"
      },
      "source": [
        "def pop_count(data, position = -1):\n",
        "  if position == -1:\n",
        "    popped_data = data[:position]\n",
        "\n",
        "  if position != -1 and position in range(len(data)):\n",
        "    popped_data = data[:position]+data[position+1:]\n",
        "    \n",
        "\n",
        "  counter = 0\n",
        "  for val in popped_data:\n",
        "    if val == data[position]:\n",
        "      counter +=1\n",
        "\n",
        "  if counter == 0:\n",
        "    print(f\"That was the last '{data[position]}'\")\n",
        "  elif counter == 1:\n",
        "    print(f\"There is 1 '{data[position]}' left\")\n",
        "  else:\n",
        "    print(f'''There are still {counter} '{data[position]}'s''')\n",
        "\n",
        "\n",
        "\n",
        "sample_pop_count = [\"a\", \"b\", \"c\"]\n",
        "sample_pop_count1 = [\"a\", \"b\", \"c\", \"c\"]\n",
        "sample_pop_count2 = [\"a\", \"b\", \"c\", \"c\", \"c\"]\n",
        "pop_count(sample_pop_count)\n",
        "pop_count(sample_pop_count1)\n",
        "pop_count(sample_pop_count2)\n",
        "pop_count(sample_pop_count2, position=2)"
      ],
      "execution_count": null,
      "outputs": [
        {
          "output_type": "stream",
          "text": [
            "That was the last 'c'\n",
            "There is 1 'c' left\n",
            "There are still 2 'c's\n",
            "There are still 2 'c's\n"
          ],
          "name": "stdout"
        }
      ]
    },
    {
      "cell_type": "markdown",
      "metadata": {
        "id": "geMLdrvAYHKx"
      },
      "source": [
        "# Mission 6\n",
        "\n",
        "Create a function that takes in 3 lists as parameters, and indicates the two that are \"closest\". That is to say, the two that have the most elements in common."
      ]
    },
    {
      "cell_type": "code",
      "metadata": {
        "id": "1-cenx3RSPpq",
        "colab": {
          "base_uri": "https://localhost:8080/",
          "height": 34
        },
        "outputId": "cac5c24a-194e-4233-f671-e5a84efdc128"
      },
      "source": [
        "def two_largest(list1, list2, list3):\n",
        "  \n",
        "  OneTwo = [val for val in One if val in Two]\n",
        "  TwoThree = [val for val in Two if val in Three]\n",
        "  OneThree = [val for val in One if val in Three]\n",
        "\n",
        "\n",
        "  if len(OneTwo) > len(TwoThree) and len(OneTwo) > len(OneThree):\n",
        "    print('List One and Two are closest')\n",
        "\n",
        "  if len(TwoThree) > len(OneTwo) and len(TwoThree) > len(OneThree):\n",
        "    print('List Two and Three are closest')\n",
        "\n",
        "  if len(OneThree) > len(OneTwo) and len(OneThree) > len(TwoThree):\n",
        "    print('List One and Three are closest')\n",
        "\n",
        "  if len(OneThree) == len(OneTwo) and len(OneThree) == len(TwoThree):\n",
        "    print('All three are equally close')\n",
        "  \n",
        "\n",
        "\n",
        "One = ['x', 'y', 't', 'p']\n",
        "Two = ['x', 'y', 't', 'e']\n",
        "Three = ['x', 'y', 't', 'p']\n",
        "\n",
        "\n",
        "two_largest(One, Two, Three)"
      ],
      "execution_count": null,
      "outputs": [
        {
          "output_type": "stream",
          "text": [
            "List One and Three are closest\n"
          ],
          "name": "stdout"
        }
      ]
    },
    {
      "cell_type": "markdown",
      "metadata": {
        "id": "Ygonr8C4pEgg"
      },
      "source": [
        "# Mission 7\n",
        "\n",
        "Create a function that displays all the items in a list of int from smallest to the largest. In other words, a function that sorts the list from smallest to largest."
      ]
    },
    {
      "cell_type": "code",
      "metadata": {
        "id": "ENUpIiFbRBGc",
        "colab": {
          "base_uri": "https://localhost:8080/",
          "height": 34
        },
        "outputId": "08f5a7a1-dceb-4523-d4fb-d0ee755a38e5"
      },
      "source": [
        "def swap_sort(data):\n",
        "  condition = True\n",
        "  while condition:\n",
        "    swaps = 0\n",
        "    for i in range(len(data)-1):\n",
        "      if data[i] > data[i+1]:\n",
        "        data[i], data[i+1] = data[i+1], data[i]\n",
        "        swaps = 1\n",
        "    if swaps == 0:\n",
        "      condition = False\n",
        "  return data\n",
        "\n",
        "sample_swap_sort = [4,5,6,0,9,4,10,12,18,2,0]\n",
        "swap_sort(sample_swap_sort)"
      ],
      "execution_count": null,
      "outputs": [
        {
          "output_type": "execute_result",
          "data": {
            "text/plain": [
              "[0, 0, 2, 4, 4, 5, 6, 9, 10, 12, 18]"
            ]
          },
          "metadata": {
            "tags": []
          },
          "execution_count": 31
        }
      ]
    },
    {
      "cell_type": "code",
      "metadata": {
        "id": "7XOKksCzVBeh"
      },
      "source": [
        ""
      ],
      "execution_count": null,
      "outputs": []
    }
  ]
}