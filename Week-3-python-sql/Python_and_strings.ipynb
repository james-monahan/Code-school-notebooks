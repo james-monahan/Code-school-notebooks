{
  "nbformat": 4,
  "nbformat_minor": 0,
  "metadata": {
    "colab": {
      "name": "Copy of Python and strings.ipynb",
      "provenance": [],
      "collapsed_sections": [],
      "include_colab_link": true
    },
    "kernelspec": {
      "name": "python3",
      "display_name": "Python 3"
    }
  },
  "cells": [
    {
      "cell_type": "markdown",
      "metadata": {
        "id": "view-in-github",
        "colab_type": "text"
      },
      "source": [
        "<a href=\"https://colab.research.google.com/github/james-monahan/Code-school-notebooks/blob/main/Week-3-python-sql/Python_and_strings.ipynb\" target=\"_parent\"><img src=\"https://colab.research.google.com/assets/colab-badge.svg\" alt=\"Open In Colab\"/></a>"
      ]
    },
    {
      "cell_type": "markdown",
      "metadata": {
        "id": "LoJw-LlCTnWF"
      },
      "source": [
        "# Mission 1\n",
        "\n",
        "Create a function that uses the len method to display the length of the string named: \"string\" below.\n",
        "\n",
        "Make the character count returned by your function ignore the number of spaces (without changing the string).\n",
        "\n",
        "string = \"Taumata whakatangihanga koauau o tamatea turi pukaka piki maungah oronuku pokai whenuaki tanatahu \""
      ]
    },
    {
      "cell_type": "code",
      "metadata": {
        "id": "oweHYwlm1EVo",
        "colab": {
          "base_uri": "https://localhost:8080/",
          "height": 34
        },
        "outputId": "7d860257-6e2c-4eab-f045-dc42f193a82b"
      },
      "source": [
        "def count(data):\n",
        "  return len(data) - data.count(' ')\n",
        "\n",
        "sample_count = \"Taumata whakatangihanga koauau o tamatea turi pukaka piki maungah oronuku pokai whenuaki tanatahu \"\n",
        "count(sample_count)"
      ],
      "execution_count": null,
      "outputs": [
        {
          "output_type": "execute_result",
          "data": {
            "text/plain": [
              "85"
            ]
          },
          "metadata": {
            "tags": []
          },
          "execution_count": 28
        }
      ]
    },
    {
      "cell_type": "markdown",
      "metadata": {
        "id": "J3bsGIvAT049"
      },
      "source": [
        "# Mission 2\n",
        "\n",
        "Create a function that takes a string as one parameter and a character as another parameter. The function should return the position (starting with 1 and not 0) of all occurrences of the character within the string.\n",
        "\n",
        "For example, for the word \"hello\" and for the character \"o\", the function will return :\n",
        "- \"position : 5\""
      ]
    },
    {
      "cell_type": "code",
      "metadata": {
        "id": "Fy1OmPSUXNaP",
        "colab": {
          "base_uri": "https://localhost:8080/",
          "height": 34
        },
        "outputId": "98afe0b6-4099-47e0-978c-61ae743e8031"
      },
      "source": [
        "def find_one(data, char):\n",
        "  positions = []\n",
        "  data = data.lower()\n",
        "  char = char.lower()\n",
        "\n",
        "  for i in range(len(data)):\n",
        "    if data[i] == char:\n",
        "      positions.append(i+1)\n",
        "\n",
        "  if len(positions) > 0:\n",
        "    print ((f\"'{char}' found at position(s) {positions}\"))\n",
        "  else:\n",
        "   print (f\"'{char}' not found\")\n",
        "\n",
        "\n",
        "find_one_sample = 'abaaaaaa'\n",
        "#find_one_sample = 'abcdefg'\n",
        "#find_one_sample = 'bcdefga'\n",
        "#find_one_sample = 'bcdefg'\n",
        "\n",
        "find_one(find_one_sample, 'A')"
      ],
      "execution_count": null,
      "outputs": [
        {
          "output_type": "stream",
          "text": [
            "'a' found at position(s) [1, 3, 4, 5, 6, 7, 8]\n"
          ],
          "name": "stdout"
        }
      ]
    },
    {
      "cell_type": "markdown",
      "metadata": {
        "id": "dVl36lvlWLdV"
      },
      "source": [
        "# Mission 3\n",
        "\n",
        "Create a function that only displays characters from one position to another position. In other words, make it so that you are able to decide the exact character range to be displayed."
      ]
    },
    {
      "cell_type": "code",
      "metadata": {
        "id": "pN3_mD4YSPfb",
        "colab": {
          "base_uri": "https://localhost:8080/",
          "height": 35
        },
        "outputId": "da9740ec-3105-48bd-c1b4-c99fc37f6666"
      },
      "source": [
        "#positions start at 1, end is inclusive\n",
        "def positions(start, end, word):\n",
        "  if (start and end in range(len(word)+1)) and (start <= end):\n",
        "    return word[start-1:end]\n",
        "  else:\n",
        "    return 'word does not fit in positons given'\n",
        "\n",
        "\n",
        "sample_positions = 'word'\n",
        "positions(1,4,sample_positions)"
      ],
      "execution_count": null,
      "outputs": [
        {
          "output_type": "execute_result",
          "data": {
            "application/vnd.google.colaboratory.intrinsic+json": {
              "type": "string"
            },
            "text/plain": [
              "'word'"
            ]
          },
          "metadata": {
            "tags": []
          },
          "execution_count": 23
        }
      ]
    },
    {
      "cell_type": "markdown",
      "metadata": {
        "id": "GCvpkWzXXPTf"
      },
      "source": [
        "# Mission 4\n",
        "\n",
        "Find 3 ways to return the following string without including the spaces at the beginning and the end (without changing the string): \" Data Analyst \"."
      ]
    },
    {
      "cell_type": "code",
      "metadata": {
        "id": "QjLMjogySPk_",
        "colab": {
          "base_uri": "https://localhost:8080/",
          "height": 68
        },
        "outputId": "e59a8f8a-72fd-4bed-9b37-2e5d9dd62bb4"
      },
      "source": [
        "_string = \" Data Analyst \"\n",
        "print(_string[1:-1])\n",
        "print(_string.strip())\n",
        "#print(_string.rstrip().lstrip())\n",
        "print(' '.join(_string.split()))"
      ],
      "execution_count": null,
      "outputs": [
        {
          "output_type": "stream",
          "text": [
            "Data Analyst\n",
            "Data Analyst\n",
            "Data Analyst\n"
          ],
          "name": "stdout"
        }
      ]
    },
    {
      "cell_type": "markdown",
      "metadata": {
        "id": "V8ZS3aECXvuZ"
      },
      "source": [
        "# Mission 5\n",
        "\n",
        "Create a function that converts all vowels to uppercase and all consonants to lowercase."
      ]
    },
    {
      "cell_type": "code",
      "metadata": {
        "id": "ph_j97PoSPmU",
        "colab": {
          "base_uri": "https://localhost:8080/",
          "height": 35
        },
        "outputId": "dfc1b37d-0e33-406e-db46-26c5a2e2c1a4"
      },
      "source": [
        "#excluding 'y'\n",
        "def convert(data):\n",
        "  vowels = 'a e i o u'.split()\n",
        "  data = data.lower()\n",
        "\n",
        "  return ''.join([char.upper() if char in vowels else char for char in data])\n",
        "\n",
        "\n",
        "#sample_convert = 'coucou1'\n",
        "sample_convert = 'COUCOU1'\n",
        "convert(sample_convert)\n"
      ],
      "execution_count": null,
      "outputs": [
        {
          "output_type": "execute_result",
          "data": {
            "application/vnd.google.colaboratory.intrinsic+json": {
              "type": "string"
            },
            "text/plain": [
              "'cOUcOU1'"
            ]
          },
          "metadata": {
            "tags": []
          },
          "execution_count": 25
        }
      ]
    },
    {
      "cell_type": "markdown",
      "metadata": {
        "id": "geMLdrvAYHKx"
      },
      "source": [
        "# Mission 6\n",
        "\n",
        "Create a function that replaces one character with another and redisplays the modified string."
      ]
    },
    {
      "cell_type": "code",
      "metadata": {
        "id": "1-cenx3RSPpq",
        "colab": {
          "base_uri": "https://localhost:8080/",
          "height": 35
        },
        "outputId": "bc6e0c35-ae7c-44fd-95da-891b73d473ff"
      },
      "source": [
        "#char1 replaces char2 in the string\n",
        "def replace_char(data, char1, char2):\n",
        "  return data.replace(char1, char2)\n",
        "\n",
        "\n",
        "\n",
        "sample_replace_char = 'my nname is bobn'\n",
        "#replace_char(sample_replace_char, ' ', 'j')\n",
        "replace_char(sample_replace_char, 'n', 'j')"
      ],
      "execution_count": null,
      "outputs": [
        {
          "output_type": "execute_result",
          "data": {
            "application/vnd.google.colaboratory.intrinsic+json": {
              "type": "string"
            },
            "text/plain": [
              "'my jjame is bobj'"
            ]
          },
          "metadata": {
            "tags": []
          },
          "execution_count": 26
        }
      ]
    },
    {
      "cell_type": "code",
      "metadata": {
        "id": "xztM1cKihd4B"
      },
      "source": [
        ""
      ],
      "execution_count": null,
      "outputs": []
    }
  ]
}