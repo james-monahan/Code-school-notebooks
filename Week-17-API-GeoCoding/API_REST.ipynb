{
  "nbformat": 4,
  "nbformat_minor": 0,
  "metadata": {
    "colab": {
      "name": "API REST.ipynb",
      "provenance": [],
      "collapsed_sections": [],
      "authorship_tag": "ABX9TyO/oWr3FTUlDtjI+pHUyJSL",
      "include_colab_link": true
    },
    "kernelspec": {
      "name": "python3",
      "display_name": "Python 3"
    }
  },
  "cells": [
    {
      "cell_type": "markdown",
      "metadata": {
        "id": "view-in-github",
        "colab_type": "text"
      },
      "source": [
        "<a href=\"https://colab.research.google.com/github/james-monahan/Code-school-notebooks/blob/main/Week-17-API-GeoCoding/API_REST.ipynb\" target=\"_parent\"><img src=\"https://colab.research.google.com/assets/colab-badge.svg\" alt=\"Open In Colab\"/></a>"
      ]
    },
    {
      "cell_type": "code",
      "metadata": {
        "id": "VWCzhIceDxbi"
      },
      "source": [
        "import requests\r\n",
        "import pandas as pd\r\n",
        "import json"
      ],
      "execution_count": null,
      "outputs": []
    },
    {
      "cell_type": "markdown",
      "metadata": {
        "id": "i5J3G5kADicb"
      },
      "source": [
        "#Retrieves the data from the following REST API.  \r\n",
        "https://data.nantesmetropole.fr/explore/dataset/244400404_stations-velos-libre-service-nantes-metropole-disponibilites/api/"
      ]
    },
    {
      "cell_type": "code",
      "metadata": {
        "id": "JiQffgAGDU7j"
      },
      "source": [
        "url = \"https://data.nantesmetropole.fr/api/records/1.0/search/?dataset=244400404_stations-velos-libre-service-nantes-metropole-disponibilites&q=&facet=banking&facet=bonus&facet=status&facet=contract_name\"\r\n",
        "r = requests.get(url)"
      ],
      "execution_count": null,
      "outputs": []
    },
    {
      "cell_type": "code",
      "metadata": {
        "id": "ZQjH5PXTF9dZ"
      },
      "source": [
        "df = pd.json_normalize(r.json()['records'])[['fields.address', 'fields.bike_stands', 'fields.available_bikes']]"
      ],
      "execution_count": null,
      "outputs": []
    },
    {
      "cell_type": "markdown",
      "metadata": {
        "id": "sq9kqwEIESa5"
      },
      "source": [
        "#Displays a DataFrame with the address of each station, and the associated fill rate (i.e. the number of bikes available available_bikes / the total number of slots bike_stands)."
      ]
    },
    {
      "cell_type": "code",
      "metadata": {
        "colab": {
          "base_uri": "https://localhost:8080/",
          "height": 348
        },
        "id": "fVDBLUUrLiwK",
        "outputId": "fd201bdf-b490-49bb-8a4b-768386deba98"
      },
      "source": [
        "df['fill_rate'] = df['fields.available_bikes']/df['fields.bike_stands']\r\n",
        "df.drop(['fields.bike_stands', 'fields.available_bikes'], axis=1, inplace=True)\r\n",
        "df.head(10)"
      ],
      "execution_count": null,
      "outputs": [
        {
          "output_type": "execute_result",
          "data": {
            "text/html": [
              "<div>\n",
              "<style scoped>\n",
              "    .dataframe tbody tr th:only-of-type {\n",
              "        vertical-align: middle;\n",
              "    }\n",
              "\n",
              "    .dataframe tbody tr th {\n",
              "        vertical-align: top;\n",
              "    }\n",
              "\n",
              "    .dataframe thead th {\n",
              "        text-align: right;\n",
              "    }\n",
              "</style>\n",
              "<table border=\"1\" class=\"dataframe\">\n",
              "  <thead>\n",
              "    <tr style=\"text-align: right;\">\n",
              "      <th></th>\n",
              "      <th>fields.address</th>\n",
              "      <th>fill_rate</th>\n",
              "    </tr>\n",
              "  </thead>\n",
              "  <tbody>\n",
              "    <tr>\n",
              "      <th>0</th>\n",
              "      <td>CREATION STATION TEST NANTES 2</td>\n",
              "      <td>0.000000</td>\n",
              "    </tr>\n",
              "    <tr>\n",
              "      <th>1</th>\n",
              "      <td>Place Jean V</td>\n",
              "      <td>0.000000</td>\n",
              "    </tr>\n",
              "    <tr>\n",
              "      <th>2</th>\n",
              "      <td>23, place Viarme</td>\n",
              "      <td>0.500000</td>\n",
              "    </tr>\n",
              "    <tr>\n",
              "      <th>3</th>\n",
              "      <td>20, rue Gaëtan Rondeau</td>\n",
              "      <td>0.800000</td>\n",
              "    </tr>\n",
              "    <tr>\n",
              "      <th>4</th>\n",
              "      <td>8, place René Bouhier</td>\n",
              "      <td>0.466667</td>\n",
              "    </tr>\n",
              "    <tr>\n",
              "      <th>5</th>\n",
              "      <td>4, place Emile Sarradin</td>\n",
              "      <td>0.692308</td>\n",
              "    </tr>\n",
              "    <tr>\n",
              "      <th>6</th>\n",
              "      <td>25, boulevard Victor Hugo - 28, boulevard Gust...</td>\n",
              "      <td>0.533333</td>\n",
              "    </tr>\n",
              "    <tr>\n",
              "      <th>7</th>\n",
              "      <td>Rue de la Gare - REZÉ</td>\n",
              "      <td>0.550000</td>\n",
              "    </tr>\n",
              "    <tr>\n",
              "      <th>8</th>\n",
              "      <td>Face 11, quai Marcel Boissard - Trentemoult - ...</td>\n",
              "      <td>0.653846</td>\n",
              "    </tr>\n",
              "    <tr>\n",
              "      <th>9</th>\n",
              "      <td>50, boulevard Michelet</td>\n",
              "      <td>0.440000</td>\n",
              "    </tr>\n",
              "  </tbody>\n",
              "</table>\n",
              "</div>"
            ],
            "text/plain": [
              "                                      fields.address  fill_rate\n",
              "0                     CREATION STATION TEST NANTES 2   0.000000\n",
              "1                                       Place Jean V   0.000000\n",
              "2                                   23, place Viarme   0.500000\n",
              "3                             20, rue Gaëtan Rondeau   0.800000\n",
              "4                              8, place René Bouhier   0.466667\n",
              "5                            4, place Emile Sarradin   0.692308\n",
              "6  25, boulevard Victor Hugo - 28, boulevard Gust...   0.533333\n",
              "7                              Rue de la Gare - REZÉ   0.550000\n",
              "8  Face 11, quai Marcel Boissard - Trentemoult - ...   0.653846\n",
              "9                             50, boulevard Michelet   0.440000"
            ]
          },
          "metadata": {
            "tags": []
          },
          "execution_count": 70
        }
      ]
    }
  ]
}