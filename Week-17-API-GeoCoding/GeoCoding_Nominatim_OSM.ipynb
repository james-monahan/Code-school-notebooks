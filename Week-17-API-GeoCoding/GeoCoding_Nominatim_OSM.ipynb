{
  "nbformat": 4,
  "nbformat_minor": 0,
  "metadata": {
    "colab": {
      "name": "jpm_GeoCoding Nominatim OSM.ipynb",
      "provenance": [],
      "collapsed_sections": [],
      "include_colab_link": true
    },
    "kernelspec": {
      "name": "python3",
      "display_name": "Python 3"
    }
  },
  "cells": [
    {
      "cell_type": "markdown",
      "metadata": {
        "id": "view-in-github",
        "colab_type": "text"
      },
      "source": [
        "<a href=\"https://colab.research.google.com/github/james-monahan/Code-school-notebooks/blob/main/Week-17-API-GeoCoding/GeoCoding_Nominatim_OSM.ipynb\" target=\"_parent\"><img src=\"https://colab.research.google.com/assets/colab-badge.svg\" alt=\"Open In Colab\"/></a>"
      ]
    },
    {
      "cell_type": "markdown",
      "metadata": {
        "id": "Lq09sQbMUXRG"
      },
      "source": [
        "# Introduction\n",
        "The Nominatim API is a REST API (provided by OpenStreetMap), that returns geographic coordinates (latitude and longitude) from a postal address. If several postal addresses (due to inaccuracy or non-existent street number) corresponding to the request are found, the API returns several coordinates, each time with an `importance` score. The coordinates are given in descending order of importance, so you can select only the first address."
      ]
    },
    {
      "cell_type": "markdown",
      "metadata": {
        "id": "649maPGNQc5H"
      },
      "source": [
        "https://nominatim.org/release-docs/develop/api/Search/"
      ]
    },
    {
      "cell_type": "code",
      "metadata": {
        "id": "q8mtzV-Rbhr2"
      },
      "source": [
        "import unicodedata\r\n",
        "import string"
      ],
      "execution_count": null,
      "outputs": []
    },
    {
      "cell_type": "code",
      "metadata": {
        "id": "zzECVow7AfF5",
        "colab": {
          "base_uri": "https://localhost:8080/"
        },
        "outputId": "a7dd9318-bcc4-42ca-bc14-0442001e335e"
      },
      "source": [
        "# Execute the code below :\n",
        "\n",
        "import requests\n",
        "link = \"https://nominatim.openstreetmap.org/?q=54+Via+Pietro+Mascagni,Catania,Italy&format=json\"\n",
        "r = requests.get(link).json()\n",
        "r"
      ],
      "execution_count": null,
      "outputs": [
        {
          "output_type": "execute_result",
          "data": {
            "text/plain": [
              "[{'boundingbox': ['37.5110212', '37.5113841', '15.0942789', '15.0969174'],\n",
              "  'class': 'highway',\n",
              "  'display_name': 'Via Pietro Mascagni, Picanello-Ognina-Barriera-Canalicchio, Catania, Sicilia, 95129, Italia',\n",
              "  'importance': 0.51,\n",
              "  'lat': '37.5112428',\n",
              "  'licence': 'Data © OpenStreetMap contributors, ODbL 1.0. https://osm.org/copyright',\n",
              "  'lon': '15.0957972',\n",
              "  'osm_id': 409895559,\n",
              "  'osm_type': 'way',\n",
              "  'place_id': 185486160,\n",
              "  'type': 'residential'},\n",
              " {'boundingbox': ['37.5115262', '37.5119158', '15.0979777', '15.1011722'],\n",
              "  'class': 'highway',\n",
              "  'display_name': 'Via Pietro Mascagni, Picanello-Ognina-Barriera-Canalicchio, Catania, Sicilia, 95127, Italia',\n",
              "  'importance': 0.51,\n",
              "  'lat': '37.5117512',\n",
              "  'licence': 'Data © OpenStreetMap contributors, ODbL 1.0. https://osm.org/copyright',\n",
              "  'lon': '15.0995581',\n",
              "  'osm_id': 31183303,\n",
              "  'osm_type': 'way',\n",
              "  'place_id': 98616498,\n",
              "  'type': 'residential'},\n",
              " {'boundingbox': ['37.6088571', '37.6091358', '15.1591549', '15.1602847'],\n",
              "  'class': 'highway',\n",
              "  'display_name': 'Via Pietro Mascagni, Sciarelle, Acireale, Catania, Sicilia, 95024, Italia',\n",
              "  'importance': 0.51,\n",
              "  'lat': '37.6091358',\n",
              "  'licence': 'Data © OpenStreetMap contributors, ODbL 1.0. https://osm.org/copyright',\n",
              "  'lon': '15.1596388',\n",
              "  'osm_id': 58232256,\n",
              "  'osm_type': 'way',\n",
              "  'place_id': 103602175,\n",
              "  'type': 'residential'},\n",
              " {'boundingbox': ['37.6089805', '37.609111', '15.1602847', '15.16103'],\n",
              "  'class': 'highway',\n",
              "  'display_name': 'Via Pietro Mascagni, Santa Caterina, Acireale, Catania, Sicilia, 95024, Italia',\n",
              "  'importance': 0.51,\n",
              "  'lat': '37.6090903',\n",
              "  'licence': 'Data © OpenStreetMap contributors, ODbL 1.0. https://osm.org/copyright',\n",
              "  'lon': '15.1604414',\n",
              "  'osm_id': 128394486,\n",
              "  'osm_type': 'way',\n",
              "  'place_id': 119265760,\n",
              "  'type': 'residential'},\n",
              " {'boundingbox': ['37.5673863', '37.5680605', '14.9106504', '14.9109837'],\n",
              "  'class': 'highway',\n",
              "  'display_name': 'Via Pietro Mascagni, Paternò, Catania, Sicilia, 95047, Italia',\n",
              "  'importance': 0.51,\n",
              "  'lat': '37.5676811',\n",
              "  'licence': 'Data © OpenStreetMap contributors, ODbL 1.0. https://osm.org/copyright',\n",
              "  'lon': '14.9106709',\n",
              "  'osm_id': 167016177,\n",
              "  'osm_type': 'way',\n",
              "  'place_id': 130237731,\n",
              "  'type': 'residential'},\n",
              " {'boundingbox': ['37.8731787', '37.8744884', '14.9551124', '14.9563286'],\n",
              "  'class': 'highway',\n",
              "  'display_name': 'Via Pietro Mascagni, Randazzo, Catania, Sicilia, 95036, Italia',\n",
              "  'importance': 0.51,\n",
              "  'lat': '37.8738625',\n",
              "  'licence': 'Data © OpenStreetMap contributors, ODbL 1.0. https://osm.org/copyright',\n",
              "  'lon': '14.9555742',\n",
              "  'osm_id': 128391464,\n",
              "  'osm_type': 'way',\n",
              "  'place_id': 118402830,\n",
              "  'type': 'residential'},\n",
              " {'boundingbox': ['37.723497', '37.7258236', '15.1784657', '15.1794786'],\n",
              "  'class': 'highway',\n",
              "  'display_name': 'Via Pietro Mascagni, Altarello, Giarre, Catania, Sicilia, 95014, Italia',\n",
              "  'importance': 0.51,\n",
              "  'lat': '37.7242361',\n",
              "  'licence': 'Data © OpenStreetMap contributors, ODbL 1.0. https://osm.org/copyright',\n",
              "  'lon': '15.1789984',\n",
              "  'osm_id': 37345033,\n",
              "  'osm_type': 'way',\n",
              "  'place_id': 100483716,\n",
              "  'type': 'residential'},\n",
              " {'boundingbox': ['37.5559895', '37.5567121', '14.9169673', '14.9175618'],\n",
              "  'class': 'highway',\n",
              "  'display_name': 'Via Pietro Mascagni, Giaconia, Belpasso, Catania, Sicilia, 95032, Italia',\n",
              "  'importance': 0.51,\n",
              "  'lat': '37.5567121',\n",
              "  'licence': 'Data © OpenStreetMap contributors, ODbL 1.0. https://osm.org/copyright',\n",
              "  'lon': '14.9169673',\n",
              "  'osm_id': 211056073,\n",
              "  'osm_type': 'way',\n",
              "  'place_id': 140839909,\n",
              "  'type': 'residential'},\n",
              " {'boundingbox': ['37.6498431', '37.6500893', '14.863277', '14.8634543'],\n",
              "  'class': 'highway',\n",
              "  'display_name': 'Via Pietro Mascagni, Biancavilla, Catania, Sicilia, 95033, Italia',\n",
              "  'importance': 0.51,\n",
              "  'lat': '37.6498431',\n",
              "  'licence': 'Data © OpenStreetMap contributors, ODbL 1.0. https://osm.org/copyright',\n",
              "  'lon': '14.863277',\n",
              "  'osm_id': 219951497,\n",
              "  'osm_type': 'way',\n",
              "  'place_id': 144854126,\n",
              "  'type': 'residential'},\n",
              " {'boundingbox': ['37.6910044', '37.6919085', '15.1028803', '15.1031341'],\n",
              "  'class': 'highway',\n",
              "  'display_name': 'Via Pietro Mascagni, Ballo, Zafferana Etnea, Catania, Sicilia, 95019, Italia',\n",
              "  'importance': 0.51,\n",
              "  'lat': '37.6916326',\n",
              "  'licence': 'Data © OpenStreetMap contributors, ODbL 1.0. https://osm.org/copyright',\n",
              "  'lon': '15.1030849',\n",
              "  'osm_id': 105406741,\n",
              "  'osm_type': 'way',\n",
              "  'place_id': 114510281,\n",
              "  'type': 'residential'}]"
            ]
          },
          "metadata": {
            "tags": []
          },
          "execution_count": 1
        }
      ]
    },
    {
      "cell_type": "code",
      "metadata": {
        "id": "D7YK4RLtYxJP",
        "colab": {
          "base_uri": "https://localhost:8080/"
        },
        "outputId": "51ce1d8b-17d7-4f6e-c7c0-aeb12a14c20d"
      },
      "source": [
        "# Here we select only the first address (index 0)\n",
        "print(\"First address :\", r[0])\n",
        "print(\"First address longitude :\",r[0]['lon'])\n",
        "print(\"First address latitude :\",r[0]['lat'])"
      ],
      "execution_count": null,
      "outputs": [
        {
          "output_type": "stream",
          "text": [
            "First address : {'place_id': 185486160, 'licence': 'Data © OpenStreetMap contributors, ODbL 1.0. https://osm.org/copyright', 'osm_type': 'way', 'osm_id': 409895559, 'boundingbox': ['37.5110212', '37.5113841', '15.0942789', '15.0969174'], 'lat': '37.5112428', 'lon': '15.0957972', 'display_name': 'Via Pietro Mascagni, Picanello-Ognina-Barriera-Canalicchio, Catania, Sicilia, 95129, Italia', 'class': 'highway', 'type': 'residential', 'importance': 0.51}\n",
            "First address longitude : 15.0957972\n",
            "First address latitude : 37.5112428\n"
          ],
          "name": "stdout"
        }
      ]
    },
    {
      "cell_type": "code",
      "metadata": {
        "id": "1n8xgPwnbddp",
        "colab": {
          "base_uri": "https://localhost:8080/"
        },
        "outputId": "02b32e96-2264-404d-c9f4-812a97ee5449"
      },
      "source": [
        "# For ease of use, you can add a limit on the number of items returned:\n",
        "\n",
        "link = \"https://nominatim.openstreetmap.org/?q=54+Via+Pietro+Mascagni,Catania,Italy&format=json\"\n",
        "r = requests.get(link).json()\n",
        "print(\"WITHOUT limit, how many coordinates does this address return?\",len(r))\n",
        "\n",
        "link = \"https://nominatim.openstreetmap.org/?q=54+Via+Pietro+Mascagni,Catania,Italy&format=json&limit=1\"\n",
        "r = requests.get(link).json()\n",
        "print(\"WITH limit, how many coordinates does this address return?\",len(r))"
      ],
      "execution_count": null,
      "outputs": [
        {
          "output_type": "stream",
          "text": [
            "WITHOUT limit, how many coordinates does this address return? 10\n",
            "WITH limit, how many coordinates does this address return? 1\n"
          ],
          "name": "stdout"
        }
      ]
    },
    {
      "cell_type": "markdown",
      "metadata": {
        "id": "PhjWl336aVUm"
      },
      "source": [
        "## How to create your API query\n",
        "It's up to you to modify the string to create the right request URL"
      ]
    },
    {
      "cell_type": "code",
      "metadata": {
        "id": "-_A9JKScWV5I",
        "colab": {
          "base_uri": "https://localhost:8080/"
        },
        "outputId": "bedb155d-227e-4046-99a6-3c617701ea4f"
      },
      "source": [
        "# We observe that the query consists of a fixed part, followed by the address to be searched for.\n",
        "# An URL cannot contain a \" \" space character, \n",
        "# and special characters or accents should be avoided if possible\n",
        "\n",
        "link_main = 'https://nominatim.openstreetmap.org/?q='\n",
        "address = '54 Via Pietro Mascagni, Catania, Italy'\n",
        "link_end = '&format=json&limit=1'\n",
        "\n",
        "link = link_main + address.replace(\" \", '').replace(\",\", '')\n",
        "\n",
        "print(link + link_end)"
      ],
      "execution_count": null,
      "outputs": [
        {
          "output_type": "stream",
          "text": [
            "https://nominatim.openstreetmap.org/?q=54ViaPietroMascagniCataniaItaly&format=json&limit=1\n"
          ],
          "name": "stdout"
        }
      ]
    },
    {
      "cell_type": "code",
      "metadata": {
        "id": "9gLir_IWdHGz"
      },
      "source": [
        "# Create a function here that turns a postal address into a request URL for the Nominatim API, \n",
        "# then makes the request and returns the coordinates :\n",
        "\n",
        "def API_adresse(adresse_postale):\n",
        "  link_main = 'https://nominatim.openstreetmap.org/?q='\n",
        "  no_accents = ''.join((c for c in unicodedata.normalize('NFD', adresse_postale) if unicodedata.category(c) != 'Mn'))\n",
        "  adresse = ''.join([item for item in no_accents if item not in string.punctuation]).replace(' ', '+')\n",
        "  link_end = '&format=json&limit=1'\n",
        "  return link_main + adresse + link_end"
      ],
      "execution_count": null,
      "outputs": []
    },
    {
      "cell_type": "code",
      "metadata": {
        "id": "C0ZQnTyvdY4M",
        "colab": {
          "base_uri": "https://localhost:8080/",
          "height": 37
        },
        "outputId": "eba20db8-70b7-45fe-968a-c01328cbb2c2"
      },
      "source": [
        "# Test it here:\n",
        "API_adresse(address)"
      ],
      "execution_count": null,
      "outputs": [
        {
          "output_type": "execute_result",
          "data": {
            "application/vnd.google.colaboratory.intrinsic+json": {
              "type": "string"
            },
            "text/plain": [
              "'https://nominatim.openstreetmap.org/?q=54+Via+Pietro+Mascagni+Catania+Italy&format=json&limit=1'"
            ]
          },
          "metadata": {
            "tags": []
          },
          "execution_count": 37
        }
      ]
    },
    {
      "cell_type": "markdown",
      "metadata": {
        "id": "rXLrMxFvcFu_"
      },
      "source": [
        "# DataViz\n",
        "Latitude & Longitude can be used on visualization tools, whether they are BI tools (PowerBI, Table), or Python DataViz libraries such as Plotly or Folium.\n",
        "\n",
        "Here we will display a map with Folium.\n"
      ]
    },
    {
      "cell_type": "code",
      "metadata": {
        "id": "969VKpP1fWdJ",
        "colab": {
          "base_uri": "https://localhost:8080/",
          "height": 674
        },
        "outputId": "1846a844-d66a-4e47-9bae-50cdba9ef283"
      },
      "source": [
        "# The syntax of Folium is very simple, you start by creating a map centered on a point.\n",
        "# You can change the default zoom level with the argument \"zoom_start\".\n",
        "\n",
        "import folium\n",
        "\n",
        "# We define a location as a list with 2 values : latitude and longitude.\n",
        "point = [float(r[0]['lat']), float(r[0]['lon'])]\n",
        "\n",
        "# We center the map on the location \n",
        "m = folium.Map(location=point,zoom_start=7)\n",
        "\n",
        "# We display the map\n",
        "m"
      ],
      "execution_count": null,
      "outputs": [
        {
          "output_type": "execute_result",
          "data": {
            "text/html": [
              "<div style=\"width:100%;\"><div style=\"position:relative;width:100%;height:0;padding-bottom:60%;\"><span style=\"color:#565656\">Make this Notebook Trusted to load map: File -> Trust Notebook</span><iframe src=\"about:blank\" style=\"position:absolute;width:100%;height:100%;left:0;top:0;border:none !important;\" data-html=%3C%21DOCTYPE%20html%3E%0A%3Chead%3E%20%20%20%20%0A%20%20%20%20%3Cmeta%20http-equiv%3D%22content-type%22%20content%3D%22text/html%3B%20charset%3DUTF-8%22%20/%3E%0A%20%20%20%20%3Cscript%3EL_PREFER_CANVAS%3Dfalse%3B%20L_NO_TOUCH%3Dfalse%3B%20L_DISABLE_3D%3Dfalse%3B%3C/script%3E%0A%20%20%20%20%3Cscript%20src%3D%22https%3A//cdn.jsdelivr.net/npm/leaflet%401.4.0/dist/leaflet.js%22%3E%3C/script%3E%0A%20%20%20%20%3Cscript%20src%3D%22https%3A//code.jquery.com/jquery-1.12.4.min.js%22%3E%3C/script%3E%0A%20%20%20%20%3Cscript%20src%3D%22https%3A//maxcdn.bootstrapcdn.com/bootstrap/3.2.0/js/bootstrap.min.js%22%3E%3C/script%3E%0A%20%20%20%20%3Cscript%20src%3D%22https%3A//cdnjs.cloudflare.com/ajax/libs/Leaflet.awesome-markers/2.0.2/leaflet.awesome-markers.js%22%3E%3C/script%3E%0A%20%20%20%20%3Clink%20rel%3D%22stylesheet%22%20href%3D%22https%3A//cdn.jsdelivr.net/npm/leaflet%401.4.0/dist/leaflet.css%22/%3E%0A%20%20%20%20%3Clink%20rel%3D%22stylesheet%22%20href%3D%22https%3A//maxcdn.bootstrapcdn.com/bootstrap/3.2.0/css/bootstrap.min.css%22/%3E%0A%20%20%20%20%3Clink%20rel%3D%22stylesheet%22%20href%3D%22https%3A//maxcdn.bootstrapcdn.com/bootstrap/3.2.0/css/bootstrap-theme.min.css%22/%3E%0A%20%20%20%20%3Clink%20rel%3D%22stylesheet%22%20href%3D%22https%3A//maxcdn.bootstrapcdn.com/font-awesome/4.6.3/css/font-awesome.min.css%22/%3E%0A%20%20%20%20%3Clink%20rel%3D%22stylesheet%22%20href%3D%22https%3A//cdnjs.cloudflare.com/ajax/libs/Leaflet.awesome-markers/2.0.2/leaflet.awesome-markers.css%22/%3E%0A%20%20%20%20%3Clink%20rel%3D%22stylesheet%22%20href%3D%22https%3A//rawcdn.githack.com/python-visualization/folium/master/folium/templates/leaflet.awesome.rotate.css%22/%3E%0A%20%20%20%20%3Cstyle%3Ehtml%2C%20body%20%7Bwidth%3A%20100%25%3Bheight%3A%20100%25%3Bmargin%3A%200%3Bpadding%3A%200%3B%7D%3C/style%3E%0A%20%20%20%20%3Cstyle%3E%23map%20%7Bposition%3Aabsolute%3Btop%3A0%3Bbottom%3A0%3Bright%3A0%3Bleft%3A0%3B%7D%3C/style%3E%0A%20%20%20%20%0A%20%20%20%20%3Cmeta%20name%3D%22viewport%22%20content%3D%22width%3Ddevice-width%2C%0A%20%20%20%20%20%20%20%20initial-scale%3D1.0%2C%20maximum-scale%3D1.0%2C%20user-scalable%3Dno%22%20/%3E%0A%20%20%20%20%3Cstyle%3E%23map_4de8f684fd3c4459b6d3eeb80cfe889f%20%7B%0A%20%20%20%20%20%20%20%20position%3A%20relative%3B%0A%20%20%20%20%20%20%20%20width%3A%20100.0%25%3B%0A%20%20%20%20%20%20%20%20height%3A%20100.0%25%3B%0A%20%20%20%20%20%20%20%20left%3A%200.0%25%3B%0A%20%20%20%20%20%20%20%20top%3A%200.0%25%3B%0A%20%20%20%20%20%20%20%20%7D%0A%20%20%20%20%3C/style%3E%0A%3C/head%3E%0A%3Cbody%3E%20%20%20%20%0A%20%20%20%20%0A%20%20%20%20%3Cdiv%20class%3D%22folium-map%22%20id%3D%22map_4de8f684fd3c4459b6d3eeb80cfe889f%22%20%3E%3C/div%3E%0A%3C/body%3E%0A%3Cscript%3E%20%20%20%20%0A%20%20%20%20%0A%20%20%20%20%0A%20%20%20%20%20%20%20%20var%20bounds%20%3D%20null%3B%0A%20%20%20%20%0A%0A%20%20%20%20var%20map_4de8f684fd3c4459b6d3eeb80cfe889f%20%3D%20L.map%28%0A%20%20%20%20%20%20%20%20%27map_4de8f684fd3c4459b6d3eeb80cfe889f%27%2C%20%7B%0A%20%20%20%20%20%20%20%20center%3A%20%5B37.5112428%2C%2015.0957972%5D%2C%0A%20%20%20%20%20%20%20%20zoom%3A%207%2C%0A%20%20%20%20%20%20%20%20maxBounds%3A%20bounds%2C%0A%20%20%20%20%20%20%20%20layers%3A%20%5B%5D%2C%0A%20%20%20%20%20%20%20%20worldCopyJump%3A%20false%2C%0A%20%20%20%20%20%20%20%20crs%3A%20L.CRS.EPSG3857%2C%0A%20%20%20%20%20%20%20%20zoomControl%3A%20true%2C%0A%20%20%20%20%20%20%20%20%7D%29%3B%0A%0A%0A%20%20%20%20%0A%20%20%20%20var%20tile_layer_891857e9efab4c598ccf1627ddf93463%20%3D%20L.tileLayer%28%0A%20%20%20%20%20%20%20%20%27https%3A//%7Bs%7D.tile.openstreetmap.org/%7Bz%7D/%7Bx%7D/%7By%7D.png%27%2C%0A%20%20%20%20%20%20%20%20%7B%0A%20%20%20%20%20%20%20%20%22attribution%22%3A%20null%2C%0A%20%20%20%20%20%20%20%20%22detectRetina%22%3A%20false%2C%0A%20%20%20%20%20%20%20%20%22maxNativeZoom%22%3A%2018%2C%0A%20%20%20%20%20%20%20%20%22maxZoom%22%3A%2018%2C%0A%20%20%20%20%20%20%20%20%22minZoom%22%3A%200%2C%0A%20%20%20%20%20%20%20%20%22noWrap%22%3A%20false%2C%0A%20%20%20%20%20%20%20%20%22opacity%22%3A%201%2C%0A%20%20%20%20%20%20%20%20%22subdomains%22%3A%20%22abc%22%2C%0A%20%20%20%20%20%20%20%20%22tms%22%3A%20false%0A%7D%29.addTo%28map_4de8f684fd3c4459b6d3eeb80cfe889f%29%3B%0A%3C/script%3E onload=\"this.contentDocument.open();this.contentDocument.write(    decodeURIComponent(this.getAttribute('data-html')));this.contentDocument.close();\" allowfullscreen webkitallowfullscreen mozallowfullscreen></iframe></div></div>"
            ],
            "text/plain": [
              "<folium.folium.Map at 0x7f852f0147b8>"
            ]
          },
          "metadata": {
            "tags": []
          },
          "execution_count": 53
        }
      ]
    },
    {
      "cell_type": "code",
      "metadata": {
        "id": "eXWTn1mFUKrH",
        "colab": {
          "base_uri": "https://localhost:8080/",
          "height": 674
        },
        "outputId": "0c6d2561-5291-4256-db99-74aba5c1df84"
      },
      "source": [
        "# Then you can add landmarks and put a clickable comment\n",
        "m = folium.Map(location=point, )\n",
        "folium.Marker(\n",
        "    location=point,\n",
        "    popup='a good restaurant'\n",
        "    ).add_to(m)\n",
        "m"
      ],
      "execution_count": null,
      "outputs": [
        {
          "output_type": "execute_result",
          "data": {
            "text/html": [
              "<div style=\"width:100%;\"><div style=\"position:relative;width:100%;height:0;padding-bottom:60%;\"><span style=\"color:#565656\">Make this Notebook Trusted to load map: File -> Trust Notebook</span><iframe src=\"about:blank\" style=\"position:absolute;width:100%;height:100%;left:0;top:0;border:none !important;\" data-html=%3C%21DOCTYPE%20html%3E%0A%3Chead%3E%20%20%20%20%0A%20%20%20%20%3Cmeta%20http-equiv%3D%22content-type%22%20content%3D%22text/html%3B%20charset%3DUTF-8%22%20/%3E%0A%20%20%20%20%3Cscript%3EL_PREFER_CANVAS%3Dfalse%3B%20L_NO_TOUCH%3Dfalse%3B%20L_DISABLE_3D%3Dfalse%3B%3C/script%3E%0A%20%20%20%20%3Cscript%20src%3D%22https%3A//cdn.jsdelivr.net/npm/leaflet%401.4.0/dist/leaflet.js%22%3E%3C/script%3E%0A%20%20%20%20%3Cscript%20src%3D%22https%3A//code.jquery.com/jquery-1.12.4.min.js%22%3E%3C/script%3E%0A%20%20%20%20%3Cscript%20src%3D%22https%3A//maxcdn.bootstrapcdn.com/bootstrap/3.2.0/js/bootstrap.min.js%22%3E%3C/script%3E%0A%20%20%20%20%3Cscript%20src%3D%22https%3A//cdnjs.cloudflare.com/ajax/libs/Leaflet.awesome-markers/2.0.2/leaflet.awesome-markers.js%22%3E%3C/script%3E%0A%20%20%20%20%3Clink%20rel%3D%22stylesheet%22%20href%3D%22https%3A//cdn.jsdelivr.net/npm/leaflet%401.4.0/dist/leaflet.css%22/%3E%0A%20%20%20%20%3Clink%20rel%3D%22stylesheet%22%20href%3D%22https%3A//maxcdn.bootstrapcdn.com/bootstrap/3.2.0/css/bootstrap.min.css%22/%3E%0A%20%20%20%20%3Clink%20rel%3D%22stylesheet%22%20href%3D%22https%3A//maxcdn.bootstrapcdn.com/bootstrap/3.2.0/css/bootstrap-theme.min.css%22/%3E%0A%20%20%20%20%3Clink%20rel%3D%22stylesheet%22%20href%3D%22https%3A//maxcdn.bootstrapcdn.com/font-awesome/4.6.3/css/font-awesome.min.css%22/%3E%0A%20%20%20%20%3Clink%20rel%3D%22stylesheet%22%20href%3D%22https%3A//cdnjs.cloudflare.com/ajax/libs/Leaflet.awesome-markers/2.0.2/leaflet.awesome-markers.css%22/%3E%0A%20%20%20%20%3Clink%20rel%3D%22stylesheet%22%20href%3D%22https%3A//rawcdn.githack.com/python-visualization/folium/master/folium/templates/leaflet.awesome.rotate.css%22/%3E%0A%20%20%20%20%3Cstyle%3Ehtml%2C%20body%20%7Bwidth%3A%20100%25%3Bheight%3A%20100%25%3Bmargin%3A%200%3Bpadding%3A%200%3B%7D%3C/style%3E%0A%20%20%20%20%3Cstyle%3E%23map%20%7Bposition%3Aabsolute%3Btop%3A0%3Bbottom%3A0%3Bright%3A0%3Bleft%3A0%3B%7D%3C/style%3E%0A%20%20%20%20%0A%20%20%20%20%3Cmeta%20name%3D%22viewport%22%20content%3D%22width%3Ddevice-width%2C%0A%20%20%20%20%20%20%20%20initial-scale%3D1.0%2C%20maximum-scale%3D1.0%2C%20user-scalable%3Dno%22%20/%3E%0A%20%20%20%20%3Cstyle%3E%23map_0581ac6ceb4447d98d5dc3ce5b59d458%20%7B%0A%20%20%20%20%20%20%20%20position%3A%20relative%3B%0A%20%20%20%20%20%20%20%20width%3A%20100.0%25%3B%0A%20%20%20%20%20%20%20%20height%3A%20100.0%25%3B%0A%20%20%20%20%20%20%20%20left%3A%200.0%25%3B%0A%20%20%20%20%20%20%20%20top%3A%200.0%25%3B%0A%20%20%20%20%20%20%20%20%7D%0A%20%20%20%20%3C/style%3E%0A%3C/head%3E%0A%3Cbody%3E%20%20%20%20%0A%20%20%20%20%0A%20%20%20%20%3Cdiv%20class%3D%22folium-map%22%20id%3D%22map_0581ac6ceb4447d98d5dc3ce5b59d458%22%20%3E%3C/div%3E%0A%3C/body%3E%0A%3Cscript%3E%20%20%20%20%0A%20%20%20%20%0A%20%20%20%20%0A%20%20%20%20%20%20%20%20var%20bounds%20%3D%20null%3B%0A%20%20%20%20%0A%0A%20%20%20%20var%20map_0581ac6ceb4447d98d5dc3ce5b59d458%20%3D%20L.map%28%0A%20%20%20%20%20%20%20%20%27map_0581ac6ceb4447d98d5dc3ce5b59d458%27%2C%20%7B%0A%20%20%20%20%20%20%20%20center%3A%20%5B37.5112428%2C%2015.0957972%5D%2C%0A%20%20%20%20%20%20%20%20zoom%3A%2010%2C%0A%20%20%20%20%20%20%20%20maxBounds%3A%20bounds%2C%0A%20%20%20%20%20%20%20%20layers%3A%20%5B%5D%2C%0A%20%20%20%20%20%20%20%20worldCopyJump%3A%20false%2C%0A%20%20%20%20%20%20%20%20crs%3A%20L.CRS.EPSG3857%2C%0A%20%20%20%20%20%20%20%20zoomControl%3A%20true%2C%0A%20%20%20%20%20%20%20%20%7D%29%3B%0A%0A%0A%20%20%20%20%0A%20%20%20%20var%20tile_layer_34d35b2b82c84652861b4e9bd1e2cfeb%20%3D%20L.tileLayer%28%0A%20%20%20%20%20%20%20%20%27https%3A//%7Bs%7D.tile.openstreetmap.org/%7Bz%7D/%7Bx%7D/%7By%7D.png%27%2C%0A%20%20%20%20%20%20%20%20%7B%0A%20%20%20%20%20%20%20%20%22attribution%22%3A%20null%2C%0A%20%20%20%20%20%20%20%20%22detectRetina%22%3A%20false%2C%0A%20%20%20%20%20%20%20%20%22maxNativeZoom%22%3A%2018%2C%0A%20%20%20%20%20%20%20%20%22maxZoom%22%3A%2018%2C%0A%20%20%20%20%20%20%20%20%22minZoom%22%3A%200%2C%0A%20%20%20%20%20%20%20%20%22noWrap%22%3A%20false%2C%0A%20%20%20%20%20%20%20%20%22opacity%22%3A%201%2C%0A%20%20%20%20%20%20%20%20%22subdomains%22%3A%20%22abc%22%2C%0A%20%20%20%20%20%20%20%20%22tms%22%3A%20false%0A%7D%29.addTo%28map_0581ac6ceb4447d98d5dc3ce5b59d458%29%3B%0A%20%20%20%20%0A%20%20%20%20%20%20%20%20var%20marker_844da36f602b4f0d9780900593165a38%20%3D%20L.marker%28%0A%20%20%20%20%20%20%20%20%20%20%20%20%5B37.5112428%2C%2015.0957972%5D%2C%0A%20%20%20%20%20%20%20%20%20%20%20%20%7B%0A%20%20%20%20%20%20%20%20%20%20%20%20%20%20%20%20icon%3A%20new%20L.Icon.Default%28%29%2C%0A%20%20%20%20%20%20%20%20%20%20%20%20%20%20%20%20%7D%0A%20%20%20%20%20%20%20%20%20%20%20%20%29.addTo%28map_0581ac6ceb4447d98d5dc3ce5b59d458%29%3B%0A%20%20%20%20%20%20%20%20%0A%20%20%20%20%0A%20%20%20%20%20%20%20%20%20%20%20%20var%20popup_a90cc3c6534c48fda3e35f14f9088ec8%20%3D%20L.popup%28%7BmaxWidth%3A%20%27100%25%27%0A%20%20%20%20%20%20%20%20%20%20%20%20%0A%20%20%20%20%20%20%20%20%20%20%20%20%7D%29%3B%0A%0A%20%20%20%20%20%20%20%20%20%20%20%20%0A%20%20%20%20%20%20%20%20%20%20%20%20%20%20%20%20var%20html_596ba5ff5fb04252b73625d90fc7e92f%20%3D%20%24%28%60%3Cdiv%20id%3D%22html_596ba5ff5fb04252b73625d90fc7e92f%22%20style%3D%22width%3A%20100.0%25%3B%20height%3A%20100.0%25%3B%22%3Ea%20good%20restaurant%3C/div%3E%60%29%5B0%5D%3B%0A%20%20%20%20%20%20%20%20%20%20%20%20%20%20%20%20popup_a90cc3c6534c48fda3e35f14f9088ec8.setContent%28html_596ba5ff5fb04252b73625d90fc7e92f%29%3B%0A%20%20%20%20%20%20%20%20%20%20%20%20%0A%0A%20%20%20%20%20%20%20%20%20%20%20%20marker_844da36f602b4f0d9780900593165a38.bindPopup%28popup_a90cc3c6534c48fda3e35f14f9088ec8%29%0A%20%20%20%20%20%20%20%20%20%20%20%20%3B%0A%0A%20%20%20%20%20%20%20%20%20%20%20%20%0A%20%20%20%20%20%20%20%20%0A%3C/script%3E onload=\"this.contentDocument.open();this.contentDocument.write(    decodeURIComponent(this.getAttribute('data-html')));this.contentDocument.close();\" allowfullscreen webkitallowfullscreen mozallowfullscreen></iframe></div></div>"
            ],
            "text/plain": [
              "<folium.folium.Map at 0x7f85374940f0>"
            ]
          },
          "metadata": {
            "tags": []
          },
          "execution_count": 16
        }
      ]
    },
    {
      "cell_type": "markdown",
      "metadata": {
        "id": "R1xRs4dlgC2-"
      },
      "source": [
        "# Challenge\n",
        "Here is a DataFrame with restaurants in Catania, Sicily, and their respective addresses. Here is your mission:\n",
        "- Create a new column \"coordinates\", which will store the coordinates corresponding to each address (you can use the function you created previously).\n",
        "- Display a map with the 4 restaurant markers. Be careful, the restaurants are very close, remember to set the default zoom level so that it is clearly legible. You can center the map on the first restaurant. And display the name of the restaurant in the tooltip popup."
      ]
    },
    {
      "cell_type": "code",
      "metadata": {
        "id": "J4dQrpdVlzYL",
        "colab": {
          "base_uri": "https://localhost:8080/",
          "height": 168
        },
        "outputId": "4754a109-b859-425d-e947-9b107d1154d5"
      },
      "source": [
        "import pandas as pd\n",
        "restaurants = pd.DataFrame([[\"Gelateria Zio Pietro dal 1964\", \"Via Porta di Ferro, 47, 95131 Catania CT, Italy\"],\n",
        "                            [\"A Casa d'Amici\",\"Via Fischetti, 14, 95131 Catania CT, Italy\"],\n",
        "                            [\"La Bitta\", \"di, Via Acquicella Porto, 95121 Catania CT, Italy\"],\n",
        "                            [\"Steak House\", \"Via Porta di Ferro, 8, 95100 Catania CT, Italy\"]\n",
        "                            ],\n",
        "                           columns = [\"name\", \"address\"])\n",
        "                           \n",
        "restaurants"
      ],
      "execution_count": null,
      "outputs": [
        {
          "output_type": "execute_result",
          "data": {
            "text/html": [
              "<div>\n",
              "<style scoped>\n",
              "    .dataframe tbody tr th:only-of-type {\n",
              "        vertical-align: middle;\n",
              "    }\n",
              "\n",
              "    .dataframe tbody tr th {\n",
              "        vertical-align: top;\n",
              "    }\n",
              "\n",
              "    .dataframe thead th {\n",
              "        text-align: right;\n",
              "    }\n",
              "</style>\n",
              "<table border=\"1\" class=\"dataframe\">\n",
              "  <thead>\n",
              "    <tr style=\"text-align: right;\">\n",
              "      <th></th>\n",
              "      <th>name</th>\n",
              "      <th>address</th>\n",
              "    </tr>\n",
              "  </thead>\n",
              "  <tbody>\n",
              "    <tr>\n",
              "      <th>0</th>\n",
              "      <td>Gelateria Zio Pietro dal 1964</td>\n",
              "      <td>Via Porta di Ferro, 47, 95131 Catania CT, Italy</td>\n",
              "    </tr>\n",
              "    <tr>\n",
              "      <th>1</th>\n",
              "      <td>A Casa d'Amici</td>\n",
              "      <td>Via Fischetti, 14, 95131 Catania CT, Italy</td>\n",
              "    </tr>\n",
              "    <tr>\n",
              "      <th>2</th>\n",
              "      <td>La Bitta</td>\n",
              "      <td>di, Via Acquicella Porto, 95121 Catania CT, Italy</td>\n",
              "    </tr>\n",
              "    <tr>\n",
              "      <th>3</th>\n",
              "      <td>Steak House</td>\n",
              "      <td>Via Porta di Ferro, 8, 95100 Catania CT, Italy</td>\n",
              "    </tr>\n",
              "  </tbody>\n",
              "</table>\n",
              "</div>"
            ],
            "text/plain": [
              "                            name                                            address\n",
              "0  Gelateria Zio Pietro dal 1964    Via Porta di Ferro, 47, 95131 Catania CT, Italy\n",
              "1                 A Casa d'Amici         Via Fischetti, 14, 95131 Catania CT, Italy\n",
              "2                       La Bitta  di, Via Acquicella Porto, 95121 Catania CT, Italy\n",
              "3                    Steak House     Via Porta di Ferro, 8, 95100 Catania CT, Italy"
            ]
          },
          "metadata": {
            "tags": []
          },
          "execution_count": 38
        }
      ]
    },
    {
      "cell_type": "code",
      "metadata": {
        "id": "wchCTzzGgOaG"
      },
      "source": [
        "def get_coord(adresse):\r\n",
        "  link = API_adresse(adresse)\r\n",
        "  r = requests.get(link).json()\r\n",
        "  lat = float(r[0]['lat'])\r\n",
        "  lon = float(r[0]['lon'])\r\n",
        "  return [lat, lon]\r\n",
        "\r\n",
        "restaurants['coord'] = restaurants['address'].apply(get_coord)"
      ],
      "execution_count": null,
      "outputs": []
    },
    {
      "cell_type": "code",
      "metadata": {
        "colab": {
          "base_uri": "https://localhost:8080/",
          "height": 674
        },
        "id": "EH6cLr-Ur8Fx",
        "outputId": "f9b14640-ec03-4cda-aa5b-79187215e901"
      },
      "source": [
        "m = folium.Map(location=restaurants['coord'][0],zoom_start=14 )\r\n",
        "\r\n",
        "\r\n",
        "folium.Marker(\r\n",
        "    location=restaurants['coord'][0],\r\n",
        "    popup=restaurants['name'][0],\r\n",
        "    icon=folium.Icon(color=\"red\", icon=\"info-sign\"),\r\n",
        ").add_to(m)\r\n",
        "\r\n",
        "folium.Marker(\r\n",
        "    location=restaurants['coord'][1],\r\n",
        "    popup=restaurants['name'][1],\r\n",
        "    icon=folium.Icon(color=\"blue\", icon=\"info-sign\"),\r\n",
        ").add_to(m)\r\n",
        "\r\n",
        "folium.Marker(\r\n",
        "    location=restaurants['coord'][2],\r\n",
        "    popup=restaurants['name'][2],\r\n",
        "    icon=folium.Icon(color=\"green\", icon=\"info-sign\"),\r\n",
        ").add_to(m)\r\n",
        "\r\n",
        "folium.Marker(\r\n",
        "    location=restaurants['coord'][3],\r\n",
        "    popup=restaurants['name'][3],\r\n",
        "    icon=folium.Icon(color=\"black\", icon=\"info-sign\"),\r\n",
        ").add_to(m)\r\n",
        "\r\n",
        "m"
      ],
      "execution_count": null,
      "outputs": [
        {
          "output_type": "execute_result",
          "data": {
            "text/html": [
              "<div style=\"width:100%;\"><div style=\"position:relative;width:100%;height:0;padding-bottom:60%;\"><span style=\"color:#565656\">Make this Notebook Trusted to load map: File -> Trust Notebook</span><iframe src=\"about:blank\" style=\"position:absolute;width:100%;height:100%;left:0;top:0;border:none !important;\" data-html=%3C%21DOCTYPE%20html%3E%0A%3Chead%3E%20%20%20%20%0A%20%20%20%20%3Cmeta%20http-equiv%3D%22content-type%22%20content%3D%22text/html%3B%20charset%3DUTF-8%22%20/%3E%0A%20%20%20%20%3Cscript%3EL_PREFER_CANVAS%3Dfalse%3B%20L_NO_TOUCH%3Dfalse%3B%20L_DISABLE_3D%3Dfalse%3B%3C/script%3E%0A%20%20%20%20%3Cscript%20src%3D%22https%3A//cdn.jsdelivr.net/npm/leaflet%401.4.0/dist/leaflet.js%22%3E%3C/script%3E%0A%20%20%20%20%3Cscript%20src%3D%22https%3A//code.jquery.com/jquery-1.12.4.min.js%22%3E%3C/script%3E%0A%20%20%20%20%3Cscript%20src%3D%22https%3A//maxcdn.bootstrapcdn.com/bootstrap/3.2.0/js/bootstrap.min.js%22%3E%3C/script%3E%0A%20%20%20%20%3Cscript%20src%3D%22https%3A//cdnjs.cloudflare.com/ajax/libs/Leaflet.awesome-markers/2.0.2/leaflet.awesome-markers.js%22%3E%3C/script%3E%0A%20%20%20%20%3Clink%20rel%3D%22stylesheet%22%20href%3D%22https%3A//cdn.jsdelivr.net/npm/leaflet%401.4.0/dist/leaflet.css%22/%3E%0A%20%20%20%20%3Clink%20rel%3D%22stylesheet%22%20href%3D%22https%3A//maxcdn.bootstrapcdn.com/bootstrap/3.2.0/css/bootstrap.min.css%22/%3E%0A%20%20%20%20%3Clink%20rel%3D%22stylesheet%22%20href%3D%22https%3A//maxcdn.bootstrapcdn.com/bootstrap/3.2.0/css/bootstrap-theme.min.css%22/%3E%0A%20%20%20%20%3Clink%20rel%3D%22stylesheet%22%20href%3D%22https%3A//maxcdn.bootstrapcdn.com/font-awesome/4.6.3/css/font-awesome.min.css%22/%3E%0A%20%20%20%20%3Clink%20rel%3D%22stylesheet%22%20href%3D%22https%3A//cdnjs.cloudflare.com/ajax/libs/Leaflet.awesome-markers/2.0.2/leaflet.awesome-markers.css%22/%3E%0A%20%20%20%20%3Clink%20rel%3D%22stylesheet%22%20href%3D%22https%3A//rawcdn.githack.com/python-visualization/folium/master/folium/templates/leaflet.awesome.rotate.css%22/%3E%0A%20%20%20%20%3Cstyle%3Ehtml%2C%20body%20%7Bwidth%3A%20100%25%3Bheight%3A%20100%25%3Bmargin%3A%200%3Bpadding%3A%200%3B%7D%3C/style%3E%0A%20%20%20%20%3Cstyle%3E%23map%20%7Bposition%3Aabsolute%3Btop%3A0%3Bbottom%3A0%3Bright%3A0%3Bleft%3A0%3B%7D%3C/style%3E%0A%20%20%20%20%0A%20%20%20%20%3Cmeta%20name%3D%22viewport%22%20content%3D%22width%3Ddevice-width%2C%0A%20%20%20%20%20%20%20%20initial-scale%3D1.0%2C%20maximum-scale%3D1.0%2C%20user-scalable%3Dno%22%20/%3E%0A%20%20%20%20%3Cstyle%3E%23map_45afb18c81b44832851960f85cbb9dc1%20%7B%0A%20%20%20%20%20%20%20%20position%3A%20relative%3B%0A%20%20%20%20%20%20%20%20width%3A%20100.0%25%3B%0A%20%20%20%20%20%20%20%20height%3A%20100.0%25%3B%0A%20%20%20%20%20%20%20%20left%3A%200.0%25%3B%0A%20%20%20%20%20%20%20%20top%3A%200.0%25%3B%0A%20%20%20%20%20%20%20%20%7D%0A%20%20%20%20%3C/style%3E%0A%3C/head%3E%0A%3Cbody%3E%20%20%20%20%0A%20%20%20%20%0A%20%20%20%20%3Cdiv%20class%3D%22folium-map%22%20id%3D%22map_45afb18c81b44832851960f85cbb9dc1%22%20%3E%3C/div%3E%0A%3C/body%3E%0A%3Cscript%3E%20%20%20%20%0A%20%20%20%20%0A%20%20%20%20%0A%20%20%20%20%20%20%20%20var%20bounds%20%3D%20null%3B%0A%20%20%20%20%0A%0A%20%20%20%20var%20map_45afb18c81b44832851960f85cbb9dc1%20%3D%20L.map%28%0A%20%20%20%20%20%20%20%20%27map_45afb18c81b44832851960f85cbb9dc1%27%2C%20%7B%0A%20%20%20%20%20%20%20%20center%3A%20%5B37.5020931%2C%2015.0931951%5D%2C%0A%20%20%20%20%20%20%20%20zoom%3A%2014%2C%0A%20%20%20%20%20%20%20%20maxBounds%3A%20bounds%2C%0A%20%20%20%20%20%20%20%20layers%3A%20%5B%5D%2C%0A%20%20%20%20%20%20%20%20worldCopyJump%3A%20false%2C%0A%20%20%20%20%20%20%20%20crs%3A%20L.CRS.EPSG3857%2C%0A%20%20%20%20%20%20%20%20zoomControl%3A%20true%2C%0A%20%20%20%20%20%20%20%20%7D%29%3B%0A%0A%0A%20%20%20%20%0A%20%20%20%20var%20tile_layer_6679a4a8bdd44794a12206942d79ca64%20%3D%20L.tileLayer%28%0A%20%20%20%20%20%20%20%20%27https%3A//%7Bs%7D.tile.openstreetmap.org/%7Bz%7D/%7Bx%7D/%7By%7D.png%27%2C%0A%20%20%20%20%20%20%20%20%7B%0A%20%20%20%20%20%20%20%20%22attribution%22%3A%20null%2C%0A%20%20%20%20%20%20%20%20%22detectRetina%22%3A%20false%2C%0A%20%20%20%20%20%20%20%20%22maxNativeZoom%22%3A%2018%2C%0A%20%20%20%20%20%20%20%20%22maxZoom%22%3A%2018%2C%0A%20%20%20%20%20%20%20%20%22minZoom%22%3A%200%2C%0A%20%20%20%20%20%20%20%20%22noWrap%22%3A%20false%2C%0A%20%20%20%20%20%20%20%20%22opacity%22%3A%201%2C%0A%20%20%20%20%20%20%20%20%22subdomains%22%3A%20%22abc%22%2C%0A%20%20%20%20%20%20%20%20%22tms%22%3A%20false%0A%7D%29.addTo%28map_45afb18c81b44832851960f85cbb9dc1%29%3B%0A%20%20%20%20%0A%20%20%20%20%20%20%20%20var%20marker_b8b48ef595e64fafbd2d4c0aa3541116%20%3D%20L.marker%28%0A%20%20%20%20%20%20%20%20%20%20%20%20%5B37.5020931%2C%2015.0931951%5D%2C%0A%20%20%20%20%20%20%20%20%20%20%20%20%7B%0A%20%20%20%20%20%20%20%20%20%20%20%20%20%20%20%20icon%3A%20new%20L.Icon.Default%28%29%2C%0A%20%20%20%20%20%20%20%20%20%20%20%20%20%20%20%20%7D%0A%20%20%20%20%20%20%20%20%20%20%20%20%29.addTo%28map_45afb18c81b44832851960f85cbb9dc1%29%3B%0A%20%20%20%20%20%20%20%20%0A%20%20%20%20%0A%0A%20%20%20%20%20%20%20%20%20%20%20%20%20%20%20%20var%20icon_819aeeae066d477c8005fc32a45ac708%20%3D%20L.AwesomeMarkers.icon%28%7B%0A%20%20%20%20%20%20%20%20%20%20%20%20%20%20%20%20%20%20%20%20icon%3A%20%27info-sign%27%2C%0A%20%20%20%20%20%20%20%20%20%20%20%20%20%20%20%20%20%20%20%20iconColor%3A%20%27white%27%2C%0A%20%20%20%20%20%20%20%20%20%20%20%20%20%20%20%20%20%20%20%20markerColor%3A%20%27red%27%2C%0A%20%20%20%20%20%20%20%20%20%20%20%20%20%20%20%20%20%20%20%20prefix%3A%20%27glyphicon%27%2C%0A%20%20%20%20%20%20%20%20%20%20%20%20%20%20%20%20%20%20%20%20extraClasses%3A%20%27fa-rotate-0%27%0A%20%20%20%20%20%20%20%20%20%20%20%20%20%20%20%20%20%20%20%20%7D%29%3B%0A%20%20%20%20%20%20%20%20%20%20%20%20%20%20%20%20marker_b8b48ef595e64fafbd2d4c0aa3541116.setIcon%28icon_819aeeae066d477c8005fc32a45ac708%29%3B%0A%20%20%20%20%20%20%20%20%20%20%20%20%0A%20%20%20%20%0A%20%20%20%20%20%20%20%20%20%20%20%20var%20popup_480a6c62876f4fd594a00890b7ae4252%20%3D%20L.popup%28%7BmaxWidth%3A%20%27100%25%27%0A%20%20%20%20%20%20%20%20%20%20%20%20%0A%20%20%20%20%20%20%20%20%20%20%20%20%7D%29%3B%0A%0A%20%20%20%20%20%20%20%20%20%20%20%20%0A%20%20%20%20%20%20%20%20%20%20%20%20%20%20%20%20var%20html_41e05fc6939a4930b65d548e7fb91f62%20%3D%20%24%28%60%3Cdiv%20id%3D%22html_41e05fc6939a4930b65d548e7fb91f62%22%20style%3D%22width%3A%20100.0%25%3B%20height%3A%20100.0%25%3B%22%3EGelateria%20Zio%20Pietro%20dal%201964%3C/div%3E%60%29%5B0%5D%3B%0A%20%20%20%20%20%20%20%20%20%20%20%20%20%20%20%20popup_480a6c62876f4fd594a00890b7ae4252.setContent%28html_41e05fc6939a4930b65d548e7fb91f62%29%3B%0A%20%20%20%20%20%20%20%20%20%20%20%20%0A%0A%20%20%20%20%20%20%20%20%20%20%20%20marker_b8b48ef595e64fafbd2d4c0aa3541116.bindPopup%28popup_480a6c62876f4fd594a00890b7ae4252%29%0A%20%20%20%20%20%20%20%20%20%20%20%20%3B%0A%0A%20%20%20%20%20%20%20%20%20%20%20%20%0A%20%20%20%20%20%20%20%20%0A%20%20%20%20%0A%20%20%20%20%20%20%20%20var%20marker_5d09d61932bb46d6847e3a3435cd9c42%20%3D%20L.marker%28%0A%20%20%20%20%20%20%20%20%20%20%20%20%5B37.506171%2C%2015.0943223%5D%2C%0A%20%20%20%20%20%20%20%20%20%20%20%20%7B%0A%20%20%20%20%20%20%20%20%20%20%20%20%20%20%20%20icon%3A%20new%20L.Icon.Default%28%29%2C%0A%20%20%20%20%20%20%20%20%20%20%20%20%20%20%20%20%7D%0A%20%20%20%20%20%20%20%20%20%20%20%20%29.addTo%28map_45afb18c81b44832851960f85cbb9dc1%29%3B%0A%20%20%20%20%20%20%20%20%0A%20%20%20%20%0A%0A%20%20%20%20%20%20%20%20%20%20%20%20%20%20%20%20var%20icon_cfd8503daaa144199dd9095c3d8afc3b%20%3D%20L.AwesomeMarkers.icon%28%7B%0A%20%20%20%20%20%20%20%20%20%20%20%20%20%20%20%20%20%20%20%20icon%3A%20%27info-sign%27%2C%0A%20%20%20%20%20%20%20%20%20%20%20%20%20%20%20%20%20%20%20%20iconColor%3A%20%27white%27%2C%0A%20%20%20%20%20%20%20%20%20%20%20%20%20%20%20%20%20%20%20%20markerColor%3A%20%27blue%27%2C%0A%20%20%20%20%20%20%20%20%20%20%20%20%20%20%20%20%20%20%20%20prefix%3A%20%27glyphicon%27%2C%0A%20%20%20%20%20%20%20%20%20%20%20%20%20%20%20%20%20%20%20%20extraClasses%3A%20%27fa-rotate-0%27%0A%20%20%20%20%20%20%20%20%20%20%20%20%20%20%20%20%20%20%20%20%7D%29%3B%0A%20%20%20%20%20%20%20%20%20%20%20%20%20%20%20%20marker_5d09d61932bb46d6847e3a3435cd9c42.setIcon%28icon_cfd8503daaa144199dd9095c3d8afc3b%29%3B%0A%20%20%20%20%20%20%20%20%20%20%20%20%0A%20%20%20%20%0A%20%20%20%20%20%20%20%20%20%20%20%20var%20popup_40d7f3f7c1d940888b8842ce80a95f7f%20%3D%20L.popup%28%7BmaxWidth%3A%20%27100%25%27%0A%20%20%20%20%20%20%20%20%20%20%20%20%0A%20%20%20%20%20%20%20%20%20%20%20%20%7D%29%3B%0A%0A%20%20%20%20%20%20%20%20%20%20%20%20%0A%20%20%20%20%20%20%20%20%20%20%20%20%20%20%20%20var%20html_d1e7848c7f8f4942be91a04a1d6b12ed%20%3D%20%24%28%60%3Cdiv%20id%3D%22html_d1e7848c7f8f4942be91a04a1d6b12ed%22%20style%3D%22width%3A%20100.0%25%3B%20height%3A%20100.0%25%3B%22%3EA%20Casa%20d%27Amici%3C/div%3E%60%29%5B0%5D%3B%0A%20%20%20%20%20%20%20%20%20%20%20%20%20%20%20%20popup_40d7f3f7c1d940888b8842ce80a95f7f.setContent%28html_d1e7848c7f8f4942be91a04a1d6b12ed%29%3B%0A%20%20%20%20%20%20%20%20%20%20%20%20%0A%0A%20%20%20%20%20%20%20%20%20%20%20%20marker_5d09d61932bb46d6847e3a3435cd9c42.bindPopup%28popup_40d7f3f7c1d940888b8842ce80a95f7f%29%0A%20%20%20%20%20%20%20%20%20%20%20%20%3B%0A%0A%20%20%20%20%20%20%20%20%20%20%20%20%0A%20%20%20%20%20%20%20%20%0A%20%20%20%20%0A%20%20%20%20%20%20%20%20var%20marker_09c213cd51fe4e99833d9324e0cfbc71%20%3D%20L.marker%28%0A%20%20%20%20%20%20%20%20%20%20%20%20%5B37.4894857%2C%2015.0782607%5D%2C%0A%20%20%20%20%20%20%20%20%20%20%20%20%7B%0A%20%20%20%20%20%20%20%20%20%20%20%20%20%20%20%20icon%3A%20new%20L.Icon.Default%28%29%2C%0A%20%20%20%20%20%20%20%20%20%20%20%20%20%20%20%20%7D%0A%20%20%20%20%20%20%20%20%20%20%20%20%29.addTo%28map_45afb18c81b44832851960f85cbb9dc1%29%3B%0A%20%20%20%20%20%20%20%20%0A%20%20%20%20%0A%0A%20%20%20%20%20%20%20%20%20%20%20%20%20%20%20%20var%20icon_f8dafcdacf5049a08eb289cc69028a90%20%3D%20L.AwesomeMarkers.icon%28%7B%0A%20%20%20%20%20%20%20%20%20%20%20%20%20%20%20%20%20%20%20%20icon%3A%20%27info-sign%27%2C%0A%20%20%20%20%20%20%20%20%20%20%20%20%20%20%20%20%20%20%20%20iconColor%3A%20%27white%27%2C%0A%20%20%20%20%20%20%20%20%20%20%20%20%20%20%20%20%20%20%20%20markerColor%3A%20%27green%27%2C%0A%20%20%20%20%20%20%20%20%20%20%20%20%20%20%20%20%20%20%20%20prefix%3A%20%27glyphicon%27%2C%0A%20%20%20%20%20%20%20%20%20%20%20%20%20%20%20%20%20%20%20%20extraClasses%3A%20%27fa-rotate-0%27%0A%20%20%20%20%20%20%20%20%20%20%20%20%20%20%20%20%20%20%20%20%7D%29%3B%0A%20%20%20%20%20%20%20%20%20%20%20%20%20%20%20%20marker_09c213cd51fe4e99833d9324e0cfbc71.setIcon%28icon_f8dafcdacf5049a08eb289cc69028a90%29%3B%0A%20%20%20%20%20%20%20%20%20%20%20%20%0A%20%20%20%20%0A%20%20%20%20%20%20%20%20%20%20%20%20var%20popup_8ded8353391e49369ef48a321a94c738%20%3D%20L.popup%28%7BmaxWidth%3A%20%27100%25%27%0A%20%20%20%20%20%20%20%20%20%20%20%20%0A%20%20%20%20%20%20%20%20%20%20%20%20%7D%29%3B%0A%0A%20%20%20%20%20%20%20%20%20%20%20%20%0A%20%20%20%20%20%20%20%20%20%20%20%20%20%20%20%20var%20html_14cac9fdae364132ac70ef43f30ad9d7%20%3D%20%24%28%60%3Cdiv%20id%3D%22html_14cac9fdae364132ac70ef43f30ad9d7%22%20style%3D%22width%3A%20100.0%25%3B%20height%3A%20100.0%25%3B%22%3ELa%20Bitta%3C/div%3E%60%29%5B0%5D%3B%0A%20%20%20%20%20%20%20%20%20%20%20%20%20%20%20%20popup_8ded8353391e49369ef48a321a94c738.setContent%28html_14cac9fdae364132ac70ef43f30ad9d7%29%3B%0A%20%20%20%20%20%20%20%20%20%20%20%20%0A%0A%20%20%20%20%20%20%20%20%20%20%20%20marker_09c213cd51fe4e99833d9324e0cfbc71.bindPopup%28popup_8ded8353391e49369ef48a321a94c738%29%0A%20%20%20%20%20%20%20%20%20%20%20%20%3B%0A%0A%20%20%20%20%20%20%20%20%20%20%20%20%0A%20%20%20%20%20%20%20%20%0A%20%20%20%20%0A%20%20%20%20%20%20%20%20var%20marker_f378a40d22194e2586ba7b44ec051342%20%3D%20L.marker%28%0A%20%20%20%20%20%20%20%20%20%20%20%20%5B37.5029335%2C%2015.0930406%5D%2C%0A%20%20%20%20%20%20%20%20%20%20%20%20%7B%0A%20%20%20%20%20%20%20%20%20%20%20%20%20%20%20%20icon%3A%20new%20L.Icon.Default%28%29%2C%0A%20%20%20%20%20%20%20%20%20%20%20%20%20%20%20%20%7D%0A%20%20%20%20%20%20%20%20%20%20%20%20%29.addTo%28map_45afb18c81b44832851960f85cbb9dc1%29%3B%0A%20%20%20%20%20%20%20%20%0A%20%20%20%20%0A%0A%20%20%20%20%20%20%20%20%20%20%20%20%20%20%20%20var%20icon_a82951dedacd4867b97aa58cbd8d0f48%20%3D%20L.AwesomeMarkers.icon%28%7B%0A%20%20%20%20%20%20%20%20%20%20%20%20%20%20%20%20%20%20%20%20icon%3A%20%27info-sign%27%2C%0A%20%20%20%20%20%20%20%20%20%20%20%20%20%20%20%20%20%20%20%20iconColor%3A%20%27white%27%2C%0A%20%20%20%20%20%20%20%20%20%20%20%20%20%20%20%20%20%20%20%20markerColor%3A%20%27black%27%2C%0A%20%20%20%20%20%20%20%20%20%20%20%20%20%20%20%20%20%20%20%20prefix%3A%20%27glyphicon%27%2C%0A%20%20%20%20%20%20%20%20%20%20%20%20%20%20%20%20%20%20%20%20extraClasses%3A%20%27fa-rotate-0%27%0A%20%20%20%20%20%20%20%20%20%20%20%20%20%20%20%20%20%20%20%20%7D%29%3B%0A%20%20%20%20%20%20%20%20%20%20%20%20%20%20%20%20marker_f378a40d22194e2586ba7b44ec051342.setIcon%28icon_a82951dedacd4867b97aa58cbd8d0f48%29%3B%0A%20%20%20%20%20%20%20%20%20%20%20%20%0A%20%20%20%20%0A%20%20%20%20%20%20%20%20%20%20%20%20var%20popup_7e732ec9617a44dcb859eea27f792f58%20%3D%20L.popup%28%7BmaxWidth%3A%20%27100%25%27%0A%20%20%20%20%20%20%20%20%20%20%20%20%0A%20%20%20%20%20%20%20%20%20%20%20%20%7D%29%3B%0A%0A%20%20%20%20%20%20%20%20%20%20%20%20%0A%20%20%20%20%20%20%20%20%20%20%20%20%20%20%20%20var%20html_5b540e5e639d44898db1d9d93e5d8f33%20%3D%20%24%28%60%3Cdiv%20id%3D%22html_5b540e5e639d44898db1d9d93e5d8f33%22%20style%3D%22width%3A%20100.0%25%3B%20height%3A%20100.0%25%3B%22%3ESteak%20House%3C/div%3E%60%29%5B0%5D%3B%0A%20%20%20%20%20%20%20%20%20%20%20%20%20%20%20%20popup_7e732ec9617a44dcb859eea27f792f58.setContent%28html_5b540e5e639d44898db1d9d93e5d8f33%29%3B%0A%20%20%20%20%20%20%20%20%20%20%20%20%0A%0A%20%20%20%20%20%20%20%20%20%20%20%20marker_f378a40d22194e2586ba7b44ec051342.bindPopup%28popup_7e732ec9617a44dcb859eea27f792f58%29%0A%20%20%20%20%20%20%20%20%20%20%20%20%3B%0A%0A%20%20%20%20%20%20%20%20%20%20%20%20%0A%20%20%20%20%20%20%20%20%0A%3C/script%3E onload=\"this.contentDocument.open();this.contentDocument.write(    decodeURIComponent(this.getAttribute('data-html')));this.contentDocument.close();\" allowfullscreen webkitallowfullscreen mozallowfullscreen></iframe></div></div>"
            ],
            "text/plain": [
              "<folium.folium.Map at 0x7f852ef6da90>"
            ]
          },
          "metadata": {
            "tags": []
          },
          "execution_count": 63
        }
      ]
    },
    {
      "cell_type": "markdown",
      "metadata": {
        "id": "5198aDGpHIF2"
      },
      "source": [
        "# Remarks on the Nominatim API\n",
        "As indicated in the quest, there are many resources for geocoding. Most of them are available by registration, and some require a fee.\n",
        "\n",
        "The Nominatim API is free and without registration. The disadvantage is that it is relatively slow. If you need to use it in the future, remember to store the results so you don't have to run it several times.\n",
        "\n",
        "For your knowledge, there is also :\n",
        "- the **reverse** address API, which allows you to find the nearest postal address using geographic coordinates.\n",
        "- the API from a **CSV file** if you have a lot of lines to geocode\n",
        "- the API **GeoJSON** which allows to obtain a geoJSON format of locations to make choropleth maps\n",
        "\n",
        "\n",
        "All the [documentation is available here](https://nominatim.org/release-docs/develop/api/Search/)."
      ]
    }
  ]
}