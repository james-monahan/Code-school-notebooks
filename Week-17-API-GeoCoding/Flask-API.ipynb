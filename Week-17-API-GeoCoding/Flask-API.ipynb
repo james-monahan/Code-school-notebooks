{
  "nbformat": 4,
  "nbformat_minor": 0,
  "metadata": {
    "colab": {
      "name": "Flask.ipynb",
      "provenance": [],
      "authorship_tag": "ABX9TyMb+H3pexPeWac+tN8miUQa",
      "include_colab_link": true
    },
    "kernelspec": {
      "name": "python3",
      "display_name": "Python 3"
    }
  },
  "cells": [
    {
      "cell_type": "markdown",
      "metadata": {
        "id": "view-in-github",
        "colab_type": "text"
      },
      "source": [
        "<a href=\"https://colab.research.google.com/github/james-monahan/Code-school-notebooks/blob/main/Week-17-API-GeoCoding/Flask-API.ipynb\" target=\"_parent\"><img src=\"https://colab.research.google.com/assets/colab-badge.svg\" alt=\"Open In Colab\"/></a>"
      ]
    },
    {
      "cell_type": "markdown",
      "metadata": {
        "id": "wzUof9HvyTXU"
      },
      "source": [
        "#ATTENTION!  \r\n",
        "While the flask server is running (section1) the code in section2 will not run.  \r\n",
        "To view results, simply copy/paste section 2 into another notebook and use the ngrock url indicated in the flask response to call the api, ex:  \r\n",
        "\r\n",
        "“http://a1782462d3bb.ngrok.io/red\" will provide appropriate response for 'red'"
      ]
    },
    {
      "cell_type": "code",
      "metadata": {
        "id": "Ba19OwnXl0m_"
      },
      "source": [
        "!pip install flask_restful"
      ],
      "execution_count": null,
      "outputs": []
    },
    {
      "cell_type": "code",
      "metadata": {
        "id": "ZZFDngWsqyhp"
      },
      "source": [
        "!pip install flask"
      ],
      "execution_count": null,
      "outputs": []
    },
    {
      "cell_type": "code",
      "metadata": {
        "id": "kGK1_w1NubsD"
      },
      "source": [
        "!pip install flask-ngrok"
      ],
      "execution_count": null,
      "outputs": []
    },
    {
      "cell_type": "code",
      "metadata": {
        "id": "lpwanavYZyVS"
      },
      "source": [
        "import pandas as pd\r\n",
        "from flask import Flask, request\r\n",
        "from flask_restful import Resource, Api\r\n",
        "from requests import put, get\r\n",
        "from flask_ngrok import run_with_ngrok"
      ],
      "execution_count": 22,
      "outputs": []
    },
    {
      "cell_type": "code",
      "metadata": {
        "id": "-nCwrRenayDb",
        "colab": {
          "base_uri": "https://localhost:8080/",
          "height": 78
        },
        "outputId": "7a8844e5-cae3-4e96-b9a0-0ce110b156f9"
      },
      "source": [
        "url = \"https://raw.githubusercontent.com/murpi/wilddata/master/quests/flower_color_symbolism.csv\"\r\n",
        "df = pd.read_csv(url)\r\n",
        "df['colors'] = df['Flower Color '].apply(lambda x: x.split()[0])\r\n",
        "df.head(1)"
      ],
      "execution_count": 58,
      "outputs": [
        {
          "output_type": "execute_result",
          "data": {
            "text/html": [
              "<div>\n",
              "<style scoped>\n",
              "    .dataframe tbody tr th:only-of-type {\n",
              "        vertical-align: middle;\n",
              "    }\n",
              "\n",
              "    .dataframe tbody tr th {\n",
              "        vertical-align: top;\n",
              "    }\n",
              "\n",
              "    .dataframe thead th {\n",
              "        text-align: right;\n",
              "    }\n",
              "</style>\n",
              "<table border=\"1\" class=\"dataframe\">\n",
              "  <thead>\n",
              "    <tr style=\"text-align: right;\">\n",
              "      <th></th>\n",
              "      <th>Flower Color</th>\n",
              "      <th>Meaning</th>\n",
              "      <th>colors</th>\n",
              "    </tr>\n",
              "  </thead>\n",
              "  <tbody>\n",
              "    <tr>\n",
              "      <th>0</th>\n",
              "      <td>Red Flowers</td>\n",
              "      <td>Fresh red flowers send the clear and powerful ...</td>\n",
              "      <td>Red</td>\n",
              "    </tr>\n",
              "  </tbody>\n",
              "</table>\n",
              "</div>"
            ],
            "text/plain": [
              "  Flower Color                                             Meaning colors\n",
              "0   Red Flowers  Fresh red flowers send the clear and powerful ...    Red"
            ]
          },
          "metadata": {
            "tags": []
          },
          "execution_count": 58
        }
      ]
    },
    {
      "cell_type": "code",
      "metadata": {
        "colab": {
          "base_uri": "https://localhost:8080/"
        },
        "id": "Rn0OvJVwz3CC",
        "outputId": "6157a1d9-4dab-4681-cc41-f68e3da4128d"
      },
      "source": [
        "df['colors'].unique()\r\n"
      ],
      "execution_count": 59,
      "outputs": [
        {
          "output_type": "execute_result",
          "data": {
            "text/plain": [
              "array(['Red', 'Orange', 'Pink', 'Green', 'Blue', 'Purple', 'White'],\n",
              "      dtype=object)"
            ]
          },
          "metadata": {
            "tags": []
          },
          "execution_count": 59
        }
      ]
    },
    {
      "cell_type": "markdown",
      "metadata": {
        "id": "8J2Ml5eo3O1A"
      },
      "source": [
        "#Flask app (section 1)"
      ]
    },
    {
      "cell_type": "code",
      "metadata": {
        "colab": {
          "base_uri": "https://localhost:8080/"
        },
        "id": "67CcgTyPuki4",
        "outputId": "6b9f3494-937c-4acb-d642-11e689386448"
      },
      "source": [
        "app = Flask(__name__)\r\n",
        "run_with_ngrok(app)   #starts ngrok when the app is run\r\n",
        "@app.route(\"/\")\r\n",
        "def home():\r\n",
        "  return \"<h1>Running Flask, call URL with color for response</h1>\"\r\n",
        "\r\n",
        "@app.route(\"/red\")\r\n",
        "def red():\r\n",
        "  text = df[df['colors']=='Red']['Meaning'].values[0]\r\n",
        "  return f\"Red: {text}\"\r\n",
        "\r\n",
        "@app.route(\"/orange\")\r\n",
        "def orange():\r\n",
        "  text = df[df['colors']=='Orange']['Meaning'].values[0]\r\n",
        "  return f\"Oranged: {text}\"\r\n",
        "\r\n",
        "@app.route(\"/pink\")\r\n",
        "def pink():\r\n",
        "  text = df[df['colors']=='Pink']['Meaning'].values[0]\r\n",
        "  return f\"Pink: {text}\"\r\n",
        "\r\n",
        "@app.route(\"/green\")\r\n",
        "def green():\r\n",
        "  text = df[df['colors']=='Green']['Meaning'].values[0]\r\n",
        "  return f\"Green: {text}\"\r\n",
        "\r\n",
        "@app.route(\"/blue\")\r\n",
        "def blue():\r\n",
        "  text = df[df['colors']=='Blue']['Meaning'].values[0]\r\n",
        "  return f\"Blue: {text}\"\r\n",
        "\r\n",
        "@app.route(\"/purple\")\r\n",
        "def purple():\r\n",
        "  text = df[df['colors']=='Purple']['Meaning'].values[0]\r\n",
        "  return f\"Purple: {text}\"\r\n",
        "\r\n",
        "@app.route(\"/white\")\r\n",
        "def white():\r\n",
        "  text = df[df['colors']=='White']['Meaning'].values[0]\r\n",
        "  return f\"White: {text}\"\r\n",
        "  \r\n",
        "app.run()"
      ],
      "execution_count": null,
      "outputs": [
        {
          "output_type": "stream",
          "text": [
            " * Serving Flask app \"__main__\" (lazy loading)\n",
            " * Environment: production\n",
            "\u001b[31m   WARNING: This is a development server. Do not use it in a production deployment.\u001b[0m\n",
            "\u001b[2m   Use a production WSGI server instead.\u001b[0m\n",
            " * Debug mode: off\n"
          ],
          "name": "stdout"
        },
        {
          "output_type": "stream",
          "text": [
            " * Running on http://127.0.0.1:5000/ (Press CTRL+C to quit)\n"
          ],
          "name": "stderr"
        },
        {
          "output_type": "stream",
          "text": [
            " * Running on http://3a11166c1f60.ngrok.io\n",
            " * Traffic stats available on http://127.0.0.1:4040\n"
          ],
          "name": "stdout"
        },
        {
          "output_type": "stream",
          "text": [
            "127.0.0.1 - - [24/Jan/2021 14:52:35] \"\u001b[37mGET /red HTTP/1.1\u001b[0m\" 200 -\n",
            "127.0.0.1 - - [24/Jan/2021 14:52:35] \"\u001b[37mGET /orange HTTP/1.1\u001b[0m\" 200 -\n",
            "127.0.0.1 - - [24/Jan/2021 14:52:35] \"\u001b[37mGET /pink HTTP/1.1\u001b[0m\" 200 -\n",
            "127.0.0.1 - - [24/Jan/2021 14:52:35] \"\u001b[37mGET /green HTTP/1.1\u001b[0m\" 200 -\n",
            "127.0.0.1 - - [24/Jan/2021 14:52:35] \"\u001b[37mGET /blue HTTP/1.1\u001b[0m\" 200 -\n",
            "127.0.0.1 - - [24/Jan/2021 14:52:35] \"\u001b[37mGET /purple HTTP/1.1\u001b[0m\" 200 -\n",
            "127.0.0.1 - - [24/Jan/2021 14:52:36] \"\u001b[37mGET /white HTTP/1.1\u001b[0m\" 200 -\n"
          ],
          "name": "stderr"
        }
      ]
    },
    {
      "cell_type": "markdown",
      "metadata": {
        "id": "nHxCDonh2_65"
      },
      "source": [
        "#Section 2  \r\n",
        "While server is running in this notebook:  \r\n",
        "Update ngrok address / copy / paste / run in another notebook for results."
      ]
    },
    {
      "cell_type": "code",
      "metadata": {
        "id": "X-oR1jvymgmX"
      },
      "source": [
        "import requests\r\n",
        "\r\n",
        "#change to ngrok address when server running\r\n",
        "ngrok_address = \"http://3a11166c1f60.ngrok.io\"\r\n",
        "\r\n",
        "result = requests.get(f\"{ngrok_address}/red\")\r\n",
        "print(result.text)\r\n",
        "\r\n",
        "\r\n",
        "result = requests.get(f\"{ngrok_address}/orange\")\r\n",
        "print(result.text)\r\n",
        "\r\n",
        "\r\n",
        "result = requests.get(f\"{ngrok_address}/pink\")\r\n",
        "print(result.text)\r\n",
        "\r\n",
        "\r\n",
        "result = requests.get(f\"{ngrok_address}/green\")\r\n",
        "print(result.text)\r\n",
        "\r\n",
        "\r\n",
        "result = requests.get(f\"{ngrok_address}/blue\")\r\n",
        "print(result.text)\r\n",
        "\r\n",
        "\r\n",
        "result = requests.get(f\"{ngrok_address}/purple\")\r\n",
        "print(result.text)\r\n",
        "\r\n",
        "\r\n",
        "result = requests.get(f\"{ngrok_address}/white\")\r\n",
        "print(result.text)"
      ],
      "execution_count": 6,
      "outputs": []
    }
  ]
}