{
  "nbformat": 4,
  "nbformat_minor": 0,
  "metadata": {
    "colab": {
      "name": "Copy of jpm_2021 Data Checkpoint 3.ipynb",
      "provenance": [],
      "collapsed_sections": [
        "Ia1bZEq2tZ-l"
      ],
      "include_colab_link": true
    },
    "kernelspec": {
      "name": "python3",
      "display_name": "Python 3"
    }
  },
  "cells": [
    {
      "cell_type": "markdown",
      "metadata": {
        "id": "view-in-github",
        "colab_type": "text"
      },
      "source": [
        "<a href=\"https://colab.research.google.com/github/james-monahan/Code-school-notebooks/blob/main/Checkpoint-3/Checkpoint_3.ipynb\" target=\"_parent\"><img src=\"https://colab.research.google.com/assets/colab-badge.svg\" alt=\"Open In Colab\"/></a>"
      ]
    },
    {
      "cell_type": "code",
      "metadata": {
        "colab": {
          "base_uri": "https://localhost:8080/"
        },
        "id": "i7ps29LfF9ii",
        "outputId": "38831cbb-e2ea-4f81-e2f9-03aac62e5512"
      },
      "source": [
        "!pip install pyforest"
      ],
      "execution_count": null,
      "outputs": [
        {
          "output_type": "stream",
          "text": [
            "Collecting pyforest\n",
            "  Downloading https://files.pythonhosted.org/packages/8f/85/77a9d2d9ff240822039f3dfd7a3b374d0621a0df5feb5d270a2151f6bb6d/pyforest-1.0.3.tar.gz\n",
            "Building wheels for collected packages: pyforest\n",
            "  Building wheel for pyforest (setup.py) ... \u001b[?25l\u001b[?25hdone\n",
            "  Created wheel for pyforest: filename=pyforest-1.0.3-py2.py3-none-any.whl size=13716 sha256=10aa873ca0020f99fb00d8e6b470cb2ac7f3d73b4979e1df416d14fd04a29769\n",
            "  Stored in directory: /root/.cache/pip/wheels/af/0b/39/340a7f15fc8d4ff5ab50847b28789afea04452a9d51b9721b5\n",
            "Successfully built pyforest\n",
            "Installing collected packages: pyforest\n",
            "Successfully installed pyforest-1.0.3\n"
          ],
          "name": "stdout"
        }
      ]
    },
    {
      "cell_type": "code",
      "metadata": {
        "id": "j6UjLNi6GBaA"
      },
      "source": [
        "from pyforest import *"
      ],
      "execution_count": null,
      "outputs": []
    },
    {
      "cell_type": "markdown",
      "metadata": {
        "id": "2bQ8cXac8hFf"
      },
      "source": [
        "Les durées sont indicatives et dépendent évidemment de chacun. Si tu vois que tu n'arrives pas à finir une partie dans les temps, n'hésite pas à passer à la partie suivante.\n",
        "\n",
        "Si tu n'as pas le temps de tout finir, tu pourras reprendre ce checkpoint ce week-end ou la semaine prochaine. Tu indiqueras simplement en commentaire les scripts que tu as complété a posteriori."
      ]
    },
    {
      "cell_type": "markdown",
      "metadata": {
        "id": "PwKT_gh2H07M"
      },
      "source": [
        "# Partie 1 : Data exploration et processing - environ 30 min\n",
        "\n",
        "Exécute le code ci-dessous. Tu obtiendras un DataFrame avec 10 000 commentaires de restaurants. \n",
        "- date : la date du commentaire\n",
        "- stars : la note attribuée (de 1 à 5)\n",
        "- text : le texte du commentaire\n",
        "- type : review\n",
        "- useful : le nombre d'utilisateur ayant indiqué ce commentaire comme \"utile\"\n",
        "- suivent ensuite 27 colonnes indiquant le nombre d'occurences de certains mots dans le commentaire.\n",
        "\n",
        "Le but de ce checkpoint sera d'explorer ce dataset, puis de proposer un modèle de prédiction de note positive en fonction des autres variables.\n",
        "\n",
        "Commence par vérifier qu'il n'y a pas de valeur manquante."
      ]
    },
    {
      "cell_type": "code",
      "metadata": {
        "id": "gHGYDG82H7Wc",
        "colab": {
          "base_uri": "https://localhost:8080/",
          "height": 662
        },
        "outputId": "229976bd-30cb-4a59-c5c4-93334c3fcc46"
      },
      "source": [
        "import pandas as pd\n",
        "df_restaurants = pd.read_csv(\"https://github.com/murpi/wilddata/raw/master/quests/restaurant.zip\", index_col='Unnamed: 0')\n",
        "df_restaurants.head()"
      ],
      "execution_count": null,
      "outputs": [
        {
          "output_type": "execute_result",
          "data": {
            "text/html": [
              "<div>\n",
              "<style scoped>\n",
              "    .dataframe tbody tr th:only-of-type {\n",
              "        vertical-align: middle;\n",
              "    }\n",
              "\n",
              "    .dataframe tbody tr th {\n",
              "        vertical-align: top;\n",
              "    }\n",
              "\n",
              "    .dataframe thead th {\n",
              "        text-align: right;\n",
              "    }\n",
              "</style>\n",
              "<table border=\"1\" class=\"dataframe\">\n",
              "  <thead>\n",
              "    <tr style=\"text-align: right;\">\n",
              "      <th></th>\n",
              "      <th>date</th>\n",
              "      <th>stars</th>\n",
              "      <th>text</th>\n",
              "      <th>type</th>\n",
              "      <th>useful</th>\n",
              "      <th>came</th>\n",
              "      <th>made</th>\n",
              "      <th>happy</th>\n",
              "      <th>definitely</th>\n",
              "      <th>another</th>\n",
              "      <th>love</th>\n",
              "      <th>give</th>\n",
              "      <th>new</th>\n",
              "      <th>asked</th>\n",
              "      <th>bad</th>\n",
              "      <th>still</th>\n",
              "      <th>sauce</th>\n",
              "      <th>table</th>\n",
              "      <th>every</th>\n",
              "      <th>around</th>\n",
              "      <th>amazing</th>\n",
              "      <th>minutes</th>\n",
              "      <th>'ll</th>\n",
              "      <th>friendly</th>\n",
              "      <th>day</th>\n",
              "      <th>delicious</th>\n",
              "      <th>fresh</th>\n",
              "      <th>something</th>\n",
              "      <th>said</th>\n",
              "      <th>ok</th>\n",
              "      <th>'d</th>\n",
              "      <th>lunch</th>\n",
              "    </tr>\n",
              "  </thead>\n",
              "  <tbody>\n",
              "    <tr>\n",
              "      <th>0</th>\n",
              "      <td>2011-01-26</td>\n",
              "      <td>5</td>\n",
              "      <td>My wife took me here on my birthday for breakf...</td>\n",
              "      <td>review</td>\n",
              "      <td>5</td>\n",
              "      <td>1</td>\n",
              "      <td>2</td>\n",
              "      <td>0</td>\n",
              "      <td>0</td>\n",
              "      <td>0</td>\n",
              "      <td>0</td>\n",
              "      <td>0</td>\n",
              "      <td>0</td>\n",
              "      <td>0</td>\n",
              "      <td>0</td>\n",
              "      <td>0</td>\n",
              "      <td>0</td>\n",
              "      <td>0</td>\n",
              "      <td>0</td>\n",
              "      <td>0</td>\n",
              "      <td>1</td>\n",
              "      <td>0</td>\n",
              "      <td>0</td>\n",
              "      <td>0</td>\n",
              "      <td>0</td>\n",
              "      <td>1</td>\n",
              "      <td>1</td>\n",
              "      <td>0</td>\n",
              "      <td>0</td>\n",
              "      <td>0</td>\n",
              "      <td>0</td>\n",
              "      <td>0</td>\n",
              "    </tr>\n",
              "    <tr>\n",
              "      <th>1</th>\n",
              "      <td>2011-07-27</td>\n",
              "      <td>5</td>\n",
              "      <td>I have no idea why some people give bad review...</td>\n",
              "      <td>review</td>\n",
              "      <td>0</td>\n",
              "      <td>1</td>\n",
              "      <td>0</td>\n",
              "      <td>0</td>\n",
              "      <td>0</td>\n",
              "      <td>0</td>\n",
              "      <td>0</td>\n",
              "      <td>1</td>\n",
              "      <td>0</td>\n",
              "      <td>0</td>\n",
              "      <td>3</td>\n",
              "      <td>0</td>\n",
              "      <td>1</td>\n",
              "      <td>0</td>\n",
              "      <td>0</td>\n",
              "      <td>0</td>\n",
              "      <td>0</td>\n",
              "      <td>0</td>\n",
              "      <td>0</td>\n",
              "      <td>0</td>\n",
              "      <td>0</td>\n",
              "      <td>0</td>\n",
              "      <td>0</td>\n",
              "      <td>1</td>\n",
              "      <td>1</td>\n",
              "      <td>0</td>\n",
              "      <td>0</td>\n",
              "      <td>0</td>\n",
              "    </tr>\n",
              "    <tr>\n",
              "      <th>2</th>\n",
              "      <td>2012-06-14</td>\n",
              "      <td>4</td>\n",
              "      <td>love the gyro plate. Rice is so good and I als...</td>\n",
              "      <td>review</td>\n",
              "      <td>1</td>\n",
              "      <td>0</td>\n",
              "      <td>0</td>\n",
              "      <td>0</td>\n",
              "      <td>0</td>\n",
              "      <td>0</td>\n",
              "      <td>1</td>\n",
              "      <td>0</td>\n",
              "      <td>0</td>\n",
              "      <td>0</td>\n",
              "      <td>0</td>\n",
              "      <td>0</td>\n",
              "      <td>0</td>\n",
              "      <td>0</td>\n",
              "      <td>0</td>\n",
              "      <td>0</td>\n",
              "      <td>0</td>\n",
              "      <td>0</td>\n",
              "      <td>0</td>\n",
              "      <td>0</td>\n",
              "      <td>0</td>\n",
              "      <td>0</td>\n",
              "      <td>0</td>\n",
              "      <td>0</td>\n",
              "      <td>0</td>\n",
              "      <td>0</td>\n",
              "      <td>0</td>\n",
              "      <td>0</td>\n",
              "    </tr>\n",
              "    <tr>\n",
              "      <th>3</th>\n",
              "      <td>2010-05-27</td>\n",
              "      <td>5</td>\n",
              "      <td>Rosie, Dakota, and I LOVE Chaparral Dog Park!!...</td>\n",
              "      <td>review</td>\n",
              "      <td>2</td>\n",
              "      <td>0</td>\n",
              "      <td>0</td>\n",
              "      <td>0</td>\n",
              "      <td>0</td>\n",
              "      <td>0</td>\n",
              "      <td>1</td>\n",
              "      <td>0</td>\n",
              "      <td>0</td>\n",
              "      <td>0</td>\n",
              "      <td>0</td>\n",
              "      <td>0</td>\n",
              "      <td>0</td>\n",
              "      <td>0</td>\n",
              "      <td>0</td>\n",
              "      <td>0</td>\n",
              "      <td>0</td>\n",
              "      <td>0</td>\n",
              "      <td>0</td>\n",
              "      <td>0</td>\n",
              "      <td>0</td>\n",
              "      <td>0</td>\n",
              "      <td>0</td>\n",
              "      <td>0</td>\n",
              "      <td>0</td>\n",
              "      <td>0</td>\n",
              "      <td>0</td>\n",
              "      <td>0</td>\n",
              "    </tr>\n",
              "    <tr>\n",
              "      <th>4</th>\n",
              "      <td>2012-01-05</td>\n",
              "      <td>5</td>\n",
              "      <td>General Manager Scott Petello is a good egg!!!...</td>\n",
              "      <td>review</td>\n",
              "      <td>0</td>\n",
              "      <td>0</td>\n",
              "      <td>0</td>\n",
              "      <td>0</td>\n",
              "      <td>0</td>\n",
              "      <td>0</td>\n",
              "      <td>0</td>\n",
              "      <td>0</td>\n",
              "      <td>0</td>\n",
              "      <td>0</td>\n",
              "      <td>0</td>\n",
              "      <td>0</td>\n",
              "      <td>0</td>\n",
              "      <td>0</td>\n",
              "      <td>0</td>\n",
              "      <td>0</td>\n",
              "      <td>0</td>\n",
              "      <td>0</td>\n",
              "      <td>0</td>\n",
              "      <td>0</td>\n",
              "      <td>0</td>\n",
              "      <td>0</td>\n",
              "      <td>0</td>\n",
              "      <td>0</td>\n",
              "      <td>0</td>\n",
              "      <td>0</td>\n",
              "      <td>0</td>\n",
              "      <td>0</td>\n",
              "    </tr>\n",
              "  </tbody>\n",
              "</table>\n",
              "</div>"
            ],
            "text/plain": [
              "         date  stars  ... 'd lunch\n",
              "0  2011-01-26      5  ...  0     0\n",
              "1  2011-07-27      5  ...  0     0\n",
              "2  2012-06-14      4  ...  0     0\n",
              "3  2010-05-27      5  ...  0     0\n",
              "4  2012-01-05      5  ...  0     0\n",
              "\n",
              "[5 rows x 32 columns]"
            ]
          },
          "metadata": {
            "tags": []
          },
          "execution_count": 1
        }
      ]
    },
    {
      "cell_type": "code",
      "metadata": {
        "colab": {
          "base_uri": "https://localhost:8080/"
        },
        "id": "FcH5rEjUB_nh",
        "outputId": "593cbb51-301d-4fed-b091-1faaebf53c21"
      },
      "source": [
        "df_restaurants.isna().sum().sum()"
      ],
      "execution_count": null,
      "outputs": [
        {
          "output_type": "execute_result",
          "data": {
            "text/plain": [
              "0"
            ]
          },
          "metadata": {
            "tags": []
          },
          "execution_count": 3
        }
      ]
    },
    {
      "cell_type": "markdown",
      "metadata": {
        "id": "6fnDC8stqKeu"
      },
      "source": [
        "## Colonne \"useful\"\n",
        "\n",
        "Trace un histogramme et un boxplot afin de représenter la distribution de cette variable.\n",
        "\n",
        "Les données sont-elles bien réparties ?"
      ]
    },
    {
      "cell_type": "code",
      "metadata": {
        "colab": {
          "base_uri": "https://localhost:8080/"
        },
        "id": "qa3qnmF0DGFh",
        "outputId": "29d41d93-7109-4e97-a2be-418994ec627b"
      },
      "source": [
        "df_restaurants.shape"
      ],
      "execution_count": null,
      "outputs": [
        {
          "output_type": "execute_result",
          "data": {
            "text/plain": [
              "(10000, 32)"
            ]
          },
          "metadata": {
            "tags": []
          },
          "execution_count": 15
        }
      ]
    },
    {
      "cell_type": "code",
      "metadata": {
        "colab": {
          "base_uri": "https://localhost:8080/"
        },
        "id": "A3kM4TbjCzdZ",
        "outputId": "0e0afd23-2031-4cbd-d24e-d7263153b010"
      },
      "source": [
        "df_restaurants['useful'].value_counts()[:10]"
      ],
      "execution_count": null,
      "outputs": [
        {
          "output_type": "execute_result",
          "data": {
            "text/plain": [
              "0    4130\n",
              "1    2848\n",
              "2    1323\n",
              "3     711\n",
              "4     335\n",
              "5     222\n",
              "6     114\n",
              "7      91\n",
              "8      52\n",
              "9      38\n",
              "Name: useful, dtype: int64"
            ]
          },
          "metadata": {
            "tags": []
          },
          "execution_count": 14
        }
      ]
    },
    {
      "cell_type": "code",
      "metadata": {
        "id": "KuqAqVQf73Z7",
        "colab": {
          "base_uri": "https://localhost:8080/",
          "height": 283
        },
        "outputId": "6e13270d-b11e-48ea-a9cd-bfe33d7598e6"
      },
      "source": [
        "df_restaurants['useful'].hist(bins=200)"
      ],
      "execution_count": null,
      "outputs": [
        {
          "output_type": "execute_result",
          "data": {
            "text/plain": [
              "<matplotlib.axes._subplots.AxesSubplot at 0x7f4afd353cf8>"
            ]
          },
          "metadata": {
            "tags": []
          },
          "execution_count": 17
        },
        {
          "output_type": "display_data",
          "data": {
            "image/png": "[encoded data removed]",
            "text/plain": [
              "<Figure size 432x288 with 1 Axes>"
            ]
          },
          "metadata": {
            "tags": [],
            "needs_background": "light"
          }
        }
      ]
    },
    {
      "cell_type": "code",
      "metadata": {
        "colab": {
          "base_uri": "https://localhost:8080/",
          "height": 283
        },
        "id": "qdW9aZpFCUwv",
        "outputId": "a0bd5652-edac-4eb8-cacf-5456f5c2e937"
      },
      "source": [
        "df_restaurants.boxplot('useful')"
      ],
      "execution_count": null,
      "outputs": [
        {
          "output_type": "execute_result",
          "data": {
            "text/plain": [
              "<matplotlib.axes._subplots.AxesSubplot at 0x7f4afd50d860>"
            ]
          },
          "metadata": {
            "tags": []
          },
          "execution_count": 12
        },
        {
          "output_type": "display_data",
          "data": {
            "image/png": "[encoded data removed]",
            "text/plain": [
              "<Figure size 432x288 with 1 Axes>"
            ]
          },
          "metadata": {
            "tags": [],
            "needs_background": "light"
          }
        }
      ]
    },
    {
      "cell_type": "code",
      "metadata": {
        "id": "7hd9NopSDXXA"
      },
      "source": [
        "#about half the ratings have at least 1 mark, the one's with many marks are shown as outliers"
      ],
      "execution_count": null,
      "outputs": []
    },
    {
      "cell_type": "markdown",
      "metadata": {
        "id": "Ia1bZEq2tZ-l"
      },
      "source": [
        "## Colonne \"text\"\n",
        "\n",
        "Utilise **apply** pour créer une nouvelle colonne \"len_text\", indiquant la longueur (le nombre de caractères) de chacun des commentaires.\n",
        "\n",
        "Trace un histogramme et un boxplot afin de représenter la distribution de cette colonne \"len_text\". Les valeurs sont-elles bien réparties ? La plupart des commentaires sont-ils plutôt longs ou courts ?"
      ]
    },
    {
      "cell_type": "code",
      "metadata": {
        "id": "glo9yOX-D3em"
      },
      "source": [
        "df_restaurants[\"len_text\"] = df_restaurants['text'].apply(len)"
      ],
      "execution_count": null,
      "outputs": []
    },
    {
      "cell_type": "code",
      "metadata": {
        "id": "uVHsPQYw77sE",
        "colab": {
          "base_uri": "https://localhost:8080/",
          "height": 283
        },
        "outputId": "73834b63-b9c8-4fc4-9f69-7073999b46e0"
      },
      "source": [
        "df_restaurants[\"len_text\"].hist()"
      ],
      "execution_count": null,
      "outputs": [
        {
          "output_type": "execute_result",
          "data": {
            "text/plain": [
              "<matplotlib.axes._subplots.AxesSubplot at 0x7f4afcfdf748>"
            ]
          },
          "metadata": {
            "tags": []
          },
          "execution_count": 29
        },
        {
          "output_type": "display_data",
          "data": {
            "image/png": "[encoded data removed]",
            "text/plain": [
              "<Figure size 432x288 with 1 Axes>"
            ]
          },
          "metadata": {
            "tags": [],
            "needs_background": "light"
          }
        }
      ]
    },
    {
      "cell_type": "code",
      "metadata": {
        "colab": {
          "base_uri": "https://localhost:8080/",
          "height": 284
        },
        "id": "Dbx4Jzt-EneL",
        "outputId": "59473025-fabd-404a-e280-7f69b80ab39a"
      },
      "source": [
        "df_restaurants.boxplot('len_text')"
      ],
      "execution_count": null,
      "outputs": [
        {
          "output_type": "execute_result",
          "data": {
            "text/plain": [
              "<matplotlib.axes._subplots.AxesSubplot at 0x7f4afcf1a9b0>"
            ]
          },
          "metadata": {
            "tags": []
          },
          "execution_count": 30
        },
        {
          "output_type": "display_data",
          "data": {
            "image/png": "[encoded data removed]",
            "text/plain": [
              "<Figure size 432x288 with 1 Axes>"
            ]
          },
          "metadata": {
            "tags": [],
            "needs_background": "light"
          }
        }
      ]
    },
    {
      "cell_type": "code",
      "metadata": {
        "id": "sPi8uDwFExK7"
      },
      "source": [
        "#distribution is skewed right with many reviews being short"
      ],
      "execution_count": null,
      "outputs": []
    },
    {
      "cell_type": "markdown",
      "metadata": {
        "id": "IzAOS0T0ul4I"
      },
      "source": [
        "## Colonne \"stars\"\n",
        "\n",
        "- Trace un scatterplot pour comparer la colonne \"useful\" et la colonne \"stars\". Te semble-t-il y avoir une corrélation ? \n",
        "\n",
        "- Idem entre \"len_text\" et \"stars\".\n",
        "\n",
        "- Trace une heatmap de corrélation pour l'ensemble du DataFrame. Pense à prendre une échelle de couleur divergente centrée sur 0. Y a-t-il des fortes corrélations dans ce dataset ?\n",
        "\n"
      ]
    },
    {
      "cell_type": "code",
      "metadata": {
        "id": "FQgQSgyJ8AVS",
        "colab": {
          "base_uri": "https://localhost:8080/",
          "height": 298
        },
        "outputId": "0d6bc40b-9aa9-4f96-d939-c6d110bc0000"
      },
      "source": [
        "df_restaurants.plot.scatter('useful', 'stars')"
      ],
      "execution_count": null,
      "outputs": [
        {
          "output_type": "execute_result",
          "data": {
            "text/plain": [
              "<matplotlib.axes._subplots.AxesSubplot at 0x7f4b0604ee80>"
            ]
          },
          "metadata": {
            "tags": []
          },
          "execution_count": 33
        },
        {
          "output_type": "display_data",
          "data": {
            "image/png": "[encoded data removed]",
            "text/plain": [
              "<Figure size 432x288 with 1 Axes>"
            ]
          },
          "metadata": {
            "tags": [],
            "needs_background": "light"
          }
        }
      ]
    },
    {
      "cell_type": "code",
      "metadata": {
        "colab": {
          "base_uri": "https://localhost:8080/",
          "height": 299
        },
        "id": "YxKJ9F6cGWFA",
        "outputId": "532ddcb1-3c68-4f3d-ecb4-4dd26cf93c31"
      },
      "source": [
        "df_restaurants.plot.scatter('len_text', 'stars')"
      ],
      "execution_count": null,
      "outputs": [
        {
          "output_type": "execute_result",
          "data": {
            "text/plain": [
              "<matplotlib.axes._subplots.AxesSubplot at 0x7f4afd22cdd8>"
            ]
          },
          "metadata": {
            "tags": []
          },
          "execution_count": 34
        },
        {
          "output_type": "display_data",
          "data": {
            "image/png": "[encoded data removed]",
            "text/plain": [
              "<Figure size 432x288 with 1 Axes>"
            ]
          },
          "metadata": {
            "tags": [],
            "needs_background": "light"
          }
        }
      ]
    },
    {
      "cell_type": "code",
      "metadata": {
        "id": "F6GssUCSGmPg"
      },
      "source": [
        "#I don't see any strong correlations"
      ],
      "execution_count": null,
      "outputs": []
    },
    {
      "cell_type": "code",
      "metadata": {
        "colab": {
          "base_uri": "https://localhost:8080/",
          "height": 330
        },
        "id": "WWQBy_PfGqJB",
        "outputId": "7a5bce4e-126e-4f18-b933-1c3bb09f1d52"
      },
      "source": [
        "sns.heatmap(df_restaurants.corr(),center=0, cmap='coolwarm')"
      ],
      "execution_count": null,
      "outputs": [
        {
          "output_type": "display_data",
          "data": {
            "application/javascript": [
              "\n",
              "        if (window._pyforest_update_imports_cell) { window._pyforest_update_imports_cell('import sys\\nimport seaborn as sns\\nimport spacy\\nimport re\\nimport sklearn\\nimport statistics\\nfrom sklearn import svm'); }\n",
              "    "
            ],
            "text/plain": [
              "<IPython.core.display.Javascript object>"
            ]
          },
          "metadata": {
            "tags": []
          }
        },
        {
          "output_type": "execute_result",
          "data": {
            "text/plain": [
              "<matplotlib.axes._subplots.AxesSubplot at 0x7f4ae1acde80>"
            ]
          },
          "metadata": {
            "tags": []
          },
          "execution_count": 39
        },
        {
          "output_type": "display_data",
          "data": {
            "image/png": "[encoded data removed]",
            "text/plain": [
              "<Figure size 432x288 with 2 Axes>"
            ]
          },
          "metadata": {
            "tags": [],
            "needs_background": "light"
          }
        }
      ]
    },
    {
      "cell_type": "markdown",
      "metadata": {
        "id": "43UYHuItwGlh"
      },
      "source": [
        "## Target\n",
        "\n",
        "Crée une colonne \"bad_good\" qui contiendra :\n",
        "- \"bad\" si la note (stars) vaut 1, 2 ou 3 \n",
        "- \"good\" si la note (stars) vaut 4 ou 5\n",
        "\n",
        "Cette nouvelle colonne sera notre \"target\"."
      ]
    },
    {
      "cell_type": "code",
      "metadata": {
        "id": "799NR6RV8Bxv",
        "colab": {
          "base_uri": "https://localhost:8080/"
        },
        "outputId": "6de01c4c-1fae-445a-af89-1edb3909bf02"
      },
      "source": [
        "map = {1:'bad', 2:'bad', 3:'bad', 4:'good', 5:'good'}\r\n",
        "\r\n",
        "df_restaurants['target'] = df_restaurants['stars'].map(map)\r\n",
        "df_restaurants['target']"
      ],
      "execution_count": null,
      "outputs": [
        {
          "output_type": "execute_result",
          "data": {
            "text/plain": [
              "0       good\n",
              "1       good\n",
              "2       good\n",
              "3       good\n",
              "4       good\n",
              "        ... \n",
              "9995     bad\n",
              "9996    good\n",
              "9997    good\n",
              "9998     bad\n",
              "9999    good\n",
              "Name: target, Length: 10000, dtype: object"
            ]
          },
          "metadata": {
            "tags": []
          },
          "execution_count": 46
        }
      ]
    },
    {
      "cell_type": "markdown",
      "metadata": {
        "id": "c5Gc_76HwwL-"
      },
      "source": [
        "# Partie 2 : Machine learning (classification supervisée) - environ 1h\n",
        "\n",
        "Commence par définir X et y.\n",
        "- X contiendra toutes les colonnes numériques **SAUF \"stars\" !** (soit 29 colonnes)\n",
        "- y sera la colonne \"bad_good\"\n"
      ]
    },
    {
      "cell_type": "code",
      "metadata": {
        "id": "iNpNwOf-8JYb",
        "colab": {
          "base_uri": "https://localhost:8080/"
        },
        "outputId": "bf605941-9743-44da-e021-cc1f13dc1366"
      },
      "source": [
        "df_restaurants.columns"
      ],
      "execution_count": null,
      "outputs": [
        {
          "output_type": "execute_result",
          "data": {
            "text/plain": [
              "Index(['date', 'stars', 'text', 'type', 'useful', 'came', 'made', 'happy',\n",
              "       'definitely', 'another', 'love', 'give', 'new', 'asked', 'bad', 'still',\n",
              "       'sauce', 'table', 'every', 'around', 'amazing', 'minutes', ''ll',\n",
              "       'friendly', 'day', 'delicious', 'fresh', 'something', 'said', 'ok',\n",
              "       ''d', 'lunch', 'len_text', 'target'],\n",
              "      dtype='object')"
            ]
          },
          "metadata": {
            "tags": []
          },
          "execution_count": 55
        }
      ]
    },
    {
      "cell_type": "code",
      "metadata": {
        "colab": {
          "base_uri": "https://localhost:8080/"
        },
        "id": "lvkPcfDxJhUB",
        "outputId": "b9662abd-c05a-4642-a3a4-e821b029405c"
      },
      "source": [
        "X = df_restaurants.select_dtypes('int64').drop('stars', axis=1)\r\n",
        "print(X.shape)\r\n",
        "\r\n",
        "y = df_restaurants['target']\r\n",
        "print(y.shape)"
      ],
      "execution_count": null,
      "outputs": [
        {
          "output_type": "stream",
          "text": [
            "(10000, 29)\n",
            "(10000,)\n"
          ],
          "name": "stdout"
        }
      ]
    },
    {
      "cell_type": "markdown",
      "metadata": {
        "id": "MkbWr8FsynES"
      },
      "source": [
        "## Mise à l'échelle\n",
        "\n",
        "Standardise toutes les données, et enregistre le résultat dans \"X_scaled\"."
      ]
    },
    {
      "cell_type": "code",
      "metadata": {
        "colab": {
          "base_uri": "https://localhost:8080/",
          "height": 17
        },
        "id": "Wl5ZISg3K6PF",
        "outputId": "6d803967-7647-4677-9bbd-af44f21c161e"
      },
      "source": [
        "scaler = sklearn.preprocessing.StandardScaler()"
      ],
      "execution_count": null,
      "outputs": [
        {
          "output_type": "display_data",
          "data": {
            "application/javascript": [
              "\n",
              "        if (window._pyforest_update_imports_cell) { window._pyforest_update_imports_cell('import sys\\nimport seaborn as sns\\nimport bokeh\\nimport spacy\\nimport re\\nimport matplotlib.pyplot as plt\\nimport sklearn\\nimport plotly as py\\nimport pandas as pd\\nimport altair as alt\\nimport statistics\\nimport tqdm\\nimport tensorflow as tf\\nfrom sklearn.model_selection import train_test_split\\nfrom sklearn import svm\\nimport pydot\\nimport pickle\\nimport plotly.express as px\\nimport matplotlib as mpl'); }\n",
              "    "
            ],
            "text/plain": [
              "<IPython.core.display.Javascript object>"
            ]
          },
          "metadata": {
            "tags": []
          }
        }
      ]
    },
    {
      "cell_type": "code",
      "metadata": {
        "id": "0OPtzP6l8LeD"
      },
      "source": [
        "X_scaled = scaler.fit_transform(X)"
      ],
      "execution_count": null,
      "outputs": []
    },
    {
      "cell_type": "markdown",
      "metadata": {
        "id": "RVL0s-zazSIr"
      },
      "source": [
        "## Train test split\n",
        "\n",
        "Effectue un train test split sur `X_scaled` et `y` avec `random_state = 32`"
      ]
    },
    {
      "cell_type": "code",
      "metadata": {
        "id": "nLsGUIOs8NXU",
        "colab": {
          "base_uri": "https://localhost:8080/",
          "height": 17
        },
        "outputId": "9515a3d3-767a-4854-c04d-d181a19e5797"
      },
      "source": [
        "X_train, X_test, y_train, y_test = train_test_split(X_scaled, y, test_size=0.33, random_state=32)"
      ],
      "execution_count": null,
      "outputs": [
        {
          "output_type": "display_data",
          "data": {
            "application/javascript": [
              "\n",
              "        if (window._pyforest_update_imports_cell) { window._pyforest_update_imports_cell('import sys\\nimport seaborn as sns\\nimport bokeh\\nimport spacy\\nimport re\\nimport matplotlib.pyplot as plt\\nimport sklearn\\nimport plotly as py\\nimport pandas as pd\\nimport altair as alt\\nimport statistics\\nimport tqdm\\nimport tensorflow as tf\\nfrom sklearn.model_selection import train_test_split\\nfrom sklearn import svm\\nimport pydot\\nimport pickle\\nimport plotly.express as px\\nimport matplotlib as mpl'); }\n",
              "    "
            ],
            "text/plain": [
              "<IPython.core.display.Javascript object>"
            ]
          },
          "metadata": {
            "tags": []
          }
        }
      ]
    },
    {
      "cell_type": "markdown",
      "metadata": {
        "id": "BU4_ahJPz0A7"
      },
      "source": [
        "## Régression logistique\n",
        "\n",
        "Entraine une régression logistique sur ton jeu d'entrainement, puis compare les accuracy scores des jeux d'entrainement et de test. Y a-t-il de l'overfitting ? Les scores sont-ils bons ?\n",
        "\n",
        "Affiche également une matrice de confusion pour le jeu de test. Combien y a-t-il de commentaires \"bad\" correctement prédits ?"
      ]
    },
    {
      "cell_type": "code",
      "metadata": {
        "id": "sRHXghGX8PJ_"
      },
      "source": [
        "from sklearn.linear_model import LogisticRegression\r\n",
        "from sklearn.metrics import confusion_matrix, plot_confusion_matrix, classification_report"
      ],
      "execution_count": null,
      "outputs": []
    },
    {
      "cell_type": "code",
      "metadata": {
        "colab": {
          "base_uri": "https://localhost:8080/",
          "height": 497
        },
        "id": "pjahpJ5CL2wY",
        "outputId": "87b6b7bd-ddc0-435f-c7b9-f458ab7ca6fa"
      },
      "source": [
        "LM = LogisticRegression()\r\n",
        "\r\n",
        "model = LM.fit(X_train, y_train)\r\n",
        "y_pred = model.predict(X_test)\r\n",
        "\r\n",
        "print(\"train data:\",model.score(X_train, y_train))\r\n",
        "print(\"test data:\",model.score(X_test, y_test))\r\n",
        "\r\n",
        "cm = confusion_matrix(y_test, y_pred)\r\n",
        "\r\n",
        "ax= plt.subplot()\r\n",
        "sns.heatmap(cm, annot=True, ax = ax, fmt='d', cbar=False) #annot=True to annotate cells\r\n",
        "\r\n",
        "# labels, title and ticks\r\n",
        "ax.set_xlabel('Predicted labels');ax.set_ylabel('True labels'); \r\n",
        "ax.set_title('Confusion Matrix'); \r\n",
        "ax.xaxis.set_ticklabels(['Bad', 'Good']); ax.yaxis.set_ticklabels(['Bad', 'Good'])\r\n",
        "\r\n",
        "print(classification_report(y_test, y_pred))"
      ],
      "execution_count": null,
      "outputs": [
        {
          "output_type": "stream",
          "text": [
            "train data: 0.7270149253731343\n",
            "test data: 0.7403030303030304\n"
          ],
          "name": "stdout"
        },
        {
          "output_type": "display_data",
          "data": {
            "application/javascript": [
              "\n",
              "        if (window._pyforest_update_imports_cell) { window._pyforest_update_imports_cell('import sys\\nimport seaborn as sns\\nimport bokeh\\nimport spacy\\nimport re\\nimport matplotlib.pyplot as plt\\nimport sklearn\\nimport plotly as py\\nimport pandas as pd\\nimport altair as alt\\nimport statistics\\nimport tqdm\\nimport tensorflow as tf\\nfrom sklearn.model_selection import train_test_split\\nfrom sklearn import svm\\nimport pydot\\nimport pickle\\nimport plotly.express as px\\nimport matplotlib as mpl'); }\n",
              "    "
            ],
            "text/plain": [
              "<IPython.core.display.Javascript object>"
            ]
          },
          "metadata": {
            "tags": []
          }
        },
        {
          "output_type": "display_data",
          "data": {
            "application/javascript": [
              "\n",
              "        if (window._pyforest_update_imports_cell) { window._pyforest_update_imports_cell('import sys\\nimport seaborn as sns\\nimport bokeh\\nimport spacy\\nimport re\\nimport matplotlib.pyplot as plt\\nimport sklearn\\nimport plotly as py\\nimport pandas as pd\\nimport altair as alt\\nimport statistics\\nimport tqdm\\nimport tensorflow as tf\\nfrom sklearn.model_selection import train_test_split\\nfrom sklearn import svm\\nimport pydot\\nimport pickle\\nimport plotly.express as px\\nimport matplotlib as mpl'); }\n",
              "    "
            ],
            "text/plain": [
              "<IPython.core.display.Javascript object>"
            ]
          },
          "metadata": {
            "tags": []
          }
        },
        {
          "output_type": "stream",
          "text": [
            "              precision    recall  f1-score   support\n",
            "\n",
            "         bad       0.66      0.29      0.40       998\n",
            "        good       0.75      0.94      0.83      2302\n",
            "\n",
            "    accuracy                           0.74      3300\n",
            "   macro avg       0.71      0.61      0.62      3300\n",
            "weighted avg       0.72      0.74      0.70      3300\n",
            "\n"
          ],
          "name": "stdout"
        },
        {
          "output_type": "display_data",
          "data": {
            "image/png": "[encoded data removed]",
            "text/plain": [
              "<Figure size 432x288 with 1 Axes>"
            ]
          },
          "metadata": {
            "tags": [],
            "needs_background": "light"
          }
        }
      ]
    },
    {
      "cell_type": "code",
      "metadata": {
        "colab": {
          "base_uri": "https://localhost:8080/"
        },
        "id": "PaA1cEVGL2mE",
        "outputId": "ba623d36-519a-4fef-c983-591a55efcedc"
      },
      "source": [
        "y_test.value_counts()"
      ],
      "execution_count": null,
      "outputs": [
        {
          "output_type": "execute_result",
          "data": {
            "text/plain": [
              "good    2302\n",
              "bad      998\n",
              "Name: target, dtype: int64"
            ]
          },
          "metadata": {
            "tags": []
          },
          "execution_count": 72
        }
      ]
    },
    {
      "cell_type": "code",
      "metadata": {
        "id": "sLSoWvp3NBBl"
      },
      "source": [
        "\r\n",
        "# scores aren't amazing, but does not appear to overfit\r\n",
        "#'bad' is correctly predicted 289 times"
      ],
      "execution_count": null,
      "outputs": []
    },
    {
      "cell_type": "markdown",
      "metadata": {
        "id": "dquYWRjG0mCP"
      },
      "source": [
        "## Decision tree\n",
        "\n",
        "Entraine un arbre de décision sur ton jeu d'entrainement, puis compare les accuracy scores des jeux d'entrainement et de test. Y a-t-il de l'overfitting ? Les scores sont-ils bons ?\n",
        "\n",
        "Affiche également une matrice de confusion pour le jeu de test. Combien y a-t-il de commentaires \"bad\" correctement prédits ?"
      ]
    },
    {
      "cell_type": "code",
      "metadata": {
        "colab": {
          "base_uri": "https://localhost:8080/"
        },
        "id": "AXP4UrY5OxxR",
        "outputId": "0d7e3616-d7a2-4d38-800f-0419b248dc56"
      },
      "source": [
        "from sklearn.tree import DecisionTreeClassifier\r\n",
        "modelDTC = DecisionTreeClassifier()\r\n",
        "modelDTC.fit(X_train, y_train)"
      ],
      "execution_count": null,
      "outputs": [
        {
          "output_type": "execute_result",
          "data": {
            "text/plain": [
              "DecisionTreeClassifier(ccp_alpha=0.0, class_weight=None, criterion='gini',\n",
              "                       max_depth=None, max_features=None, max_leaf_nodes=None,\n",
              "                       min_impurity_decrease=0.0, min_impurity_split=None,\n",
              "                       min_samples_leaf=1, min_samples_split=2,\n",
              "                       min_weight_fraction_leaf=0.0, presort='deprecated',\n",
              "                       random_state=None, splitter='best')"
            ]
          },
          "metadata": {
            "tags": []
          },
          "execution_count": 76
        }
      ]
    },
    {
      "cell_type": "code",
      "metadata": {
        "id": "KQFA3S4C8Qsa",
        "colab": {
          "base_uri": "https://localhost:8080/",
          "height": 497
        },
        "outputId": "179bc7dc-e250-45dc-962a-bb270d38dece"
      },
      "source": [
        "\r\n",
        "print(\"train data:\",modelDTC.score(X_train, y_train))\r\n",
        "print(\"test data:\",modelDTC.score(X_test, y_test))\r\n",
        "y_pred = modelDTC.predict(X_test)\r\n",
        "cm = confusion_matrix(y_test, y_pred)\r\n",
        "\r\n",
        "ax= plt.subplot()\r\n",
        "sns.heatmap(cm, annot=True, ax = ax, fmt='d', cbar=False) #annot=True to annotate cells\r\n",
        "\r\n",
        "# labels, title and ticks\r\n",
        "ax.set_xlabel('Predicted labels');ax.set_ylabel('True labels'); \r\n",
        "ax.set_title('Confusion Matrix'); \r\n",
        "ax.xaxis.set_ticklabels(['Bad', 'Good']); ax.yaxis.set_ticklabels(['Bad', 'Good'])\r\n",
        "\r\n",
        "print(classification_report(y_test, y_pred))"
      ],
      "execution_count": null,
      "outputs": [
        {
          "output_type": "stream",
          "text": [
            "train data: 0.9795522388059702\n",
            "test data: 0.6287878787878788\n"
          ],
          "name": "stdout"
        },
        {
          "output_type": "display_data",
          "data": {
            "application/javascript": [
              "\n",
              "        if (window._pyforest_update_imports_cell) { window._pyforest_update_imports_cell('import sys\\nimport seaborn as sns\\nimport bokeh\\nimport spacy\\nimport re\\nimport matplotlib.pyplot as plt\\nimport sklearn\\nimport plotly as py\\nimport pandas as pd\\nimport altair as alt\\nimport statistics\\nimport tqdm\\nimport tensorflow as tf\\nfrom sklearn.model_selection import train_test_split\\nfrom sklearn import svm\\nimport pydot\\nimport pickle\\nimport plotly.express as px\\nimport matplotlib as mpl'); }\n",
              "    "
            ],
            "text/plain": [
              "<IPython.core.display.Javascript object>"
            ]
          },
          "metadata": {
            "tags": []
          }
        },
        {
          "output_type": "display_data",
          "data": {
            "application/javascript": [
              "\n",
              "        if (window._pyforest_update_imports_cell) { window._pyforest_update_imports_cell('import sys\\nimport seaborn as sns\\nimport bokeh\\nimport spacy\\nimport re\\nimport matplotlib.pyplot as plt\\nimport sklearn\\nimport plotly as py\\nimport pandas as pd\\nimport altair as alt\\nimport statistics\\nimport tqdm\\nimport tensorflow as tf\\nfrom sklearn.model_selection import train_test_split\\nfrom sklearn import svm\\nimport pydot\\nimport pickle\\nimport plotly.express as px\\nimport matplotlib as mpl'); }\n",
              "    "
            ],
            "text/plain": [
              "<IPython.core.display.Javascript object>"
            ]
          },
          "metadata": {
            "tags": []
          }
        },
        {
          "output_type": "stream",
          "text": [
            "              precision    recall  f1-score   support\n",
            "\n",
            "         bad       0.40      0.45      0.42       998\n",
            "        good       0.75      0.71      0.73      2302\n",
            "\n",
            "    accuracy                           0.63      3300\n",
            "   macro avg       0.57      0.58      0.58      3300\n",
            "weighted avg       0.64      0.63      0.63      3300\n",
            "\n"
          ],
          "name": "stdout"
        },
        {
          "output_type": "display_data",
          "data": {
            "image/png": "[encoded data removed]",
            "text/plain": [
              "<Figure size 432x288 with 1 Axes>"
            ]
          },
          "metadata": {
            "tags": [],
            "needs_background": "light"
          }
        }
      ]
    },
    {
      "cell_type": "code",
      "metadata": {
        "id": "qnvHBr3-PyU3"
      },
      "source": [
        "#model is overfitting\r\n",
        "#451 bad predicted correctly"
      ],
      "execution_count": null,
      "outputs": []
    },
    {
      "cell_type": "markdown",
      "metadata": {
        "id": "03Ahf3Q11Azp"
      },
      "source": [
        "## Decision tree - hyperparamètres\n",
        "\n",
        "Change les paramètres du modèle pour réduire l'overfitting. Arrives-tu à un meilleur score qu'avec la régression logistique ?"
      ]
    },
    {
      "cell_type": "code",
      "metadata": {
        "id": "bsiwStvR8R9d"
      },
      "source": [
        "from sklearn.model_selection import GridSearchCV"
      ],
      "execution_count": null,
      "outputs": []
    },
    {
      "cell_type": "code",
      "metadata": {
        "id": "iSMLkhlCQNLL"
      },
      "source": [
        "DTF = DecisionTreeClassifier()\r\n",
        "\r\n",
        "params = {\r\n",
        "          # 'ccp_alpha':, \r\n",
        "          # 'class_weight':, \r\n",
        "          'criterion': ['gini', 'entropy'],\r\n",
        "          'max_depth': [2, 3, 5, 10], \r\n",
        "          # 'max_features':, \r\n",
        "          'max_leaf_nodes': [None, 10, 20, 50],    \r\n",
        "          # 'min_impurity_decrease':, \r\n",
        "          # 'min_impurity_split':,\r\n",
        "          'min_samples_leaf':[1, 3, 5, 10] \r\n",
        "          # 'min_samples_split':,\r\n",
        "          # 'min_weight_fraction_leaf':, \r\n",
        "          # 'random_state':,\r\n",
        "          # 'splitter':\r\n",
        "          }"
      ],
      "execution_count": null,
      "outputs": []
    },
    {
      "cell_type": "code",
      "metadata": {
        "id": "d_7Jlp7JR6gz"
      },
      "source": [
        "# cv, so just passing x and y"
      ],
      "execution_count": null,
      "outputs": []
    },
    {
      "cell_type": "code",
      "metadata": {
        "colab": {
          "base_uri": "https://localhost:8080/"
        },
        "id": "UCmh5GPiQXyX",
        "outputId": "a9ba20ee-87df-4dab-8203-9a63c01bb94e"
      },
      "source": [
        "clf = GridSearchCV(param_grid=params, estimator=DTF)\r\n",
        "clf.fit(X_scaled, y)"
      ],
      "execution_count": null,
      "outputs": [
        {
          "output_type": "execute_result",
          "data": {
            "text/plain": [
              "GridSearchCV(cv=None, error_score=nan,\n",
              "             estimator=DecisionTreeClassifier(ccp_alpha=0.0, class_weight=None,\n",
              "                                              criterion='gini', max_depth=None,\n",
              "                                              max_features=None,\n",
              "                                              max_leaf_nodes=None,\n",
              "                                              min_impurity_decrease=0.0,\n",
              "                                              min_impurity_split=None,\n",
              "                                              min_samples_leaf=1,\n",
              "                                              min_samples_split=2,\n",
              "                                              min_weight_fraction_leaf=0.0,\n",
              "                                              presort='deprecated',\n",
              "                                              random_state=None,\n",
              "                                              splitter='best'),\n",
              "             iid='deprecated', n_jobs=None,\n",
              "             param_grid={'criterion': ['gini', 'entropy'],\n",
              "                         'max_depth': [2, 3, 5, 10],\n",
              "                         'max_leaf_nodes': [None, 10, 20, 50],\n",
              "                         'min_samples_leaf': [1, 3, 5, 10]},\n",
              "             pre_dispatch='2*n_jobs', refit=True, return_train_score=False,\n",
              "             scoring=None, verbose=0)"
            ]
          },
          "metadata": {
            "tags": []
          },
          "execution_count": 83
        }
      ]
    },
    {
      "cell_type": "code",
      "metadata": {
        "colab": {
          "base_uri": "https://localhost:8080/"
        },
        "id": "YBzn3q_-QXgw",
        "outputId": "a60d0d09-4603-4e2e-8e81-7f5e21e735c2"
      },
      "source": [
        "print(clf.best_score_)\r\n",
        "print(clf.best_params_)"
      ],
      "execution_count": null,
      "outputs": [
        {
          "output_type": "stream",
          "text": [
            "0.7192000000000001\n",
            "{'criterion': 'entropy', 'max_depth': 10, 'max_leaf_nodes': 50, 'min_samples_leaf': 10}\n"
          ],
          "name": "stdout"
        }
      ]
    },
    {
      "cell_type": "code",
      "metadata": {
        "id": "55kaYC5yRufy"
      },
      "source": [
        "#about the same as logistic regression"
      ],
      "execution_count": null,
      "outputs": []
    },
    {
      "cell_type": "markdown",
      "metadata": {
        "id": "rzB5p9UH1ZQQ"
      },
      "source": [
        "## Question bonus (optionnelle)\n",
        "\n",
        "Utilise gridsearch pour trouver les meilleurs paramètres"
      ]
    },
    {
      "cell_type": "code",
      "metadata": {
        "id": "sGeVAQLy1kKz"
      },
      "source": [
        "#already done"
      ],
      "execution_count": null,
      "outputs": []
    },
    {
      "cell_type": "markdown",
      "metadata": {
        "id": "0lWedZ1J1P3X"
      },
      "source": [
        "# Partie 3 : NLP - Sentiment analysis - environ 1h\n",
        "\n",
        "Définis une nouvelle variable `X_text` qui ne contiendra que la colonne `text`. y reste identique. \n"
      ]
    },
    {
      "cell_type": "code",
      "metadata": {
        "id": "wmx2DwHh8WB-"
      },
      "source": [
        "df_restaurants['X_text'] = df_restaurants['text']"
      ],
      "execution_count": null,
      "outputs": []
    },
    {
      "cell_type": "markdown",
      "metadata": {
        "id": "P-ct-xnDX82s"
      },
      "source": [
        "## Crée une fonction de nettoyage des stopwords et de la ponctuation\n",
        "\n",
        "Tu peux appeler ta fonction `func_clean`.\n",
        "Ta fonction doit prendre un `str` en unique paramètre, et retourner un `str`.\n",
        "\n",
        "Par exemple :\n",
        "\n",
        "`func_clean(\"Hello, how are you?\")`\n",
        "\n",
        "`>>> 'hello fine thank'`"
      ]
    },
    {
      "cell_type": "code",
      "metadata": {
        "id": "wBxbaNRK8YsQ"
      },
      "source": [
        "import string\r\n",
        "import nltk\r\n",
        "nltk.download('popular')"
      ],
      "execution_count": null,
      "outputs": []
    },
    {
      "cell_type": "code",
      "metadata": {
        "id": "6FmjXU8xTDNS"
      },
      "source": [
        "def clean_text(df, col, col_name, stop_lang):\r\n",
        "  stop_words = nltk.corpus.stopwords.words(stop_lang)\r\n",
        "  # stop_words.remove('sample')\r\n",
        "  #currently eliminating hyphens\r\n",
        "  df[col_name] = df[col] \\\r\n",
        "          .apply(lambda x: \"\".join([s.translate(str.maketrans('', '', string.punctuation)) for s in x]))\r\n",
        "\r\n",
        "  df[col_name] = df[col_name].str.lower()\r\n",
        "\r\n",
        "  df[col_name] = df[col_name] \\\r\n",
        "          .apply(lambda x: \" \".join([val for val in x.split() if val not in stop_words]))"
      ],
      "execution_count": null,
      "outputs": []
    },
    {
      "cell_type": "markdown",
      "metadata": {
        "id": "Z-9MoPofZ-jI"
      },
      "source": [
        "## Applique cette fonction \n",
        "\n",
        "Applique cette fonction à `X_text` et enregistre le résultat dans `X_clean`."
      ]
    },
    {
      "cell_type": "code",
      "metadata": {
        "id": "hDTjFCta8ajM"
      },
      "source": [
        "clean_text(df=df_restaurants, col='X_text', col_name='X_clean', stop_lang=\"english\")\r\n"
      ],
      "execution_count": null,
      "outputs": []
    },
    {
      "cell_type": "code",
      "metadata": {
        "colab": {
          "base_uri": "https://localhost:8080/",
          "height": 198
        },
        "id": "alQfSbuJTj4T",
        "outputId": "2ad2ed7d-4332-4b72-87d0-c0f44500c916"
      },
      "source": [
        "df_restaurants[['X_text', 'X_clean']].head()"
      ],
      "execution_count": null,
      "outputs": [
        {
          "output_type": "execute_result",
          "data": {
            "text/html": [
              "<div>\n",
              "<style scoped>\n",
              "    .dataframe tbody tr th:only-of-type {\n",
              "        vertical-align: middle;\n",
              "    }\n",
              "\n",
              "    .dataframe tbody tr th {\n",
              "        vertical-align: top;\n",
              "    }\n",
              "\n",
              "    .dataframe thead th {\n",
              "        text-align: right;\n",
              "    }\n",
              "</style>\n",
              "<table border=\"1\" class=\"dataframe\">\n",
              "  <thead>\n",
              "    <tr style=\"text-align: right;\">\n",
              "      <th></th>\n",
              "      <th>X_text</th>\n",
              "      <th>X_clean</th>\n",
              "    </tr>\n",
              "  </thead>\n",
              "  <tbody>\n",
              "    <tr>\n",
              "      <th>0</th>\n",
              "      <td>My wife took me here on my birthday for breakf...</td>\n",
              "      <td>wife took birthday breakfast excellent weather...</td>\n",
              "    </tr>\n",
              "    <tr>\n",
              "      <th>1</th>\n",
              "      <td>I have no idea why some people give bad review...</td>\n",
              "      <td>idea people give bad reviews place goes show p...</td>\n",
              "    </tr>\n",
              "    <tr>\n",
              "      <th>2</th>\n",
              "      <td>love the gyro plate. Rice is so good and I als...</td>\n",
              "      <td>love gyro plate rice good also dig candy selec...</td>\n",
              "    </tr>\n",
              "    <tr>\n",
              "      <th>3</th>\n",
              "      <td>Rosie, Dakota, and I LOVE Chaparral Dog Park!!...</td>\n",
              "      <td>rosie dakota love chaparral dog park convenien...</td>\n",
              "    </tr>\n",
              "    <tr>\n",
              "      <th>4</th>\n",
              "      <td>General Manager Scott Petello is a good egg!!!...</td>\n",
              "      <td>general manager scott petello good egg go deta...</td>\n",
              "    </tr>\n",
              "  </tbody>\n",
              "</table>\n",
              "</div>"
            ],
            "text/plain": [
              "                                              X_text                                            X_clean\n",
              "0  My wife took me here on my birthday for breakf...  wife took birthday breakfast excellent weather...\n",
              "1  I have no idea why some people give bad review...  idea people give bad reviews place goes show p...\n",
              "2  love the gyro plate. Rice is so good and I als...  love gyro plate rice good also dig candy selec...\n",
              "3  Rosie, Dakota, and I LOVE Chaparral Dog Park!!...  rosie dakota love chaparral dog park convenien...\n",
              "4  General Manager Scott Petello is a good egg!!!...  general manager scott petello good egg go deta..."
            ]
          },
          "metadata": {
            "tags": []
          },
          "execution_count": 91
        }
      ]
    },
    {
      "cell_type": "markdown",
      "metadata": {
        "id": "d_WYV_uSXwnA"
      },
      "source": [
        "## Train test split\n",
        "\n",
        "Découpe tes données `X_clean` et `y` avec un train test split, et le même `random_state = 32`.\n",
        "\n"
      ]
    },
    {
      "cell_type": "code",
      "metadata": {
        "id": "Q__hrbqq8bn9",
        "colab": {
          "base_uri": "https://localhost:8080/",
          "height": 17
        },
        "outputId": "503bea2c-fe0a-457c-fe03-db2faa4e4918"
      },
      "source": [
        "X = df_restaurants['X_clean']\r\n",
        "\r\n",
        "X_train, X_test, y_train, y_test = train_test_split(X, y, test_size=0.33, random_state=32)"
      ],
      "execution_count": null,
      "outputs": [
        {
          "output_type": "display_data",
          "data": {
            "application/javascript": [
              "\n",
              "        if (window._pyforest_update_imports_cell) { window._pyforest_update_imports_cell('import seaborn as sns\\nimport pydot\\nimport plotly.express as px\\nimport pickle\\nimport sys\\nimport spacy\\nimport sklearn\\nimport plotly as py\\nimport altair as alt\\nimport tensorflow as tf\\nimport matplotlib as mpl\\nimport lightgbm as lgb\\nimport re\\nfrom sklearn.feature_extraction.text import TfidfVectorizer\\nimport statistics\\nfrom sklearn.model_selection import train_test_split\\nimport bokeh\\nimport xgboost as xgb\\nimport matplotlib.pyplot as plt\\nimport pandas as pd\\nimport tqdm\\nfrom sklearn import svm\\nfrom openpyxl import load_workbook'); }\n",
              "    "
            ],
            "text/plain": [
              "<IPython.core.display.Javascript object>"
            ]
          },
          "metadata": {
            "tags": []
          }
        }
      ]
    },
    {
      "cell_type": "markdown",
      "metadata": {
        "id": "XtFRWKZybzEf"
      },
      "source": [
        "## TfidfVectorizer\n",
        "\n",
        "- Entraine `TfidfVectorizer` sur `X_train` \n",
        "- Transforme avec ton vectorizer `X_train` et stocke le résultat dans `X_train_vecto`.\n",
        "- Transforme avec ton vectorizer `X_test` et stocke le résultat dans `X_test_vecto`."
      ]
    },
    {
      "cell_type": "code",
      "metadata": {
        "id": "eHeOvpYDVmPC"
      },
      "source": [
        "from sklearn.feature_extraction.text import TfidfVectorizer"
      ],
      "execution_count": null,
      "outputs": []
    },
    {
      "cell_type": "code",
      "metadata": {
        "colab": {
          "base_uri": "https://localhost:8080/"
        },
        "id": "EvM73wVPZfq8",
        "outputId": "b5570627-9be9-428e-8ff0-f6709a23ecfe"
      },
      "source": [
        "type(X_test)"
      ],
      "execution_count": null,
      "outputs": [
        {
          "output_type": "execute_result",
          "data": {
            "text/plain": [
              "pandas.core.series.Series"
            ]
          },
          "metadata": {
            "tags": []
          },
          "execution_count": 130
        }
      ]
    },
    {
      "cell_type": "code",
      "metadata": {
        "id": "kRyu-yazZHob"
      },
      "source": [
        "tfidf = TfidfVectorizer()"
      ],
      "execution_count": null,
      "outputs": []
    },
    {
      "cell_type": "code",
      "metadata": {
        "id": "klR-pOJA8cmx"
      },
      "source": [
        "tfidf.fit(X_train)\r\n",
        "X_train_vecto = tfidf.transform(X_train)\r\n",
        "X_test_vecto = tfidf.transform(X_test)\r\n",
        "\r\n",
        "X_train_vecto = X_train_vecto.todense()\r\n",
        "X_test_vecto = X_test_vecto.todense()"
      ],
      "execution_count": null,
      "outputs": []
    },
    {
      "cell_type": "code",
      "metadata": {
        "colab": {
          "base_uri": "https://localhost:8080/",
          "height": 17
        },
        "id": "gCDzOCrGVDsr",
        "outputId": "97d6051a-bba2-4dac-cd77-1b7474093b56"
      },
      "source": [
        "\r\n",
        "X_train_vecto = pd.DataFrame(X_train_vecto)\r\n",
        "X_test_vecto = pd.DataFrame(X_test_vecto)"
      ],
      "execution_count": null,
      "outputs": [
        {
          "output_type": "display_data",
          "data": {
            "application/javascript": [
              "\n",
              "        if (window._pyforest_update_imports_cell) { window._pyforest_update_imports_cell('import seaborn as sns\\nimport pydot\\nimport plotly.express as px\\nimport pickle\\nimport sys\\nimport spacy\\nimport sklearn\\nimport plotly as py\\nimport altair as alt\\nimport tensorflow as tf\\nimport matplotlib as mpl\\nimport lightgbm as lgb\\nimport re\\nfrom sklearn.feature_extraction.text import TfidfVectorizer\\nimport statistics\\nfrom sklearn.model_selection import train_test_split\\nimport bokeh\\nimport xgboost as xgb\\nimport matplotlib.pyplot as plt\\nimport pandas as pd\\nimport tqdm\\nfrom sklearn import svm\\nfrom openpyxl import load_workbook'); }\n",
              "    "
            ],
            "text/plain": [
              "<IPython.core.display.Javascript object>"
            ]
          },
          "metadata": {
            "tags": []
          }
        },
        {
          "output_type": "display_data",
          "data": {
            "application/javascript": [
              "\n",
              "        if (window._pyforest_update_imports_cell) { window._pyforest_update_imports_cell('import seaborn as sns\\nimport pydot\\nimport plotly.express as px\\nimport pickle\\nimport sys\\nimport spacy\\nimport sklearn\\nimport plotly as py\\nimport altair as alt\\nimport tensorflow as tf\\nimport matplotlib as mpl\\nimport lightgbm as lgb\\nimport re\\nfrom sklearn.feature_extraction.text import TfidfVectorizer\\nimport statistics\\nfrom sklearn.model_selection import train_test_split\\nimport bokeh\\nimport xgboost as xgb\\nimport matplotlib.pyplot as plt\\nimport pandas as pd\\nimport tqdm\\nfrom sklearn import svm\\nfrom openpyxl import load_workbook'); }\n",
              "    "
            ],
            "text/plain": [
              "<IPython.core.display.Javascript object>"
            ]
          },
          "metadata": {
            "tags": []
          }
        }
      ]
    },
    {
      "cell_type": "code",
      "metadata": {
        "colab": {
          "base_uri": "https://localhost:8080/"
        },
        "id": "o2DWiTZrbbGZ",
        "outputId": "86c2093a-8e09-4bd3-f720-9b9b720f821d"
      },
      "source": [
        "X_train_vecto.shape, X_test_vecto.shape, y_train.shape, y_test.shape"
      ],
      "execution_count": null,
      "outputs": [
        {
          "output_type": "execute_result",
          "data": {
            "text/plain": [
              "((6700, 29247), (3300, 29247), (6700,), (3300,))"
            ]
          },
          "metadata": {
            "tags": []
          },
          "execution_count": 141
        }
      ]
    },
    {
      "cell_type": "markdown",
      "metadata": {
        "id": "MG2dgh0kczlb"
      },
      "source": [
        "## Régression logistique\n",
        "\n",
        "Entraine une régression logistique sur `X_train_vecto` et `y_train`.\n",
        "\n",
        "Compare les accuracy scores des jeux d'entrainement et de test. Y a-t-il de l'overfitting ? Les scores sont-ils meilleurs que dans tes modèles du début du checkpoint ?\n",
        "\n",
        "Affiche également une matrice de confusion pour le jeu de test. Combien y a-t-il de commentaires \"bad\" correctement prédits ?"
      ]
    },
    {
      "cell_type": "code",
      "metadata": {
        "id": "U6ZKmfXf8db8"
      },
      "source": [
        "LM_nlp = LogisticRegression()\r\n",
        "model_nlp = LM_nlp.fit(X_train_vecto, y_train)"
      ],
      "execution_count": null,
      "outputs": []
    },
    {
      "cell_type": "code",
      "metadata": {
        "colab": {
          "base_uri": "https://localhost:8080/",
          "height": 497
        },
        "id": "PTbGeOMcbyBS",
        "outputId": "3ec1147e-bf02-4df1-a438-cdc17640701e"
      },
      "source": [
        "y_pred = model_nlp.predict(X_test_vecto)\r\n",
        "\r\n",
        "print(\"train data:\",model_nlp.score(X_train_vecto, y_train))\r\n",
        "print(\"test data:\",model_nlp.score(X_test_vecto, y_test))\r\n",
        "\r\n",
        "cm = confusion_matrix(y_test, y_pred)\r\n",
        "\r\n",
        "ax= plt.subplot()\r\n",
        "sns.heatmap(cm, annot=True, ax = ax, fmt='d', cbar=False) #annot=True to annotate cells\r\n",
        "\r\n",
        "# labels, title and ticks\r\n",
        "ax.set_xlabel('Predicted labels');ax.set_ylabel('True labels'); \r\n",
        "ax.set_title('Confusion Matrix'); \r\n",
        "ax.xaxis.set_ticklabels(['Bad', 'Good']); ax.yaxis.set_ticklabels(['Bad', 'Good'])\r\n",
        "\r\n",
        "print(classification_report(y_test, y_pred))"
      ],
      "execution_count": null,
      "outputs": [
        {
          "output_type": "stream",
          "text": [
            "train data: 0.8970149253731343\n",
            "test data: 0.8303030303030303\n"
          ],
          "name": "stdout"
        },
        {
          "output_type": "display_data",
          "data": {
            "application/javascript": [
              "\n",
              "        if (window._pyforest_update_imports_cell) { window._pyforest_update_imports_cell('import seaborn as sns\\nimport pydot\\nimport plotly.express as px\\nimport pickle\\nimport sys\\nimport spacy\\nimport sklearn\\nimport plotly as py\\nimport altair as alt\\nimport tensorflow as tf\\nimport matplotlib as mpl\\nimport lightgbm as lgb\\nimport re\\nfrom sklearn.feature_extraction.text import TfidfVectorizer\\nimport statistics\\nfrom sklearn.model_selection import train_test_split\\nimport bokeh\\nimport xgboost as xgb\\nimport matplotlib.pyplot as plt\\nimport pandas as pd\\nimport tqdm\\nfrom sklearn import svm\\nfrom openpyxl import load_workbook'); }\n",
              "    "
            ],
            "text/plain": [
              "<IPython.core.display.Javascript object>"
            ]
          },
          "metadata": {
            "tags": []
          }
        },
        {
          "output_type": "display_data",
          "data": {
            "application/javascript": [
              "\n",
              "        if (window._pyforest_update_imports_cell) { window._pyforest_update_imports_cell('import seaborn as sns\\nimport pydot\\nimport plotly.express as px\\nimport pickle\\nimport sys\\nimport spacy\\nimport sklearn\\nimport plotly as py\\nimport altair as alt\\nimport tensorflow as tf\\nimport matplotlib as mpl\\nimport lightgbm as lgb\\nimport re\\nfrom sklearn.feature_extraction.text import TfidfVectorizer\\nimport statistics\\nfrom sklearn.model_selection import train_test_split\\nimport bokeh\\nimport xgboost as xgb\\nimport matplotlib.pyplot as plt\\nimport pandas as pd\\nimport tqdm\\nfrom sklearn import svm\\nfrom openpyxl import load_workbook'); }\n",
              "    "
            ],
            "text/plain": [
              "<IPython.core.display.Javascript object>"
            ]
          },
          "metadata": {
            "tags": []
          }
        },
        {
          "output_type": "stream",
          "text": [
            "              precision    recall  f1-score   support\n",
            "\n",
            "         bad       0.83      0.55      0.66       998\n",
            "        good       0.83      0.95      0.89      2302\n",
            "\n",
            "    accuracy                           0.83      3300\n",
            "   macro avg       0.83      0.75      0.78      3300\n",
            "weighted avg       0.83      0.83      0.82      3300\n",
            "\n"
          ],
          "name": "stdout"
        },
        {
          "output_type": "display_data",
          "data": {
            "image/png": "[encoded data removed]",
            "text/plain": [
              "<Figure size 432x288 with 1 Axes>"
            ]
          },
          "metadata": {
            "tags": [],
            "needs_background": "light"
          }
        }
      ]
    },
    {
      "cell_type": "code",
      "metadata": {
        "id": "3dmWOAXgccdl"
      },
      "source": [
        "#better results, overfitting a bit"
      ],
      "execution_count": null,
      "outputs": []
    },
    {
      "cell_type": "markdown",
      "metadata": {
        "id": "UvJZZwQGd0Bc"
      },
      "source": [
        "# Partie 4 : WebScraping - environ 1h30\n",
        "\n",
        "Effectue un webscraping des titres d'annonces et des prix de la page suivante : https://www.amazon.fr/s?k=ski&i=sports\n",
        "Essaye d'afficher le résultat dans un DataFrame.  Il doit y avoir 40 ou 41 annonces sur la page.\n",
        "\n",
        "Voici un exemple de résultat attendu (évidemment, les annonces bougent tous les jours, tu auras donc un résultat différent).\n",
        "\n",
        "\n",
        "\n",
        "\n"
      ]
    },
    {
      "cell_type": "markdown",
      "metadata": {
        "id": "npeGTOc7tsKD"
      },
      "source": [
        "![Capture d’écran 2021-01-07 à 17.37.53.png](data:image/png;base64,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)"
      ]
    },
    {
      "cell_type": "code",
      "metadata": {
        "id": "EK4GLfy29LvZ"
      },
      "source": [
        "import requests\r\n",
        "from bs4 import BeautifulSoup"
      ],
      "execution_count": null,
      "outputs": []
    },
    {
      "cell_type": "code",
      "metadata": {
        "id": "uXvST8mzeLF3"
      },
      "source": [
        "navigator = 'Mozilla/5.0 (Macintosh; Intel Mac OS X 10_10_1)'\r\n",
        "url = \"https://www.amazon.fr/s?k=ski&i=sports\"\r\n",
        "r = requests.get(url, headers={'User-Agent': navigator})"
      ],
      "execution_count": null,
      "outputs": []
    },
    {
      "cell_type": "code",
      "metadata": {
        "id": "uiozGxcbeUYX"
      },
      "source": [
        "soup = BeautifulSoup(r.content, 'html.parser')"
      ],
      "execution_count": null,
      "outputs": []
    },
    {
      "cell_type": "code",
      "metadata": {
        "colab": {
          "base_uri": "https://localhost:8080/",
          "height": 198
        },
        "id": "GVr01xPXv80J",
        "outputId": "d0498a94-0b0b-4344-f1f6-452d55f94940"
      },
      "source": [
        "titles = soup.find_all(class_=\"a-size-base-plus a-color-base a-text-normal\")\r\n",
        "prices = soup.find_all(class_=\"a-price-whole\")\r\n",
        "\r\n",
        "title = []\r\n",
        "price = []\r\n",
        "\r\n",
        "for t in titles:\r\n",
        "    title.append(t.get_text())\r\n",
        "\r\n",
        "for p in prices:\r\n",
        "    price.append(p.get_text())\r\n",
        "\r\n",
        "df = pd.DataFrame({'titles' : title, 'prices': price})\r\n",
        "df.head()    "
      ],
      "execution_count": null,
      "outputs": [
        {
          "output_type": "display_data",
          "data": {
            "application/javascript": [
              "\n",
              "        if (window._pyforest_update_imports_cell) { window._pyforest_update_imports_cell('import seaborn as sns\\nimport pydot\\nimport plotly.express as px\\nimport pickle\\nimport sys\\nimport spacy\\nimport sklearn\\nimport plotly as py\\nimport altair as alt\\nimport tensorflow as tf\\nimport matplotlib as mpl\\nimport lightgbm as lgb\\nimport re\\nfrom sklearn.feature_extraction.text import TfidfVectorizer\\nimport statistics\\nfrom sklearn.model_selection import train_test_split\\nimport bokeh\\nimport xgboost as xgb\\nimport matplotlib.pyplot as plt\\nimport pandas as pd\\nimport tqdm\\nfrom sklearn import svm\\nfrom openpyxl import load_workbook'); }\n",
              "    "
            ],
            "text/plain": [
              "<IPython.core.display.Javascript object>"
            ]
          },
          "metadata": {
            "tags": []
          }
        },
        {
          "output_type": "execute_result",
          "data": {
            "text/html": [
              "<div>\n",
              "<style scoped>\n",
              "    .dataframe tbody tr th:only-of-type {\n",
              "        vertical-align: middle;\n",
              "    }\n",
              "\n",
              "    .dataframe tbody tr th {\n",
              "        vertical-align: top;\n",
              "    }\n",
              "\n",
              "    .dataframe thead th {\n",
              "        text-align: right;\n",
              "    }\n",
              "</style>\n",
              "<table border=\"1\" class=\"dataframe\">\n",
              "  <thead>\n",
              "    <tr style=\"text-align: right;\">\n",
              "      <th></th>\n",
              "      <th>titles</th>\n",
              "      <th>prices</th>\n",
              "    </tr>\n",
              "  </thead>\n",
              "  <tbody>\n",
              "    <tr>\n",
              "      <th>0</th>\n",
              "      <td>Wantalis - Skiback</td>\n",
              "      <td>18,11</td>\n",
              "    </tr>\n",
              "    <tr>\n",
              "      <th>1</th>\n",
              "      <td>MOBIUSPHY sous-Vêtement Thermique Homme Ensemb...</td>\n",
              "      <td>27,99</td>\n",
              "    </tr>\n",
              "    <tr>\n",
              "      <th>2</th>\n",
              "      <td>SKEY Lunettes de Ski Magnétique Masque de Ski ...</td>\n",
              "      <td>32,99</td>\n",
              "    </tr>\n",
              "    <tr>\n",
              "      <th>3</th>\n",
              "      <td>THERMIC T48-0200-001 Séche chaussures thermiqu...</td>\n",
              "      <td>39,99</td>\n",
              "    </tr>\n",
              "    <tr>\n",
              "      <th>4</th>\n",
              "      <td>Ltrototea Gants de ski, gants d'hiver chauds p...</td>\n",
              "      <td>14,99</td>\n",
              "    </tr>\n",
              "  </tbody>\n",
              "</table>\n",
              "</div>"
            ],
            "text/plain": [
              "                                              titles prices\n",
              "0                                 Wantalis - Skiback  18,11\n",
              "1  MOBIUSPHY sous-Vêtement Thermique Homme Ensemb...  27,99\n",
              "2  SKEY Lunettes de Ski Magnétique Masque de Ski ...  32,99\n",
              "3  THERMIC T48-0200-001 Séche chaussures thermiqu...  39,99\n",
              "4  Ltrototea Gants de ski, gants d'hiver chauds p...  14,99"
            ]
          },
          "metadata": {
            "tags": []
          },
          "execution_count": 205
        }
      ]
    }
  ]
}