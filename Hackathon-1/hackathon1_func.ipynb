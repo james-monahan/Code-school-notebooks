{
  "nbformat": 4,
  "nbformat_minor": 0,
  "metadata": {
    "colab": {
      "name": "github Copy of hack functions.ipynb",
      "provenance": [],
      "collapsed_sections": [
        "kkgKazT2Shpn"
      ],
      "authorship_tag": "ABX9TyMpJaYkXgqxAvWnO1dAIn8n",
      "include_colab_link": true
    },
    "kernelspec": {
      "name": "python3",
      "display_name": "Python 3"
    }
  },
  "cells": [
    {
      "cell_type": "markdown",
      "metadata": {
        "id": "view-in-github",
        "colab_type": "text"
      },
      "source": [
        "<a href=\"https://colab.research.google.com/github/james-monahan/Code-school-notebooks/blob/main/Hackathon-1/hackathon1_func.ipynb\" target=\"_parent\"><img src=\"https://colab.research.google.com/assets/colab-badge.svg\" alt=\"Open In Colab\"/></a>"
      ]
    },
    {
      "cell_type": "code",
      "metadata": {
        "colab": {
          "base_uri": "https://localhost:8080/"
        },
        "id": "dANAxgpoJV6T",
        "outputId": "f702c51a-e6fa-4075-fcb1-c5a34a4e4d1d"
      },
      "source": [
        "pip install api-offres-emploi"
      ],
      "execution_count": null,
      "outputs": [
        {
          "output_type": "stream",
          "text": [
            "Collecting api-offres-emploi\n",
            "  Downloading https://files.pythonhosted.org/packages/8c/61/3d02dd7f030dc1225f02183d5bf1649cce491de087591e2260357b82c564/api_offres_emploi-0.0.1-py3-none-any.whl\n",
            "Installing collected packages: api-offres-emploi\n",
            "Successfully installed api-offres-emploi-0.0.1\n"
          ],
          "name": "stdout"
        }
      ]
    },
    {
      "cell_type": "code",
      "metadata": {
        "id": "_WYzgqQBJbGm"
      },
      "source": [
        "from offres_emploi import Api\n",
        "client = Api(client_id=\" \", \n",
        "             client_secret=\" \")"
      ],
      "execution_count": null,
      "outputs": []
    },
    {
      "cell_type": "code",
      "metadata": {
        "id": "kp3oR9XNJdsM"
      },
      "source": [
        "from offres_emploi.utils import dt_to_str_iso\n",
        "import datetime\n",
        "from datetime import timedelta\n",
        "import time\n",
        "from offres_emploi.utils import filters_to_df\n",
        "import pandas as pd\n",
        "import numpy as no\n",
        "import matplotlib.pyplot as plt\n",
        "import seaborn as sns\n",
        "import plotly.express as px"
      ],
      "execution_count": null,
      "outputs": []
    },
    {
      "cell_type": "code",
      "metadata": {
        "id": "rxlLa-0hSAH_"
      },
      "source": [
        "from pydrive.auth import GoogleAuth\n",
        "from pydrive.drive import GoogleDrive\n",
        "from google.colab import auth\n",
        "from oauth2client.client import GoogleCredentials"
      ],
      "execution_count": null,
      "outputs": []
    },
    {
      "cell_type": "code",
      "metadata": {
        "id": "gqNREXEBSDE3"
      },
      "source": [
        "auth.authenticate_user()\n",
        "gauth = GoogleAuth()\n",
        "gauth.credentials = GoogleCredentials.get_application_default()\n",
        "drive = GoogleDrive(gauth)"
      ],
      "execution_count": null,
      "outputs": []
    },
    {
      "cell_type": "code",
      "metadata": {
        "id": "l_WlnbQKJwdO"
      },
      "source": [
        "#default keywords\n",
        "default = [\"Analyst\",\"Data analyst\", \"Analyste décisionnel\", \"Analyste de gestion informatique\", \n",
        "          'Analyste-programmeur / Analyste-programmeuse informatique', \n",
        "          'Analyste concepteur / conceptrice informatique', 'Analyste logistique', 'sql', 'python', 'data scientist', 'machine learning']"
      ],
      "execution_count": null,
      "outputs": []
    },
    {
      "cell_type": "code",
      "metadata": {
        "id": "-_4KmoEcJ2kZ"
      },
      "source": [
        "def get_jobs(keywords = default, days_since = 90):\n",
        "  vals = [\"0-149\", \"150-299\", \"300-449\", \"450-599\", \"600-749\", \"750-899\", \"900-1049\"]\n",
        "  frames = []\n",
        "\n",
        "  for title in default:\n",
        "    for val in vals:\n",
        "      try:\n",
        "        start_dt = datetime.datetime.today() - timedelta(days=days_since)\n",
        "        end_dt = datetime.datetime.today()\n",
        "        params = {\n",
        "            \"range\": val,\n",
        "            \"motsCles\": title,\n",
        "            'minCreationDate': dt_to_str_iso(start_dt),\n",
        "            'maxCreationDate': dt_to_str_iso(end_dt)\n",
        "        }\n",
        "\n",
        "        search_on_big_data = client.search(params=params)\n",
        "        filters = search_on_big_data['filtresPossibles']\n",
        "        results =  search_on_big_data['resultats']\n",
        "        content_range = search_on_big_data['Content-Range']\n",
        "        df = pd.DataFrame(results)\n",
        "        frames.append(df)\n",
        "        time.sleep(3)\n",
        "\n",
        "\n",
        "\n",
        "      except AttributeError or HTTPError:\n",
        "        print(\"Variable x is not defined\")\n",
        "        break\n",
        "  df = pd.concat(frames)\n",
        "\n",
        "  map_cities = {'75': 'Paris', '13':\t'Marseille', '69':\t'Lyon','31':\t'Toulouse', '06': 'Nice',\n",
        "  '44':\t'Nantes', '34':\t'Montpellier', '67':\t'Strasbourg', '33':\t'Bordeaux', '59':\t'Lille', '35':\t'Rennes',\n",
        "  '51':\t'Reims', '42':\t'Saint-Étienne', '83':\t'Toulon', '76':\t'Le Havre', '38':\t'Grenoble', '21':\t'Dijon',\n",
        "  '49':\t'Angers', '30':\t'Nîmes', '974': 'Saint-Denis', '69':\t'Villeurbanne', '63':\t'Clermont-Ferrand',\n",
        "  '72':\t'Le Mans', '29':\t'Brest', '37':\t'Tours', '80':\t'Amiens', '87':\t'Limoges',\n",
        "  '74':\t'Annecy', '66':\t'Perpignan'\n",
        "  #'13':\t'Aix-en-Provence' \n",
        "  }\n",
        "\n",
        "  results_df = df.copy()\n",
        "  results_df = results_df[['typeContrat', 'appellationlibelle', 'intitule', 'langues', 'lieuTravail', 'natureContrat', 'typeContrat']]\n",
        "  results_df = results_df.fillna(0, axis=0)\n",
        "  results_df['lieuTravail'] = results_df.agg(dict(lieuTravail=lambda x: x.get('libelle')))\n",
        "  results_df['langues'] = results_df['langues'].apply(lambda x: x[0]['libelle'] if len(x) > 0 else None)\n",
        "  results_df['department'] = results_df['lieuTravail'].apply(lambda x: x.split()[0])\n",
        "  results_df['city']= results_df['department'].map(map_cities)\n",
        "\n",
        "  results_df = results_df[results_df['department'].apply(lambda x: x in map_cities.keys())]\n",
        "\n",
        "  results_df['department'] = results_df['department'].str.replace('06', '6')\n",
        "\n",
        "  return df, results_df\n",
        "\n",
        "  results_df['langues'].apply(lambda x: x[0]['libelle'] if len(x) > 0 else None)\n",
        "\n"
      ],
      "execution_count": null,
      "outputs": []
    },
    {
      "cell_type": "code",
      "metadata": {
        "colab": {
          "base_uri": "https://localhost:8080/"
        },
        "id": "KSLxhJZqK4nC",
        "outputId": "c886193c-a9ff-4a00-e155-53f28a1f429d"
      },
      "source": [
        "df, results_df = get_jobs(keywords = default, days_since = 90)"
      ],
      "execution_count": null,
      "outputs": [
        {
          "output_type": "stream",
          "text": [
            "Making request with params {'range': '0-149', 'motsCles': 'Analyst', 'minCreationDate': '2020-08-22T11:46:48Z', 'maxCreationDate': '2020-11-20T11:46:48Z'}\n",
            "Token is expired. Requesting new token\n",
            "Now requesting token\n",
            "Making request with params {'range': '150-299', 'motsCles': 'Analyst', 'minCreationDate': '2020-08-22T11:47:54Z', 'maxCreationDate': '2020-11-20T11:47:54Z'}\n",
            "Variable x is not defined\n",
            "Making request with params {'range': '0-149', 'motsCles': 'Data analyst', 'minCreationDate': '2020-08-22T11:47:54Z', 'maxCreationDate': '2020-11-20T11:47:54Z'}\n",
            "Making request with params {'range': '150-299', 'motsCles': 'Data analyst', 'minCreationDate': '2020-08-22T11:47:57Z', 'maxCreationDate': '2020-11-20T11:47:57Z'}\n",
            "Variable x is not defined\n",
            "Making request with params {'range': '0-149', 'motsCles': 'Analyste décisionnel', 'minCreationDate': '2020-08-22T11:47:58Z', 'maxCreationDate': '2020-11-20T11:47:58Z'}\n",
            "Making request with params {'range': '150-299', 'motsCles': 'Analyste décisionnel', 'minCreationDate': '2020-08-22T11:48:01Z', 'maxCreationDate': '2020-11-20T11:48:01Z'}\n",
            "Variable x is not defined\n",
            "Making request with params {'range': '0-149', 'motsCles': 'Analyste de gestion informatique', 'minCreationDate': '2020-08-22T11:48:02Z', 'maxCreationDate': '2020-11-20T11:48:02Z'}\n",
            "Making request with params {'range': '150-299', 'motsCles': 'Analyste de gestion informatique', 'minCreationDate': '2020-08-22T11:48:05Z', 'maxCreationDate': '2020-11-20T11:48:05Z'}\n",
            "Variable x is not defined\n",
            "Making request with params {'range': '0-149', 'motsCles': 'Analyste-programmeur / Analyste-programmeuse informatique', 'minCreationDate': '2020-08-22T11:48:05Z', 'maxCreationDate': '2020-11-20T11:48:05Z'}\n",
            "Making request with params {'range': '150-299', 'motsCles': 'Analyste-programmeur / Analyste-programmeuse informatique', 'minCreationDate': '2020-08-22T11:48:09Z', 'maxCreationDate': '2020-11-20T11:48:09Z'}\n",
            "Variable x is not defined\n",
            "Making request with params {'range': '0-149', 'motsCles': 'Analyste concepteur / conceptrice informatique', 'minCreationDate': '2020-08-22T11:48:09Z', 'maxCreationDate': '2020-11-20T11:48:09Z'}\n",
            "Making request with params {'range': '150-299', 'motsCles': 'Analyste concepteur / conceptrice informatique', 'minCreationDate': '2020-08-22T11:48:12Z', 'maxCreationDate': '2020-11-20T11:48:12Z'}\n",
            "Variable x is not defined\n",
            "Making request with params {'range': '0-149', 'motsCles': 'Analyste logistique', 'minCreationDate': '2020-08-22T11:48:12Z', 'maxCreationDate': '2020-11-20T11:48:12Z'}\n",
            "Making request with params {'range': '150-299', 'motsCles': 'Analyste logistique', 'minCreationDate': '2020-08-22T11:48:16Z', 'maxCreationDate': '2020-11-20T11:48:16Z'}\n",
            "Variable x is not defined\n",
            "Making request with params {'range': '0-149', 'motsCles': 'sql', 'minCreationDate': '2020-08-22T11:48:16Z', 'maxCreationDate': '2020-11-20T11:48:16Z'}\n",
            "Making request with params {'range': '150-299', 'motsCles': 'sql', 'minCreationDate': '2020-08-22T11:48:21Z', 'maxCreationDate': '2020-11-20T11:48:21Z'}\n",
            "Making request with params {'range': '300-449', 'motsCles': 'sql', 'minCreationDate': '2020-08-22T11:48:25Z', 'maxCreationDate': '2020-11-20T11:48:25Z'}\n",
            "Making request with params {'range': '450-599', 'motsCles': 'sql', 'minCreationDate': '2020-08-22T11:48:29Z', 'maxCreationDate': '2020-11-20T11:48:29Z'}\n",
            "Variable x is not defined\n",
            "Making request with params {'range': '0-149', 'motsCles': 'python', 'minCreationDate': '2020-08-22T11:48:29Z', 'maxCreationDate': '2020-11-20T11:48:29Z'}\n",
            "Making request with params {'range': '150-299', 'motsCles': 'python', 'minCreationDate': '2020-08-22T11:48:34Z', 'maxCreationDate': '2020-11-20T11:48:34Z'}\n",
            "Making request with params {'range': '300-449', 'motsCles': 'python', 'minCreationDate': '2020-08-22T11:48:38Z', 'maxCreationDate': '2020-11-20T11:48:38Z'}\n",
            "Making request with params {'range': '450-599', 'motsCles': 'python', 'minCreationDate': '2020-08-22T11:48:42Z', 'maxCreationDate': '2020-11-20T11:48:42Z'}\n",
            "Making request with params {'range': '600-749', 'motsCles': 'python', 'minCreationDate': '2020-08-22T11:48:46Z', 'maxCreationDate': '2020-11-20T11:48:46Z'}\n",
            "Making request with params {'range': '750-899', 'motsCles': 'python', 'minCreationDate': '2020-08-22T11:48:51Z', 'maxCreationDate': '2020-11-20T11:48:51Z'}\n",
            "Making request with params {'range': '900-1049', 'motsCles': 'python', 'minCreationDate': '2020-08-22T11:48:55Z', 'maxCreationDate': '2020-11-20T11:48:55Z'}\n",
            "Making request with params {'range': '0-149', 'motsCles': 'data scientist', 'minCreationDate': '2020-08-22T11:48:59Z', 'maxCreationDate': '2020-11-20T11:48:59Z'}\n",
            "Making request with params {'range': '150-299', 'motsCles': 'data scientist', 'minCreationDate': '2020-08-22T11:49:03Z', 'maxCreationDate': '2020-11-20T11:49:03Z'}\n",
            "Variable x is not defined\n",
            "Making request with params {'range': '0-149', 'motsCles': 'machine learning', 'minCreationDate': '2020-08-22T11:49:03Z', 'maxCreationDate': '2020-11-20T11:49:03Z'}\n",
            "Variable x is not defined\n"
          ],
          "name": "stdout"
        }
      ]
    },
    {
      "cell_type": "code",
      "metadata": {
        "id": "eW1ljIHdMNPZ"
      },
      "source": [
        "#save and download just in case\n",
        "results_df.to_csv('results.csv')\n",
        "df.to_csv('all_data.csv')"
      ],
      "execution_count": null,
      "outputs": []
    },
    {
      "cell_type": "code",
      "metadata": {
        "colab": {
          "base_uri": "https://localhost:8080/",
          "height": 340
        },
        "id": "z4-2SW3JdwCJ",
        "outputId": "b9d92107-9b70-408f-957e-f406a2ec0d6e"
      },
      "source": [
        "results_df.head()"
      ],
      "execution_count": null,
      "outputs": [
        {
          "output_type": "execute_result",
          "data": {
            "text/html": [
              "<div>\n",
              "<style scoped>\n",
              "    .dataframe tbody tr th:only-of-type {\n",
              "        vertical-align: middle;\n",
              "    }\n",
              "\n",
              "    .dataframe tbody tr th {\n",
              "        vertical-align: top;\n",
              "    }\n",
              "\n",
              "    .dataframe thead th {\n",
              "        text-align: right;\n",
              "    }\n",
              "</style>\n",
              "<table border=\"1\" class=\"dataframe\">\n",
              "  <thead>\n",
              "    <tr style=\"text-align: right;\">\n",
              "      <th></th>\n",
              "      <th>typeContrat</th>\n",
              "      <th>appellationlibelle</th>\n",
              "      <th>intitule</th>\n",
              "      <th>langues</th>\n",
              "      <th>lieuTravail</th>\n",
              "      <th>natureContrat</th>\n",
              "      <th>typeContrat</th>\n",
              "      <th>department</th>\n",
              "      <th>city</th>\n",
              "    </tr>\n",
              "  </thead>\n",
              "  <tbody>\n",
              "    <tr>\n",
              "      <th>0</th>\n",
              "      <td>CDI</td>\n",
              "      <td>Data analyst</td>\n",
              "      <td>Data Analyst (H/F)</td>\n",
              "      <td>Anglais Très bon Exigé</td>\n",
              "      <td>59 - LILLE</td>\n",
              "      <td>Contrat travail</td>\n",
              "      <td>CDI</td>\n",
              "      <td>59</td>\n",
              "      <td>Lille</td>\n",
              "    </tr>\n",
              "    <tr>\n",
              "      <th>1</th>\n",
              "      <td>CDI</td>\n",
              "      <td>Analyste décisionnel - Business Intelligence</td>\n",
              "      <td>CAP FINANCE / HUMANESSENCE: BUSINESS ANALYST B...</td>\n",
              "      <td>None</td>\n",
              "      <td>06 - ANTIBES</td>\n",
              "      <td>Contrat travail</td>\n",
              "      <td>CDI</td>\n",
              "      <td>6</td>\n",
              "      <td>Nice</td>\n",
              "    </tr>\n",
              "    <tr>\n",
              "      <th>2</th>\n",
              "      <td>CDI</td>\n",
              "      <td>Analyste décisionnel - Business Intelligence</td>\n",
              "      <td>Business analyst Fircosoft H/F</td>\n",
              "      <td>None</td>\n",
              "      <td>75 - PARIS 01</td>\n",
              "      <td>Contrat travail</td>\n",
              "      <td>CDI</td>\n",
              "      <td>75</td>\n",
              "      <td>Paris</td>\n",
              "    </tr>\n",
              "    <tr>\n",
              "      <th>3</th>\n",
              "      <td>CDI</td>\n",
              "      <td>Chef de projet informatique</td>\n",
              "      <td>Chef de Projet / Business Analyst Senior Sales...</td>\n",
              "      <td>None</td>\n",
              "      <td>69 - LYON 01</td>\n",
              "      <td>Contrat travail</td>\n",
              "      <td>CDI</td>\n",
              "      <td>69</td>\n",
              "      <td>Villeurbanne</td>\n",
              "    </tr>\n",
              "    <tr>\n",
              "      <th>4</th>\n",
              "      <td>CDI</td>\n",
              "      <td>Data analyst</td>\n",
              "      <td>Data analyst (H/F)</td>\n",
              "      <td>None</td>\n",
              "      <td>74 - ANNECY</td>\n",
              "      <td>Contrat travail</td>\n",
              "      <td>CDI</td>\n",
              "      <td>74</td>\n",
              "      <td>Annecy</td>\n",
              "    </tr>\n",
              "  </tbody>\n",
              "</table>\n",
              "</div>"
            ],
            "text/plain": [
              "  typeContrat  ...          city\n",
              "0         CDI  ...         Lille\n",
              "1         CDI  ...          Nice\n",
              "2         CDI  ...         Paris\n",
              "3         CDI  ...  Villeurbanne\n",
              "4         CDI  ...        Annecy\n",
              "\n",
              "[5 rows x 9 columns]"
            ]
          },
          "metadata": {
            "tags": []
          },
          "execution_count": 152
        }
      ]
    },
    {
      "cell_type": "code",
      "metadata": {
        "colab": {
          "base_uri": "https://localhost:8080/",
          "height": 281
        },
        "id": "XtFyXjioMZA2",
        "outputId": "e8d2033f-c032-4829-b62d-d6db2c0fc336"
      },
      "source": [
        "#top 5\n",
        "plt.bar(results_df['city'].value_counts().nlargest(5).index, results_df['department'].value_counts().nlargest(5))\n",
        "plt.title('Highest Number of Jobs by City')\n",
        "plt.show()"
      ],
      "execution_count": null,
      "outputs": [
        {
          "output_type": "display_data",
          "data": {
            "image/png": "[encoded data removed]",
            "text/plain": [
              "<Figure size 432x288 with 1 Axes>"
            ]
          },
          "metadata": {
            "tags": [],
            "needs_background": "light"
          }
        }
      ]
    },
    {
      "cell_type": "code",
      "metadata": {
        "colab": {
          "base_uri": "https://localhost:8080/",
          "height": 399
        },
        "id": "Ol1Rrq-8eHPS",
        "outputId": "1a8565cd-b652-4d18-f7a3-169045aea911"
      },
      "source": [
        "sns.barplot(results_df['city'].value_counts().nlargest(5).index, results_df['city'].value_counts().nlargest(5))\n",
        "plt.title(\"La plupart des offres d'emploi par ville \\n les 90 derniers jours \\n recherche par mot-clé\")\n",
        "plt.show()"
      ],
      "execution_count": null,
      "outputs": [
        {
          "output_type": "stream",
          "text": [
            "/usr/local/lib/python3.6/dist-packages/seaborn/_decorators.py:43: FutureWarning:\n",
            "\n",
            "Pass the following variables as keyword args: x, y. From version 0.12, the only valid positional argument will be `data`, and passing other arguments without an explicit keyword will result in an error or misinterpretation.\n",
            "\n"
          ],
          "name": "stderr"
        },
        {
          "output_type": "display_data",
          "data": {
            "image/png": "[encoded data removed]",
            "text/plain": [
              "<Figure size 432x288 with 1 Axes>"
            ]
          },
          "metadata": {
            "tags": [],
            "needs_background": "light"
          }
        }
      ]
    },
    {
      "cell_type": "code",
      "metadata": {
        "colab": {
          "base_uri": "https://localhost:8080/",
          "height": 281
        },
        "id": "uTjGNlGaPiEN",
        "outputId": "4265e6b7-619f-4277-9f86-219a50f4e9b3"
      },
      "source": [
        "#bottom 5\n",
        "plt.bar(results_df['department'].value_counts().sort_values().index[:5], results_df['department'].value_counts().sort_values()[:5])\n",
        "plt.title('Lowest Number of Jobs by Dept')\n",
        "plt.show()"
      ],
      "execution_count": null,
      "outputs": [
        {
          "output_type": "display_data",
          "data": {
            "image/png": "[encoded data removed]",
            "text/plain": [
              "<Figure size 432x288 with 1 Axes>"
            ]
          },
          "metadata": {
            "tags": [],
            "needs_background": "light"
          }
        }
      ]
    },
    {
      "cell_type": "markdown",
      "metadata": {
        "id": "kkgKazT2Shpn"
      },
      "source": [
        "##Get Data"
      ]
    },
    {
      "cell_type": "code",
      "metadata": {
        "id": "5dVFGRVvKEZK"
      },
      "source": [
        "id = '1nU8eDONGcEv8-SVzTtP2Ur0lnMvcFgRe'\n",
        "downloaded = drive.CreateFile({'id': '1nU8eDONGcEv8-SVzTtP2Ur0lnMvcFgRe'})\n",
        "downloaded.GetContentFile('ResMetBE20.xlsx')\n",
        "\n",
        "df_2020 = pd.read_excel('ResMetBE20.xlsx', sheet_name=1) \n",
        "\n",
        "id = '1IeupK9-F6jaKieC6d-jkTs2evdJKIx0A'\n",
        "downloaded = drive.CreateFile({'id': '1IeupK9-F6jaKieC6d-jkTs2evdJKIx0A'})\n",
        "downloaded.GetContentFile('ResMetBE19.xlsx')\n",
        "\n",
        "df_2019 = pd.read_excel('ResMetBE19.xlsx', sheet_name=1) \n",
        "\n",
        "id = '1hyIzvvrKDZcvskiGIDlSkUUCNpf4RpJ2'\n",
        "downloaded = drive.CreateFile({'id': '1hyIzvvrKDZcvskiGIDlSkUUCNpf4RpJ2'})\n",
        "downloaded.GetContentFile('ResMetBE18.xlsx')\n",
        "\n",
        "df_2018 = pd.read_excel('ResMetBE18.xlsx', sheet_name=1) "
      ],
      "execution_count": null,
      "outputs": []
    },
    {
      "cell_type": "markdown",
      "metadata": {
        "id": "ky2bbZ6iUuG1"
      },
      "source": [
        "##sample keywords:  \n",
        "Artistes, Graphistes, Cuisiniers, Juristes  \n",
        "  \n",
        "#met = number project of recruitment"
      ]
    },
    {
      "cell_type": "code",
      "metadata": {
        "colab": {
          "base_uri": "https://localhost:8080/",
          "height": 340
        },
        "id": "-pwXlD2xY3zx",
        "outputId": "c2ab489c-95fa-4613-8f69-7555e2bd7a99"
      },
      "source": [
        "results_df.head()"
      ],
      "execution_count": null,
      "outputs": [
        {
          "output_type": "execute_result",
          "data": {
            "text/html": [
              "<div>\n",
              "<style scoped>\n",
              "    .dataframe tbody tr th:only-of-type {\n",
              "        vertical-align: middle;\n",
              "    }\n",
              "\n",
              "    .dataframe tbody tr th {\n",
              "        vertical-align: top;\n",
              "    }\n",
              "\n",
              "    .dataframe thead th {\n",
              "        text-align: right;\n",
              "    }\n",
              "</style>\n",
              "<table border=\"1\" class=\"dataframe\">\n",
              "  <thead>\n",
              "    <tr style=\"text-align: right;\">\n",
              "      <th></th>\n",
              "      <th>typeContrat</th>\n",
              "      <th>appellationlibelle</th>\n",
              "      <th>intitule</th>\n",
              "      <th>langues</th>\n",
              "      <th>lieuTravail</th>\n",
              "      <th>natureContrat</th>\n",
              "      <th>typeContrat</th>\n",
              "      <th>department</th>\n",
              "      <th>city</th>\n",
              "    </tr>\n",
              "  </thead>\n",
              "  <tbody>\n",
              "    <tr>\n",
              "      <th>0</th>\n",
              "      <td>CDI</td>\n",
              "      <td>Data analyst</td>\n",
              "      <td>Data Analyst (H/F)</td>\n",
              "      <td>Anglais Très bon Exigé</td>\n",
              "      <td>59 - LILLE</td>\n",
              "      <td>Contrat travail</td>\n",
              "      <td>CDI</td>\n",
              "      <td>59</td>\n",
              "      <td>Lille</td>\n",
              "    </tr>\n",
              "    <tr>\n",
              "      <th>1</th>\n",
              "      <td>CDI</td>\n",
              "      <td>Analyste décisionnel - Business Intelligence</td>\n",
              "      <td>CAP FINANCE / HUMANESSENCE: BUSINESS ANALYST B...</td>\n",
              "      <td>None</td>\n",
              "      <td>06 - ANTIBES</td>\n",
              "      <td>Contrat travail</td>\n",
              "      <td>CDI</td>\n",
              "      <td>6</td>\n",
              "      <td>Nice</td>\n",
              "    </tr>\n",
              "    <tr>\n",
              "      <th>2</th>\n",
              "      <td>CDI</td>\n",
              "      <td>Analyste décisionnel - Business Intelligence</td>\n",
              "      <td>Business analyst Fircosoft H/F</td>\n",
              "      <td>None</td>\n",
              "      <td>75 - PARIS 01</td>\n",
              "      <td>Contrat travail</td>\n",
              "      <td>CDI</td>\n",
              "      <td>75</td>\n",
              "      <td>Paris</td>\n",
              "    </tr>\n",
              "    <tr>\n",
              "      <th>3</th>\n",
              "      <td>CDI</td>\n",
              "      <td>Chef de projet informatique</td>\n",
              "      <td>Chef de Projet / Business Analyst Senior Sales...</td>\n",
              "      <td>None</td>\n",
              "      <td>69 - LYON 01</td>\n",
              "      <td>Contrat travail</td>\n",
              "      <td>CDI</td>\n",
              "      <td>69</td>\n",
              "      <td>Villeurbanne</td>\n",
              "    </tr>\n",
              "    <tr>\n",
              "      <th>4</th>\n",
              "      <td>CDI</td>\n",
              "      <td>Data analyst</td>\n",
              "      <td>Data analyst (H/F)</td>\n",
              "      <td>None</td>\n",
              "      <td>74 - ANNECY</td>\n",
              "      <td>Contrat travail</td>\n",
              "      <td>CDI</td>\n",
              "      <td>74</td>\n",
              "      <td>Annecy</td>\n",
              "    </tr>\n",
              "  </tbody>\n",
              "</table>\n",
              "</div>"
            ],
            "text/plain": [
              "  typeContrat  ...          city\n",
              "0         CDI  ...         Lille\n",
              "1         CDI  ...          Nice\n",
              "2         CDI  ...         Paris\n",
              "3         CDI  ...  Villeurbanne\n",
              "4         CDI  ...        Annecy\n",
              "\n",
              "[5 rows x 9 columns]"
            ]
          },
          "metadata": {
            "tags": []
          },
          "execution_count": 160
        }
      ]
    },
    {
      "cell_type": "code",
      "metadata": {
        "id": "AAK-T7piSnGR"
      },
      "source": [
        "keyword = 'informatique'\n",
        "\n",
        "\n",
        "def Pole_recruit(keyword = keyword, df_merge=results_df):\n",
        "  df_Pole = pd.concat([df_2020, df_2019, df_2018])\n",
        "  df_2019['Dept'] = df_2019['Dept'].str.replace('06', '6')\n",
        "  df_2020['Dept'] = df_2020['Dept'].str.replace('06', '6')\n",
        "\n",
        "\n",
        "  df_Pole = df_Pole.dropna(axis=1)\n",
        "\n",
        "  map_cities = {'75': 'Paris', '13':\t'Marseille', '69':\t'Lyon','31':\t'Toulouse', '6':\t'Nice',\n",
        "  '44':\t'Nantes', '34':\t'Montpellier', '67':\t'Strasbourg', '33':\t'Bordeaux', '59':\t'Lille', '35':\t'Rennes',\n",
        "  '51':\t'Reims', '42':\t'Saint-Étienne', '83':\t'Toulon', '76':\t'Le Havre', '38':\t'Grenoble', '21':\t'Dijon',\n",
        "  '49':\t'Angers', '30':\t'Nîmes', '974': 'Saint-Denis', '69':\t'Villeurbanne', '63':\t'Clermont-Ferrand',\n",
        "  '72':\t'Le Mans', '29':\t'Brest', '37':\t'Tours', '80':\t'Amiens', '87':\t'Limoges',\n",
        "  '74':\t'Annecy', '66':\t'Perpignan'\n",
        "  #'13':\t'Aix-en-Provence' \n",
        "  }\n",
        "  #just needed depts\n",
        "  df_2018['Dept'] = df_2018['Dept'].astype('string')\n",
        "  df_Pole = df_Pole[df_Pole['Dept'].apply(lambda x: x in map_cities.keys())]\n",
        "\n",
        "  #keyword search\n",
        "  df_Pole = df_Pole[df_Pole['nommetier'].apply(lambda x: keyword in x)]\n",
        "\n",
        "  #convert vals to int\n",
        "  df_Pole['met'] = pd.to_numeric(df_Pole['met'], errors='coerce', downcast='integer').fillna(0)\n",
        "\n",
        "  #join cities, but hold off and take on join might be better\n",
        "  #df_Pole['city_join']= df_Pole['Dept'].map(map_cities)\n",
        "\n",
        "  #roc\n",
        "  df_roc = df_Pole.groupby(['annee', 'Dept'])['met'].sum().unstack().pct_change()\n",
        "  df_roc = df_roc[df_roc.index == 2020].stack().to_frame()\n",
        "  df_roc = df_roc.reset_index().drop('annee', axis=1).rename(columns={\"Dept\": \"Dept\", 0: \"ROC_Proj_Recruit\"})\n",
        "\n",
        "  #sum\n",
        "  df_sum = df_Pole.groupby(['annee', 'Dept'])['met'].sum().unstack()\n",
        "  df_sum = df_sum[df_sum.index == 2020].stack().to_frame()\n",
        "  df_sum = df_sum.reset_index().drop('annee', axis=1).rename(columns={\"Dept\": \"Dept\", 0: \"SUM_Proj_Recruit\"})\n",
        "\n",
        "  #english_sought\n",
        "  df_anglais = results_df.groupby('department')['langues'].count().to_frame()\n",
        "  df_anglais = df_anglais.reset_index()\n",
        "  df_anglais.columns=['Dept', 'English_Sought']\n",
        "\n",
        "  df_Pole = pd.merge(df_roc, df_sum, on='Dept')\n",
        "\n",
        "  #prepare to merge\n",
        "  jobs_avail_df = results_df.groupby('department').count()\n",
        "  jobs_avail_df = jobs_avail_df.reset_index()[['department', 'typeContrat']]\n",
        "  jobs_avail_df.columns=['Dept', 'Nom_Jobs', 'useless']\n",
        "  jobs_avail_df = jobs_avail_df.drop('useless', axis=1)\n",
        "\n",
        "  #\n",
        "\n",
        "  df_Pole = pd.merge(df_Pole, jobs_avail_df, on='Dept')\n",
        "  df_Pole = pd.merge(df_Pole, df_anglais, on='Dept')\n",
        "\n",
        " \n",
        "  return df_Pole"
      ],
      "execution_count": null,
      "outputs": []
    },
    {
      "cell_type": "code",
      "metadata": {
        "id": "GcyjUPW29cxx"
      },
      "source": [
        "df_Pole = Pole_recruit(keyword = keyword)"
      ],
      "execution_count": null,
      "outputs": []
    },
    {
      "cell_type": "code",
      "metadata": {
        "id": "cawobd43WEPt"
      },
      "source": [
        "  map_cities = {'75': 'Paris', '13':\t'Marseille', '69':\t'Lyon','31':\t'Toulouse', '6':\t'Nice',\n",
        "  '44':\t'Nantes', '34':\t'Montpellier', '67':\t'Strasbourg', '33':\t'Bordeaux', '59':\t'Lille', '35':\t'Rennes',\n",
        "  '51':\t'Reims', '42':\t'Saint-Étienne', '83':\t'Toulon', '76':\t'Le Havre', '38':\t'Grenoble', '21':\t'Dijon',\n",
        "  '49':\t'Angers', '30':\t'Nîmes', '974': 'Saint-Denis', '69':\t'Villeurbanne', '63':\t'Clermont-Ferrand',\n",
        "  '72':\t'Le Mans', '29':\t'Brest', '37':\t'Tours', '80':\t'Amiens', '87':\t'Limoges',\n",
        "  '74':\t'Annecy', '66':\t'Perpignan'\n",
        "  #'13':\t'Aix-en-Provence' \n",
        "  }\n",
        "df_Pole['city'] = df_Pole['Dept'].map(map_cities)"
      ],
      "execution_count": null,
      "outputs": []
    },
    {
      "cell_type": "code",
      "metadata": {
        "id": "O9boWvWkgd4l"
      },
      "source": [
        "sns.barplot(results_df['city'].value_counts().nlargest(5).index, results_df['city'].value_counts().nlargest(5))\n",
        "plt.title('Highest Number of Jobs by City \\n Past 90 days \\n By Keyword')\n",
        "plt.show()"
      ],
      "execution_count": null,
      "outputs": []
    },
    {
      "cell_type": "code",
      "metadata": {
        "colab": {
          "base_uri": "https://localhost:8080/",
          "height": 370
        },
        "id": "nSKW9iTegrjv",
        "outputId": "2722be38-0659-480f-a6fd-baac6225a9b5"
      },
      "source": [
        "sns.barplot(df_Pole['Nom_Jobs'].nlargest(5).index, df_Pole['Nom_Jobs'].nlargest(5))"
      ],
      "execution_count": null,
      "outputs": [
        {
          "output_type": "stream",
          "text": [
            "/usr/local/lib/python3.6/dist-packages/seaborn/_decorators.py:43: FutureWarning:\n",
            "\n",
            "Pass the following variables as keyword args: x, y. From version 0.12, the only valid positional argument will be `data`, and passing other arguments without an explicit keyword will result in an error or misinterpretation.\n",
            "\n"
          ],
          "name": "stderr"
        },
        {
          "output_type": "execute_result",
          "data": {
            "text/plain": [
              "<matplotlib.axes._subplots.AxesSubplot at 0x7fe00ab8fcf8>"
            ]
          },
          "metadata": {
            "tags": []
          },
          "execution_count": 173
        },
        {
          "output_type": "display_data",
          "data": {
            "image/png": "[encoded data removed]",
            "text/plain": [
              "<Figure size 432x288 with 1 Axes>"
            ]
          },
          "metadata": {
            "tags": [],
            "needs_background": "light"
          }
        }
      ]
    },
    {
      "cell_type": "code",
      "metadata": {
        "colab": {
          "base_uri": "https://localhost:8080/",
          "height": 204
        },
        "id": "1gA-shVehxzh",
        "outputId": "5b934379-e893-44c6-a1df-542e676fc59d"
      },
      "source": [
        "idx = df_Pole['Nom_Jobs'].nlargest(5).index\n",
        "df_Pole.iloc[idx]"
      ],
      "execution_count": null,
      "outputs": [
        {
          "output_type": "execute_result",
          "data": {
            "text/html": [
              "<div>\n",
              "<style scoped>\n",
              "    .dataframe tbody tr th:only-of-type {\n",
              "        vertical-align: middle;\n",
              "    }\n",
              "\n",
              "    .dataframe tbody tr th {\n",
              "        vertical-align: top;\n",
              "    }\n",
              "\n",
              "    .dataframe thead th {\n",
              "        text-align: right;\n",
              "    }\n",
              "</style>\n",
              "<table border=\"1\" class=\"dataframe\">\n",
              "  <thead>\n",
              "    <tr style=\"text-align: right;\">\n",
              "      <th></th>\n",
              "      <th>Dept</th>\n",
              "      <th>ROC_Proj_Recruit</th>\n",
              "      <th>SUM_Proj_Recruit</th>\n",
              "      <th>Nom_Jobs</th>\n",
              "      <th>English_Sought</th>\n",
              "      <th>city</th>\n",
              "    </tr>\n",
              "  </thead>\n",
              "  <tbody>\n",
              "    <tr>\n",
              "      <th>22</th>\n",
              "      <td>75</td>\n",
              "      <td>-0.052343</td>\n",
              "      <td>16928.0</td>\n",
              "      <td>267</td>\n",
              "      <td>19</td>\n",
              "      <td>Paris</td>\n",
              "    </tr>\n",
              "    <tr>\n",
              "      <th>19</th>\n",
              "      <td>69</td>\n",
              "      <td>0.063317</td>\n",
              "      <td>5206.0</td>\n",
              "      <td>128</td>\n",
              "      <td>9</td>\n",
              "      <td>Villeurbanne</td>\n",
              "    </tr>\n",
              "    <tr>\n",
              "      <th>0</th>\n",
              "      <td>13</td>\n",
              "      <td>0.264943</td>\n",
              "      <td>3132.0</td>\n",
              "      <td>122</td>\n",
              "      <td>12</td>\n",
              "      <td>Marseille</td>\n",
              "    </tr>\n",
              "    <tr>\n",
              "      <th>14</th>\n",
              "      <td>59</td>\n",
              "      <td>0.066130</td>\n",
              "      <td>5030.0</td>\n",
              "      <td>95</td>\n",
              "      <td>6</td>\n",
              "      <td>Lille</td>\n",
              "    </tr>\n",
              "    <tr>\n",
              "      <th>11</th>\n",
              "      <td>44</td>\n",
              "      <td>0.096832</td>\n",
              "      <td>4293.0</td>\n",
              "      <td>76</td>\n",
              "      <td>6</td>\n",
              "      <td>Nantes</td>\n",
              "    </tr>\n",
              "  </tbody>\n",
              "</table>\n",
              "</div>"
            ],
            "text/plain": [
              "   Dept  ROC_Proj_Recruit  ...  English_Sought          city\n",
              "22   75         -0.052343  ...              19         Paris\n",
              "19   69          0.063317  ...               9  Villeurbanne\n",
              "0    13          0.264943  ...              12     Marseille\n",
              "14   59          0.066130  ...               6         Lille\n",
              "11   44          0.096832  ...               6        Nantes\n",
              "\n",
              "[5 rows x 6 columns]"
            ]
          },
          "metadata": {
            "tags": []
          },
          "execution_count": 195
        }
      ]
    },
    {
      "cell_type": "code",
      "metadata": {
        "colab": {
          "base_uri": "https://localhost:8080/",
          "height": 398
        },
        "id": "wAjiqPzHiLcv",
        "outputId": "7ea36dba-9bed-477c-c456-ee161331aa78"
      },
      "source": [
        "sns.barplot(df_Pole.iloc[idx]['city'], df_Pole.iloc[idx]['SUM_Proj_Recruit'] )\n",
        "plt.title('Le plus grand nombre de projets de recrutement \\n Pôle emploi 2020')\n",
        "plt.show()"
      ],
      "execution_count": null,
      "outputs": [
        {
          "output_type": "stream",
          "text": [
            "/usr/local/lib/python3.6/dist-packages/seaborn/_decorators.py:43: FutureWarning:\n",
            "\n",
            "Pass the following variables as keyword args: x, y. From version 0.12, the only valid positional argument will be `data`, and passing other arguments without an explicit keyword will result in an error or misinterpretation.\n",
            "\n"
          ],
          "name": "stderr"
        },
        {
          "output_type": "display_data",
          "data": {
            "image/png": "[encoded data removed]",
            "text/plain": [
              "<Figure size 432x288 with 1 Axes>"
            ]
          },
          "metadata": {
            "tags": [],
            "needs_background": "light"
          }
        }
      ]
    },
    {
      "cell_type": "code",
      "metadata": {
        "colab": {
          "base_uri": "https://localhost:8080/",
          "height": 413
        },
        "id": "6XPkSBNUjhB_",
        "outputId": "e032a9a5-f281-40ac-dd48-85eda8d412e6"
      },
      "source": [
        "idx = df_Pole['ROC_Proj_Recruit'].nlargest(5).index\n",
        "df_Pole.iloc[idx]\n",
        "\n",
        "sns.barplot(df_Pole.iloc[idx]['city'], df_Pole.iloc[idx]['ROC_Proj_Recruit'] )\n",
        "plt.title(\"Pôle Emploi Projets de recrutement \\n Taux de changement depuis 2019 \\n les plus fortes augmentations\")\n",
        "plt.show()"
      ],
      "execution_count": null,
      "outputs": [
        {
          "output_type": "stream",
          "text": [
            "/usr/local/lib/python3.6/dist-packages/seaborn/_decorators.py:43: FutureWarning:\n",
            "\n",
            "Pass the following variables as keyword args: x, y. From version 0.12, the only valid positional argument will be `data`, and passing other arguments without an explicit keyword will result in an error or misinterpretation.\n",
            "\n"
          ],
          "name": "stderr"
        },
        {
          "output_type": "display_data",
          "data": {
            "image/png": "[encoded data removed]",
            "text/plain": [
              "<Figure size 432x288 with 1 Axes>"
            ]
          },
          "metadata": {
            "tags": [],
            "needs_background": "light"
          }
        }
      ]
    },
    {
      "cell_type": "code",
      "metadata": {
        "colab": {
          "base_uri": "https://localhost:8080/",
          "height": 413
        },
        "id": "8jcJ2OGXkK1y",
        "outputId": "8e0d9f02-e1fe-44b2-a272-2ceb4b746a9b"
      },
      "source": [
        "idx = df_Pole['ROC_Proj_Recruit'].sort_values()[:5].index\n",
        "df_Pole.iloc[idx]\n",
        "\n",
        "sns.barplot(df_Pole.iloc[idx]['city'], df_Pole.iloc[idx]['ROC_Proj_Recruit'] )\n",
        "plt.title(\"Pôle Emploi Projets de recrutement \\n Taux de changement depuis 2019 \\n les plus fortes baisses\")\n",
        "plt.show()"
      ],
      "execution_count": null,
      "outputs": [
        {
          "output_type": "stream",
          "text": [
            "/usr/local/lib/python3.6/dist-packages/seaborn/_decorators.py:43: FutureWarning:\n",
            "\n",
            "Pass the following variables as keyword args: x, y. From version 0.12, the only valid positional argument will be `data`, and passing other arguments without an explicit keyword will result in an error or misinterpretation.\n",
            "\n"
          ],
          "name": "stderr"
        },
        {
          "output_type": "display_data",
          "data": {
            "image/png": "[encoded data removed]",
            "text/plain": [
              "<Figure size 432x288 with 1 Axes>"
            ]
          },
          "metadata": {
            "tags": [],
            "needs_background": "light"
          }
        }
      ]
    },
    {
      "cell_type": "code",
      "metadata": {
        "colab": {
          "base_uri": "https://localhost:8080/",
          "height": 284
        },
        "id": "3QIJFE9gcuZz",
        "outputId": "d575df78-c7b2-4940-dbba-a70393fafa61"
      },
      "source": [
        "df_Pole['SUM_Proj_Recruit'].nlargest(5).plot(kind='bar')\n",
        "plt.title('2020 Top 5 Num Recruitment Projects')\n",
        "plt.show()"
      ],
      "execution_count": null,
      "outputs": [
        {
          "output_type": "display_data",
          "data": {
            "image/png": "[encoded data removed]",
            "text/plain": [
              "<Figure size 432x288 with 1 Axes>"
            ]
          },
          "metadata": {
            "tags": [],
            "needs_background": "light"
          }
        }
      ]
    },
    {
      "cell_type": "code",
      "metadata": {
        "colab": {
          "base_uri": "https://localhost:8080/",
          "height": 284
        },
        "id": "Sb7VFGWj_egg",
        "outputId": "7ce1f250-af45-499b-e949-86159970ab88"
      },
      "source": [
        "df_Pole['ROC_Proj_Recruit'].nlargest(5).plot(kind='bar')\n",
        "plt.title('2019 - 2020 % Change Top 5 Num Recruitment Projects')\n",
        "plt.show()"
      ],
      "execution_count": null,
      "outputs": [
        {
          "output_type": "display_data",
          "data": {
            "image/png": "[encoded data removed]",
            "text/plain": [
              "<Figure size 432x288 with 1 Axes>"
            ]
          },
          "metadata": {
            "tags": [],
            "needs_background": "light"
          }
        }
      ]
    },
    {
      "cell_type": "code",
      "metadata": {
        "id": "RfhAXy4yFS9p"
      },
      "source": [
        "df_Pole.to_csv('2020_jobs_recruit_per_dist.csv')"
      ],
      "execution_count": null,
      "outputs": []
    }
  ]
}