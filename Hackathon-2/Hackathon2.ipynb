{
  "nbformat": 4,
  "nbformat_minor": 0,
  "metadata": {
    "colab": {
      "name": "Hackathon2.ipynb",
      "provenance": [],
      "collapsed_sections": [],
      "include_colab_link": true
    },
    "kernelspec": {
      "name": "python3",
      "display_name": "Python 3"
    }
  },
  "cells": [
    {
      "cell_type": "markdown",
      "metadata": {
        "id": "view-in-github",
        "colab_type": "text"
      },
      "source": [
        "<a href=\"https://colab.research.google.com/github/james-monahan/Code-school-notebooks/blob/main/Hackathon-2/Hackathon2.ipynb\" target=\"_parent\"><img src=\"https://colab.research.google.com/assets/colab-badge.svg\" alt=\"Open In Colab\"/></a>"
      ]
    },
    {
      "cell_type": "markdown",
      "metadata": {
        "id": "0arn7qPPUbvF"
      },
      "source": [
        "#imports"
      ]
    },
    {
      "cell_type": "code",
      "metadata": {
        "id": "p1xusYBwUGCq"
      },
      "source": [
        "!python -m spacy download fr_core_news_sm"
      ],
      "execution_count": null,
      "outputs": []
    },
    {
      "cell_type": "code",
      "metadata": {
        "id": "MdWVQ8jcUM-y"
      },
      "source": [
        "import numpy as np\r\n",
        "import nltk\r\n",
        "nltk.download('popular')\r\n",
        "import string\r\n",
        "from nltk.stem import SnowballStemmer\r\n",
        "import spacy\r\n",
        "import fr_core_news_sm\r\n",
        "nlp = fr_core_news_sm.load()"
      ],
      "execution_count": null,
      "outputs": []
    },
    {
      "cell_type": "code",
      "metadata": {
        "id": "GQBFILNAH6yC"
      },
      "source": [
        "import pandas as pd\n",
        "from bs4 import BeautifulSoup"
      ],
      "execution_count": 2,
      "outputs": []
    },
    {
      "cell_type": "markdown",
      "metadata": {
        "id": "EieJYg-XUgBu"
      },
      "source": [
        "#data (team)"
      ]
    },
    {
      "cell_type": "code",
      "metadata": {
        "id": "nvELlLk-QgSr"
      },
      "source": [
        "linkmain = 'https://raw.githubusercontent.com/parebin/bon_a_python/main/html_recette_all.csv'\n",
        "df_main = pd.read_csv(linkmain, index_col=0)"
      ],
      "execution_count": 3,
      "outputs": []
    },
    {
      "cell_type": "code",
      "metadata": {
        "id": "ROWEPPfD0e8b"
      },
      "source": [
        "df_main.to_csv('html_recette_all.csv')"
      ],
      "execution_count": 4,
      "outputs": []
    },
    {
      "cell_type": "code",
      "metadata": {
        "colab": {
          "base_uri": "https://localhost:8080/"
        },
        "id": "n6aonwUDRNV1",
        "outputId": "9c2abdb8-3048-4b4e-dc47-bf6ef09a368e"
      },
      "source": [
        "df_main['fiche_recette'] = df_main['fiche_recette'].apply(BeautifulSoup)"
      ],
      "execution_count": null,
      "outputs": [
        {
          "output_type": "stream",
          "text": [
            "/usr/local/lib/python3.6/dist-packages/pandas/core/series.py:4213: UserWarning: No parser was explicitly specified, so I'm using the best available HTML parser for this system (\"lxml\"). This usually isn't a problem, but if you run this code on another system, or in a different virtual environment, it may use a different parser and behave differently.\n",
            "\n",
            "The code that caused this warning is on line 4213 of the file /usr/local/lib/python3.6/dist-packages/pandas/core/series.py. To get rid of this warning, pass the additional argument 'features=\"lxml\"' to the BeautifulSoup constructor.\n",
            "\n",
            "  mapped = lib.map_infer(values, f, convert=convert_dtype)\n"
          ],
          "name": "stderr"
        }
      ]
    },
    {
      "cell_type": "code",
      "metadata": {
        "id": "ZuNFJU48TdVk"
      },
      "source": [
        "def ajout_ingredient(soup):\n",
        "  liste_ingredient =[]\n",
        "  soup_ing = soup.find_all(class_ ='ingredient' )#class=\"recipe-ingredients__list\n",
        "  for i in soup_ing :\n",
        "    liste_ingredient.append(i.text.lower())\n",
        "  return liste_ingredient"
      ],
      "execution_count": null,
      "outputs": []
    },
    {
      "cell_type": "code",
      "metadata": {
        "id": "VtD7Yp2wTehJ"
      },
      "source": [
        "df_main['ingredients'] = df_main['fiche_recette'].apply(ajout_ingredient)"
      ],
      "execution_count": null,
      "outputs": []
    },
    {
      "cell_type": "markdown",
      "metadata": {
        "id": "sZmzrugQUkr6"
      },
      "source": [
        "#Clean text and create functions (my work)"
      ]
    },
    {
      "cell_type": "code",
      "metadata": {
        "colab": {
          "base_uri": "https://localhost:8080/"
        },
        "id": "Uo4HSUyaUl-N",
        "outputId": "ccd3302b-445d-48c5-c61d-ba4ccc446de1"
      },
      "source": [
        "df_main.shape"
      ],
      "execution_count": null,
      "outputs": [
        {
          "output_type": "execute_result",
          "data": {
            "text/plain": [
              "(1046, 14)"
            ]
          },
          "metadata": {
            "tags": []
          },
          "execution_count": 72
        }
      ]
    },
    {
      "cell_type": "code",
      "metadata": {
        "id": "YeYv3JUiUpEA"
      },
      "source": [
        "extra_stop = ['g', 'cuillères', 'cuillère', 'gramme', 'de',\r\n",
        " 'barquette','doux','bonnee','botte','bouquet','bouteille','boîte','branche',\r\n",
        " 'branches','brin','brins','bâton','bâtons','amer','poudre','café',\"d'extrait\",\r\n",
        " 'chimique','cl','cuisse','cuisses',\"entières\",\"frais\",\"demi\",'dl','feuille','feuilles',\r\n",
        " \"filet\",'fines','tranches',\"gousse\",\"gouttes\",'kg','ml',\"moitié\",'paquet','petit','petite',\r\n",
        " 'petits','pincée','pincées','poignée','pot','sachet','sachets','soupe','tablette','pelées','tranche','tranches',\r\n",
        " \"tête\",\"verre\",'verres','zeste',\r\n",
        "]"
      ],
      "execution_count": null,
      "outputs": []
    },
    {
      "cell_type": "code",
      "metadata": {
        "id": "9Mj30Zi_VCIJ"
      },
      "source": [
        "stop_words = nltk.corpus.stopwords.words('french')\r\n",
        "stop_words.extend(extra_stop)\r\n",
        "\r\n",
        "def remove_stop(col):\r\n",
        "  text = []\r\n",
        "  for val in col:\r\n",
        "    text.append(\" \".join([x for x in val.split() if x not in stop_words]))\r\n",
        "  return text\r\n",
        "\r\n",
        "def stemming(col):\r\n",
        "  stem_fr = SnowballStemmer('french')\r\n",
        "  text = []\r\n",
        "  for val in col:\r\n",
        "    text.append(\" \".join([stem_en.stem(x) for x in val.split()]))\r\n",
        "  return text \r\n",
        "\r\n",
        "def lemma(col):\r\n",
        "  text = []\r\n",
        "  for val in col:\r\n",
        "    text.append(\" \".join([x.lemma_ for x in nlp(val)]))\r\n",
        "  return text \r\n",
        "\r\n",
        "\r\n",
        "def expand_get_dummies_todf(col, df, split = \",\"):\r\n",
        "  # df[col] = df[col].apply(lambda x: x.split(split))\r\n",
        "  df_d = pd.get_dummies(df[col].explode())\r\n",
        "  df_d = df_d.groupby(df_d.index).sum()\r\n",
        "  return df_d\r\n",
        "\r\n",
        "\r\n",
        "def get_top_percent(data, col, percent, tag=None):\r\n",
        "  if tag:\r\n",
        "    data=data.where(data['tag_1']==tag)\r\n",
        "  temp = expand_get_dummies_todf(col, df = data, split = \",\")\r\n",
        "  temp['group'] = 'group'\r\n",
        "  # num = round(len(temp)*percent)#fix this, should be shape\r\n",
        "  num = int((temp.shape[1])*percent)\r\n",
        "  top = temp.groupby('group').sum().T['group'].nlargest(num)#.index\r\n",
        "  # print(len(temp), temp.shape)\r\n",
        "  return top\r\n",
        "\r\n",
        "\r\n",
        "\r\n",
        "def find_magic(data, col, col2, search, exclude_top=.2, include_magic=.2, min_samples=50):\r\n",
        "  filtered = data[data[col].str.contains(search)]\r\n",
        "  temp = expand_get_dummies_todf(col2, df = filtered, split = \",\")\r\n",
        "  temp['group'] = 'group'\r\n",
        "  num_top = int((temp.shape[1])*exclude_top)\r\n",
        "  top = temp.groupby('group').sum().T['group'].nlargest(num_top).index\r\n",
        "  # print('total samples', temp.shape[0])\r\n",
        "\r\n",
        "  #too many reciies without enough samples\r\n",
        "  if temp.shape[0] < min_samples:\r\n",
        "    top_score = 0\r\n",
        "  else:\r\n",
        "    top_score = max(filtered['note'])-2\r\n",
        "    filtered_rating = filtered[filtered['note'] >= top_score]\r\n",
        "\r\n",
        "  filtered_rating = filtered\r\n",
        "\r\n",
        "  temp2 = expand_get_dummies_todf(col2, df = filtered_rating, split = \",\").drop(top, axis=1)\r\n",
        "  temp2['group'] = 'group'\r\n",
        "  num = int((temp.shape[1])*include_magic)\r\n",
        "  top_magic = temp2.groupby('group').sum().T['group'].nlargest(num)\r\n",
        "\r\n",
        "  return top_magic"
      ],
      "execution_count": null,
      "outputs": []
    },
    {
      "cell_type": "code",
      "metadata": {
        "colab": {
          "base_uri": "https://localhost:8080/"
        },
        "id": "fcKsi0pNVTlZ",
        "outputId": "7dd68a1a-d78d-4dd3-cfa9-fd4be299b569"
      },
      "source": [
        "df_main.columns"
      ],
      "execution_count": null,
      "outputs": [
        {
          "output_type": "execute_result",
          "data": {
            "text/plain": [
              "Index(['url', 'fiche_recette', 'titre', 'tags', 'tag_1', 'temps', 'cout',\n",
              "       'difficulte', 'note', 'like', 'partage', 'utilisateur', 'type',\n",
              "       'ingredients'],\n",
              "      dtype='object')"
            ]
          },
          "metadata": {
            "tags": []
          },
          "execution_count": 75
        }
      ]
    },
    {
      "cell_type": "code",
      "metadata": {
        "id": "ISvIC5thVLB-"
      },
      "source": [
        "df_main['ingred_clean_lemma'] = df_main['ingredients'].apply(lemma)\r\n",
        "df_main['ingred_clean'] = df_main['ingred_clean_lemma'].apply(remove_stop)"
      ],
      "execution_count": null,
      "outputs": []
    },
    {
      "cell_type": "code",
      "metadata": {
        "colab": {
          "base_uri": "https://localhost:8080/"
        },
        "id": "S9tMu872Vcwl",
        "outputId": "8044bac1-308c-4197-c62c-2ba0ee25d0b0"
      },
      "source": [
        "get_top_percent(data=df_main, col='ingred_clean', percent=.10, tag='accompagnement')"
      ],
      "execution_count": null,
      "outputs": [
        {
          "output_type": "execute_result",
          "data": {
            "text/plain": [
              "sel                       56\n",
              "poivre                    48\n",
              "ail                       25\n",
              "pomme terre               24\n",
              "beurre                    22\n",
              "farine                    21\n",
              "oignon                    21\n",
              "oeuf                      20\n",
              "huile olive               19\n",
              "huile                     14\n",
              "eau                       13\n",
              "muscade                   12\n",
              "persil                    12\n",
              "crème liquide              9\n",
              "kilogramme pomme terre     9\n",
              "lait                       9\n",
              "sucre                      9\n",
              "thym                       8\n",
              "courgette                  7\n",
              "Name: group, dtype: uint8"
            ]
          },
          "metadata": {
            "tags": []
          },
          "execution_count": 77
        }
      ]
    },
    {
      "cell_type": "code",
      "metadata": {
        "colab": {
          "base_uri": "https://localhost:8080/"
        },
        "id": "RjY-blICV1ji",
        "outputId": "133e99b6-b597-4fb3-985f-26c81f907903"
      },
      "source": [
        "find_magic(data=df_main, col='titre', col2='ingred_clean', search='poulet', exclude_top=.2, include_magic=.1, min_samples=10)"
      ],
      "execution_count": null,
      "outputs": [
        {
          "output_type": "execute_result",
          "data": {
            "text/plain": [
              "tomate              3\n",
              "bacon               2\n",
              "basilic             2\n",
              "concentré tomate    2\n",
              "coriandr            2\n",
              "curcuma             2\n",
              "curry               2\n",
              "farine              2\n",
              "jambon              2\n",
              "maïzena             2\n",
              "miel                2\n",
              "muscade             2\n",
              "paprika             2\n",
              "poitrine fumée      2\n",
              "pâte feuilletée     2\n",
              "Name: group, dtype: uint8"
            ]
          },
          "metadata": {
            "tags": []
          },
          "execution_count": 78
        }
      ]
    }
  ]
}