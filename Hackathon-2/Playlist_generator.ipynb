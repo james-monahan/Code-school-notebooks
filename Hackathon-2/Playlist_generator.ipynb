{
  "nbformat": 4,
  "nbformat_minor": 0,
  "metadata": {
    "colab": {
      "name": "Playlist generator.ipynb",
      "provenance": [],
      "collapsed_sections": [
        "omeWWySymsye",
        "lXP5MmjFmx60",
        "FVgFfFXVrzEl"
      ],
      "include_colab_link": true
    },
    "kernelspec": {
      "name": "python3",
      "display_name": "Python 3"
    }
  },
  "cells": [
    {
      "cell_type": "markdown",
      "metadata": {
        "id": "view-in-github",
        "colab_type": "text"
      },
      "source": [
        "<a href=\"https://colab.research.google.com/github/james-monahan/Code-school-notebooks/blob/main/Hackathon-2/Playlist_generator.ipynb\" target=\"_parent\"><img src=\"https://colab.research.google.com/assets/colab-badge.svg\" alt=\"Open In Colab\"/></a>"
      ]
    },
    {
      "cell_type": "markdown",
      "metadata": {
        "id": "eQTam6rrmvpE"
      },
      "source": [
        "#interface"
      ]
    },
    {
      "cell_type": "code",
      "metadata": {
        "cellView": "form",
        "id": "jB4RAcAbhTRs"
      },
      "source": [
        "import requests\r\n",
        "import json\r\n",
        "token = \"Bearer BQB03ILaRU5yaCEBZSEOo_TR6BH7fFEU26pZtCifP9t1IZPnh8zwYLH3NmANUCx1NDFe_4V6wlSNAesOkD3q5bQ0WaRukkqOKfwKA27vY0vDp8VglBDnAvEcX2ICFEDh_wZUQ7u_2smMkT0jaTmSsW2j9MyxnUtdfBJgUpokQMvVQKiiWVx_PwL9H4ZTSF4VFkERa_l_0I7y78dRpYhK9h0jTgAd\"\r\n",
        "#@title playlist de recettes\r\n",
        "\r\n",
        "seconds = 1200 #@param {type:\"integer\"}\r\n",
        "genre = \"holidays\" #@param ['comedy','holidays','honky-tonk','ska','tango']\r\n",
        "tempo = 120 #@param {type:\"integer\"}\r\n",
        "\r\n",
        "def get_playlist(seconds, genre, energy, token):\r\n",
        "  endpoint_url = \"https://api.spotify.com/v1/recommendations?\"\r\n",
        "  limit = seconds // 210\r\n",
        "  market=\"US\"\r\n",
        "  seed_genres=genre\r\n",
        "  target_duration_ms = 210*1000\r\n",
        "  # target_energy = energy\r\n",
        "  min_tempo = energy\r\n",
        "\r\n",
        "  # query = f\"{endpoint_url}limit={limit}&market={market}&seed_genres={seed_genres}&target_duration_ms={target_duration_ms}&target_energy={target_energy}\"\r\n",
        "  query = f\"{endpoint_url}limit={limit}&market={market}&seed_genres={seed_genres}&target_duration_ms={target_duration_ms}&min_tempo={min_tempo}\"\r\n",
        "\r\n",
        "  response =requests.get(query, \r\n",
        "               headers={\"Content-Type\":\"application/json\", \r\n",
        "                        \"Authorization\":token})\r\n",
        "  \r\n",
        "  json_response = response.json()\r\n",
        "\r\n",
        "  uris = []\r\n",
        "\r\n",
        "  for i in json_response['tracks']:\r\n",
        "    uris.append(i)\r\n",
        "    print(f\"\\\"{i['name']}\\\" by {i['artists'][0]['name']}\")\r\n",
        "\r\n",
        "# get_playlist(seconds=seconds, genre=genre, energy=tempo, token=token)"
      ],
      "execution_count": null,
      "outputs": []
    }
  ]
}