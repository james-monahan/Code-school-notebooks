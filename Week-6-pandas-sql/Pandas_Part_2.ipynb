{
  "nbformat": 4,
  "nbformat_minor": 0,
  "metadata": {
    "colab": {
      "name": "jpm_Copy of Pandas - Part 2.ipynb",
      "provenance": [],
      "collapsed_sections": [],
      "include_colab_link": true
    },
    "kernelspec": {
      "name": "python3",
      "display_name": "Python 3"
    }
  },
  "cells": [
    {
      "cell_type": "markdown",
      "metadata": {
        "id": "view-in-github",
        "colab_type": "text"
      },
      "source": [
        "<a href=\"https://colab.research.google.com/github/james-monahan/Code-school-notebooks/blob/main/Week-6-pandas-sql/Pandas_Part_2.ipynb\" target=\"_parent\"><img src=\"https://colab.research.google.com/assets/colab-badge.svg\" alt=\"Open In Colab\"/></a>"
      ]
    },
    {
      "cell_type": "code",
      "metadata": {
        "id": "wnuauSuaG-Jj"
      },
      "source": [
        "import pandas as pd\n",
        "import numpy as np"
      ],
      "execution_count": 1,
      "outputs": []
    },
    {
      "cell_type": "markdown",
      "metadata": {
        "id": "vPeraeSVmy3l"
      },
      "source": [
        "# Mission 1\n",
        "\n",
        "Display the following information for this dataset: http://bit.ly/movieusers\n",
        "- The last 5 rows\n",
        "- The first 5 rows\n",
        "- The type of each column\n",
        "\n",
        "Note : start coding something by typing `pd.read...` and explore the different options available in `pandas`...\n"
      ]
    },
    {
      "cell_type": "code",
      "metadata": {
        "id": "hYiMPyQjnDiX",
        "colab": {
          "base_uri": "https://localhost:8080/"
        },
        "outputId": "24c80fa4-88f4-4df7-d603-d8ef36cd5c6d"
      },
      "source": [
        "url = 'http://bit.ly/movieusers'\n",
        "df = pd.read_csv(url, delimiter='|', header=None)\n",
        "print(df.head())\n",
        "print()\n",
        "print(df.tail())\n",
        "print()\n",
        "print(df.dtypes)"
      ],
      "execution_count": 2,
      "outputs": [
        {
          "output_type": "stream",
          "text": [
            "   0   1  2           3      4\n",
            "0  1  24  M  technician  85711\n",
            "1  2  53  F       other  94043\n",
            "2  3  23  M      writer  32067\n",
            "3  4  24  M  technician  43537\n",
            "4  5  33  F       other  15213\n",
            "\n",
            "       0   1  2              3      4\n",
            "938  939  26  F        student  33319\n",
            "939  940  32  M  administrator  02215\n",
            "940  941  20  M        student  97229\n",
            "941  942  48  F      librarian  78209\n",
            "942  943  22  M        student  77841\n",
            "\n",
            "0     int64\n",
            "1     int64\n",
            "2    object\n",
            "3    object\n",
            "4    object\n",
            "dtype: object\n"
          ],
          "name": "stdout"
        }
      ]
    },
    {
      "cell_type": "markdown",
      "metadata": {
        "id": "FBZHvmA4m0Hp"
      },
      "source": [
        "# Mission 2\n",
        "\n",
        "Display the first 10 rows in the following file: http://bit.ly/drinksbycountry\n"
      ]
    },
    {
      "cell_type": "code",
      "metadata": {
        "id": "tEarIThhnjtj",
        "colab": {
          "base_uri": "https://localhost:8080/",
          "height": 353
        },
        "outputId": "174d8aae-7df9-40eb-a448-882ed0d6cc1f"
      },
      "source": [
        "url = 'http://bit.ly/drinksbycountry'\n",
        "df2 = pd.read_csv(url)\n",
        "df2.head(10)"
      ],
      "execution_count": 3,
      "outputs": [
        {
          "output_type": "execute_result",
          "data": {
            "text/html": [
              "<div>\n",
              "<style scoped>\n",
              "    .dataframe tbody tr th:only-of-type {\n",
              "        vertical-align: middle;\n",
              "    }\n",
              "\n",
              "    .dataframe tbody tr th {\n",
              "        vertical-align: top;\n",
              "    }\n",
              "\n",
              "    .dataframe thead th {\n",
              "        text-align: right;\n",
              "    }\n",
              "</style>\n",
              "<table border=\"1\" class=\"dataframe\">\n",
              "  <thead>\n",
              "    <tr style=\"text-align: right;\">\n",
              "      <th></th>\n",
              "      <th>country</th>\n",
              "      <th>beer_servings</th>\n",
              "      <th>spirit_servings</th>\n",
              "      <th>wine_servings</th>\n",
              "      <th>total_litres_of_pure_alcohol</th>\n",
              "      <th>continent</th>\n",
              "    </tr>\n",
              "  </thead>\n",
              "  <tbody>\n",
              "    <tr>\n",
              "      <th>0</th>\n",
              "      <td>Afghanistan</td>\n",
              "      <td>0</td>\n",
              "      <td>0</td>\n",
              "      <td>0</td>\n",
              "      <td>0.0</td>\n",
              "      <td>Asia</td>\n",
              "    </tr>\n",
              "    <tr>\n",
              "      <th>1</th>\n",
              "      <td>Albania</td>\n",
              "      <td>89</td>\n",
              "      <td>132</td>\n",
              "      <td>54</td>\n",
              "      <td>4.9</td>\n",
              "      <td>Europe</td>\n",
              "    </tr>\n",
              "    <tr>\n",
              "      <th>2</th>\n",
              "      <td>Algeria</td>\n",
              "      <td>25</td>\n",
              "      <td>0</td>\n",
              "      <td>14</td>\n",
              "      <td>0.7</td>\n",
              "      <td>Africa</td>\n",
              "    </tr>\n",
              "    <tr>\n",
              "      <th>3</th>\n",
              "      <td>Andorra</td>\n",
              "      <td>245</td>\n",
              "      <td>138</td>\n",
              "      <td>312</td>\n",
              "      <td>12.4</td>\n",
              "      <td>Europe</td>\n",
              "    </tr>\n",
              "    <tr>\n",
              "      <th>4</th>\n",
              "      <td>Angola</td>\n",
              "      <td>217</td>\n",
              "      <td>57</td>\n",
              "      <td>45</td>\n",
              "      <td>5.9</td>\n",
              "      <td>Africa</td>\n",
              "    </tr>\n",
              "    <tr>\n",
              "      <th>5</th>\n",
              "      <td>Antigua &amp; Barbuda</td>\n",
              "      <td>102</td>\n",
              "      <td>128</td>\n",
              "      <td>45</td>\n",
              "      <td>4.9</td>\n",
              "      <td>North America</td>\n",
              "    </tr>\n",
              "    <tr>\n",
              "      <th>6</th>\n",
              "      <td>Argentina</td>\n",
              "      <td>193</td>\n",
              "      <td>25</td>\n",
              "      <td>221</td>\n",
              "      <td>8.3</td>\n",
              "      <td>South America</td>\n",
              "    </tr>\n",
              "    <tr>\n",
              "      <th>7</th>\n",
              "      <td>Armenia</td>\n",
              "      <td>21</td>\n",
              "      <td>179</td>\n",
              "      <td>11</td>\n",
              "      <td>3.8</td>\n",
              "      <td>Europe</td>\n",
              "    </tr>\n",
              "    <tr>\n",
              "      <th>8</th>\n",
              "      <td>Australia</td>\n",
              "      <td>261</td>\n",
              "      <td>72</td>\n",
              "      <td>212</td>\n",
              "      <td>10.4</td>\n",
              "      <td>Oceania</td>\n",
              "    </tr>\n",
              "    <tr>\n",
              "      <th>9</th>\n",
              "      <td>Austria</td>\n",
              "      <td>279</td>\n",
              "      <td>75</td>\n",
              "      <td>191</td>\n",
              "      <td>9.7</td>\n",
              "      <td>Europe</td>\n",
              "    </tr>\n",
              "  </tbody>\n",
              "</table>\n",
              "</div>"
            ],
            "text/plain": [
              "             country  ...      continent\n",
              "0        Afghanistan  ...           Asia\n",
              "1            Albania  ...         Europe\n",
              "2            Algeria  ...         Africa\n",
              "3            Andorra  ...         Europe\n",
              "4             Angola  ...         Africa\n",
              "5  Antigua & Barbuda  ...  North America\n",
              "6          Argentina  ...  South America\n",
              "7            Armenia  ...         Europe\n",
              "8          Australia  ...        Oceania\n",
              "9            Austria  ...         Europe\n",
              "\n",
              "[10 rows x 6 columns]"
            ]
          },
          "metadata": {
            "tags": []
          },
          "execution_count": 3
        }
      ]
    },
    {
      "cell_type": "markdown",
      "metadata": {
        "id": "GDYdX4GhVqcv"
      },
      "source": [
        "Set the \"country\" column as the index for the dataframe."
      ]
    },
    {
      "cell_type": "code",
      "metadata": {
        "id": "v6UStsirVonR",
        "colab": {
          "base_uri": "https://localhost:8080/"
        },
        "outputId": "d1c37d18-0780-4fc4-ee0a-fa06a7cbc1b8"
      },
      "source": [
        "df2.set_index('country', drop=True, inplace=True,)\n",
        "print(df2.head())\n",
        "df2.index"
      ],
      "execution_count": 4,
      "outputs": [
        {
          "output_type": "stream",
          "text": [
            "             beer_servings  ...  continent\n",
            "country                     ...           \n",
            "Afghanistan              0  ...       Asia\n",
            "Albania                 89  ...     Europe\n",
            "Algeria                 25  ...     Africa\n",
            "Andorra                245  ...     Europe\n",
            "Angola                 217  ...     Africa\n",
            "\n",
            "[5 rows x 5 columns]\n"
          ],
          "name": "stdout"
        },
        {
          "output_type": "execute_result",
          "data": {
            "text/plain": [
              "Index(['Afghanistan', 'Albania', 'Algeria', 'Andorra', 'Angola',\n",
              "       'Antigua & Barbuda', 'Argentina', 'Armenia', 'Australia', 'Austria',\n",
              "       ...\n",
              "       'Tanzania', 'USA', 'Uruguay', 'Uzbekistan', 'Vanuatu', 'Venezuela',\n",
              "       'Vietnam', 'Yemen', 'Zambia', 'Zimbabwe'],\n",
              "      dtype='object', name='country', length=193)"
            ]
          },
          "metadata": {
            "tags": []
          },
          "execution_count": 4
        }
      ]
    },
    {
      "cell_type": "markdown",
      "metadata": {
        "id": "4c0iWWwbm0J-"
      },
      "source": [
        "# Mission 3\n",
        "\n",
        "Access the values of the row for **Zimbabwe** (use the index value)  "
      ]
    },
    {
      "cell_type": "code",
      "metadata": {
        "id": "FJfMGNdXq9A4",
        "colab": {
          "base_uri": "https://localhost:8080/"
        },
        "outputId": "f153032c-a85c-4aea-b751-08a52781064e"
      },
      "source": [
        "df2.iloc[-1]\r\n",
        "df2.loc['Zimbabwe']"
      ],
      "execution_count": 7,
      "outputs": [
        {
          "output_type": "execute_result",
          "data": {
            "text/plain": [
              "beer_servings                       64\n",
              "spirit_servings                     18\n",
              "wine_servings                        4\n",
              "total_litres_of_pure_alcohol       4.7\n",
              "continent                       Africa\n",
              "Name: Zimbabwe, dtype: object"
            ]
          },
          "metadata": {
            "tags": []
          },
          "execution_count": 7
        }
      ]
    },
    {
      "cell_type": "markdown",
      "metadata": {
        "id": "U5q4qElxm0MH"
      },
      "source": [
        "# Mision 4\n",
        "\n",
        "Display only the \"continent\" column value for the country **Zimbabwe**. "
      ]
    },
    {
      "cell_type": "code",
      "metadata": {
        "id": "PiIjLs4erHy6",
        "colab": {
          "base_uri": "https://localhost:8080/",
          "height": 35
        },
        "outputId": "df4dd78a-f8fb-4cbd-b71c-8797d8701623"
      },
      "source": [
        "df2.loc['Zimbabwe', 'continent']"
      ],
      "execution_count": null,
      "outputs": [
        {
          "output_type": "execute_result",
          "data": {
            "application/vnd.google.colaboratory.intrinsic+json": {
              "type": "string"
            },
            "text/plain": [
              "'Africa'"
            ]
          },
          "metadata": {
            "tags": []
          },
          "execution_count": 9
        }
      ]
    },
    {
      "cell_type": "markdown",
      "metadata": {
        "id": "jrmdH5LirTPE"
      },
      "source": [
        "# Mission 5\n",
        "\n",
        "Rename the columns of this dataset: http://bit.ly/uforeports, try using the following 2 different methods to achieve this:\n",
        "- Setting column names directly when reading the file\n",
        "- Editing after creating the dataframe"
      ]
    },
    {
      "cell_type": "code",
      "metadata": {
        "id": "clMCInd-sqHC",
        "colab": {
          "base_uri": "https://localhost:8080/",
          "height": 212
        },
        "outputId": "6edd5197-4549-4c65-df90-4828c092a017"
      },
      "source": [
        "cols = ['XCity',\t'XColors', 'XShape',\t'XState',\t'XTime']\n",
        "cols2 = ['ZCity',\t'ZColors', 'ZShape',\t'ZState',\t'ZTime']\n",
        "\n",
        "url = 'http://bit.ly/uforeports'\n",
        "df3 = pd.read_csv(url)\n",
        "df4 = pd.read_csv(url, names=cols2, skiprows=1)\n",
        "\n",
        "print(df3.head(2))\n",
        "print()\n",
        "df3.columns = cols\n",
        "print(df3.head(2))\n",
        "print()\n",
        "print(df4.head(2))"
      ],
      "execution_count": null,
      "outputs": [
        {
          "output_type": "stream",
          "text": [
            "          City Colors Reported Shape Reported State             Time\n",
            "0       Ithaca             NaN       TRIANGLE    NY   6/1/1930 22:00\n",
            "1  Willingboro             NaN          OTHER    NJ  6/30/1930 20:00\n",
            "\n",
            "         XCity XColors    XShape XState            XTime\n",
            "0       Ithaca     NaN  TRIANGLE     NY   6/1/1930 22:00\n",
            "1  Willingboro     NaN     OTHER     NJ  6/30/1930 20:00\n",
            "\n",
            "         ZCity ZColors    ZShape ZState            ZTime\n",
            "0       Ithaca     NaN  TRIANGLE     NY   6/1/1930 22:00\n",
            "1  Willingboro     NaN     OTHER     NJ  6/30/1930 20:00\n"
          ],
          "name": "stdout"
        }
      ]
    },
    {
      "cell_type": "markdown",
      "metadata": {
        "id": "hDeNn--qVyUo"
      },
      "source": [
        "# Mission 6\n",
        "\n",
        "Select the first 3 rows and all the columns of the dataframe using iloc"
      ]
    },
    {
      "cell_type": "code",
      "metadata": {
        "id": "weMAN0jeWSsy",
        "colab": {
          "base_uri": "https://localhost:8080/",
          "height": 137
        },
        "outputId": "f1e41853-f964-4219-9783-996e3daaa2a2"
      },
      "source": [
        "#exclusive\n",
        "df3.iloc[0:3, :]"
      ],
      "execution_count": null,
      "outputs": [
        {
          "output_type": "execute_result",
          "data": {
            "text/html": [
              "<div>\n",
              "<style scoped>\n",
              "    .dataframe tbody tr th:only-of-type {\n",
              "        vertical-align: middle;\n",
              "    }\n",
              "\n",
              "    .dataframe tbody tr th {\n",
              "        vertical-align: top;\n",
              "    }\n",
              "\n",
              "    .dataframe thead th {\n",
              "        text-align: right;\n",
              "    }\n",
              "</style>\n",
              "<table border=\"1\" class=\"dataframe\">\n",
              "  <thead>\n",
              "    <tr style=\"text-align: right;\">\n",
              "      <th></th>\n",
              "      <th>XCity</th>\n",
              "      <th>XColors</th>\n",
              "      <th>XShape</th>\n",
              "      <th>XState</th>\n",
              "      <th>XTime</th>\n",
              "    </tr>\n",
              "  </thead>\n",
              "  <tbody>\n",
              "    <tr>\n",
              "      <th>0</th>\n",
              "      <td>Ithaca</td>\n",
              "      <td>NaN</td>\n",
              "      <td>TRIANGLE</td>\n",
              "      <td>NY</td>\n",
              "      <td>6/1/1930 22:00</td>\n",
              "    </tr>\n",
              "    <tr>\n",
              "      <th>1</th>\n",
              "      <td>Willingboro</td>\n",
              "      <td>NaN</td>\n",
              "      <td>OTHER</td>\n",
              "      <td>NJ</td>\n",
              "      <td>6/30/1930 20:00</td>\n",
              "    </tr>\n",
              "    <tr>\n",
              "      <th>2</th>\n",
              "      <td>Holyoke</td>\n",
              "      <td>NaN</td>\n",
              "      <td>OVAL</td>\n",
              "      <td>CO</td>\n",
              "      <td>2/15/1931 14:00</td>\n",
              "    </tr>\n",
              "  </tbody>\n",
              "</table>\n",
              "</div>"
            ],
            "text/plain": [
              "         XCity XColors    XShape XState            XTime\n",
              "0       Ithaca     NaN  TRIANGLE     NY   6/1/1930 22:00\n",
              "1  Willingboro     NaN     OTHER     NJ  6/30/1930 20:00\n",
              "2      Holyoke     NaN      OVAL     CO  2/15/1931 14:00"
            ]
          },
          "metadata": {
            "tags": []
          },
          "execution_count": 17
        }
      ]
    },
    {
      "cell_type": "markdown",
      "metadata": {
        "id": "eGVlIK-KWSBh"
      },
      "source": [
        "# Mission 7\n",
        "\n",
        "Achieve the same result as in mission 6 by using loc"
      ]
    },
    {
      "cell_type": "code",
      "metadata": {
        "id": "W9WC9f5CWWfz",
        "colab": {
          "base_uri": "https://localhost:8080/",
          "height": 137
        },
        "outputId": "52d96e0a-56bd-4439-d352-cb77712b29a1"
      },
      "source": [
        "#inclusive\n",
        "df3.loc[:2, :]"
      ],
      "execution_count": null,
      "outputs": [
        {
          "output_type": "execute_result",
          "data": {
            "text/html": [
              "<div>\n",
              "<style scoped>\n",
              "    .dataframe tbody tr th:only-of-type {\n",
              "        vertical-align: middle;\n",
              "    }\n",
              "\n",
              "    .dataframe tbody tr th {\n",
              "        vertical-align: top;\n",
              "    }\n",
              "\n",
              "    .dataframe thead th {\n",
              "        text-align: right;\n",
              "    }\n",
              "</style>\n",
              "<table border=\"1\" class=\"dataframe\">\n",
              "  <thead>\n",
              "    <tr style=\"text-align: right;\">\n",
              "      <th></th>\n",
              "      <th>XCity</th>\n",
              "      <th>XColors</th>\n",
              "      <th>XShape</th>\n",
              "      <th>XState</th>\n",
              "      <th>XTime</th>\n",
              "    </tr>\n",
              "  </thead>\n",
              "  <tbody>\n",
              "    <tr>\n",
              "      <th>0</th>\n",
              "      <td>Ithaca</td>\n",
              "      <td>NaN</td>\n",
              "      <td>TRIANGLE</td>\n",
              "      <td>NY</td>\n",
              "      <td>6/1/1930 22:00</td>\n",
              "    </tr>\n",
              "    <tr>\n",
              "      <th>1</th>\n",
              "      <td>Willingboro</td>\n",
              "      <td>NaN</td>\n",
              "      <td>OTHER</td>\n",
              "      <td>NJ</td>\n",
              "      <td>6/30/1930 20:00</td>\n",
              "    </tr>\n",
              "    <tr>\n",
              "      <th>2</th>\n",
              "      <td>Holyoke</td>\n",
              "      <td>NaN</td>\n",
              "      <td>OVAL</td>\n",
              "      <td>CO</td>\n",
              "      <td>2/15/1931 14:00</td>\n",
              "    </tr>\n",
              "  </tbody>\n",
              "</table>\n",
              "</div>"
            ],
            "text/plain": [
              "         XCity XColors    XShape XState            XTime\n",
              "0       Ithaca     NaN  TRIANGLE     NY   6/1/1930 22:00\n",
              "1  Willingboro     NaN     OTHER     NJ  6/30/1930 20:00\n",
              "2      Holyoke     NaN      OVAL     CO  2/15/1931 14:00"
            ]
          },
          "metadata": {
            "tags": []
          },
          "execution_count": 30
        }
      ]
    }
  ]
}