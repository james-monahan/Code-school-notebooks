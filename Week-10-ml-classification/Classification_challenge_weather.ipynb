{
  "nbformat": 4,
  "nbformat_minor": 0,
  "metadata": {
    "colab": {
      "name": "Copy of Classification challenge : weather.ipynb",
      "provenance": [],
      "collapsed_sections": [],
      "include_colab_link": true
    },
    "kernelspec": {
      "name": "python3",
      "display_name": "Python 3"
    }
  },
  "cells": [
    {
      "cell_type": "markdown",
      "metadata": {
        "id": "view-in-github",
        "colab_type": "text"
      },
      "source": [
        "<a href=\"https://colab.research.google.com/github/james-monahan/Code-school-notebooks/blob/main/Week-10-ml-classification/Classification_challenge_weather.ipynb\" target=\"_parent\"><img src=\"https://colab.research.google.com/assets/colab-badge.svg\" alt=\"Open In Colab\"/></a>"
      ]
    },
    {
      "cell_type": "code",
      "metadata": {
        "id": "70rqo_6SvAXJ",
        "colab": {
          "base_uri": "https://localhost:8080/"
        },
        "outputId": "98462a95-b773-4325-a7f1-e50d761643f0"
      },
      "source": [
        "import pandas as pd\n",
        "import numpy as np\n",
        "link_main = \"https://raw.githubusercontent.com/murpi/wilddata/master/quests/weather_main_2018.csv\"\n",
        "link_opinion = \"https://raw.githubusercontent.com/murpi/wilddata/master/quests/weather_opinion_2018.csv\"\n",
        "df_main = pd.read_csv(link_main)\n",
        "df_opinion = pd.read_csv(link_opinion)\n",
        "print(df_main.head())\n",
        "print(df_opinion.head())"
      ],
      "execution_count": 1,
      "outputs": [
        {
          "output_type": "stream",
          "text": [
            "         DATE  MAX_TEMPERATURE_C  ...  DEWPOINT_MAX_C  WINDTEMP_MAX_C\n",
            "0  2018-01-01                 12  ...               8               7\n",
            "1  2018-01-02                 13  ...              12               6\n",
            "2  2018-01-03                 15  ...              13               7\n",
            "3  2018-01-04                 14  ...              12              10\n",
            "4  2018-01-05                 12  ...              10               7\n",
            "\n",
            "[5 rows x 15 columns]\n",
            "         date  WEATHER_CODE_EVENING  TOTAL_SNOW_MM  UV_INDEX  SUNHOUR OPINION\n",
            "0  2018-01-01                   113              0         3      5.1     bad\n",
            "1  2018-03-12                   119              0         2      8.8     bad\n",
            "2  2018-03-09                   116              0         3     10.2     bad\n",
            "3  2018-10-07                   122              0         1      5.6     bad\n",
            "4  2018-06-18                   119              0         1     12.9     bad\n"
          ],
          "name": "stdout"
        }
      ]
    },
    {
      "cell_type": "markdown",
      "metadata": {
        "id": "gQcAnwxVvP8r"
      },
      "source": [
        "# Classification challenge\n",
        "\n",
        "Your goal are :\n",
        "- to merge both 2018 DataFrames\n",
        "- to train-test split the new 2018 DataFrame\n",
        "- to train 3 differents Machine Learning algorithms (KNN, logistic regression and decision tree) with \"opinion\" as target\n",
        "- to try different parameters\n",
        "- to find the best accuracy score (on the test set of course)\n",
        "- to fill the missing values in the \"opinion\" columns whith your best model\n",
        "- to explain what is the \"rules\" used by your model to predict the opinion.\n",
        "\n",
        "You can help yourself with charts if you want."
      ]
    },
    {
      "cell_type": "code",
      "metadata": {
        "id": "hzs6xUxewLpN"
      },
      "source": [
        "from sklearn.model_selection import train_test_split, GridSearchCV\n",
        "from sklearn.linear_model import LogisticRegression\n",
        "from sklearn.neighbors import KNeighborsClassifier\n",
        "from sklearn.tree import DecisionTreeClassifier\n",
        "from sklearn.naive_bayes import GaussianNB\n",
        "from sklearn.preprocessing import StandardScaler, LabelEncoder\n",
        "from sklearn.tree import plot_tree\n",
        "\n",
        "import pandas as pd\n",
        "import numpy as np\n",
        "import matplotlib.pyplot as plt\n",
        "import seaborn as sns"
      ],
      "execution_count": 2,
      "outputs": []
    },
    {
      "cell_type": "code",
      "metadata": {
        "id": "MO7cIH1iUoxq"
      },
      "source": [
        "def merge_and_fill(DataFrameMain, DataFrameOpinion):\n",
        "  NewDataFrame = pd.merge(DataFrameMain, DataFrameOpinion, how='left', left_on='DATE', right_on='date')\n",
        "  NewDataFrame.drop('date', axis=1, inplace=True)\n",
        "  mean_weather_column = NewDataFrame['WEATHER_CODE_EVENING'].median()\n",
        "  NewDataFrame['WEATHER_CODE_EVENING'].fillna(mean_weather_column, \n",
        "                                      inplace = True) \n",
        "  NewDataFrame['TOTAL_SNOW_MM'].fillna(0, inplace = True)\n",
        "  NewDataFrame['UV_INDEX'] = NewDataFrame.groupby(NewDataFrame.DATE.astype('datetime64').dt.month)['UV_INDEX'].apply(lambda x: x.fillna(x.median()))\n",
        "  NewDataFrame['SUNHOUR'].fillna(method = 'ffill', inplace = True)\n",
        "  NewDataFrame['SUNHOUR'].fillna(method = 'bfill', inplace = True)  \n",
        "  NewDataFrame['MONTH'] = NewDataFrame['DATE'].apply(lambda x: x[5:7]).astype('int64')\n",
        "  NewDataFrame['DAY'] = NewDataFrame['DATE'].apply(lambda x: x[8:]).astype('int64')\n",
        "  NewDataFrame['DATE'] = pd.to_datetime(NewDataFrame['DATE'])\n",
        "  return NewDataFrame"
      ],
      "execution_count": 3,
      "outputs": []
    },
    {
      "cell_type": "code",
      "metadata": {
        "id": "27xoi5WD53BO"
      },
      "source": [
        "df = merge_and_fill(df_main, df_opinion)"
      ],
      "execution_count": 4,
      "outputs": []
    },
    {
      "cell_type": "code",
      "metadata": {
        "id": "az7DrSr6vcuY",
        "colab": {
          "base_uri": "https://localhost:8080/"
        },
        "outputId": "715b46ce-5184-4985-eef4-86112c5ebffa"
      },
      "source": [
        "#determine features corelated with opinion\n",
        "le = LabelEncoder()\n",
        "df_op = df.copy().dropna()\n",
        "df_op['OPINION'] = le.fit_transform(df_op['OPINION'])\n",
        "abs(df_op.corr()['OPINION']).sort_values(ascending=False).nlargest(6)"
      ],
      "execution_count": 5,
      "outputs": [
        {
          "output_type": "execute_result",
          "data": {
            "text/plain": [
              "OPINION                   1.000000\n",
              "CLOUDCOVER_AVG_PERCENT    0.364022\n",
              "TEMPERATURE_MORNING_C     0.294586\n",
              "MIN_TEMPERATURE_C         0.280628\n",
              "DEWPOINT_MAX_C            0.249825\n",
              "VISIBILITY_AVG_KM         0.200152\n",
              "Name: OPINION, dtype: float64"
            ]
          },
          "metadata": {
            "tags": []
          },
          "execution_count": 5
        }
      ]
    },
    {
      "cell_type": "code",
      "metadata": {
        "id": "-MVZQgGQU0eQ",
        "colab": {
          "base_uri": "https://localhost:8080/"
        },
        "outputId": "94cbaf6f-ab00-431f-8201-d17ca64ff2f5"
      },
      "source": [
        "df.isna().sum()"
      ],
      "execution_count": 6,
      "outputs": [
        {
          "output_type": "execute_result",
          "data": {
            "text/plain": [
              "DATE                       0\n",
              "MAX_TEMPERATURE_C          0\n",
              "MIN_TEMPERATURE_C          0\n",
              "WINDSPEED_MAX_KMH          0\n",
              "TEMPERATURE_MORNING_C      0\n",
              "TEMPERATURE_NOON_C         0\n",
              "TEMPERATURE_EVENING_C      0\n",
              "PRECIP_TOTAL_DAY_MM        0\n",
              "HUMIDITY_MAX_PERCENT       0\n",
              "VISIBILITY_AVG_KM          0\n",
              "PRESSURE_MAX_MB            0\n",
              "CLOUDCOVER_AVG_PERCENT     0\n",
              "HEATINDEX_MAX_C            0\n",
              "DEWPOINT_MAX_C             0\n",
              "WINDTEMP_MAX_C             0\n",
              "WEATHER_CODE_EVENING       0\n",
              "TOTAL_SNOW_MM              0\n",
              "UV_INDEX                   0\n",
              "SUNHOUR                    0\n",
              "OPINION                   24\n",
              "MONTH                      0\n",
              "DAY                        0\n",
              "dtype: int64"
            ]
          },
          "metadata": {
            "tags": []
          },
          "execution_count": 6
        }
      ]
    },
    {
      "cell_type": "code",
      "metadata": {
        "id": "Syj4dVYsZLei",
        "colab": {
          "base_uri": "https://localhost:8080/"
        },
        "outputId": "a068a626-a3b4-48d6-9771-61b226c8985a"
      },
      "source": [
        "to_pred = df[df.isna().any(axis=1)]\n",
        "df = df.dropna()\n",
        "df.shape, to_pred.shape"
      ],
      "execution_count": 7,
      "outputs": [
        {
          "output_type": "execute_result",
          "data": {
            "text/plain": [
              "((341, 22), (24, 22))"
            ]
          },
          "metadata": {
            "tags": []
          },
          "execution_count": 7
        }
      ]
    },
    {
      "cell_type": "code",
      "metadata": {
        "id": "Qc3-r0m1WNY7"
      },
      "source": [
        "scaler = StandardScaler()\n",
        "\n",
        "X = df.drop(['DATE', 'OPINION', 'MONTH', 'DAY', 'TOTAL_SNOW_MM'], axis=1)\n",
        "X_to_pred = to_pred.drop(['DATE', 'OPINION', 'MONTH', 'DAY', 'TOTAL_SNOW_MM'], axis=1)\n",
        "\n",
        "y = df['OPINION']\n",
        "\n",
        "#no scaling\n",
        "#X_train, X_test, y_train, y_test = train_test_split(X, y, test_size=0.33, random_state=42, stratify=y)\n",
        "#scaled data\n",
        "X_scaled = scaler.fit_transform(X)\n",
        "X_to_pred_scaled = scaler.transform(X_to_pred)\n",
        "\n",
        "X_train, X_test, y_train, y_test = train_test_split(X_scaled, y, test_size=0.33, random_state=42, stratify=y)"
      ],
      "execution_count": 15,
      "outputs": []
    },
    {
      "cell_type": "code",
      "metadata": {
        "id": "Muh7gDlRZyiv"
      },
      "source": [
        "gnb = GaussianNB()\n",
        "dtf = DecisionTreeClassifier()\n",
        "knn = KNeighborsClassifier()\n",
        "lr = LogisticRegression()"
      ],
      "execution_count": 16,
      "outputs": []
    },
    {
      "cell_type": "code",
      "metadata": {
        "id": "ZFwZYyZgdOaI"
      },
      "source": [
        "gnb_params = {'var_smoothing': [1e-2, 1e-3, 1e-4, 1e-5, \n",
        "                                1e-6, 1e-7, 1e-8, 1e-9, \n",
        "                                1e-10, 1e-11, 1e-12, \n",
        "                                1e-13, 1e-14, 1e-15]}\n",
        "\n",
        "dtf_params = {'criterion': ['gini', 'entropy'],\n",
        "              'max_depth': [3, 5, 10],\n",
        "              'max_features':[None, 'sqrt', 'log2'],\n",
        "              'min_samples_split': [2,6,10],\n",
        "              'max_leaf_nodes':[None, 10, 20, 50]}\n",
        "\n",
        "knn_params = {'algorithm':['auto', 'brute'],\n",
        "              'n_jobs':[-1], \n",
        "              'p': [1,2],\n",
        "              'n_neighbors':[5, 10, 20, 50], \n",
        "              'weights':['uniform', 'distance']}\n",
        "\n",
        "lr_params = { 'C':[.01, .05, .1, 1.0, 1.5], \n",
        "             'max_iter':[100, 200],\n",
        "              'penalty':['l2', None, 'l1', 'elasticnet'],\n",
        "              'solver':['newton-cg', 'lbfgs', 'liblinear']}"
      ],
      "execution_count": 17,
      "outputs": []
    },
    {
      "cell_type": "code",
      "metadata": {
        "id": "j7k8M6jOdI14"
      },
      "source": [
        "models_to_train = {gnb: gnb_params, \n",
        "                   dtf: dtf_params,\n",
        "                   knn: knn_params,\n",
        "                   lr: lr_params}"
      ],
      "execution_count": 18,
      "outputs": []
    },
    {
      "cell_type": "code",
      "metadata": {
        "id": "VGqkMKqfcFlw",
        "colab": {
          "base_uri": "https://localhost:8080/"
        },
        "outputId": "42a83abc-cbab-4991-fbb8-f9922c6988cb"
      },
      "source": [
        "final_models = []\n",
        "\n",
        "for k, v in models_to_train.items():\n",
        "  np.random.seed(42)\n",
        "  clf = GridSearchCV(k, v, n_jobs=-1, cv=3)\n",
        "  clf.fit(X_train, y_train)\n",
        "  print(k)\n",
        "  print('best cv score', clf.best_score_)\n",
        "  print('best test score', clf.score(X_test, y_test))\n",
        "  final_models.append(clf)"
      ],
      "execution_count": 19,
      "outputs": [
        {
          "output_type": "stream",
          "text": [
            "GaussianNB(priors=None, var_smoothing=1e-09)\n",
            "best cv score 0.706140350877193\n",
            "best test score 0.6283185840707964\n",
            "DecisionTreeClassifier(ccp_alpha=0.0, class_weight=None, criterion='gini',\n",
            "                       max_depth=None, max_features=None, max_leaf_nodes=None,\n",
            "                       min_impurity_decrease=0.0, min_impurity_split=None,\n",
            "                       min_samples_leaf=1, min_samples_split=2,\n",
            "                       min_weight_fraction_leaf=0.0, presort='deprecated',\n",
            "                       random_state=None, splitter='best')\n",
            "best cv score 0.8684210526315789\n",
            "best test score 0.8407079646017699\n",
            "KNeighborsClassifier(algorithm='auto', leaf_size=30, metric='minkowski',\n",
            "                     metric_params=None, n_jobs=None, n_neighbors=5, p=2,\n",
            "                     weights='uniform')\n",
            "best cv score 0.7543859649122807\n",
            "best test score 0.7522123893805309\n",
            "LogisticRegression(C=1.0, class_weight=None, dual=False, fit_intercept=True,\n",
            "                   intercept_scaling=1, l1_ratio=None, max_iter=100,\n",
            "                   multi_class='auto', n_jobs=None, penalty='l2',\n",
            "                   random_state=None, solver='lbfgs', tol=0.0001, verbose=0,\n",
            "                   warm_start=False)\n",
            "best cv score 0.7587719298245613\n",
            "best test score 0.7345132743362832\n"
          ],
          "name": "stdout"
        }
      ]
    },
    {
      "cell_type": "code",
      "metadata": {
        "id": "yS8s_sYGqt1A",
        "colab": {
          "base_uri": "https://localhost:8080/"
        },
        "outputId": "b13fc50c-3217-41ad-db0c-5d23ff3f25be"
      },
      "source": [
        "#best model even with feature engineering which reduced Tree performance\n",
        "final_models[1].best_estimator_"
      ],
      "execution_count": 20,
      "outputs": [
        {
          "output_type": "execute_result",
          "data": {
            "text/plain": [
              "DecisionTreeClassifier(ccp_alpha=0.0, class_weight=None, criterion='gini',\n",
              "                       max_depth=10, max_features=None, max_leaf_nodes=10,\n",
              "                       min_impurity_decrease=0.0, min_impurity_split=None,\n",
              "                       min_samples_leaf=1, min_samples_split=2,\n",
              "                       min_weight_fraction_leaf=0.0, presort='deprecated',\n",
              "                       random_state=None, splitter='best')"
            ]
          },
          "metadata": {
            "tags": []
          },
          "execution_count": 20
        }
      ]
    },
    {
      "cell_type": "markdown",
      "metadata": {
        "id": "Ri5_hmgXejKU"
      },
      "source": [
        "##fill the missing values in the \"opinion\" columns whith your best model\n"
      ]
    },
    {
      "cell_type": "code",
      "metadata": {
        "id": "BK0Ndykmeimw"
      },
      "source": [
        "final_model = final_models[1]\n",
        "predictions = final_model.best_estimator_.predict(X_to_pred_scaled)"
      ],
      "execution_count": 21,
      "outputs": []
    },
    {
      "cell_type": "code",
      "metadata": {
        "id": "RaHvFkT6eicS",
        "colab": {
          "base_uri": "https://localhost:8080/",
          "height": 303
        },
        "outputId": "084458f6-abda-47c0-9a92-8bed5f49a087"
      },
      "source": [
        "to_pred['OPINION'] = predictions\n",
        "to_pred.head()"
      ],
      "execution_count": 22,
      "outputs": [
        {
          "output_type": "execute_result",
          "data": {
            "text/html": [
              "<div>\n",
              "<style scoped>\n",
              "    .dataframe tbody tr th:only-of-type {\n",
              "        vertical-align: middle;\n",
              "    }\n",
              "\n",
              "    .dataframe tbody tr th {\n",
              "        vertical-align: top;\n",
              "    }\n",
              "\n",
              "    .dataframe thead th {\n",
              "        text-align: right;\n",
              "    }\n",
              "</style>\n",
              "<table border=\"1\" class=\"dataframe\">\n",
              "  <thead>\n",
              "    <tr style=\"text-align: right;\">\n",
              "      <th></th>\n",
              "      <th>DATE</th>\n",
              "      <th>MAX_TEMPERATURE_C</th>\n",
              "      <th>MIN_TEMPERATURE_C</th>\n",
              "      <th>WINDSPEED_MAX_KMH</th>\n",
              "      <th>TEMPERATURE_MORNING_C</th>\n",
              "      <th>TEMPERATURE_NOON_C</th>\n",
              "      <th>TEMPERATURE_EVENING_C</th>\n",
              "      <th>PRECIP_TOTAL_DAY_MM</th>\n",
              "      <th>HUMIDITY_MAX_PERCENT</th>\n",
              "      <th>VISIBILITY_AVG_KM</th>\n",
              "      <th>PRESSURE_MAX_MB</th>\n",
              "      <th>CLOUDCOVER_AVG_PERCENT</th>\n",
              "      <th>HEATINDEX_MAX_C</th>\n",
              "      <th>DEWPOINT_MAX_C</th>\n",
              "      <th>WINDTEMP_MAX_C</th>\n",
              "      <th>WEATHER_CODE_EVENING</th>\n",
              "      <th>TOTAL_SNOW_MM</th>\n",
              "      <th>UV_INDEX</th>\n",
              "      <th>SUNHOUR</th>\n",
              "      <th>OPINION</th>\n",
              "      <th>MONTH</th>\n",
              "      <th>DAY</th>\n",
              "    </tr>\n",
              "  </thead>\n",
              "  <tbody>\n",
              "    <tr>\n",
              "      <th>18</th>\n",
              "      <td>2018-01-19</td>\n",
              "      <td>10</td>\n",
              "      <td>6</td>\n",
              "      <td>23</td>\n",
              "      <td>6</td>\n",
              "      <td>10</td>\n",
              "      <td>6</td>\n",
              "      <td>0.7</td>\n",
              "      <td>88</td>\n",
              "      <td>9.875</td>\n",
              "      <td>1020</td>\n",
              "      <td>37.000</td>\n",
              "      <td>10</td>\n",
              "      <td>6</td>\n",
              "      <td>5</td>\n",
              "      <td>116.0</td>\n",
              "      <td>0.0</td>\n",
              "      <td>2.0</td>\n",
              "      <td>3.4</td>\n",
              "      <td>bad</td>\n",
              "      <td>1</td>\n",
              "      <td>19</td>\n",
              "    </tr>\n",
              "    <tr>\n",
              "      <th>31</th>\n",
              "      <td>2018-02-01</td>\n",
              "      <td>8</td>\n",
              "      <td>3</td>\n",
              "      <td>17</td>\n",
              "      <td>4</td>\n",
              "      <td>8</td>\n",
              "      <td>4</td>\n",
              "      <td>0.2</td>\n",
              "      <td>81</td>\n",
              "      <td>10.000</td>\n",
              "      <td>1012</td>\n",
              "      <td>39.500</td>\n",
              "      <td>8</td>\n",
              "      <td>3</td>\n",
              "      <td>2</td>\n",
              "      <td>116.0</td>\n",
              "      <td>0.0</td>\n",
              "      <td>1.0</td>\n",
              "      <td>6.6</td>\n",
              "      <td>very bad</td>\n",
              "      <td>2</td>\n",
              "      <td>1</td>\n",
              "    </tr>\n",
              "    <tr>\n",
              "      <th>66</th>\n",
              "      <td>2018-03-08</td>\n",
              "      <td>13</td>\n",
              "      <td>7</td>\n",
              "      <td>23</td>\n",
              "      <td>7</td>\n",
              "      <td>12</td>\n",
              "      <td>9</td>\n",
              "      <td>0.4</td>\n",
              "      <td>87</td>\n",
              "      <td>9.750</td>\n",
              "      <td>1005</td>\n",
              "      <td>52.625</td>\n",
              "      <td>13</td>\n",
              "      <td>7</td>\n",
              "      <td>6</td>\n",
              "      <td>116.0</td>\n",
              "      <td>0.0</td>\n",
              "      <td>1.0</td>\n",
              "      <td>11.6</td>\n",
              "      <td>bad</td>\n",
              "      <td>3</td>\n",
              "      <td>8</td>\n",
              "    </tr>\n",
              "    <tr>\n",
              "      <th>100</th>\n",
              "      <td>2018-04-11</td>\n",
              "      <td>15</td>\n",
              "      <td>7</td>\n",
              "      <td>14</td>\n",
              "      <td>7</td>\n",
              "      <td>15</td>\n",
              "      <td>12</td>\n",
              "      <td>1.2</td>\n",
              "      <td>87</td>\n",
              "      <td>7.875</td>\n",
              "      <td>1002</td>\n",
              "      <td>59.125</td>\n",
              "      <td>15</td>\n",
              "      <td>10</td>\n",
              "      <td>10</td>\n",
              "      <td>116.0</td>\n",
              "      <td>0.0</td>\n",
              "      <td>1.0</td>\n",
              "      <td>9.1</td>\n",
              "      <td>not good not bad</td>\n",
              "      <td>4</td>\n",
              "      <td>11</td>\n",
              "    </tr>\n",
              "    <tr>\n",
              "      <th>118</th>\n",
              "      <td>2018-04-29</td>\n",
              "      <td>10</td>\n",
              "      <td>7</td>\n",
              "      <td>23</td>\n",
              "      <td>8</td>\n",
              "      <td>10</td>\n",
              "      <td>8</td>\n",
              "      <td>0.7</td>\n",
              "      <td>93</td>\n",
              "      <td>9.000</td>\n",
              "      <td>1008</td>\n",
              "      <td>85.000</td>\n",
              "      <td>10</td>\n",
              "      <td>9</td>\n",
              "      <td>7</td>\n",
              "      <td>116.0</td>\n",
              "      <td>0.0</td>\n",
              "      <td>1.0</td>\n",
              "      <td>14.5</td>\n",
              "      <td>bad</td>\n",
              "      <td>4</td>\n",
              "      <td>29</td>\n",
              "    </tr>\n",
              "  </tbody>\n",
              "</table>\n",
              "</div>"
            ],
            "text/plain": [
              "          DATE  MAX_TEMPERATURE_C  ...  MONTH  DAY\n",
              "18  2018-01-19                 10  ...      1   19\n",
              "31  2018-02-01                  8  ...      2    1\n",
              "66  2018-03-08                 13  ...      3    8\n",
              "100 2018-04-11                 15  ...      4   11\n",
              "118 2018-04-29                 10  ...      4   29\n",
              "\n",
              "[5 rows x 22 columns]"
            ]
          },
          "metadata": {
            "tags": []
          },
          "execution_count": 22
        }
      ]
    },
    {
      "cell_type": "markdown",
      "metadata": {
        "id": "5EsDFXEken4C"
      },
      "source": [
        "##explain what is the \"rules\" used by your model to predict the opinion."
      ]
    },
    {
      "cell_type": "code",
      "metadata": {
        "id": "YtqnZ-nNerrI",
        "colab": {
          "base_uri": "https://localhost:8080/"
        },
        "outputId": "24e88d9f-2040-4c0c-b12a-467751299a47"
      },
      "source": [
        "rules = [*zip(X_to_pred.columns, final_model.best_estimator_.feature_importances_)]\n",
        "rules.sort(key= lambda x: x[1])\n",
        "rules[-4:]"
      ],
      "execution_count": 23,
      "outputs": [
        {
          "output_type": "execute_result",
          "data": {
            "text/plain": [
              "[('WINDTEMP_MAX_C', 0.061434696524030996),\n",
              " ('HEATINDEX_MAX_C', 0.12758619184791803),\n",
              " ('MIN_TEMPERATURE_C', 0.38443053299886554),\n",
              " ('CLOUDCOVER_AVG_PERCENT', 0.38732605027868633)]"
            ]
          },
          "metadata": {
            "tags": []
          },
          "execution_count": 23
        }
      ]
    },
    {
      "cell_type": "code",
      "metadata": {
        "id": "GlntKdrYerht",
        "colab": {
          "base_uri": "https://localhost:8080/",
          "height": 575
        },
        "outputId": "bd46bbe1-c2b9-4416-980e-c2bf5d65e860"
      },
      "source": [
        "#Visualization indicates that the tree is primarily using the highly correlated variables: \n",
        "#CLOUDCOVER_AVG_PERCENT, TEMPERATURE_MORNING_C, MIN_TEMPERATURE_C to make a prediction\n",
        "\n",
        "plt.figure(figsize = (10,10))\n",
        "plot_tree(final_model.best_estimator_, filled = True,  \n",
        "          class_names = final_model.best_estimator_.classes_, \n",
        "          feature_names=X_to_pred.columns )\n",
        "\n",
        "plt.show()"
      ],
      "execution_count": 25,
      "outputs": [
        {
          "output_type": "display_data",
          "data": {
            "image/png": "[encoded data removed]",
            "text/plain": [
              "<Figure size 720x720 with 1 Axes>"
            ]
          },
          "metadata": {
            "tags": [],
            "needs_background": "light"
          }
        }
      ]
    },
    {
      "cell_type": "markdown",
      "metadata": {
        "id": "ldO_yj2heL4M"
      },
      "source": [
        "##Additional work: Create features on correlated vars and retrain"
      ]
    },
    {
      "cell_type": "code",
      "metadata": {
        "id": "puBDcZ70ZUvD"
      },
      "source": [
        "#Feature engineering on correlated vals\n",
        "df_feature = df.copy()\n",
        "\n",
        "df_feature['cloud_temp'] = df_feature['CLOUDCOVER_AVG_PERCENT']* df_feature['TEMPERATURE_MORNING_C']\n",
        "df_feature['temp_min'] = df_feature['TEMPERATURE_MORNING_C']* df_feature['MIN_TEMPERATURE_C']\n",
        "df_feature['min_dew'] = df_feature['CLOUDCOVER_AVG_PERCENT']* df_feature['DEWPOINT_MAX_C']\n",
        "df_feature['dew_vis'] = df_feature['DEWPOINT_MAX_C']* df_feature['VISIBILITY_AVG_KM']"
      ],
      "execution_count": 26,
      "outputs": []
    },
    {
      "cell_type": "code",
      "metadata": {
        "id": "nK-MSujHaWwv"
      },
      "source": [
        "scaler = StandardScaler()\n",
        "\n",
        "#X = df.drop(['DATE', 'OPINION', 'MONTH', 'DAY', 'TOTAL_SNOW_MM'], axis=1)\n",
        "X = df_feature.drop(['DATE', 'OPINION'], axis=1)\n",
        "\n",
        "y = df_feature['OPINION']\n",
        "\n",
        "#no scaling\n",
        "#X_train, X_test, y_train, y_test = train_test_split(X, y, test_size=0.33, random_state=42, stratify=y)\n",
        "#scaled data\n",
        "X_scaled = scaler.fit_transform(X)\n",
        "X_train, X_test, y_train, y_test = train_test_split(X_scaled, y, test_size=0.33, random_state=42, stratify=y)"
      ],
      "execution_count": 27,
      "outputs": []
    },
    {
      "cell_type": "code",
      "metadata": {
        "id": "Siw-k62XaWtC",
        "colab": {
          "base_uri": "https://localhost:8080/"
        },
        "outputId": "bcd6fe6b-541b-49f4-c1de-eeaccfcc54b2"
      },
      "source": [
        "#rerun with enhancements - nominal improvements\n",
        "final_models_feature = []\n",
        "\n",
        "for k, v in models_to_train.items():\n",
        "  np.random.seed(42)\n",
        "  clf = GridSearchCV(k, v, n_jobs=-1, cv=3)\n",
        "  clf.fit(X_train, y_train)\n",
        "  print(k)\n",
        "  print('best cv score', clf.best_score_)\n",
        "  print('best test score', clf.score(X_test, y_test))\n",
        "  final_models_feature.append(clf)"
      ],
      "execution_count": 28,
      "outputs": [
        {
          "output_type": "stream",
          "text": [
            "GaussianNB(priors=None, var_smoothing=1e-09)\n",
            "best cv score 0.75\n",
            "best test score 0.6637168141592921\n",
            "DecisionTreeClassifier(ccp_alpha=0.0, class_weight=None, criterion='gini',\n",
            "                       max_depth=None, max_features=None, max_leaf_nodes=None,\n",
            "                       min_impurity_decrease=0.0, min_impurity_split=None,\n",
            "                       min_samples_leaf=1, min_samples_split=2,\n",
            "                       min_weight_fraction_leaf=0.0, presort='deprecated',\n",
            "                       random_state=None, splitter='best')\n",
            "best cv score 0.8508771929824562\n",
            "best test score 0.8672566371681416\n",
            "KNeighborsClassifier(algorithm='auto', leaf_size=30, metric='minkowski',\n",
            "                     metric_params=None, n_jobs=None, n_neighbors=5, p=2,\n",
            "                     weights='uniform')\n",
            "best cv score 0.7894736842105262\n",
            "best test score 0.7787610619469026\n",
            "LogisticRegression(C=1.0, class_weight=None, dual=False, fit_intercept=True,\n",
            "                   intercept_scaling=1, l1_ratio=None, max_iter=100,\n",
            "                   multi_class='auto', n_jobs=None, penalty='l2',\n",
            "                   random_state=None, solver='lbfgs', tol=0.0001, verbose=0,\n",
            "                   warm_start=False)\n",
            "best cv score 0.7675438596491229\n",
            "best test score 0.7345132743362832\n"
          ],
          "name": "stdout"
        }
      ]
    },
    {
      "cell_type": "code",
      "metadata": {
        "id": "STpu8aiMUeDY",
        "colab": {
          "base_uri": "https://localhost:8080/"
        },
        "outputId": "a056629b-1833-40b9-86c6-2c85bee769b5"
      },
      "source": [
        "final_model_f = final_models_feature[1]\n",
        "#predictions_f = final_model_f.best_estimator_.predict(X_to_pred_scaled)\n",
        "\n",
        "rules_f = [*zip(X.columns, final_model_f.best_estimator_.feature_importances_)]\n",
        "rules_f.sort(key= lambda x: x[1])\n",
        "rules_f[-4:]"
      ],
      "execution_count": 30,
      "outputs": [
        {
          "output_type": "execute_result",
          "data": {
            "text/plain": [
              "[('cloud_temp', 0.09443185386361741),\n",
              " ('MAX_TEMPERATURE_C', 0.12199672496036436),\n",
              " ('CLOUDCOVER_AVG_PERCENT', 0.2412216282468183),\n",
              " ('MIN_TEMPERATURE_C', 0.39480634103190926)]"
            ]
          },
          "metadata": {
            "tags": []
          },
          "execution_count": 30
        }
      ]
    },
    {
      "cell_type": "markdown",
      "metadata": {
        "id": "WS8j9u-1dhuW"
      },
      "source": [
        "##Additional work: tensorflow with extra feature data"
      ]
    },
    {
      "cell_type": "code",
      "metadata": {
        "id": "SruGciXts6rB"
      },
      "source": [
        "import tensorflow as tf"
      ],
      "execution_count": 31,
      "outputs": []
    },
    {
      "cell_type": "code",
      "metadata": {
        "id": "U2O3x4vNwDaW"
      },
      "source": [
        "scaler = StandardScaler()\n",
        "\n",
        "#X = df.drop(['DATE', 'OPINION', 'MONTH', 'DAY', 'TOTAL_SNOW_MM'], axis=1)\n",
        "X = df_feature.drop(['DATE', 'OPINION'], axis=1)\n",
        "\n",
        "y = df_feature['OPINION']\n",
        "y = pd.get_dummies(y).values\n",
        "\n",
        "#no scaling\n",
        "#X_train, X_test, y_train, y_test = train_test_split(X, y, test_size=0.33, random_state=42, stratify=y)\n",
        "#scaled data\n",
        "X_scaled = scaler.fit_transform(X)\n",
        "X_train, X_test, y_train, y_test = train_test_split(X_scaled, y, test_size=0.33, random_state=42, stratify=y)"
      ],
      "execution_count": 32,
      "outputs": []
    },
    {
      "cell_type": "code",
      "metadata": {
        "id": "MkQBLGXUxUeL"
      },
      "source": [
        "dims = X.columns.shape[0]"
      ],
      "execution_count": 33,
      "outputs": []
    },
    {
      "cell_type": "code",
      "metadata": {
        "id": "3Vys7z_QwVQ0"
      },
      "source": [
        "function = 'relu'\n",
        "layer1 = 600\n",
        "layer2 = 50\n",
        "\n",
        "\n",
        "model = tf.keras.models.Sequential([\n",
        "  tf.keras.layers.Input(shape=(dims,)),\n",
        "  tf.keras.layers.Dense(layer1, activation=function),\n",
        "  tf.keras.layers.Dropout(0.1),\n",
        "  tf.keras.layers.Dense(layer2, activation=function),\n",
        "  tf.keras.layers.Dropout(0.1),\n",
        "  tf.keras.layers.Dense(layer1, activation=function),\n",
        "  tf.keras.layers.Dropout(0.1),\n",
        "  tf.keras.layers.Dense(layer2, activation=function),\n",
        "  tf.keras.layers.Dropout(0.1),\n",
        "  tf.keras.layers.Dense(layer1, activation=function),\n",
        "  tf.keras.layers.Dropout(0.1),\n",
        "  tf.keras.layers.Dense(layer2, activation=function),\n",
        "  tf.keras.layers.Dense(5, activation='softmax')\n",
        "])\n",
        "model.compile(optimizer='adam',\n",
        "                loss='binary_crossentropy',\n",
        "                metrics=['accuracy'])"
      ],
      "execution_count": 43,
      "outputs": []
    },
    {
      "cell_type": "code",
      "metadata": {
        "id": "ONOGR4_swvd_",
        "colab": {
          "base_uri": "https://localhost:8080/"
        },
        "outputId": "b14c2e39-603b-4e5e-d53b-9e3da03eb45b"
      },
      "source": [
        "r = model.fit(X_train, y_train, validation_data=(X_test, y_test), epochs=15)"
      ],
      "execution_count": 44,
      "outputs": [
        {
          "output_type": "stream",
          "text": [
            "Epoch 1/15\n",
            "8/8 [==============================] - 1s 36ms/step - loss: 0.6489 - accuracy: 0.3061 - val_loss: 0.4739 - val_accuracy: 0.3805\n",
            "Epoch 2/15\n",
            "8/8 [==============================] - 0s 11ms/step - loss: 0.4528 - accuracy: 0.4562 - val_loss: 0.3660 - val_accuracy: 0.5664\n",
            "Epoch 3/15\n",
            "8/8 [==============================] - 0s 10ms/step - loss: 0.3640 - accuracy: 0.6140 - val_loss: 0.3219 - val_accuracy: 0.6372\n",
            "Epoch 4/15\n",
            "8/8 [==============================] - 0s 11ms/step - loss: 0.3199 - accuracy: 0.6014 - val_loss: 0.2795 - val_accuracy: 0.7257\n",
            "Epoch 5/15\n",
            "8/8 [==============================] - 0s 11ms/step - loss: 0.2916 - accuracy: 0.6923 - val_loss: 0.2463 - val_accuracy: 0.7257\n",
            "Epoch 6/15\n",
            "8/8 [==============================] - 0s 11ms/step - loss: 0.2372 - accuracy: 0.7239 - val_loss: 0.2492 - val_accuracy: 0.6903\n",
            "Epoch 7/15\n",
            "8/8 [==============================] - 0s 11ms/step - loss: 0.2266 - accuracy: 0.7523 - val_loss: 0.2489 - val_accuracy: 0.7345\n",
            "Epoch 8/15\n",
            "8/8 [==============================] - 0s 12ms/step - loss: 0.1988 - accuracy: 0.7823 - val_loss: 0.2624 - val_accuracy: 0.7345\n",
            "Epoch 9/15\n",
            "8/8 [==============================] - 0s 13ms/step - loss: 0.1978 - accuracy: 0.7804 - val_loss: 0.2415 - val_accuracy: 0.7080\n",
            "Epoch 10/15\n",
            "8/8 [==============================] - 0s 49ms/step - loss: 0.1763 - accuracy: 0.8410 - val_loss: 0.2665 - val_accuracy: 0.6903\n",
            "Epoch 11/15\n",
            "8/8 [==============================] - 0s 14ms/step - loss: 0.1527 - accuracy: 0.8174 - val_loss: 0.2248 - val_accuracy: 0.7699\n",
            "Epoch 12/15\n",
            "8/8 [==============================] - 0s 15ms/step - loss: 0.1477 - accuracy: 0.8307 - val_loss: 0.2302 - val_accuracy: 0.7611\n",
            "Epoch 13/15\n",
            "8/8 [==============================] - 0s 14ms/step - loss: 0.1556 - accuracy: 0.8233 - val_loss: 0.2017 - val_accuracy: 0.7965\n",
            "Epoch 14/15\n",
            "8/8 [==============================] - 0s 13ms/step - loss: 0.1279 - accuracy: 0.8623 - val_loss: 0.2096 - val_accuracy: 0.7611\n",
            "Epoch 15/15\n",
            "8/8 [==============================] - 0s 13ms/step - loss: 0.1258 - accuracy: 0.8576 - val_loss: 0.2438 - val_accuracy: 0.7699\n"
          ],
          "name": "stdout"
        }
      ]
    },
    {
      "cell_type": "code",
      "metadata": {
        "id": "aAUOjQCfQNj2",
        "colab": {
          "base_uri": "https://localhost:8080/"
        },
        "outputId": "a4718ae2-af13-4762-abe0-715a53f4e1c5"
      },
      "source": [
        "model.evaluate(X_test, y_test)"
      ],
      "execution_count": 45,
      "outputs": [
        {
          "output_type": "stream",
          "text": [
            "4/4 [==============================] - 0s 3ms/step - loss: 0.2438 - accuracy: 0.7699\n"
          ],
          "name": "stdout"
        },
        {
          "output_type": "execute_result",
          "data": {
            "text/plain": [
              "[0.24381554126739502, 0.769911527633667]"
            ]
          },
          "metadata": {
            "tags": []
          },
          "execution_count": 45
        }
      ]
    },
    {
      "cell_type": "markdown",
      "metadata": {
        "id": "lp_FgkNEdWQ9"
      },
      "source": [
        "##After some trials, the model is performant, but unable to outperform the tree"
      ]
    }
  ]
}