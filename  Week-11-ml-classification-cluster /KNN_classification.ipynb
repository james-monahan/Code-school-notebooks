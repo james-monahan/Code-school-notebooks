{
  "nbformat": 4,
  "nbformat_minor": 0,
  "metadata": {
    "colab": {
      "name": "jpm_Copy of KNN classification.ipynb",
      "provenance": [],
      "collapsed_sections": [],
      "include_colab_link": true
    },
    "kernelspec": {
      "name": "python3",
      "display_name": "Python 3"
    }
  },
  "cells": [
    {
      "cell_type": "markdown",
      "metadata": {
        "id": "view-in-github",
        "colab_type": "text"
      },
      "source": [
        "<a href=\"https://colab.research.google.com/github/james-monahan/Code-school-notebooks/blob/main/%20Week-11-ml-classification-cluster%20/KNN_classification.ipynb\" target=\"_parent\"><img src=\"https://colab.research.google.com/assets/colab-badge.svg\" alt=\"Open In Colab\"/></a>"
      ]
    },
    {
      "cell_type": "markdown",
      "metadata": {
        "id": "7RZbCjBZBNKL"
      },
      "source": [
        "# Execute the code below"
      ]
    },
    {
      "cell_type": "code",
      "metadata": {
        "id": "ih5VsCSsAGWK"
      },
      "source": [
        "import numpy as np\n",
        "import pandas as pd\n",
        "import seaborn as sns\n",
        "from sklearn.neighbors import KNeighborsClassifier\n",
        "titanic = sns.load_dataset('titanic')\n",
        "titanic_dummy = titanic.copy()"
      ],
      "execution_count": null,
      "outputs": []
    },
    {
      "cell_type": "code",
      "metadata": {
        "id": "8ijHIVq4FMT7",
        "colab": {
          "base_uri": "https://localhost:8080/"
        },
        "outputId": "5cfb8ebe-b4c9-41ae-e0ec-c2914c9745dd"
      },
      "source": [
        "titanic.shape"
      ],
      "execution_count": null,
      "outputs": [
        {
          "output_type": "execute_result",
          "data": {
            "text/plain": [
              "(891, 15)"
            ]
          },
          "metadata": {
            "tags": []
          },
          "execution_count": 86
        }
      ]
    },
    {
      "cell_type": "code",
      "metadata": {
        "id": "zbuXSRFjFNz9",
        "colab": {
          "base_uri": "https://localhost:8080/",
          "height": 204
        },
        "outputId": "7a1f8963-54bc-4cf4-d7bf-d6bf90493c58"
      },
      "source": [
        "titanic.head()"
      ],
      "execution_count": null,
      "outputs": [
        {
          "output_type": "execute_result",
          "data": {
            "text/html": [
              "<div>\n",
              "<style scoped>\n",
              "    .dataframe tbody tr th:only-of-type {\n",
              "        vertical-align: middle;\n",
              "    }\n",
              "\n",
              "    .dataframe tbody tr th {\n",
              "        vertical-align: top;\n",
              "    }\n",
              "\n",
              "    .dataframe thead th {\n",
              "        text-align: right;\n",
              "    }\n",
              "</style>\n",
              "<table border=\"1\" class=\"dataframe\">\n",
              "  <thead>\n",
              "    <tr style=\"text-align: right;\">\n",
              "      <th></th>\n",
              "      <th>survived</th>\n",
              "      <th>pclass</th>\n",
              "      <th>sex</th>\n",
              "      <th>age</th>\n",
              "      <th>sibsp</th>\n",
              "      <th>parch</th>\n",
              "      <th>fare</th>\n",
              "      <th>embarked</th>\n",
              "      <th>class</th>\n",
              "      <th>who</th>\n",
              "      <th>adult_male</th>\n",
              "      <th>deck</th>\n",
              "      <th>embark_town</th>\n",
              "      <th>alive</th>\n",
              "      <th>alone</th>\n",
              "    </tr>\n",
              "  </thead>\n",
              "  <tbody>\n",
              "    <tr>\n",
              "      <th>0</th>\n",
              "      <td>0</td>\n",
              "      <td>3</td>\n",
              "      <td>male</td>\n",
              "      <td>22.0</td>\n",
              "      <td>1</td>\n",
              "      <td>0</td>\n",
              "      <td>7.2500</td>\n",
              "      <td>S</td>\n",
              "      <td>Third</td>\n",
              "      <td>man</td>\n",
              "      <td>True</td>\n",
              "      <td>NaN</td>\n",
              "      <td>Southampton</td>\n",
              "      <td>no</td>\n",
              "      <td>False</td>\n",
              "    </tr>\n",
              "    <tr>\n",
              "      <th>1</th>\n",
              "      <td>1</td>\n",
              "      <td>1</td>\n",
              "      <td>female</td>\n",
              "      <td>38.0</td>\n",
              "      <td>1</td>\n",
              "      <td>0</td>\n",
              "      <td>71.2833</td>\n",
              "      <td>C</td>\n",
              "      <td>First</td>\n",
              "      <td>woman</td>\n",
              "      <td>False</td>\n",
              "      <td>C</td>\n",
              "      <td>Cherbourg</td>\n",
              "      <td>yes</td>\n",
              "      <td>False</td>\n",
              "    </tr>\n",
              "    <tr>\n",
              "      <th>2</th>\n",
              "      <td>1</td>\n",
              "      <td>3</td>\n",
              "      <td>female</td>\n",
              "      <td>26.0</td>\n",
              "      <td>0</td>\n",
              "      <td>0</td>\n",
              "      <td>7.9250</td>\n",
              "      <td>S</td>\n",
              "      <td>Third</td>\n",
              "      <td>woman</td>\n",
              "      <td>False</td>\n",
              "      <td>NaN</td>\n",
              "      <td>Southampton</td>\n",
              "      <td>yes</td>\n",
              "      <td>True</td>\n",
              "    </tr>\n",
              "    <tr>\n",
              "      <th>3</th>\n",
              "      <td>1</td>\n",
              "      <td>1</td>\n",
              "      <td>female</td>\n",
              "      <td>35.0</td>\n",
              "      <td>1</td>\n",
              "      <td>0</td>\n",
              "      <td>53.1000</td>\n",
              "      <td>S</td>\n",
              "      <td>First</td>\n",
              "      <td>woman</td>\n",
              "      <td>False</td>\n",
              "      <td>C</td>\n",
              "      <td>Southampton</td>\n",
              "      <td>yes</td>\n",
              "      <td>False</td>\n",
              "    </tr>\n",
              "    <tr>\n",
              "      <th>4</th>\n",
              "      <td>0</td>\n",
              "      <td>3</td>\n",
              "      <td>male</td>\n",
              "      <td>35.0</td>\n",
              "      <td>0</td>\n",
              "      <td>0</td>\n",
              "      <td>8.0500</td>\n",
              "      <td>S</td>\n",
              "      <td>Third</td>\n",
              "      <td>man</td>\n",
              "      <td>True</td>\n",
              "      <td>NaN</td>\n",
              "      <td>Southampton</td>\n",
              "      <td>no</td>\n",
              "      <td>True</td>\n",
              "    </tr>\n",
              "  </tbody>\n",
              "</table>\n",
              "</div>"
            ],
            "text/plain": [
              "   survived  pclass     sex   age  ...  deck  embark_town  alive  alone\n",
              "0         0       3    male  22.0  ...   NaN  Southampton     no  False\n",
              "1         1       1  female  38.0  ...     C    Cherbourg    yes  False\n",
              "2         1       3  female  26.0  ...   NaN  Southampton    yes   True\n",
              "3         1       1  female  35.0  ...     C  Southampton    yes  False\n",
              "4         0       3    male  35.0  ...   NaN  Southampton     no   True\n",
              "\n",
              "[5 rows x 15 columns]"
            ]
          },
          "metadata": {
            "tags": []
          },
          "execution_count": 87
        }
      ]
    },
    {
      "cell_type": "markdown",
      "metadata": {
        "id": "l33VVLQvP7x5"
      },
      "source": [
        "**We are going to learn machine learning concepts with the titanic dataset, one of the most infamous shipwrecks in history.** \n",
        "\n",
        "Also as a fun fact, this dataset is one of the most famous datasets around in terms of machine learning next to the MNIST and Iris dataset!"
      ]
    },
    {
      "cell_type": "markdown",
      "metadata": {
        "id": "_ji2jKxnFhD5"
      },
      "source": [
        "# Data preprocessing\n"
      ]
    },
    {
      "cell_type": "markdown",
      "metadata": {
        "id": "5maRcCwvWdZf"
      },
      "source": [
        "Machine learning is nothing without fine data preprocessing.  \n",
        "Excute the code below that modifies the titanic dataset by:\n",
        "\n",
        "* Selecting dedicated and useful features (i.e columns)\n",
        "* Removing rows with NaN data\n",
        "* Use `factorize` to recode features `sex` (gender) and `embark_town` (the harbour city) into numerical data, because ML needs (and loves) numerical data."
      ]
    },
    {
      "cell_type": "code",
      "metadata": {
        "id": "KVuPQGxEGb0H",
        "colab": {
          "base_uri": "https://localhost:8080/"
        },
        "outputId": "6954c1bb-9e35-4c1e-f049-f98ce711f66c"
      },
      "source": [
        "titanic = titanic[['survived', 'pclass', 'sex', 'age', 'embark_town']]\n",
        "#titanic.head()\n",
        "#titanic.dtypes\n",
        "titanic.isna().sum()"
      ],
      "execution_count": null,
      "outputs": [
        {
          "output_type": "execute_result",
          "data": {
            "text/plain": [
              "survived         0\n",
              "pclass           0\n",
              "sex              0\n",
              "age            177\n",
              "embark_town      2\n",
              "dtype: int64"
            ]
          },
          "metadata": {
            "tags": []
          },
          "execution_count": 88
        }
      ]
    },
    {
      "cell_type": "code",
      "metadata": {
        "id": "TAnQaZujAE0U"
      },
      "source": [
        "titanic.dropna(inplace=True)\n",
        "titanic['sex'] = titanic['sex'].factorize()[0]\n",
        "titanic['embark_town'] = titanic['embark_town'].factorize()[0]"
      ],
      "execution_count": null,
      "outputs": []
    },
    {
      "cell_type": "code",
      "metadata": {
        "colab": {
          "base_uri": "https://localhost:8080/"
        },
        "id": "Hq-e7dUQYbdH",
        "outputId": "551afbac-3631-4d5d-8a52-d09375f0cc44"
      },
      "source": [
        "titanic.head()\n",
        "titanic.embark_town.value_counts(dropna=False)"
      ],
      "execution_count": null,
      "outputs": [
        {
          "output_type": "execute_result",
          "data": {
            "text/plain": [
              "0    554\n",
              "1    130\n",
              "2     28\n",
              "Name: embark_town, dtype: int64"
            ]
          },
          "metadata": {
            "tags": []
          },
          "execution_count": 90
        }
      ]
    },
    {
      "cell_type": "markdown",
      "metadata": {
        "id": "HDfmi_gNBRd3"
      },
      "source": [
        "# KNN classification with Scikit-Learn"
      ]
    },
    {
      "cell_type": "markdown",
      "metadata": {
        "id": "JJ3-5APmaKMd"
      },
      "source": [
        "## Train Test Split Data\n"
      ]
    },
    {
      "cell_type": "markdown",
      "metadata": {
        "id": "Z7afErxEdk5N"
      },
      "source": [
        "First you have to divide the titanic dataframe into 2 separated dataframes :\n",
        "  - `y` with the feature to be predicted (i.e. survived)\n",
        "  - `X` with the other features that will be used for the model (all numeric features + sex recoded with factorize + embark_town recoded with factorize)\n",
        "\n",
        "And then from `X` and `y`, you need to separate them for training and testing your model :\n",
        "* Use 75% of data for training, the rest for testing\n",
        "* Please split data with `random_state = 36`\n",
        "\n",
        "[See the previous quest on train-test split if needed](https://odyssey.wildcodeschool.com/quests/581)"
      ]
    },
    {
      "cell_type": "code",
      "metadata": {
        "id": "BzjohRebdGjO",
        "colab": {
          "base_uri": "https://localhost:8080/"
        },
        "outputId": "6f2f80a1-ede0-4267-e0ee-a6aed07b4a0b"
      },
      "source": [
        "# Your code here\n",
        "from sklearn.model_selection import train_test_split\n",
        "y = titanic['survived']\n",
        "X = titanic.drop('survived', axis=1)\n",
        "X_train, X_test, y_train, y_test = train_test_split(X, y, random_state = 36, test_size=0.25)\n",
        "print(\"The length of the initial dataset is :\", len(X))\n",
        "print(\"The length of the train dataset is   :\", len(X_train))\n",
        "print(\"The length of the test dataset is    :\", len(X_test))"
      ],
      "execution_count": null,
      "outputs": [
        {
          "output_type": "stream",
          "text": [
            "The length of the initial dataset is : 712\n",
            "The length of the train dataset is   : 534\n",
            "The length of the test dataset is    : 178\n"
          ],
          "name": "stdout"
        }
      ]
    },
    {
      "cell_type": "markdown",
      "metadata": {
        "id": "pGVB8rj9KKmF"
      },
      "source": [
        "## Model initialization"
      ]
    },
    {
      "cell_type": "markdown",
      "metadata": {
        "id": "QhC4gFT2BVh1"
      },
      "source": [
        "CONGRATS !!! You are going to develop your first ML model for KNN classification.  \n",
        "For that, please create a `model` object that initialises your model with the KNN classifier\n",
        "\n",
        "\n",
        "[More info here](https://scikit-learn.org/stable/modules/generated/sklearn.neighbors.KNeighborsClassifier.html)"
      ]
    },
    {
      "cell_type": "code",
      "metadata": {
        "id": "wEQLo4iFHg7A"
      },
      "source": [
        "# Your code here\n",
        "model = KNeighborsClassifier()"
      ],
      "execution_count": null,
      "outputs": []
    },
    {
      "cell_type": "markdown",
      "metadata": {
        "id": "ssHd4xLyKPTi"
      },
      "source": [
        "## Model fitting\n"
      ]
    },
    {
      "cell_type": "markdown",
      "metadata": {
        "id": "2Lt1sgc5WQ1a"
      },
      "source": [
        "Now you have to fit your model on the training data.\n",
        "\n",
        "[More info here](https://scikit-learn.org/stable/modules/generated/sklearn.neighbors.KNeighborsClassifier.html)"
      ]
    },
    {
      "cell_type": "code",
      "metadata": {
        "id": "QmF0GsFiKPc1",
        "colab": {
          "base_uri": "https://localhost:8080/"
        },
        "outputId": "7fd6fcdc-fe42-465f-fbd9-b74862c4c00d"
      },
      "source": [
        "model.fit(X_train, y_train)"
      ],
      "execution_count": null,
      "outputs": [
        {
          "output_type": "execute_result",
          "data": {
            "text/plain": [
              "KNeighborsClassifier(algorithm='auto', leaf_size=30, metric='minkowski',\n",
              "                     metric_params=None, n_jobs=None, n_neighbors=5, p=2,\n",
              "                     weights='uniform')"
            ]
          },
          "metadata": {
            "tags": []
          },
          "execution_count": 93
        }
      ]
    },
    {
      "cell_type": "markdown",
      "metadata": {
        "id": "PGiFceTKfMfk"
      },
      "source": [
        "## Make predictions"
      ]
    },
    {
      "cell_type": "markdown",
      "metadata": {
        "id": "ApT-slSTfMs-"
      },
      "source": [
        "You model is ready for prediction !"
      ]
    },
    {
      "cell_type": "code",
      "metadata": {
        "id": "yiyF7AlKfM8R",
        "colab": {
          "base_uri": "https://localhost:8080/"
        },
        "outputId": "daef8b8f-ef9d-487c-d828-d52a018ca667"
      },
      "source": [
        "# Your code here\n",
        "predictions = model.predict(X_test)\n",
        "print(predictions)"
      ],
      "execution_count": null,
      "outputs": [
        {
          "output_type": "stream",
          "text": [
            "[0 0 0 1 0 1 1 0 1 1 0 1 0 1 1 1 0 0 0 0 0 0 0 1 1 1 0 0 1 0 0 1 1 0 0 1 0\n",
            " 0 1 0 0 1 0 0 1 0 0 0 0 0 0 0 0 0 1 0 1 0 0 0 0 1 0 0 1 0 0 0 1 0 1 0 1 1\n",
            " 1 0 0 0 0 1 0 0 0 0 1 0 1 1 0 1 1 0 1 0 0 0 0 1 0 0 1 0 0 1 0 0 0 0 1 1 0\n",
            " 0 0 0 1 1 0 0 0 0 0 1 1 0 0 0 0 0 1 1 0 0 0 1 1 0 0 1 0 0 1 1 0 0 0 0 1 0\n",
            " 0 0 1 1 0 0 0 0 0 1 0 0 1 1 0 1 0 0 0 0 0 1 0 0 0 0 0 1 0 0]\n"
          ],
          "name": "stdout"
        }
      ]
    },
    {
      "cell_type": "markdown",
      "metadata": {
        "id": "oq_utVBCNPGE"
      },
      "source": [
        "Make prediction for yourself !  \n",
        "Fill the data below and evaluate your chance of survival ..."
      ]
    },
    {
      "cell_type": "code",
      "metadata": {
        "colab": {
          "base_uri": "https://localhost:8080/",
          "height": 204
        },
        "id": "m_lITXpcbc7B",
        "outputId": "0ce91895-8183-4464-85d5-a4298584d5e2"
      },
      "source": [
        "titanic.head()"
      ],
      "execution_count": null,
      "outputs": [
        {
          "output_type": "execute_result",
          "data": {
            "text/html": [
              "<div>\n",
              "<style scoped>\n",
              "    .dataframe tbody tr th:only-of-type {\n",
              "        vertical-align: middle;\n",
              "    }\n",
              "\n",
              "    .dataframe tbody tr th {\n",
              "        vertical-align: top;\n",
              "    }\n",
              "\n",
              "    .dataframe thead th {\n",
              "        text-align: right;\n",
              "    }\n",
              "</style>\n",
              "<table border=\"1\" class=\"dataframe\">\n",
              "  <thead>\n",
              "    <tr style=\"text-align: right;\">\n",
              "      <th></th>\n",
              "      <th>survived</th>\n",
              "      <th>pclass</th>\n",
              "      <th>sex</th>\n",
              "      <th>age</th>\n",
              "      <th>embark_town</th>\n",
              "    </tr>\n",
              "  </thead>\n",
              "  <tbody>\n",
              "    <tr>\n",
              "      <th>0</th>\n",
              "      <td>0</td>\n",
              "      <td>3</td>\n",
              "      <td>0</td>\n",
              "      <td>22.0</td>\n",
              "      <td>0</td>\n",
              "    </tr>\n",
              "    <tr>\n",
              "      <th>1</th>\n",
              "      <td>1</td>\n",
              "      <td>1</td>\n",
              "      <td>1</td>\n",
              "      <td>38.0</td>\n",
              "      <td>1</td>\n",
              "    </tr>\n",
              "    <tr>\n",
              "      <th>2</th>\n",
              "      <td>1</td>\n",
              "      <td>3</td>\n",
              "      <td>1</td>\n",
              "      <td>26.0</td>\n",
              "      <td>0</td>\n",
              "    </tr>\n",
              "    <tr>\n",
              "      <th>3</th>\n",
              "      <td>1</td>\n",
              "      <td>1</td>\n",
              "      <td>1</td>\n",
              "      <td>35.0</td>\n",
              "      <td>0</td>\n",
              "    </tr>\n",
              "    <tr>\n",
              "      <th>4</th>\n",
              "      <td>0</td>\n",
              "      <td>3</td>\n",
              "      <td>0</td>\n",
              "      <td>35.0</td>\n",
              "      <td>0</td>\n",
              "    </tr>\n",
              "  </tbody>\n",
              "</table>\n",
              "</div>"
            ],
            "text/plain": [
              "   survived  pclass  sex   age  embark_town\n",
              "0         0       3    0  22.0            0\n",
              "1         1       1    1  38.0            1\n",
              "2         1       3    1  26.0            0\n",
              "3         1       1    1  35.0            0\n",
              "4         0       3    0  35.0            0"
            ]
          },
          "metadata": {
            "tags": []
          },
          "execution_count": 95
        }
      ]
    },
    {
      "cell_type": "code",
      "metadata": {
        "id": "lWYaEHyVNPRJ",
        "colab": {
          "base_uri": "https://localhost:8080/"
        },
        "outputId": "5d1040ab-5a17-4813-bf9d-26dd866dbe8b"
      },
      "source": [
        "# Your code here\n",
        "my_class = 0\n",
        "my_sex = 0 \n",
        "my_age = 60\n",
        "my_town = 1\n",
        "my_data = np.array([my_class, my_sex, my_age, my_town]).reshape(1,4)\n",
        "model.predict(my_data)"
      ],
      "execution_count": null,
      "outputs": [
        {
          "output_type": "execute_result",
          "data": {
            "text/plain": [
              "array([0])"
            ]
          },
          "metadata": {
            "tags": []
          },
          "execution_count": 96
        }
      ]
    },
    {
      "cell_type": "markdown",
      "metadata": {
        "id": "3akJ-nN_gEax"
      },
      "source": [
        "## Model evaluation"
      ]
    },
    {
      "cell_type": "markdown",
      "metadata": {
        "id": "Acm3E683gEiU"
      },
      "source": [
        "Last but not least, you should evaluate the accuracy of your model.  \n",
        "The metric `accuracy_score` is directly imported form `sklearn.metrics `.  \n",
        "Please remember than other metrics are available to evaluate classification models such as precision, recall, f1 score and all together compose the `confusion matrix`."
      ]
    },
    {
      "cell_type": "code",
      "metadata": {
        "id": "vcU-DTQAcCFI"
      },
      "source": [
        "from sklearn.metrics import accuracy_score, confusion_matrix, plot_confusion_matrix"
      ],
      "execution_count": null,
      "outputs": []
    },
    {
      "cell_type": "code",
      "metadata": {
        "id": "Lp0Q3yXOgD1q",
        "colab": {
          "base_uri": "https://localhost:8080/",
          "height": 313
        },
        "outputId": "f8d0b2bf-7a50-408c-c677-98c828816054"
      },
      "source": [
        "y_true = list(y_test)\n",
        "y_pred = list(predictions)\n",
        "\n",
        "accuracy = accuracy_score(y_test, predictions)\n",
        "confusion_matrix = confusion_matrix(y_true, y_pred)\n",
        "\n",
        "print(\"accuracy = %.3f\" % accuracy)\n",
        "#dont know why, but doesnt want to disply correctly\n",
        "#print(\"Confusion matrix:\\n\", confusion_matrix)\n",
        "plot_confusion_matrix(model, X_test, y_test)"
      ],
      "execution_count": null,
      "outputs": [
        {
          "output_type": "stream",
          "text": [
            "accuracy = 0.736\n"
          ],
          "name": "stdout"
        },
        {
          "output_type": "execute_result",
          "data": {
            "text/plain": [
              "<sklearn.metrics._plot.confusion_matrix.ConfusionMatrixDisplay at 0x7f4f0669a470>"
            ]
          },
          "metadata": {
            "tags": []
          },
          "execution_count": 98
        },
        {
          "output_type": "display_data",
          "data": {
            "image/png": "[encoded data removed]",
            "text/plain": [
              "<Figure size 432x288 with 2 Axes>"
            ]
          },
          "metadata": {
            "tags": [],
            "needs_background": "light"
          }
        }
      ]
    },
    {
      "cell_type": "markdown",
      "metadata": {
        "id": "4z5pTssNNGPY"
      },
      "source": [
        "Performances of our model are pretty poor and could be explained by the original dataset.  \n",
        "Antoher way is to tune the hyperparameter such as the number of neighbors ..."
      ]
    },
    {
      "cell_type": "markdown",
      "metadata": {
        "id": "keBhfUHKNESi"
      },
      "source": [
        "## Hyperparameter\n"
      ]
    },
    {
      "cell_type": "markdown",
      "metadata": {
        "id": "DpjEHC3ZWZhI"
      },
      "source": [
        "Let's play with the `n_neighbors` and `weight` hyperparameters of the model.  \n",
        "* Evaluate the score of your models by adjusting the hyperparameter from 2 to 10.\n",
        "* What is the values of `n_neighbors` and `weight` that leads to the best score ?"
      ]
    },
    {
      "cell_type": "code",
      "metadata": {
        "id": "3kJ6Df-CNEJG",
        "colab": {
          "base_uri": "https://localhost:8080/"
        },
        "outputId": "ea15ff08-559b-4d93-ad7e-154bf299825a"
      },
      "source": [
        "weights = [\"uniform\", \"distance\"]\n",
        "\n",
        "def find_best_neighbors(weight=weights[1], X_train=X_train, X_test=X_test, y_train=y_train, y_test=y_test):\n",
        "  for n in range(2,11):\n",
        "    model = KNeighborsClassifier(n_neighbors=n, weights=weight)\n",
        "    model.fit(X_train, y_train)\n",
        "    preds = model.predict(X_test)\n",
        "    print(f\"neighbors = {n} accuracy = {round(accuracy_score(y_test, preds),3)}, weight = {weight}\")\n",
        "\n",
        "find_best_neighbors(weight=weights[0])\n",
        "print()\n",
        "find_best_neighbors(weight=weights[1])"
      ],
      "execution_count": null,
      "outputs": [
        {
          "output_type": "stream",
          "text": [
            "neighbors = 2 accuracy = 0.753, weight = uniform\n",
            "neighbors = 3 accuracy = 0.73, weight = uniform\n",
            "neighbors = 4 accuracy = 0.736, weight = uniform\n",
            "neighbors = 5 accuracy = 0.736, weight = uniform\n",
            "neighbors = 6 accuracy = 0.758, weight = uniform\n",
            "neighbors = 7 accuracy = 0.747, weight = uniform\n",
            "neighbors = 8 accuracy = 0.77, weight = uniform\n",
            "neighbors = 9 accuracy = 0.736, weight = uniform\n",
            "neighbors = 10 accuracy = 0.725, weight = uniform\n",
            "\n",
            "neighbors = 2 accuracy = 0.781, weight = distance\n",
            "neighbors = 3 accuracy = 0.764, weight = distance\n",
            "neighbors = 4 accuracy = 0.764, weight = distance\n",
            "neighbors = 5 accuracy = 0.753, weight = distance\n",
            "neighbors = 6 accuracy = 0.775, weight = distance\n",
            "neighbors = 7 accuracy = 0.77, weight = distance\n",
            "neighbors = 8 accuracy = 0.775, weight = distance\n",
            "neighbors = 9 accuracy = 0.77, weight = distance\n",
            "neighbors = 10 accuracy = 0.77, weight = distance\n"
          ],
          "name": "stdout"
        }
      ]
    },
    {
      "cell_type": "markdown",
      "metadata": {
        "id": "kLhEuLCECG90"
      },
      "source": [
        "# Let's go back to data processing to improve our model\n",
        "\n",
        "Please do the same data processing as previously, but change `embark_town` (the harbour city) with get_dummies (and not factorize).\n",
        "Then initialize, fit and score your model. Is it better?"
      ]
    },
    {
      "cell_type": "code",
      "metadata": {
        "colab": {
          "base_uri": "https://localhost:8080/",
          "height": 204
        },
        "id": "QecJwQiEmCqX",
        "outputId": "700a1890-1ad5-4ca5-f54d-482a5e5c9d63"
      },
      "source": [
        "titanic_dummy = titanic_dummy[['survived', 'pclass', 'sex', 'age', 'embark_town']]\n",
        "titanic_dummy.dropna(inplace=True)\n",
        "titanic_dummy = pd.get_dummies(data=titanic_dummy, columns=['sex'], prefix='sex')\n",
        "titanic_dummy = pd.get_dummies(data=titanic_dummy, columns=['embark_town'], prefix='embark_town')\n",
        "titanic_dummy.head()"
      ],
      "execution_count": null,
      "outputs": [
        {
          "output_type": "execute_result",
          "data": {
            "text/html": [
              "<div>\n",
              "<style scoped>\n",
              "    .dataframe tbody tr th:only-of-type {\n",
              "        vertical-align: middle;\n",
              "    }\n",
              "\n",
              "    .dataframe tbody tr th {\n",
              "        vertical-align: top;\n",
              "    }\n",
              "\n",
              "    .dataframe thead th {\n",
              "        text-align: right;\n",
              "    }\n",
              "</style>\n",
              "<table border=\"1\" class=\"dataframe\">\n",
              "  <thead>\n",
              "    <tr style=\"text-align: right;\">\n",
              "      <th></th>\n",
              "      <th>survived</th>\n",
              "      <th>pclass</th>\n",
              "      <th>age</th>\n",
              "      <th>sex_female</th>\n",
              "      <th>sex_male</th>\n",
              "      <th>embark_town_Cherbourg</th>\n",
              "      <th>embark_town_Queenstown</th>\n",
              "      <th>embark_town_Southampton</th>\n",
              "    </tr>\n",
              "  </thead>\n",
              "  <tbody>\n",
              "    <tr>\n",
              "      <th>0</th>\n",
              "      <td>0</td>\n",
              "      <td>3</td>\n",
              "      <td>22.0</td>\n",
              "      <td>0</td>\n",
              "      <td>1</td>\n",
              "      <td>0</td>\n",
              "      <td>0</td>\n",
              "      <td>1</td>\n",
              "    </tr>\n",
              "    <tr>\n",
              "      <th>1</th>\n",
              "      <td>1</td>\n",
              "      <td>1</td>\n",
              "      <td>38.0</td>\n",
              "      <td>1</td>\n",
              "      <td>0</td>\n",
              "      <td>1</td>\n",
              "      <td>0</td>\n",
              "      <td>0</td>\n",
              "    </tr>\n",
              "    <tr>\n",
              "      <th>2</th>\n",
              "      <td>1</td>\n",
              "      <td>3</td>\n",
              "      <td>26.0</td>\n",
              "      <td>1</td>\n",
              "      <td>0</td>\n",
              "      <td>0</td>\n",
              "      <td>0</td>\n",
              "      <td>1</td>\n",
              "    </tr>\n",
              "    <tr>\n",
              "      <th>3</th>\n",
              "      <td>1</td>\n",
              "      <td>1</td>\n",
              "      <td>35.0</td>\n",
              "      <td>1</td>\n",
              "      <td>0</td>\n",
              "      <td>0</td>\n",
              "      <td>0</td>\n",
              "      <td>1</td>\n",
              "    </tr>\n",
              "    <tr>\n",
              "      <th>4</th>\n",
              "      <td>0</td>\n",
              "      <td>3</td>\n",
              "      <td>35.0</td>\n",
              "      <td>0</td>\n",
              "      <td>1</td>\n",
              "      <td>0</td>\n",
              "      <td>0</td>\n",
              "      <td>1</td>\n",
              "    </tr>\n",
              "  </tbody>\n",
              "</table>\n",
              "</div>"
            ],
            "text/plain": [
              "   survived  pclass  ...  embark_town_Queenstown  embark_town_Southampton\n",
              "0         0       3  ...                       0                        1\n",
              "1         1       1  ...                       0                        0\n",
              "2         1       3  ...                       0                        1\n",
              "3         1       1  ...                       0                        1\n",
              "4         0       3  ...                       0                        1\n",
              "\n",
              "[5 rows x 8 columns]"
            ]
          },
          "metadata": {
            "tags": []
          },
          "execution_count": 100
        }
      ]
    },
    {
      "cell_type": "code",
      "metadata": {
        "id": "Nr7y53G1CxCQ",
        "colab": {
          "base_uri": "https://localhost:8080/"
        },
        "outputId": "a43ac4f2-2112-414c-ab51-8ff7e92b3b41"
      },
      "source": [
        "y_dummy = titanic_dummy['survived']\n",
        "X_dummy = titanic_dummy.drop('survived', axis=1)\n",
        "Xd_train, Xd_test, yd_train, yd_test = train_test_split(X_dummy, y_dummy, random_state = 36, test_size=0.25)\n",
        "Xd_train.shape, X_train.shape"
      ],
      "execution_count": null,
      "outputs": [
        {
          "output_type": "execute_result",
          "data": {
            "text/plain": [
              "((534, 7), (534, 4))"
            ]
          },
          "metadata": {
            "tags": []
          },
          "execution_count": 101
        }
      ]
    },
    {
      "cell_type": "code",
      "metadata": {
        "colab": {
          "base_uri": "https://localhost:8080/"
        },
        "id": "oI9i35x9mTKe",
        "outputId": "57408084-c415-4738-e06e-2e718e5b6557"
      },
      "source": [
        "find_best_neighbors(weight=weights[0], X_train=Xd_train, X_test=Xd_test, y_train=yd_train, y_test=yd_test)\n",
        "print()\n",
        "find_best_neighbors(weight=weights[1], X_train=Xd_train, X_test=Xd_test, y_train=yd_train, y_test=yd_test)"
      ],
      "execution_count": null,
      "outputs": [
        {
          "output_type": "stream",
          "text": [
            "neighbors = 2 accuracy = 0.781, weight = uniform\n",
            "neighbors = 3 accuracy = 0.77, weight = uniform\n",
            "neighbors = 4 accuracy = 0.781, weight = uniform\n",
            "neighbors = 5 accuracy = 0.77, weight = uniform\n",
            "neighbors = 6 accuracy = 0.803, weight = uniform\n",
            "neighbors = 7 accuracy = 0.803, weight = uniform\n",
            "neighbors = 8 accuracy = 0.787, weight = uniform\n",
            "neighbors = 9 accuracy = 0.758, weight = uniform\n",
            "neighbors = 10 accuracy = 0.775, weight = uniform\n",
            "\n",
            "neighbors = 2 accuracy = 0.809, weight = distance\n",
            "neighbors = 3 accuracy = 0.803, weight = distance\n",
            "neighbors = 4 accuracy = 0.798, weight = distance\n",
            "neighbors = 5 accuracy = 0.792, weight = distance\n",
            "neighbors = 6 accuracy = 0.809, weight = distance\n",
            "neighbors = 7 accuracy = 0.809, weight = distance\n",
            "neighbors = 8 accuracy = 0.809, weight = distance\n",
            "neighbors = 9 accuracy = 0.787, weight = distance\n",
            "neighbors = 10 accuracy = 0.798, weight = distance\n"
          ],
          "name": "stdout"
        }
      ]
    },
    {
      "cell_type": "markdown",
      "metadata": {
        "id": "cELexG7jm3_Z"
      },
      "source": [
        "#dummies are smarter :)"
      ]
    },
    {
      "cell_type": "markdown",
      "metadata": {
        "id": "XPX8kS_Gjt_K"
      },
      "source": [
        "# Conclusions\n",
        "* Congrats !!! You just landed on the MACHINE LEARNING planet\n",
        "* The KNN classifier is an algorithm from supervised learning part of ML\n",
        "* Scikit learn is the to-know-and-to-love toolbox for ML\n",
        "* Our KNN classifier could be improved with hyperparameter tuning\n",
        "* Other algorithms should be tested for selecting the best one, but it is another story ... to be continued ML Data Wilders :) "
      ]
    }
  ]
}