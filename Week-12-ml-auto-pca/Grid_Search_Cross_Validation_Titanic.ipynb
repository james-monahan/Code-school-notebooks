{
  "nbformat": 4,
  "nbformat_minor": 0,
  "metadata": {
    "colab": {
      "name": "Copy of Grid Search Cross Validation- Titanic",
      "provenance": [],
      "collapsed_sections": [
        "a2oDS05do2eS",
        "wPKc4UTfjM7t",
        "79kO5PVjg4hi"
      ],
      "include_colab_link": true
    },
    "kernelspec": {
      "name": "python3",
      "display_name": "Python 3"
    }
  },
  "cells": [
    {
      "cell_type": "markdown",
      "metadata": {
        "id": "view-in-github",
        "colab_type": "text"
      },
      "source": [
        "<a href=\"https://colab.research.google.com/github/james-monahan/Code-school-notebooks/blob/main/Week-12-ml-auto-pca/Grid_Search_Cross_Validation_Titanic.ipynb\" target=\"_parent\"><img src=\"https://colab.research.google.com/assets/colab-badge.svg\" alt=\"Open In Colab\"/></a>"
      ]
    },
    {
      "cell_type": "markdown",
      "metadata": {
        "id": "a2oDS05do2eS"
      },
      "source": [
        "# Titanic Data"
      ]
    },
    {
      "cell_type": "code",
      "metadata": {
        "id": "53zP-4uyicEu",
        "colab": {
          "base_uri": "https://localhost:8080/",
          "height": 250
        },
        "outputId": "c4387f5e-355c-426a-9d5a-c2169336ba8b"
      },
      "source": [
        "import matplotlib.pyplot as plt\n",
        "import pandas as pd\n",
        "import numpy as np\n",
        "import seaborn as sns\n",
        "from sklearn.metrics import classification_report\n",
        "\n",
        "link = \"https://raw.githubusercontent.com/murpi/wilddata/master/quests/titanic.csv\"\n",
        "df = pd.read_csv(link)\n",
        "df['Survived'] = df['Survived'].apply(lambda x: \"Survived\" if x == 1 else \"Dead\")\n",
        "df.head()"
      ],
      "execution_count": null,
      "outputs": [
        {
          "output_type": "execute_result",
          "data": {
            "text/html": [
              "<div>\n",
              "<style scoped>\n",
              "    .dataframe tbody tr th:only-of-type {\n",
              "        vertical-align: middle;\n",
              "    }\n",
              "\n",
              "    .dataframe tbody tr th {\n",
              "        vertical-align: top;\n",
              "    }\n",
              "\n",
              "    .dataframe thead th {\n",
              "        text-align: right;\n",
              "    }\n",
              "</style>\n",
              "<table border=\"1\" class=\"dataframe\">\n",
              "  <thead>\n",
              "    <tr style=\"text-align: right;\">\n",
              "      <th></th>\n",
              "      <th>Survived</th>\n",
              "      <th>Pclass</th>\n",
              "      <th>Name</th>\n",
              "      <th>Sex</th>\n",
              "      <th>Age</th>\n",
              "      <th>Siblings/Spouses Aboard</th>\n",
              "      <th>Parents/Children Aboard</th>\n",
              "      <th>Fare</th>\n",
              "    </tr>\n",
              "  </thead>\n",
              "  <tbody>\n",
              "    <tr>\n",
              "      <th>0</th>\n",
              "      <td>Dead</td>\n",
              "      <td>3</td>\n",
              "      <td>Mr. Owen Harris Braund</td>\n",
              "      <td>male</td>\n",
              "      <td>22.0</td>\n",
              "      <td>1</td>\n",
              "      <td>0</td>\n",
              "      <td>7.2500</td>\n",
              "    </tr>\n",
              "    <tr>\n",
              "      <th>1</th>\n",
              "      <td>Survived</td>\n",
              "      <td>1</td>\n",
              "      <td>Mrs. John Bradley (Florence Briggs Thayer) Cum...</td>\n",
              "      <td>female</td>\n",
              "      <td>38.0</td>\n",
              "      <td>1</td>\n",
              "      <td>0</td>\n",
              "      <td>71.2833</td>\n",
              "    </tr>\n",
              "    <tr>\n",
              "      <th>2</th>\n",
              "      <td>Survived</td>\n",
              "      <td>3</td>\n",
              "      <td>Miss. Laina Heikkinen</td>\n",
              "      <td>female</td>\n",
              "      <td>26.0</td>\n",
              "      <td>0</td>\n",
              "      <td>0</td>\n",
              "      <td>7.9250</td>\n",
              "    </tr>\n",
              "    <tr>\n",
              "      <th>3</th>\n",
              "      <td>Survived</td>\n",
              "      <td>1</td>\n",
              "      <td>Mrs. Jacques Heath (Lily May Peel) Futrelle</td>\n",
              "      <td>female</td>\n",
              "      <td>35.0</td>\n",
              "      <td>1</td>\n",
              "      <td>0</td>\n",
              "      <td>53.1000</td>\n",
              "    </tr>\n",
              "    <tr>\n",
              "      <th>4</th>\n",
              "      <td>Dead</td>\n",
              "      <td>3</td>\n",
              "      <td>Mr. William Henry Allen</td>\n",
              "      <td>male</td>\n",
              "      <td>35.0</td>\n",
              "      <td>0</td>\n",
              "      <td>0</td>\n",
              "      <td>8.0500</td>\n",
              "    </tr>\n",
              "  </tbody>\n",
              "</table>\n",
              "</div>"
            ],
            "text/plain": [
              "   Survived  Pclass  ... Parents/Children Aboard     Fare\n",
              "0      Dead       3  ...                       0   7.2500\n",
              "1  Survived       1  ...                       0  71.2833\n",
              "2  Survived       3  ...                       0   7.9250\n",
              "3  Survived       1  ...                       0  53.1000\n",
              "4      Dead       3  ...                       0   8.0500\n",
              "\n",
              "[5 rows x 8 columns]"
            ]
          },
          "metadata": {
            "tags": []
          },
          "execution_count": 1
        }
      ]
    },
    {
      "cell_type": "markdown",
      "metadata": {
        "id": "wPKc4UTfjM7t"
      },
      "source": [
        "# Data preparation"
      ]
    },
    {
      "cell_type": "markdown",
      "metadata": {
        "id": "ew_BixpIjRl1"
      },
      "source": [
        "What are the \"type\" of each column? Are there non-numeric columns? "
      ]
    },
    {
      "cell_type": "code",
      "metadata": {
        "id": "2048R0M8mCfr"
      },
      "source": [
        "sexes = {'male': 0, 'female': 1}\n",
        "df['Sex'] = df['Sex'].map(sexes)\n",
        "\n",
        "survival = {'Dead': 0, 'Survived': 1}\n",
        "df['Survived'] = df['Survived'].map(survival)"
      ],
      "execution_count": null,
      "outputs": []
    },
    {
      "cell_type": "code",
      "metadata": {
        "id": "6jeiVDeYaUeV"
      },
      "source": [
        "from sklearn.model_selection import train_test_split\n",
        "from sklearn.linear_model import LogisticRegression\n",
        "from sklearn.metrics import confusion_matrix, plot_confusion_matrix\n",
        "from sklearn.model_selection import GridSearchCV"
      ],
      "execution_count": null,
      "outputs": []
    },
    {
      "cell_type": "code",
      "metadata": {
        "id": "UpXqf6uNq3b6",
        "colab": {
          "base_uri": "https://localhost:8080/"
        },
        "outputId": "4c2d138b-d654-451a-e6b6-0907a4ad2b11"
      },
      "source": [
        "X = df.drop(['Survived', 'Name'], axis=1)\n",
        "y = df['Survived']\n",
        "\n",
        "X_train, X_test, y_train, y_test = train_test_split(X, y, test_size=0.33, stratify=y)\n",
        "\n",
        "LM = LogisticRegression()\n",
        "\n",
        "model = LM.fit(X_train, y_train)\n",
        "y_pred = model.predict(X_test)\n",
        "\n",
        "print(\"train data:\",model.score(X_train, y_train))\n",
        "print(\"test data:\",model.score(X_test, y_test))"
      ],
      "execution_count": null,
      "outputs": [
        {
          "output_type": "stream",
          "text": [
            "train data: 0.8097643097643098\n",
            "test data: 0.8088737201365188\n"
          ],
          "name": "stdout"
        }
      ]
    },
    {
      "cell_type": "markdown",
      "metadata": {
        "id": "79kO5PVjg4hi"
      },
      "source": [
        "#Cross Validation"
      ]
    },
    {
      "cell_type": "code",
      "metadata": {
        "id": "6KshYzUQgs4o"
      },
      "source": [
        "from sklearn.model_selection import cross_val_score"
      ],
      "execution_count": null,
      "outputs": []
    },
    {
      "cell_type": "code",
      "metadata": {
        "colab": {
          "base_uri": "https://localhost:8080/"
        },
        "id": "17OOxMAghE-6",
        "outputId": "e9be5d56-fc37-405f-d413-aec92a358d32"
      },
      "source": [
        "cvs = cross_val_score(LogisticRegression(), X, y, cv=6)\n",
        "cvs"
      ],
      "execution_count": null,
      "outputs": [
        {
          "output_type": "execute_result",
          "data": {
            "text/plain": [
              "array([0.77702703, 0.80405405, 0.79054054, 0.78378378, 0.7972973 ,\n",
              "       0.81632653])"
            ]
          },
          "metadata": {
            "tags": []
          },
          "execution_count": 6
        }
      ]
    },
    {
      "cell_type": "code",
      "metadata": {
        "colab": {
          "base_uri": "https://localhost:8080/"
        },
        "id": "VPdjNJRYi4OK",
        "outputId": "de8eefa8-ee7e-4897-a889-d70efce736b4"
      },
      "source": [
        "#mean, variance, std\n",
        "cvs.mean(), np.var(cvs), np.std(cvs)"
      ],
      "execution_count": null,
      "outputs": [
        {
          "output_type": "execute_result",
          "data": {
            "text/plain": [
              "(0.7948382055524913, 0.00016843922589135775, 0.01297841384343086)"
            ]
          },
          "metadata": {
            "tags": []
          },
          "execution_count": 7
        }
      ]
    },
    {
      "cell_type": "markdown",
      "metadata": {
        "id": "Tq2_l54JkOOg"
      },
      "source": [
        "#Gridsearch"
      ]
    },
    {
      "cell_type": "code",
      "metadata": {
        "id": "CAukPwDWkQ9-"
      },
      "source": [
        "from sklearn.model_selection import GridSearchCV"
      ],
      "execution_count": null,
      "outputs": []
    },
    {
      "cell_type": "code",
      "metadata": {
        "id": "I_fzz7W4kw15"
      },
      "source": [
        "from sklearn.tree import DecisionTreeClassifier"
      ],
      "execution_count": null,
      "outputs": []
    },
    {
      "cell_type": "code",
      "metadata": {
        "id": "CBGULxvmk5If"
      },
      "source": [
        "DTF = DecisionTreeClassifier()"
      ],
      "execution_count": null,
      "outputs": []
    },
    {
      "cell_type": "code",
      "metadata": {
        "colab": {
          "base_uri": "https://localhost:8080/"
        },
        "id": "nd1oBOAwk8iz",
        "outputId": "57cce104-4f3b-48d1-ff34-f01196a0df42"
      },
      "source": [
        "DTF.get_params"
      ],
      "execution_count": null,
      "outputs": [
        {
          "output_type": "execute_result",
          "data": {
            "text/plain": [
              "<bound method BaseEstimator.get_params of DecisionTreeClassifier(ccp_alpha=0.0, class_weight=None, criterion='gini',\n",
              "                       max_depth=None, max_features=None, max_leaf_nodes=None,\n",
              "                       min_impurity_decrease=0.0, min_impurity_split=None,\n",
              "                       min_samples_leaf=1, min_samples_split=2,\n",
              "                       min_weight_fraction_leaf=0.0, presort='deprecated',\n",
              "                       random_state=None, splitter='best')>"
            ]
          },
          "metadata": {
            "tags": []
          },
          "execution_count": 11
        }
      ]
    },
    {
      "cell_type": "code",
      "metadata": {
        "id": "bD4_b518k_F4"
      },
      "source": [
        "params = {\n",
        "          # 'ccp_alpha':, \n",
        "          # 'class_weight':, \n",
        "          # 'criterion':,\n",
        "          'max_depth': [2, 3, 5, 10], \n",
        "          # 'max_features':, \n",
        "          # 'max_leaf_nodes':,    \n",
        "          # 'min_impurity_decrease':, \n",
        "          # 'min_impurity_split':,\n",
        "          'min_samples_leaf':[1, 3, 5, 10] \n",
        "          # 'min_samples_split':,\n",
        "          # 'min_weight_fraction_leaf':, \n",
        "          # 'random_state':,\n",
        "          # 'splitter':\n",
        "          }"
      ],
      "execution_count": null,
      "outputs": []
    },
    {
      "cell_type": "code",
      "metadata": {
        "colab": {
          "base_uri": "https://localhost:8080/"
        },
        "id": "o-vfF8YikR8v",
        "outputId": "fa1dbc12-0f4c-4c2f-b322-40619f6ad7f3"
      },
      "source": [
        "clf = GridSearchCV(param_grid=params, estimator=DTF)\n",
        "clf.fit(X, y)"
      ],
      "execution_count": null,
      "outputs": [
        {
          "output_type": "execute_result",
          "data": {
            "text/plain": [
              "GridSearchCV(cv=None, error_score=nan,\n",
              "             estimator=DecisionTreeClassifier(ccp_alpha=0.0, class_weight=None,\n",
              "                                              criterion='gini', max_depth=None,\n",
              "                                              max_features=None,\n",
              "                                              max_leaf_nodes=None,\n",
              "                                              min_impurity_decrease=0.0,\n",
              "                                              min_impurity_split=None,\n",
              "                                              min_samples_leaf=1,\n",
              "                                              min_samples_split=2,\n",
              "                                              min_weight_fraction_leaf=0.0,\n",
              "                                              presort='deprecated',\n",
              "                                              random_state=None,\n",
              "                                              splitter='best'),\n",
              "             iid='deprecated', n_jobs=None,\n",
              "             param_grid={'max_depth': [2, 3, 5, 10],\n",
              "                         'min_samples_leaf': [1, 3, 5, 10]},\n",
              "             pre_dispatch='2*n_jobs', refit=True, return_train_score=False,\n",
              "             scoring=None, verbose=0)"
            ]
          },
          "metadata": {
            "tags": []
          },
          "execution_count": 13
        }
      ]
    },
    {
      "cell_type": "markdown",
      "metadata": {
        "id": "W2W32LW7moQ9"
      },
      "source": [
        "With this search via GridSearch, what are the best values of the hyperparameters if we want to maximize the accuracy score?  "
      ]
    },
    {
      "cell_type": "code",
      "metadata": {
        "colab": {
          "base_uri": "https://localhost:8080/"
        },
        "id": "RSdBadvrmsAi",
        "outputId": "40bd10aa-8dd7-4185-e3e6-3e039a324d51"
      },
      "source": [
        "#accuracy and best params\n",
        "print(clf.best_score_)\n",
        "print(clf.best_params_)"
      ],
      "execution_count": null,
      "outputs": [
        {
          "output_type": "stream",
          "text": [
            "0.829772106900273\n",
            "{'max_depth': 5, 'min_samples_leaf': 3}\n"
          ],
          "name": "stdout"
        }
      ]
    },
    {
      "cell_type": "markdown",
      "metadata": {
        "id": "gyGa-Iezl_Up"
      },
      "source": [
        "\n",
        "With this same classifier, you will launch a RandomSearch on the max_depth and min_samples_leaf parameters.  \n",
        "With this search via RandomSearch, what are the best values of the hyperparameters if you want to maximize the accuracy score?"
      ]
    },
    {
      "cell_type": "code",
      "metadata": {
        "id": "wpZYGv-cndjJ"
      },
      "source": [
        "r_params = {\n",
        "          'max_depth': range(1,100), \n",
        "          'min_samples_leaf':range(1,100) \n",
        "          }"
      ],
      "execution_count": null,
      "outputs": []
    },
    {
      "cell_type": "code",
      "metadata": {
        "id": "-EzJB8owkUBx"
      },
      "source": [
        "from sklearn.model_selection import RandomizedSearchCV"
      ],
      "execution_count": null,
      "outputs": []
    },
    {
      "cell_type": "code",
      "metadata": {
        "colab": {
          "base_uri": "https://localhost:8080/"
        },
        "id": "U5_0osPjkoMw",
        "outputId": "c533d204-c2ad-4e06-b99c-9cfd3f55f328"
      },
      "source": [
        "r_clf = RandomizedSearchCV(param_distributions=r_params, estimator=DTF)\n",
        "r_clf.fit(X,y)"
      ],
      "execution_count": null,
      "outputs": [
        {
          "output_type": "execute_result",
          "data": {
            "text/plain": [
              "RandomizedSearchCV(cv=None, error_score=nan,\n",
              "                   estimator=DecisionTreeClassifier(ccp_alpha=0.0,\n",
              "                                                    class_weight=None,\n",
              "                                                    criterion='gini',\n",
              "                                                    max_depth=None,\n",
              "                                                    max_features=None,\n",
              "                                                    max_leaf_nodes=None,\n",
              "                                                    min_impurity_decrease=0.0,\n",
              "                                                    min_impurity_split=None,\n",
              "                                                    min_samples_leaf=1,\n",
              "                                                    min_samples_split=2,\n",
              "                                                    min_weight_fraction_leaf=0.0,\n",
              "                                                    presort='deprecated',\n",
              "                                                    random_state=None,\n",
              "                                                    splitter='best'),\n",
              "                   iid='deprecated', n_iter=10, n_jobs=None,\n",
              "                   param_distributions={'max_depth': range(1, 100),\n",
              "                                        'min_samples_leaf': range(1, 100)},\n",
              "                   pre_dispatch='2*n_jobs', random_state=None, refit=True,\n",
              "                   return_train_score=False, scoring=None, verbose=0)"
            ]
          },
          "metadata": {
            "tags": []
          },
          "execution_count": 17
        }
      ]
    },
    {
      "cell_type": "code",
      "metadata": {
        "colab": {
          "base_uri": "https://localhost:8080/"
        },
        "id": "lYjtMxARkYxz",
        "outputId": "45391731-03fa-4cb3-bfd5-cad58b7c0571"
      },
      "source": [
        "#accuracy and best params\n",
        "print(\"best score:\",r_clf.best_score_)\n",
        "print(\"best parameters:\",r_clf.best_params_)"
      ],
      "execution_count": null,
      "outputs": [
        {
          "output_type": "stream",
          "text": [
            "best score: 0.8208087348441568\n",
            "best parameters: {'min_samples_leaf': 10, 'max_depth': 21}\n"
          ],
          "name": "stdout"
        }
      ]
    }
  ]
}