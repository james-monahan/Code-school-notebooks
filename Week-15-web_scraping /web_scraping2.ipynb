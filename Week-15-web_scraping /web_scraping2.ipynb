{
  "nbformat": 4,
  "nbformat_minor": 0,
  "metadata": {
    "colab": {
      "name": "jpm_web_scraping2.ipynb",
      "provenance": [],
      "collapsed_sections": [],
      "authorship_tag": "ABX9TyMpWtpuPvtf3Mlalpcaw34n",
      "include_colab_link": true
    },
    "kernelspec": {
      "name": "python3",
      "display_name": "Python 3"
    }
  },
  "cells": [
    {
      "cell_type": "markdown",
      "metadata": {
        "id": "view-in-github",
        "colab_type": "text"
      },
      "source": [
        "<a href=\"https://colab.research.google.com/github/james-monahan/Code-school-notebooks/blob/main/Week-15-web_scraping%20/web_scraping2.ipynb\" target=\"_parent\"><img src=\"https://colab.research.google.com/assets/colab-badge.svg\" alt=\"Open In Colab\"/></a>"
      ]
    },
    {
      "cell_type": "code",
      "metadata": {
        "id": "c2ddATGkjw7U"
      },
      "source": [
        "import requests\r\n",
        "from bs4 import BeautifulSoup\r\n",
        "import pandas as pd\r\n",
        "import matplotlib.pyplot as plt\r\n",
        "import time"
      ],
      "execution_count": null,
      "outputs": []
    },
    {
      "cell_type": "markdown",
      "metadata": {
        "id": "k35_n8papbRa"
      },
      "source": [
        "##Look carefully at the URL on page 1. Try moving to page 2. In a python notebook, try to automatically generate the URLs of the first 5 pages."
      ]
    },
    {
      "cell_type": "markdown",
      "metadata": {
        "id": "WPIB6sLRpx0y"
      },
      "source": [
        "##Use BeautifulSoup to scrape the facts/jokes and ratings from the first 5 pages, thanks to the URLs you have generated (We could do the next 100 or 200 pages, but that might cause an unnecessary load for those who administer this server.) The result should be in a dictionary."
      ]
    },
    {
      "cell_type": "code",
      "metadata": {
        "id": "Iv4ZgrNfpzEi"
      },
      "source": [
        "pages = range(1,6)\r\n",
        "joke_dict = {}\r\n",
        "\r\n",
        "for page in pages:\r\n",
        "\r\n",
        "  navigator = 'Mozilla/5.0 (Macintosh; Intel Mac OS X 10_10_1)'\r\n",
        "  url = f\"https://chucknorrisfacts.net/facts.php?page={page}\"\r\n",
        "  r = requests.get(url, headers={'User-Agent': navigator})\r\n",
        "\r\n",
        "  soup = BeautifulSoup(r.content, 'html.parser')\r\n",
        "  content = soup.find(id='content')\r\n",
        "  jokes = content.find_all('p')\r\n",
        "  ratings = content.find_all(class_='rated_text')\r\n",
        "\r\n",
        "  for i in range(len(jokes)):\r\n",
        "    joke_dict[jokes[i].get_text()] = ratings[i].get_text()\r\n",
        "  \r\n",
        "  time.sleep(3)"
      ],
      "execution_count": null,
      "outputs": []
    },
    {
      "cell_type": "code",
      "metadata": {
        "colab": {
          "base_uri": "https://localhost:8080/"
        },
        "id": "ACEbVuWyzsJ2",
        "outputId": "1166ff94-af06-473d-baac-9e11bcb4c85a"
      },
      "source": [
        "print(len(joke_dict))\r\n",
        "list(joke_dict.items())[0]"
      ],
      "execution_count": null,
      "outputs": [
        {
          "output_type": "stream",
          "text": [
            "100\n"
          ],
          "name": "stdout"
        },
        {
          "output_type": "execute_result",
          "data": {
            "text/plain": [
              "(\"There is no 'ctrl' button on Chuck Norris' computer. Chuck Norris is always in control.\",\n",
              " 'Rated 3.73/5 (1024 Votes)')"
            ]
          },
          "metadata": {
            "tags": []
          },
          "execution_count": 7
        }
      ]
    },
    {
      "cell_type": "markdown",
      "metadata": {
        "id": "wJbi2IYIqAuC"
      },
      "source": [
        "##Create a DataFrame containing this data, so it must have 2 columns and 100 rows."
      ]
    },
    {
      "cell_type": "code",
      "metadata": {
        "colab": {
          "base_uri": "https://localhost:8080/",
          "height": 198
        },
        "id": "hPKX9smvqBzt",
        "outputId": "19bf337b-2288-486f-f6ef-814bf81efb00"
      },
      "source": [
        "df_jokes = pd.DataFrame(joke_dict.items(), columns=['Joke', 'Rating'])\r\n",
        "df_jokes.tail()"
      ],
      "execution_count": null,
      "outputs": [
        {
          "output_type": "execute_result",
          "data": {
            "text/html": [
              "<div>\n",
              "<style scoped>\n",
              "    .dataframe tbody tr th:only-of-type {\n",
              "        vertical-align: middle;\n",
              "    }\n",
              "\n",
              "    .dataframe tbody tr th {\n",
              "        vertical-align: top;\n",
              "    }\n",
              "\n",
              "    .dataframe thead th {\n",
              "        text-align: right;\n",
              "    }\n",
              "</style>\n",
              "<table border=\"1\" class=\"dataframe\">\n",
              "  <thead>\n",
              "    <tr style=\"text-align: right;\">\n",
              "      <th></th>\n",
              "      <th>Joke</th>\n",
              "      <th>Rating</th>\n",
              "    </tr>\n",
              "  </thead>\n",
              "  <tbody>\n",
              "    <tr>\n",
              "      <th>95</th>\n",
              "      <td>While urinating, Chuck Norris is easily capabl...</td>\n",
              "      <td>Rated 3.44/5 (177 Votes)</td>\n",
              "    </tr>\n",
              "    <tr>\n",
              "      <th>96</th>\n",
              "      <td>Chuck Norris once sued the Houghton-Mifflin te...</td>\n",
              "      <td>Rated 3.16/5 (152 Votes)</td>\n",
              "    </tr>\n",
              "    <tr>\n",
              "      <th>97</th>\n",
              "      <td>When Chuck Norris talks, everybody listens. An...</td>\n",
              "      <td>Rated 2.65/5 (175 Votes)</td>\n",
              "    </tr>\n",
              "    <tr>\n",
              "      <th>98</th>\n",
              "      <td>When Steven Seagal kills a ninja, he only take...</td>\n",
              "      <td>Rated 2.84/5 (144 Votes)</td>\n",
              "    </tr>\n",
              "    <tr>\n",
              "      <th>99</th>\n",
              "      <td>Chuck Norris doesnt shave; he kicks himself in...</td>\n",
              "      <td>Rated 3.5/5 (191 Votes)</td>\n",
              "    </tr>\n",
              "  </tbody>\n",
              "</table>\n",
              "</div>"
            ],
            "text/plain": [
              "                                                 Joke                    Rating\n",
              "95  While urinating, Chuck Norris is easily capabl...  Rated 3.44/5 (177 Votes)\n",
              "96  Chuck Norris once sued the Houghton-Mifflin te...  Rated 3.16/5 (152 Votes)\n",
              "97  When Chuck Norris talks, everybody listens. An...  Rated 2.65/5 (175 Votes)\n",
              "98  When Steven Seagal kills a ninja, he only take...  Rated 2.84/5 (144 Votes)\n",
              "99  Chuck Norris doesnt shave; he kicks himself in...   Rated 3.5/5 (191 Votes)"
            ]
          },
          "metadata": {
            "tags": []
          },
          "execution_count": 8
        }
      ]
    },
    {
      "cell_type": "code",
      "metadata": {
        "id": "dC5DA8C67-sF"
      },
      "source": [
        "df_jokes['Rating_numeric'] = df_jokes['Rating'].apply(lambda x: x.split()[1].replace('/5', '')).astype('float')"
      ],
      "execution_count": null,
      "outputs": []
    },
    {
      "cell_type": "code",
      "metadata": {
        "colab": {
          "base_uri": "https://localhost:8080/",
          "height": 198
        },
        "id": "KLgZaNm-8flD",
        "outputId": "a37ffc66-f7c4-4c42-f559-049f913b4488"
      },
      "source": [
        "df_jokes.tail()"
      ],
      "execution_count": null,
      "outputs": [
        {
          "output_type": "execute_result",
          "data": {
            "text/html": [
              "<div>\n",
              "<style scoped>\n",
              "    .dataframe tbody tr th:only-of-type {\n",
              "        vertical-align: middle;\n",
              "    }\n",
              "\n",
              "    .dataframe tbody tr th {\n",
              "        vertical-align: top;\n",
              "    }\n",
              "\n",
              "    .dataframe thead th {\n",
              "        text-align: right;\n",
              "    }\n",
              "</style>\n",
              "<table border=\"1\" class=\"dataframe\">\n",
              "  <thead>\n",
              "    <tr style=\"text-align: right;\">\n",
              "      <th></th>\n",
              "      <th>Joke</th>\n",
              "      <th>Rating</th>\n",
              "      <th>Rating_numeric</th>\n",
              "    </tr>\n",
              "  </thead>\n",
              "  <tbody>\n",
              "    <tr>\n",
              "      <th>95</th>\n",
              "      <td>While urinating, Chuck Norris is easily capabl...</td>\n",
              "      <td>Rated 3.44/5 (177 Votes)</td>\n",
              "      <td>3.44</td>\n",
              "    </tr>\n",
              "    <tr>\n",
              "      <th>96</th>\n",
              "      <td>Chuck Norris once sued the Houghton-Mifflin te...</td>\n",
              "      <td>Rated 3.16/5 (152 Votes)</td>\n",
              "      <td>3.16</td>\n",
              "    </tr>\n",
              "    <tr>\n",
              "      <th>97</th>\n",
              "      <td>When Chuck Norris talks, everybody listens. An...</td>\n",
              "      <td>Rated 2.65/5 (175 Votes)</td>\n",
              "      <td>2.65</td>\n",
              "    </tr>\n",
              "    <tr>\n",
              "      <th>98</th>\n",
              "      <td>When Steven Seagal kills a ninja, he only take...</td>\n",
              "      <td>Rated 2.84/5 (144 Votes)</td>\n",
              "      <td>2.84</td>\n",
              "    </tr>\n",
              "    <tr>\n",
              "      <th>99</th>\n",
              "      <td>Chuck Norris doesnt shave; he kicks himself in...</td>\n",
              "      <td>Rated 3.5/5 (191 Votes)</td>\n",
              "      <td>3.50</td>\n",
              "    </tr>\n",
              "  </tbody>\n",
              "</table>\n",
              "</div>"
            ],
            "text/plain": [
              "                                                 Joke  ... Rating_numeric\n",
              "95  While urinating, Chuck Norris is easily capabl...  ...           3.44\n",
              "96  Chuck Norris once sued the Houghton-Mifflin te...  ...           3.16\n",
              "97  When Chuck Norris talks, everybody listens. An...  ...           2.65\n",
              "98  When Steven Seagal kills a ninja, he only take...  ...           2.84\n",
              "99  Chuck Norris doesnt shave; he kicks himself in...  ...           3.50\n",
              "\n",
              "[5 rows x 3 columns]"
            ]
          },
          "metadata": {
            "tags": []
          },
          "execution_count": 20
        }
      ]
    },
    {
      "cell_type": "markdown",
      "metadata": {
        "id": "7mQygB4r9OTt"
      },
      "source": [
        "##Creates a visualization of the distribution of the notes."
      ]
    },
    {
      "cell_type": "code",
      "metadata": {
        "colab": {
          "base_uri": "https://localhost:8080/",
          "height": 295
        },
        "id": "yH8HnDGx8lk2",
        "outputId": "aecba19e-0995-4d0d-9b4a-a34f799cf602"
      },
      "source": [
        "df_jokes['Rating_numeric'].hist()\r\n",
        "plt.title('Ratings Distribution')\r\n",
        "plt.xlabel('Rating')\r\n",
        "plt.ylabel('Number of Ratings')\r\n",
        "plt.show()"
      ],
      "execution_count": null,
      "outputs": [
        {
          "output_type": "display_data",
          "data": {
            "image/png": "[encoded data removed]",
            "text/plain": [
              "<Figure size 432x288 with 1 Axes>"
            ]
          },
          "metadata": {
            "tags": [],
            "needs_background": "light"
          }
        }
      ]
    }
  ]
}