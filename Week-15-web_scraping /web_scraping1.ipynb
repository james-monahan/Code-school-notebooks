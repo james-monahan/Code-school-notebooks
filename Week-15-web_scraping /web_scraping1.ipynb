{
  "nbformat": 4,
  "nbformat_minor": 0,
  "metadata": {
    "colab": {
      "name": "jpm_web_scraping1.ipynb",
      "provenance": [],
      "collapsed_sections": [
        "Et3bwho7VxST"
      ],
      "authorship_tag": "ABX9TyNSa8xIqJ9RuZ/z/9OoC5AM",
      "include_colab_link": true
    },
    "kernelspec": {
      "name": "python3",
      "display_name": "Python 3"
    }
  },
  "cells": [
    {
      "cell_type": "markdown",
      "metadata": {
        "id": "view-in-github",
        "colab_type": "text"
      },
      "source": [
        "<a href=\"https://colab.research.google.com/github/james-monahan/Code-school-notebooks/blob/main/Week-15-web_scraping%20/web_scraping1.ipynb\" target=\"_parent\"><img src=\"https://colab.research.google.com/assets/colab-badge.svg\" alt=\"Open In Colab\"/></a>"
      ]
    },
    {
      "cell_type": "code",
      "metadata": {
        "id": "c2ddATGkjw7U"
      },
      "source": [
        "import requests\r\n",
        "from bs4 import BeautifulSoup\r\n",
        "import pandas as pd"
      ],
      "execution_count": null,
      "outputs": []
    },
    {
      "cell_type": "markdown",
      "metadata": {
        "id": "k35_n8papbRa"
      },
      "source": [
        "##Make a request on the above web page. Bypass the protection by specifying an existing browser. And retry your request."
      ]
    },
    {
      "cell_type": "code",
      "metadata": {
        "id": "OlVQ8HK6phQs"
      },
      "source": [
        "navigator = 'Mozilla/5.0 (Macintosh; Intel Mac OS X 10_10_1)'\r\n",
        "url = \"https://chucknorrisfacts.net/facts.php?page=1\"\r\n",
        "r = requests.get(url, headers={'User-Agent': navigator})"
      ],
      "execution_count": null,
      "outputs": []
    },
    {
      "cell_type": "markdown",
      "metadata": {
        "id": "WPIB6sLRpx0y"
      },
      "source": [
        "##Find the tag to identify the jokes. How many jokes are there? (there should be 20). Displays the 8th joke using the .text attribute. Use the .find method with the appropriate tag to isolate only the 8th joke, without the other elements (so without the note, etc..."
      ]
    },
    {
      "cell_type": "code",
      "metadata": {
        "colab": {
          "base_uri": "https://localhost:8080/",
          "height": 55
        },
        "id": "Iv4ZgrNfpzEi",
        "outputId": "7a848091-a862-41e2-ac1d-feefdf064d30"
      },
      "source": [
        "soup = BeautifulSoup(r.content, 'html.parser')\r\n",
        "content = soup.find(id='content')\r\n",
        "jokes = content.find_all('p')\r\n",
        "print(len(jokes))\r\n",
        "jokes[8].get_text()"
      ],
      "execution_count": null,
      "outputs": [
        {
          "output_type": "stream",
          "text": [
            "20\n"
          ],
          "name": "stdout"
        },
        {
          "output_type": "execute_result",
          "data": {
            "application/vnd.google.colaboratory.intrinsic+json": {
              "type": "string"
            },
            "text/plain": [
              "'Chuck Norris once shot an enemy plane down with his finger by yelling, \"Bang!\"'"
            ]
          },
          "metadata": {
            "tags": []
          },
          "execution_count": 64
        }
      ]
    },
    {
      "cell_type": "markdown",
      "metadata": {
        "id": "B-fKcgF6p3uy"
      },
      "source": [
        "##Do the same to isolate only the rating of the 8th joke."
      ]
    },
    {
      "cell_type": "code",
      "metadata": {
        "colab": {
          "base_uri": "https://localhost:8080/",
          "height": 55
        },
        "id": "FjdkcFmFp7OF",
        "outputId": "f496c9cf-78a0-4c8e-813c-c5736cc2ad9e"
      },
      "source": [
        "ratings = content.find_all(class_='rated_text')\r\n",
        "print(len(ratings))\r\n",
        "ratings[8].get_text()"
      ],
      "execution_count": null,
      "outputs": [
        {
          "output_type": "stream",
          "text": [
            "20\n"
          ],
          "name": "stdout"
        },
        {
          "output_type": "execute_result",
          "data": {
            "application/vnd.google.colaboratory.intrinsic+json": {
              "type": "string"
            },
            "text/plain": [
              "'Rated 3.95/5 (944 Votes)'"
            ]
          },
          "metadata": {
            "tags": []
          },
          "execution_count": 63
        }
      ]
    },
    {
      "cell_type": "markdown",
      "metadata": {
        "id": "CKhX3pQMp9WV"
      },
      "source": [
        "##Create an empty dictionary, then create a loop that will record in this dictionary each joke as a key and each corresponding note as a value."
      ]
    },
    {
      "cell_type": "code",
      "metadata": {
        "id": "z6Wn69_wp-pc"
      },
      "source": [
        "joke_dict = {}\r\n",
        "\r\n",
        "for i in range(len(jokes)):\r\n",
        "  joke_dict[jokes[i].get_text()] = ratings[i].get_text()"
      ],
      "execution_count": null,
      "outputs": []
    },
    {
      "cell_type": "code",
      "metadata": {
        "colab": {
          "base_uri": "https://localhost:8080/"
        },
        "id": "ACEbVuWyzsJ2",
        "outputId": "65a0ddc5-69c3-4937-d179-b0137ac2f475"
      },
      "source": [
        "print(len(joke_dict))\r\n",
        "list(joke_dict.items())[0]"
      ],
      "execution_count": null,
      "outputs": [
        {
          "output_type": "stream",
          "text": [
            "20\n"
          ],
          "name": "stdout"
        },
        {
          "output_type": "execute_result",
          "data": {
            "text/plain": [
              "(\"There is no 'ctrl' button on Chuck Norris' computer. Chuck Norris is always in control.\",\n",
              " 'Rated 3.74/5 (1023 Votes)')"
            ]
          },
          "metadata": {
            "tags": []
          },
          "execution_count": 85
        }
      ]
    },
    {
      "cell_type": "markdown",
      "metadata": {
        "id": "wJbi2IYIqAuC"
      },
      "source": [
        "##Transform this dictionary into a DataFrame with 2 columns: joke and note. It must have 20 rows: one per joke."
      ]
    },
    {
      "cell_type": "code",
      "metadata": {
        "colab": {
          "base_uri": "https://localhost:8080/",
          "height": 198
        },
        "id": "hPKX9smvqBzt",
        "outputId": "99d5b944-e639-49ce-ced3-e505ffd8804e"
      },
      "source": [
        "df_jokes = pd.DataFrame(joke_dict.items(), columns=['Joke', 'Rating'])\r\n",
        "df_jokes.tail()"
      ],
      "execution_count": null,
      "outputs": [
        {
          "output_type": "execute_result",
          "data": {
            "text/html": [
              "<div>\n",
              "<style scoped>\n",
              "    .dataframe tbody tr th:only-of-type {\n",
              "        vertical-align: middle;\n",
              "    }\n",
              "\n",
              "    .dataframe tbody tr th {\n",
              "        vertical-align: top;\n",
              "    }\n",
              "\n",
              "    .dataframe thead th {\n",
              "        text-align: right;\n",
              "    }\n",
              "</style>\n",
              "<table border=\"1\" class=\"dataframe\">\n",
              "  <thead>\n",
              "    <tr style=\"text-align: right;\">\n",
              "      <th></th>\n",
              "      <th>Joke</th>\n",
              "      <th>Rating</th>\n",
              "    </tr>\n",
              "  </thead>\n",
              "  <tbody>\n",
              "    <tr>\n",
              "      <th>15</th>\n",
              "      <td>Chuck Norris can unscramble an egg.</td>\n",
              "      <td>Rated 4.08/5 (3547 Votes)</td>\n",
              "    </tr>\n",
              "    <tr>\n",
              "      <th>16</th>\n",
              "      <td>When Chuck Norris wants popcorn, he breathes o...</td>\n",
              "      <td>Rated 3.38/5 (489 Votes)</td>\n",
              "    </tr>\n",
              "    <tr>\n",
              "      <th>17</th>\n",
              "      <td>Chuck Norris has a vacation home on the sun.</td>\n",
              "      <td>Rated 3.25/5 (455 Votes)</td>\n",
              "    </tr>\n",
              "    <tr>\n",
              "      <th>18</th>\n",
              "      <td>Chuck Norris is suing Myspace for taking the n...</td>\n",
              "      <td>Rated 3.39/5 (476 Votes)</td>\n",
              "    </tr>\n",
              "    <tr>\n",
              "      <th>19</th>\n",
              "      <td>Chuck Norris destroyed the periodic table, bec...</td>\n",
              "      <td>Rated 3.95/5 (1666 Votes)</td>\n",
              "    </tr>\n",
              "  </tbody>\n",
              "</table>\n",
              "</div>"
            ],
            "text/plain": [
              "                                                 Joke                     Rating\n",
              "15                Chuck Norris can unscramble an egg.  Rated 4.08/5 (3547 Votes)\n",
              "16  When Chuck Norris wants popcorn, he breathes o...   Rated 3.38/5 (489 Votes)\n",
              "17       Chuck Norris has a vacation home on the sun.   Rated 3.25/5 (455 Votes)\n",
              "18  Chuck Norris is suing Myspace for taking the n...   Rated 3.39/5 (476 Votes)\n",
              "19  Chuck Norris destroyed the periodic table, bec...  Rated 3.95/5 (1666 Votes)"
            ]
          },
          "metadata": {
            "tags": []
          },
          "execution_count": 80
        }
      ]
    },
    {
      "cell_type": "markdown",
      "metadata": {
        "id": "Et3bwho7VxST"
      },
      "source": [
        "#Lecture notes"
      ]
    },
    {
      "cell_type": "code",
      "metadata": {
        "id": "Ds4fx_eyVyYj"
      },
      "source": [
        "#/robots.txt"
      ],
      "execution_count": null,
      "outputs": []
    },
    {
      "cell_type": "code",
      "metadata": {
        "id": "dlO7NB4fhH_2"
      },
      "source": [
        "import requests\r\n",
        "from bs4 import BeautifulSoup\r\n",
        "import pandas as pd\r\n",
        "import time"
      ],
      "execution_count": null,
      "outputs": []
    },
    {
      "cell_type": "code",
      "metadata": {
        "id": "4IWk_yrIhNk8"
      },
      "source": [
        "url = 'https://www.reddit.com/'\r\n",
        "html = requests.get(url)\r\n",
        "html_text = html.text"
      ],
      "execution_count": null,
      "outputs": []
    },
    {
      "cell_type": "code",
      "metadata": {
        "id": "PkGX557phP1l"
      },
      "source": [
        "!pip install selenium\r\n",
        "!apt-get update # to update ubuntu to correctly run apt install\r\n",
        "!apt install chromium-chromedriver\r\n",
        "!cp /usr/lib/chromium-browser/chromedriver /usr/bin\r\n",
        "\r\n",
        "import sys\r\n",
        "sys.path.insert(0,'/usr/lib/chromium-browser/chromedriver')\r\n",
        "from selenium import webdriver\r\n",
        "\r\n",
        "chrome_options = webdriver.ChromeOptions()\r\n",
        "chrome_options.add_argument('--headless')\r\n",
        "chrome_options.add_argument('--no-sandbox')\r\n",
        "chrome_options.add_argument('--disable-dev-shm-usage')"
      ],
      "execution_count": null,
      "outputs": []
    },
    {
      "cell_type": "code",
      "metadata": {
        "id": "XvsIPCX_hPyt"
      },
      "source": [
        "driver = webdriver.Chrome('chromedriver',chrome_options=chrome_options)\r\n",
        "driver.get(\"https://www.reddit.com/\")\r\n",
        "\r\n",
        "ScrollNumber = 5\r\n",
        "for i in range(1,ScrollNumber):\r\n",
        "    driver.execute_script(\"window.scrollTo(1,1000)\")\r\n",
        "    time.sleep(2)\r\n",
        "\r\n",
        "file = open('webpage.html', 'w')\r\n",
        "file.write(driver.page_source)\r\n",
        "file.close()\r\n",
        "\r\n",
        "driver.close()\r\n",
        "\r\n",
        "html_text = open('webpage.html', 'r')"
      ],
      "execution_count": null,
      "outputs": []
    },
    {
      "cell_type": "code",
      "metadata": {
        "id": "-O4t1bDshPv6"
      },
      "source": [
        "soup = BeautifulSoup(html_text, 'html.parser')\r\n",
        "titles = soup.find_all('h3', {'class' : '_eYtD2XCVieq6emjKBH3m'})\r\n",
        "titles \r\n"
      ],
      "execution_count": null,
      "outputs": []
    },
    {
      "cell_type": "code",
      "metadata": {
        "id": "qCPBuzDyhPfm"
      },
      "source": [
        "text_titles = [t.text for t in titles]\r\n",
        "text_titles"
      ],
      "execution_count": null,
      "outputs": []
    },
    {
      "cell_type": "code",
      "metadata": {
        "id": "fBfO1Geihd83"
      },
      "source": [
        "cells = soup.select('div[class*=\"_1oQyIsiPHYt6nx7VOmd1sz\"]')\r\n",
        "len(cells)"
      ],
      "execution_count": null,
      "outputs": []
    },
    {
      "cell_type": "code",
      "metadata": {
        "id": "QeTGI6Dohd5X"
      },
      "source": [
        "upvotes = []\r\n",
        "titles = []\r\n",
        "\r\n",
        "for c in cells:\r\n",
        "    upvotes += [c.find('div', {'class': '_1rZYMD_4xY3gRcSS3p8ODO'}).get_text()]\r\n",
        "    titles += [c.find('h3').get_text()]\r\n",
        "\r\n",
        "print(upvotes)\r\n",
        "print(titles)"
      ],
      "execution_count": null,
      "outputs": []
    },
    {
      "cell_type": "code",
      "metadata": {
        "id": "UIcS6X9shd2j"
      },
      "source": [
        "pd.DataFrame({'titles' : titles, 'upvotes': upvotes})"
      ],
      "execution_count": null,
      "outputs": []
    },
    {
      "cell_type": "code",
      "metadata": {
        "id": "POCIok07hdz8"
      },
      "source": [
        ""
      ],
      "execution_count": null,
      "outputs": []
    }
  ]
}